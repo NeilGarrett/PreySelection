{
 "cells": [
  {
   "cell_type": "markdown",
   "metadata": {},
   "source": [
    "** Neil Garrett, June 2018 **"
   ]
  },
  {
   "cell_type": "markdown",
   "metadata": {
    "heading_collapsed": true
   },
   "source": [
    "# Start up commands/load relevant functions"
   ]
  },
  {
   "cell_type": "code",
   "execution_count": 3,
   "metadata": {
    "hidden": true
   },
   "outputs": [
    {
     "name": "stderr",
     "output_type": "stream",
     "text": [
      "WARNING: Base.@everywhere is deprecated: it has been moved to the standard library package `Distributed`.\n",
      "Add `using Distributed` to your imports.\n",
      "  likely near /Users/neil/.julia/packages/IJulia/GIANC/src/kernel.jl:41\n",
      "WARNING: Base.@everywhere is deprecated: it has been moved to the standard library package `Distributed`.\n",
      "Add `using Distributed` to your imports.\n",
      "  likely near /Users/neil/.julia/packages/IJulia/GIANC/src/kernel.jl:41\n",
      "WARNING: Base.@everywhere is deprecated: it has been moved to the standard library package `Distributed`.\n",
      "Add `using Distributed` to your imports.\n",
      "  likely near /Users/neil/.julia/packages/IJulia/GIANC/src/kernel.jl:41\n",
      "WARNING: Base.@everywhere is deprecated: it has been moved to the standard library package `Distributed`.\n",
      "Add `using Distributed` to your imports.\n",
      "  likely near /Users/neil/.julia/packages/IJulia/GIANC/src/kernel.jl:41\n",
      "WARNING: Base.@everywhere is deprecated: it has been moved to the standard library package `Distributed`.\n",
      "Add `using Distributed` to your imports.\n",
      "  likely near /Users/neil/.julia/packages/IJulia/GIANC/src/kernel.jl:41\n",
      "WARNING: Base.@everywhere is deprecated: it has been moved to the standard library package `Distributed`.\n",
      "Add `using Distributed` to your imports.\n",
      "  likely near /Users/neil/.julia/packages/IJulia/GIANC/src/kernel.jl:41\n",
      "WARNING: Base.@everywhere is deprecated: it has been moved to the standard library package `Distributed`.\n",
      "Add `using Distributed` to your imports.\n",
      "  likely near /Users/neil/.julia/packages/IJulia/GIANC/src/kernel.jl:41\n",
      "WARNING: Base.@everywhere is deprecated: it has been moved to the standard library package `Distributed`.\n",
      "Add `using Distributed` to your imports.\n",
      "  likely near /Users/neil/.julia/packages/IJulia/GIANC/src/kernel.jl:41\n",
      "WARNING: Base.@everywhere is deprecated: it has been moved to the standard library package `Distributed`.\n",
      "Add `using Distributed` to your imports.\n",
      "  likely near /Users/neil/.julia/packages/IJulia/GIANC/src/kernel.jl:41\n",
      "WARNING: Base.@everywhere is deprecated: it has been moved to the standard library package `Distributed`.\n",
      "Add `using Distributed` to your imports.\n",
      "  likely near /Users/neil/.julia/packages/IJulia/GIANC/src/kernel.jl:41\n",
      "WARNING: Base.@everywhere is deprecated: it has been moved to the standard library package `Distributed`.\n",
      "Add `using Distributed` to your imports.\n",
      "  likely near /Users/neil/.julia/packages/IJulia/GIANC/src/kernel.jl:41\n",
      "WARNING: Base.@everywhere is deprecated: it has been moved to the standard library package `Distributed`.\n",
      "Add `using Distributed` to your imports.\n",
      "  likely near /Users/neil/.julia/packages/IJulia/GIANC/src/kernel.jl:41\n",
      "┌ Info: Precompiling CSV [336ed68f-0bac-5ca0-87d4-7b16caf5d00b]\n",
      "└ @ Base loading.jl:1187\n"
     ]
    },
    {
     "name": "stdout",
     "output_type": "stream",
     "text": [
      "      From worker 2:\t┌ Warning: Module Tables with build ID 63066342871565 is missing from the cache.\n",
      "      From worker 2:\t│ This may mean Tables [bd369af6-aec1-5ad0-b16a-f7cc5008161c] does not support precompilation but is imported by a module that does.\n",
      "      From worker 2:\t└ @ Base loading.jl:941\n",
      "      From worker 5:\t┌ Warning: Module Tables with build ID 63066342871565 is missing from the cache.\n",
      "      From worker 5:\t│ This may mean Tables [bd369af6-aec1-5ad0-b16a-f7cc5008161c] does not support precompilation but is imported by a module that does.\n",
      "      From worker 5:\t└ @ Base loading.jl:941\n",
      "      From worker 3:\t┌ Warning: Module Tables with build ID 63066342871565 is missing from the cache.\n",
      "      From worker 3:\t│ This may mean Tables [bd369af6-aec1-5ad0-b16a-f7cc5008161c] does not support precompilation but is imported by a module that does.\n",
      "      From worker 3:\t└ @ Base loading.jl:941\n",
      "      From worker 4:\t┌ Warning: Module Tables with build ID 63066342871565 is missing from the cache.\n",
      "      From worker 4:\t│ This may mean Tables [bd369af6-aec1-5ad0-b16a-f7cc5008161c] does not support precompilation but is imported by a module that does.\n",
      "      From worker 4:\t└ @ Base loading.jl:941\n"
     ]
    },
    {
     "name": "stderr",
     "output_type": "stream",
     "text": [
      "┌ Warning: Module Tables with build ID 63066342871565 is missing from the cache.\n",
      "│ This may mean Tables [bd369af6-aec1-5ad0-b16a-f7cc5008161c] does not support precompilation but is imported by a module that does.\n",
      "└ @ Base loading.jl:941\n",
      "WARNING: Base.@everywhere is deprecated: it has been moved to the standard library package `Distributed`.\n",
      "Add `using Distributed` to your imports.\n",
      "  likely near /Users/neil/.julia/packages/IJulia/GIANC/src/kernel.jl:41\n",
      "WARNING: Base.@everywhere is deprecated: it has been moved to the standard library package `Distributed`.\n",
      "Add `using Distributed` to your imports.\n",
      "  likely near /Users/neil/.julia/packages/IJulia/GIANC/src/kernel.jl:41\n",
      "WARNING: Base.@everywhere is deprecated: it has been moved to the standard library package `Distributed`.\n",
      "Add `using Distributed` to your imports.\n",
      "  likely near /Users/neil/.julia/packages/IJulia/GIANC/src/kernel.jl:41\n",
      "WARNING: Base.@everywhere is deprecated: it has been moved to the standard library package `Distributed`.\n",
      "Add `using Distributed` to your imports.\n",
      "  likely near /Users/neil/.julia/packages/IJulia/GIANC/src/kernel.jl:41\n",
      "WARNING: Base.@everywhere is deprecated: it has been moved to the standard library package `Distributed`.\n",
      "Add `using Distributed` to your imports.\n",
      "  likely near /Users/neil/.julia/packages/IJulia/GIANC/src/kernel.jl:41\n",
      "WARNING: Base.@everywhere is deprecated: it has been moved to the standard library package `Distributed`.\n",
      "Add `using Distributed` to your imports.\n",
      "  likely near /Users/neil/.julia/packages/IJulia/GIANC/src/kernel.jl:41\n",
      "WARNING: Base.@everywhere is deprecated: it has been moved to the standard library package `Distributed`.\n",
      "Add `using Distributed` to your imports.\n",
      "  likely near /Users/neil/.julia/packages/IJulia/GIANC/src/kernel.jl:41\n",
      "WARNING: Base.@everywhere is deprecated: it has been moved to the standard library package `Distributed`.\n",
      "Add `using Distributed` to your imports.\n",
      "  likely near /Users/neil/.julia/packages/IJulia/GIANC/src/kernel.jl:41\n",
      "WARNING: Base.@everywhere is deprecated: it has been moved to the standard library package `Distributed`.\n",
      "Add `using Distributed` to your imports.\n",
      "  likely near /Users/neil/.julia/packages/IJulia/GIANC/src/kernel.jl:41\n",
      "WARNING: Base.@everywhere is deprecated: it has been moved to the standard library package `Distributed`.\n",
      "Add `using Distributed` to your imports.\n",
      "  likely near /Users/neil/.julia/packages/IJulia/GIANC/src/kernel.jl:41\n",
      "┌ Warning: Deprecated syntax `(covvar < 0) ? NaN:` at /Users/neil/GitHubRepo/Projects/PreySelection/v103/models/model_PearceHall/em.jl:288.\n",
      "│ Use `(covvar < 0) ? NaN :` instead.\n",
      "└ @ nothing /Users/neil/GitHubRepo/Projects/PreySelection/v103/models/model_PearceHall/em.jl:288\n",
      "┌ Warning: Deprecated syntax `(covvar < 0) ? NaN :sqrt` at /Users/neil/GitHubRepo/Projects/PreySelection/v103/models/model_PearceHall/em.jl:288.\n",
      "│ Use `(covvar < 0) ? NaN : sqrt` instead.\n",
      "└ @ nothing /Users/neil/GitHubRepo/Projects/PreySelection/v103/models/model_PearceHall/em.jl:288\n",
      "┌ Warning: Deprecated syntax `(diag(covmtx)[i] .< 0) ? NaN:` at /Users/neil/GitHubRepo/Projects/PreySelection/v103/models/model_PearceHall/em.jl:299.\n",
      "│ Use `(diag(covmtx)[i] .< 0) ? NaN :` instead.\n",
      "└ @ nothing /Users/neil/GitHubRepo/Projects/PreySelection/v103/models/model_PearceHall/em.jl:299\n",
      "┌ Warning: Deprecated syntax `(diag(covmtx)[i] .< 0) ? NaN :diag` at /Users/neil/GitHubRepo/Projects/PreySelection/v103/models/model_PearceHall/em.jl:299.\n",
      "│ Use `(diag(covmtx)[i] .< 0) ? NaN : diag` instead.\n",
      "└ @ nothing /Users/neil/GitHubRepo/Projects/PreySelection/v103/models/model_PearceHall/em.jl:299\n",
      "┌ Warning: Deprecated syntax `(covvar < 0) ? NaN:` at /Users/neil/GitHubRepo/Projects/PreySelection/v103/models/model_PearceHall/em.jl:288.\n",
      "│ Use `(covvar < 0) ? NaN :` instead.\n",
      "└ @ ~/GitHubRepo/Projects/PreySelection/v103/models/model_PearceHall/em.jl:288\n",
      "┌ Warning: Deprecated syntax `(covvar < 0) ? NaN :sqrt` at /Users/neil/GitHubRepo/Projects/PreySelection/v103/models/model_PearceHall/em.jl:288.\n",
      "│ Use `(covvar < 0) ? NaN : sqrt` instead.\n",
      "└ @ ~/GitHubRepo/Projects/PreySelection/v103/models/model_PearceHall/em.jl:288\n",
      "┌ Warning: Deprecated syntax `(diag(covmtx)[i] .< 0) ? NaN:` at /Users/neil/GitHubRepo/Projects/PreySelection/v103/models/model_PearceHall/em.jl:299.\n",
      "│ Use `(diag(covmtx)[i] .< 0) ? NaN :` instead.\n",
      "└ @ ~/GitHubRepo/Projects/PreySelection/v103/models/model_PearceHall/em.jl:299\n",
      "┌ Warning: Deprecated syntax `(diag(covmtx)[i] .< 0) ? NaN :diag` at /Users/neil/GitHubRepo/Projects/PreySelection/v103/models/model_PearceHall/em.jl:299.\n",
      "│ Use `(diag(covmtx)[i] .< 0) ? NaN : diag` instead.\n",
      "└ @ ~/GitHubRepo/Projects/PreySelection/v103/models/model_PearceHall/em.jl:299\n",
      "┌ Warning: Deprecated syntax `(covvar < 0) ? NaN:` at /Users/neil/GitHubRepo/Projects/PreySelection/v103/models/model_PearceHall/em.jl:288.\n",
      "│ Use `(covvar < 0) ? NaN :` instead.\n",
      "└ @ ~/GitHubRepo/Projects/PreySelection/v103/models/model_PearceHall/em.jl:288\n",
      "┌ Warning: Deprecated syntax `(covvar < 0) ? NaN :sqrt` at /Users/neil/GitHubRepo/Projects/PreySelection/v103/models/model_PearceHall/em.jl:288.\n",
      "│ Use `(covvar < 0) ? NaN : sqrt` instead.\n",
      "└ @ ~/GitHubRepo/Projects/PreySelection/v103/models/model_PearceHall/em.jl:288\n",
      "┌ Warning: Deprecated syntax `(diag(covmtx)[i] .< 0) ? NaN:` at /Users/neil/GitHubRepo/Projects/PreySelection/v103/models/model_PearceHall/em.jl:299.\n",
      "│ Use `(diag(covmtx)[i] .< 0) ? NaN :` instead.\n",
      "└ @ ~/GitHubRepo/Projects/PreySelection/v103/models/model_PearceHall/em.jl:299\n",
      "┌ Warning: Deprecated syntax `(diag(covmtx)[i] .< 0) ? NaN :diag` at /Users/neil/GitHubRepo/Projects/PreySelection/v103/models/model_PearceHall/em.jl:299.\n",
      "│ Use `(diag(covmtx)[i] .< 0) ? NaN : diag` instead.\n",
      "└ @ ~/GitHubRepo/Projects/PreySelection/v103/models/model_PearceHall/em.jl:299\n",
      "┌ Warning: Deprecated syntax `(covvar < 0) ? NaN:` at /Users/neil/GitHubRepo/Projects/PreySelection/v103/models/model_PearceHall/em.jl:288.\n",
      "│ Use `(covvar < 0) ? NaN :` instead.\n",
      "└ @ ~/GitHubRepo/Projects/PreySelection/v103/models/model_PearceHall/em.jl:288\n",
      "┌ Warning: Deprecated syntax `(covvar < 0) ? NaN :sqrt` at /Users/neil/GitHubRepo/Projects/PreySelection/v103/models/model_PearceHall/em.jl:288.\n",
      "│ Use `(covvar < 0) ? NaN : sqrt` instead.\n",
      "└ @ ~/GitHubRepo/Projects/PreySelection/v103/models/model_PearceHall/em.jl:288\n",
      "┌ Warning: Deprecated syntax `(diag(covmtx)[i] .< 0) ? NaN:` at /Users/neil/GitHubRepo/Projects/PreySelection/v103/models/model_PearceHall/em.jl:299.\n",
      "│ Use `(diag(covmtx)[i] .< 0) ? NaN :` instead.\n",
      "└ @ ~/GitHubRepo/Projects/PreySelection/v103/models/model_PearceHall/em.jl:299\n",
      "┌ Warning: Deprecated syntax `(diag(covmtx)[i] .< 0) ? NaN :diag` at /Users/neil/GitHubRepo/Projects/PreySelection/v103/models/model_PearceHall/em.jl:299.\n",
      "│ Use `(diag(covmtx)[i] .< 0) ? NaN : diag` instead.\n",
      "└ @ ~/GitHubRepo/Projects/PreySelection/v103/models/model_PearceHall/em.jl:299\n",
      "┌ Warning: Deprecated syntax `(covvar < 0) ? NaN:` at /Users/neil/GitHubRepo/Projects/PreySelection/v103/models/model_PearceHall/em.jl:288.\n",
      "│ Use `(covvar < 0) ? NaN :` instead.\n",
      "└ @ ~/GitHubRepo/Projects/PreySelection/v103/models/model_PearceHall/em.jl:288\n",
      "┌ Warning: Deprecated syntax `(covvar < 0) ? NaN :sqrt` at /Users/neil/GitHubRepo/Projects/PreySelection/v103/models/model_PearceHall/em.jl:288.\n",
      "│ Use `(covvar < 0) ? NaN : sqrt` instead.\n",
      "└ @ ~/GitHubRepo/Projects/PreySelection/v103/models/model_PearceHall/em.jl:288\n",
      "┌ Warning: Deprecated syntax `(diag(covmtx)[i] .< 0) ? NaN:` at /Users/neil/GitHubRepo/Projects/PreySelection/v103/models/model_PearceHall/em.jl:299.\n",
      "│ Use `(diag(covmtx)[i] .< 0) ? NaN :` instead.\n",
      "└ @ ~/GitHubRepo/Projects/PreySelection/v103/models/model_PearceHall/em.jl:299\n",
      "┌ Warning: Deprecated syntax `(diag(covmtx)[i] .< 0) ? NaN :diag` at /Users/neil/GitHubRepo/Projects/PreySelection/v103/models/model_PearceHall/em.jl:299.\n",
      "│ Use `(diag(covmtx)[i] .< 0) ? NaN : diag` instead.\n",
      "└ @ ~/GitHubRepo/Projects/PreySelection/v103/models/model_PearceHall/em.jl:299\n",
      "┌ Warning: `@parallel` is deprecated, use `@distributed` instead.\n",
      "│   caller = include at boot.jl:317 [inlined]\n",
      "└ @ Core ./boot.jl:317\n",
      "┌ Warning: `@parallel` is deprecated, use `@distributed` instead.\n",
      "│   caller = include at boot.jl:317 [inlined]\n",
      "└ @ Core ./boot.jl:317\n",
      "┌ Warning: `@parallel` is deprecated, use `@distributed` instead.\n",
      "│   caller = include at boot.jl:317 [inlined]\n",
      "└ @ Core ./boot.jl:317\n"
     ]
    },
    {
     "name": "stderr",
     "output_type": "stream",
     "text": [
      "┌ Warning: `@parallel` is deprecated, use `@distributed` instead.\n",
      "│   caller = include at boot.jl:317 [inlined]\n",
      "└ @ Core ./boot.jl:317\n",
      "┌ Warning: `@parallel` is deprecated, use `@distributed` instead.\n",
      "│   caller = include at boot.jl:317 [inlined]\n",
      "└ @ Core ./boot.jl:317\n",
      "WARNING: Base.@everywhere is deprecated: it has been moved to the standard library package `Distributed`.\n",
      "Add `using Distributed` to your imports.\n",
      "  likely near /Users/neil/.julia/packages/IJulia/GIANC/src/kernel.jl:41\n",
      "WARNING: Base.@everywhere is deprecated: it has been moved to the standard library package `Distributed`.\n",
      "Add `using Distributed` to your imports.\n",
      "  likely near /Users/neil/.julia/packages/IJulia/GIANC/src/kernel.jl:41\n",
      "┌ Warning: Deprecated syntax `any(x -> begin\n",
      "│     # /Users/neil/GitHubRepo/Projects/PreySelection/v103/models/model_PearceHall/common.jl, line 66\n",
      "│     isa(x, Array)\n",
      "│ end, a)?` at /Users/neil/GitHubRepo/Projects/PreySelection/v103/models/model_PearceHall/common.jl:66.\n",
      "│ Use `any(x -> begin\n",
      "│     # /Users/neil/GitHubRepo/Projects/PreySelection/v103/models/model_PearceHall/common.jl, line 66\n",
      "│     isa(x, Array)\n",
      "│ end, a) ?` instead.\n",
      "└ @ nothing /Users/neil/GitHubRepo/Projects/PreySelection/v103/models/model_PearceHall/common.jl:66\n",
      "┌ Warning: Deprecated syntax `any(x -> begin\n",
      "│     # /Users/neil/GitHubRepo/Projects/PreySelection/v103/models/model_PearceHall/common.jl, line 66\n",
      "│     isa(x, Array)\n",
      "│ end, a)?` at /Users/neil/GitHubRepo/Projects/PreySelection/v103/models/model_PearceHall/common.jl:66.\n",
      "│ Use `any(x -> begin\n",
      "│     # /Users/neil/GitHubRepo/Projects/PreySelection/v103/models/model_PearceHall/common.jl, line 66\n",
      "│     isa(x, Array)\n",
      "│ end, a) ?` instead.\n",
      "└ @ ~/GitHubRepo/Projects/PreySelection/v103/models/model_PearceHall/common.jl:66\n",
      "┌ Warning: Deprecated syntax `any(x -> begin\n",
      "│     # /Users/neil/GitHubRepo/Projects/PreySelection/v103/models/model_PearceHall/common.jl, line 66\n",
      "│     isa(x, Array)\n",
      "│ end, a) ? flatten(vcat(map(flatten, a)...)):` at /Users/neil/GitHubRepo/Projects/PreySelection/v103/models/model_PearceHall/common.jl:66.\n",
      "│ Use `any(x -> begin\n",
      "│     # /Users/neil/GitHubRepo/Projects/PreySelection/v103/models/model_PearceHall/common.jl, line 66\n",
      "│     isa(x, Array)\n",
      "│ end, a) ? flatten(vcat(map(flatten, a)...)) :` instead.\n",
      "└ @ nothing /Users/neil/GitHubRepo/Projects/PreySelection/v103/models/model_PearceHall/common.jl:66\n",
      "┌ Warning: Deprecated syntax `any(x -> begin\n",
      "│     # /Users/neil/GitHubRepo/Projects/PreySelection/v103/models/model_PearceHall/common.jl, line 66\n",
      "│     isa(x, Array)\n",
      "│ end, a) ? flatten(vcat(map(flatten, a)...)):` at /Users/neil/GitHubRepo/Projects/PreySelection/v103/models/model_PearceHall/common.jl:66.\n",
      "│ Use `any(x -> begin\n",
      "│     # /Users/neil/GitHubRepo/Projects/PreySelection/v103/models/model_PearceHall/common.jl, line 66\n",
      "│     isa(x, Array)\n",
      "│ end, a) ? flatten(vcat(map(flatten, a)...)) :` instead.\n",
      "└ @ ~/GitHubRepo/Projects/PreySelection/v103/models/model_PearceHall/common.jl:66\n",
      "┌ Warning: Deprecated syntax `any(x -> begin\n",
      "│     # /Users/neil/GitHubRepo/Projects/PreySelection/v103/models/model_PearceHall/common.jl, line 66\n",
      "│     isa(x, Array)\n",
      "│ end, a)?` at /Users/neil/GitHubRepo/Projects/PreySelection/v103/models/model_PearceHall/common.jl:66.\n",
      "│ Use `any(x -> begin\n",
      "│     # /Users/neil/GitHubRepo/Projects/PreySelection/v103/models/model_PearceHall/common.jl, line 66\n",
      "│     isa(x, Array)\n",
      "│ end, a) ?` instead.\n",
      "└ @ ~/GitHubRepo/Projects/PreySelection/v103/models/model_PearceHall/common.jl:66\n",
      "┌ Warning: Deprecated syntax `any(x -> begin\n",
      "│     # /Users/neil/GitHubRepo/Projects/PreySelection/v103/models/model_PearceHall/common.jl, line 66\n",
      "│     isa(x, Array)\n",
      "│ end, a) ? flatten(vcat(map(flatten, a)...)):` at /Users/neil/GitHubRepo/Projects/PreySelection/v103/models/model_PearceHall/common.jl:66.\n",
      "│ Use `any(x -> begin\n",
      "│     # /Users/neil/GitHubRepo/Projects/PreySelection/v103/models/model_PearceHall/common.jl, line 66\n",
      "│     isa(x, Array)\n",
      "│ end, a) ? flatten(vcat(map(flatten, a)...)) :` instead.\n",
      "└ @ ~/GitHubRepo/Projects/PreySelection/v103/models/model_PearceHall/common.jl:66\n",
      "┌ Warning: Deprecated syntax `any(x -> begin\n",
      "│     # /Users/neil/GitHubRepo/Projects/PreySelection/v103/models/model_PearceHall/common.jl, line 66\n",
      "│     isa(x, Array)\n",
      "│ end, a)?` at /Users/neil/GitHubRepo/Projects/PreySelection/v103/models/model_PearceHall/common.jl:66.\n",
      "│ Use `any(x -> begin\n",
      "│     # /Users/neil/GitHubRepo/Projects/PreySelection/v103/models/model_PearceHall/common.jl, line 66\n",
      "│     isa(x, Array)\n",
      "│ end, a) ?` instead.\n",
      "└ @ ~/GitHubRepo/Projects/PreySelection/v103/models/model_PearceHall/common.jl:66\n",
      "┌ Warning: Deprecated syntax `any(x -> begin\n",
      "│     # /Users/neil/GitHubRepo/Projects/PreySelection/v103/models/model_PearceHall/common.jl, line 66\n",
      "│     isa(x, Array)\n",
      "│ end, a) ? flatten(vcat(map(flatten, a)...)):` at /Users/neil/GitHubRepo/Projects/PreySelection/v103/models/model_PearceHall/common.jl:66.\n",
      "│ Use `any(x -> begin\n",
      "│     # /Users/neil/GitHubRepo/Projects/PreySelection/v103/models/model_PearceHall/common.jl, line 66\n",
      "│     isa(x, Array)\n",
      "│ end, a) ? flatten(vcat(map(flatten, a)...)) :` instead.\n",
      "└ @ ~/GitHubRepo/Projects/PreySelection/v103/models/model_PearceHall/common.jl:66\n",
      "┌ Warning: Deprecated syntax `parametric method syntax flatten{T}(a::Array{T, 1})` around /Users/neil/GitHubRepo/Projects/PreySelection/v103/models/model_PearceHall/common.jl:66.\n",
      "│ Use `flatten(a::Array{T, 1}) where T` instead.\n",
      "└ @ nothing /Users/neil/GitHubRepo/Projects/PreySelection/v103/models/model_PearceHall/common.jl:66\n",
      "┌ Warning: Deprecated syntax `parametric method syntax flatten{T}(a::Array{T})` around /Users/neil/GitHubRepo/Projects/PreySelection/v103/models/model_PearceHall/common.jl:67.\n",
      "│ Use `flatten(a::Array{T}) where T` instead.\n",
      "└ @ nothing /Users/neil/GitHubRepo/Projects/PreySelection/v103/models/model_PearceHall/common.jl:67\n",
      "┌ Warning: Deprecated syntax `parametric method syntax flatten{T}(a::Array{T, 1})` around /Users/neil/GitHubRepo/Projects/PreySelection/v103/models/model_PearceHall/common.jl:66.\n",
      "│ Use `flatten(a::Array{T, 1}) where T` instead.\n",
      "└ @ ~/GitHubRepo/Projects/PreySelection/v103/models/model_PearceHall/common.jl:66\n",
      "┌ Warning: Deprecated syntax `parametric method syntax flatten{T}(a::Array{T})` around /Users/neil/GitHubRepo/Projects/PreySelection/v103/models/model_PearceHall/common.jl:67.\n",
      "│ Use `flatten(a::Array{T}) where T` instead.\n",
      "└ @ ~/GitHubRepo/Projects/PreySelection/v103/models/model_PearceHall/common.jl:67\n",
      "┌ Warning: Deprecated syntax `parametric method syntax flatten{T}(a::Array{T, 1})` around /Users/neil/GitHubRepo/Projects/PreySelection/v103/models/model_PearceHall/common.jl:66.\n",
      "│ Use `flatten(a::Array{T, 1}) where T` instead.\n",
      "└ @ ~/GitHubRepo/Projects/PreySelection/v103/models/model_PearceHall/common.jl:66\n",
      "┌ Warning: Deprecated syntax `parametric method syntax flatten{T}(a::Array{T, 1})` around /Users/neil/GitHubRepo/Projects/PreySelection/v103/models/model_PearceHall/common.jl:66.\n",
      "│ Use `flatten(a::Array{T, 1}) where T` instead.\n",
      "└ @ ~/GitHubRepo/Projects/PreySelection/v103/models/model_PearceHall/common.jl:66\n",
      "┌ Warning: Deprecated syntax `parametric method syntax flatten{T}(a::Array{T})` around /Users/neil/GitHubRepo/Projects/PreySelection/v103/models/model_PearceHall/common.jl:67.\n",
      "│ Use `flatten(a::Array{T}) where T` instead.\n",
      "└ @ ~/GitHubRepo/Projects/PreySelection/v103/models/model_PearceHall/common.jl:67\n",
      "┌ Warning: Deprecated syntax `parametric method syntax flatten{T}(a::Array{T})` around /Users/neil/GitHubRepo/Projects/PreySelection/v103/models/model_PearceHall/common.jl:67.\n",
      "│ Use `flatten(a::Array{T}) where T` instead.\n",
      "└ @ ~/GitHubRepo/Projects/PreySelection/v103/models/model_PearceHall/common.jl:67\n",
      "┌ Warning: Deprecated syntax `any(x -> begin\n",
      "│     # /Users/neil/GitHubRepo/Projects/PreySelection/v103/models/model_PearceHall/common.jl, line 66\n",
      "│     isa(x, Array)\n",
      "│ end, a)?` at /Users/neil/GitHubRepo/Projects/PreySelection/v103/models/model_PearceHall/common.jl:66.\n",
      "│ Use `any(x -> begin\n",
      "│     # /Users/neil/GitHubRepo/Projects/PreySelection/v103/models/model_PearceHall/common.jl, line 66\n",
      "│     isa(x, Array)\n",
      "│ end, a) ?` instead.\n",
      "└ @ ~/GitHubRepo/Projects/PreySelection/v103/models/model_PearceHall/common.jl:66\n",
      "┌ Warning: Deprecated syntax `any(x -> begin\n",
      "│     # /Users/neil/GitHubRepo/Projects/PreySelection/v103/models/model_PearceHall/common.jl, line 66\n",
      "│     isa(x, Array)\n",
      "│ end, a) ? flatten(vcat(map(flatten, a)...)):` at /Users/neil/GitHubRepo/Projects/PreySelection/v103/models/model_PearceHall/common.jl:66.\n",
      "│ Use `any(x -> begin\n",
      "│     # /Users/neil/GitHubRepo/Projects/PreySelection/v103/models/model_PearceHall/common.jl, line 66\n",
      "│     isa(x, Array)\n",
      "│ end, a) ? flatten(vcat(map(flatten, a)...)) :` instead.\n",
      "└ @ ~/GitHubRepo/Projects/PreySelection/v103/models/model_PearceHall/common.jl:66\n"
     ]
    },
    {
     "name": "stderr",
     "output_type": "stream",
     "text": [
      "┌ Warning: Deprecated syntax `parametric method syntax flatten{T}(a::Array{T, 1})` around /Users/neil/GitHubRepo/Projects/PreySelection/v103/models/model_PearceHall/common.jl:66.\n",
      "│ Use `flatten(a::Array{T, 1}) where T` instead.\n",
      "└ @ ~/GitHubRepo/Projects/PreySelection/v103/models/model_PearceHall/common.jl:66\n",
      "┌ Warning: Deprecated syntax `parametric method syntax flatten{T}(a::Array{T})` around /Users/neil/GitHubRepo/Projects/PreySelection/v103/models/model_PearceHall/common.jl:67.\n",
      "│ Use `flatten(a::Array{T}) where T` instead.\n",
      "└ @ ~/GitHubRepo/Projects/PreySelection/v103/models/model_PearceHall/common.jl:67\n",
      "WARNING: Base.@everywhere is deprecated: it has been moved to the standard library package `Distributed`.\n",
      "Add `using Distributed` to your imports.\n",
      "  likely near /Users/neil/.julia/packages/IJulia/GIANC/src/kernel.jl:41\n",
      "WARNING: Base.@everywhere is deprecated: it has been moved to the standard library package `Distributed`.\n",
      "Add `using Distributed` to your imports.\n",
      "  likely near /Users/neil/.julia/packages/IJulia/GIANC/src/kernel.jl:41\n",
      "WARNING: Base.@everywhere is deprecated: it has been moved to the standard library package `Distributed`.\n",
      "Add `using Distributed` to your imports.\n",
      "  likely near /Users/neil/.julia/packages/IJulia/GIANC/src/kernel.jl:41\n",
      "WARNING: Base.@everywhere is deprecated: it has been moved to the standard library package `Distributed`.\n",
      "Add `using Distributed` to your imports.\n",
      "  likely near /Users/neil/.julia/packages/IJulia/GIANC/src/kernel.jl:41\n",
      "┌ Warning: Deprecated syntax `try without catch or finally` at /Users/neil/GitHubRepo/Projects/PreySelection/v103/models/model_PearceHall/genVars.jl:17.\n",
      "└ @ nothing /Users/neil/GitHubRepo/Projects/PreySelection/v103/models/model_PearceHall/genVars.jl:17\n",
      "┌ Warning: Deprecated syntax `try without catch or finally` at /Users/neil/GitHubRepo/Projects/PreySelection/v103/models/model_PearceHall/genVars.jl:17.\n",
      "└ @ ~/GitHubRepo/Projects/PreySelection/v103/models/model_PearceHall/genVars.jl:17\n",
      "┌ Warning: Deprecated syntax `try without catch or finally` at /Users/neil/GitHubRepo/Projects/PreySelection/v103/models/model_PearceHall/genVars.jl:17.\n",
      "└ @ ~/GitHubRepo/Projects/PreySelection/v103/models/model_PearceHall/genVars.jl:17\n",
      "┌ Warning: Deprecated syntax `try without catch or finally` at /Users/neil/GitHubRepo/Projects/PreySelection/v103/models/model_PearceHall/genVars.jl:17.\n",
      "└ @ ~/GitHubRepo/Projects/PreySelection/v103/models/model_PearceHall/genVars.jl:17\n",
      "┌ Warning: Deprecated syntax `try without catch or finally` at /Users/neil/GitHubRepo/Projects/PreySelection/v103/models/model_PearceHall/genVars.jl:17.\n",
      "└ @ ~/GitHubRepo/Projects/PreySelection/v103/models/model_PearceHall/genVars.jl:17\n"
     ]
    }
   ],
   "source": [
    "# load required libraries\n",
    "using Distributed\n",
    "\n",
    "# # set everything up\n",
    "parallel = true # Run on multiple CPUs. If youhttp://localhost:8888/notebooks/Dropbox/Daw_Lab/PreySelection/v103/models/model_subjective1beta2lr_delayreward/model_subjective1beta2lr_delayreward.jl.ipynb# are having trouble, set parallel = false: easier to debug\n",
    "\n",
    "# this activates the multiprocessing threads\n",
    "if (parallel)\n",
    "\t# only run this once\n",
    "    addprocs(4)\n",
    "end\n",
    "\n",
    "# load required libraries\n",
    "@everywhere using DataFrames\n",
    "@everywhere using ForwardDiff\n",
    "@everywhere using PyCall\n",
    "@everywhere using Distributions\n",
    "@everywhere using PyPlot\n",
    "@everywhere using CSV\n",
    "@everywhere using SpecialFunctions\n",
    "@everywhere using SharedArrays\n",
    "@everywhere using LinearAlgebra\n",
    "\n",
    "@everywhere PyCall.@pyimport scipy.optimize as so\n",
    "\n",
    "# this is the code for the actual fitting routines\n",
    "@everywhere include(\"em.jl\")\n",
    "@everywhere include(\"common.jl\")\n",
    "@everywhere include(\"likfuns.jl\")\n",
    "\n",
    "# this is generates starting matricies for betas, sigmas etc to feed into model\n",
    "@everywhere include(\"genVars.jl\")"
   ]
  },
  {
   "cell_type": "markdown",
   "metadata": {},
   "source": [
    "# Data read and process"
   ]
  },
  {
   "cell_type": "markdown",
   "metadata": {},
   "source": [
    "### Read in trial by trial data"
   ]
  },
  {
   "cell_type": "code",
   "execution_count": 4,
   "metadata": {},
   "outputs": [
    {
     "name": "stderr",
     "output_type": "stream",
     "text": [
      "┌ Warning: readtable is deprecated, use CSV.read from the CSV package instead\n",
      "│   caller = top-level scope at In[4]:1\n",
      "└ @ Core In[4]:1\n",
      "┌ Warning: `head(df::AbstractDataFrame)` is deprecated, use `first(df, 6)` instead.\n",
      "│   caller = top-level scope at In[4]:4\n",
      "└ @ Core In[4]:4\n"
     ]
    },
    {
     "data": {
      "text/html": [
       "<table class=\"data-frame\"><thead><tr><th></th><th>subj</th><th>trial_index_actual</th><th>block</th><th>stimulus</th><th>stim_rank</th><th>reward_percent</th><th>delay_s</th><th>profitability</th><th>stim_left_right</th><th>key_press</th><th>approach_avoid</th><th>rt</th><th>rt_z</th><th>force_trial</th><th>missed</th><th>order_condition</th><th>exclude</th><th>exclude_reason</th></tr><tr><th></th><th>Int64⍰</th><th>Int64⍰</th><th>Int64⍰</th><th>String⍰</th><th>Int64⍰</th><th>Int64⍰</th><th>Int64⍰</th><th>Float64⍰</th><th>String⍰</th><th>Int64⍰</th><th>Float64⍰</th><th>Float64⍰</th><th>Float64⍰</th><th>Int64⍰</th><th>Int64⍰</th><th>Int64⍰</th><th>Int64⍰</th><th>String⍰</th></tr></thead><tbody><p>6 rows × 18 columns</p><tr><th>1</th><td>1</td><td>0</td><td>1</td><td>../static/images/invador2.png</td><td>4</td><td>20</td><td>8</td><td>2.5</td><td>left</td><td>74</td><td>-1.0</td><td>1172.0</td><td>1.475</td><td>0</td><td>0</td><td>2</td><td>0</td><td>do not exclude</td></tr><tr><th>2</th><td>1</td><td>1</td><td>1</td><td>../static/images/invador3.png</td><td>1</td><td>80</td><td>2</td><td>40.0</td><td>right</td><td>74</td><td>1.0</td><td>1046.0</td><td>0.846311</td><td>1</td><td>0</td><td>2</td><td>0</td><td>do not exclude</td></tr><tr><th>3</th><td>1</td><td>2</td><td>1</td><td>../static/images/invador1.png</td><td>3</td><td>80</td><td>8</td><td>10.0</td><td>left</td><td>70</td><td>1.0</td><td>743.0</td><td>-0.665547</td><td>0</td><td>0</td><td>2</td><td>0</td><td>do not exclude</td></tr><tr><th>4</th><td>1</td><td>3</td><td>1</td><td>../static/images/invador2.png</td><td>4</td><td>20</td><td>8</td><td>2.5</td><td>right</td><td>74</td><td>NaN</td><td>NaN</td><td>NaN</td><td>1</td><td>1</td><td>2</td><td>0</td><td>do not exclude</td></tr><tr><th>5</th><td>1</td><td>4</td><td>1</td><td>../static/images/invador2.png</td><td>4</td><td>20</td><td>8</td><td>2.5</td><td>left</td><td>70</td><td>1.0</td><td>858.0</td><td>-0.0917396</td><td>0</td><td>0</td><td>2</td><td>0</td><td>do not exclude</td></tr><tr><th>6</th><td>1</td><td>5</td><td>1</td><td>../static/images/invador4.png</td><td>2</td><td>20</td><td>2</td><td>10.0</td><td>left</td><td>70</td><td>1.0</td><td>818.0</td><td>-0.291325</td><td>0</td><td>0</td><td>2</td><td>0</td><td>do not exclude</td></tr></tbody></table>"
      ],
      "text/latex": [
       "\\begin{tabular}{r|cccccccccccccccccc}\n",
       "\t& subj & trial\\_index\\_actual & block & stimulus & stim\\_rank & reward\\_percent & delay\\_s & profitability & stim\\_left\\_right & key\\_press & approach\\_avoid & rt & rt\\_z & force\\_trial & missed & order\\_condition & exclude & exclude\\_reason\\\\\n",
       "\t\\hline\n",
       "\t1 & 1 & 0 & 1 & ../static/images/invador2.png & 4 & 20 & 8 & 2.5 & left & 74 & -1.0 & 1172.0 & 1.475 & 0 & 0 & 2 & 0 & do not exclude \\\\\n",
       "\t2 & 1 & 1 & 1 & ../static/images/invador3.png & 1 & 80 & 2 & 40.0 & right & 74 & 1.0 & 1046.0 & 0.846311 & 1 & 0 & 2 & 0 & do not exclude \\\\\n",
       "\t3 & 1 & 2 & 1 & ../static/images/invador1.png & 3 & 80 & 8 & 10.0 & left & 70 & 1.0 & 743.0 & -0.665547 & 0 & 0 & 2 & 0 & do not exclude \\\\\n",
       "\t4 & 1 & 3 & 1 & ../static/images/invador2.png & 4 & 20 & 8 & 2.5 & right & 74 & NaN & NaN & NaN & 1 & 1 & 2 & 0 & do not exclude \\\\\n",
       "\t5 & 1 & 4 & 1 & ../static/images/invador2.png & 4 & 20 & 8 & 2.5 & left & 70 & 1.0 & 858.0 & -0.0917396 & 0 & 0 & 2 & 0 & do not exclude \\\\\n",
       "\t6 & 1 & 5 & 1 & ../static/images/invador4.png & 2 & 20 & 2 & 10.0 & left & 70 & 1.0 & 818.0 & -0.291325 & 0 & 0 & 2 & 0 & do not exclude \\\\\n",
       "\\end{tabular}\n"
      ],
      "text/plain": [
       "6×18 DataFrame. Omitted printing of 14 columns\n",
       "│ Row │ subj   │ trial_index_actual │ block  │ stimulus                      │\n",
       "│     │ \u001b[90mInt64⍰\u001b[39m │ \u001b[90mInt64⍰\u001b[39m             │ \u001b[90mInt64⍰\u001b[39m │ \u001b[90mUnion{Missing, String}\u001b[39m        │\n",
       "├─────┼────────┼────────────────────┼────────┼───────────────────────────────┤\n",
       "│ 1   │ 1      │ 0                  │ 1      │ ../static/images/invador2.png │\n",
       "│ 2   │ 1      │ 1                  │ 1      │ ../static/images/invador3.png │\n",
       "│ 3   │ 1      │ 2                  │ 1      │ ../static/images/invador1.png │\n",
       "│ 4   │ 1      │ 3                  │ 1      │ ../static/images/invador2.png │\n",
       "│ 5   │ 1      │ 4                  │ 1      │ ../static/images/invador2.png │\n",
       "│ 6   │ 1      │ 5                  │ 1      │ ../static/images/invador4.png │"
      ]
     },
     "execution_count": 4,
     "metadata": {},
     "output_type": "execute_result"
    }
   ],
   "source": [
    "#read in csv file of the data\n",
    "#trial by trial data: note will include force trials and missed responses\n",
    "df = readtable(\"/Users/neil/GitHubRepo/Projects/PreySelection/v103/data/trialdata_103_processed.csv\")\n",
    "\n",
    "#display header\n",
    "head(df)\n"
   ]
  },
  {
   "cell_type": "markdown",
   "metadata": {},
   "source": [
    "### Append data with the column \"sub\" \n"
   ]
  },
  {
   "cell_type": "code",
   "execution_count": 5,
   "metadata": {
    "collapsed": true
   },
   "outputs": [],
   "source": [
    "#this is just a replica of the existing column sub_no but think em looks for \"sub\" specifically\n",
    "df[:sub] = df[:subj];\n"
   ]
  },
  {
   "cell_type": "markdown",
   "metadata": {},
   "source": [
    "### Get rid of excluded subs"
   ]
  },
  {
   "cell_type": "code",
   "execution_count": 6,
   "metadata": {
    "collapsed": true
   },
   "outputs": [],
   "source": [
    "df = df[df[:exclude].==0,:];\n"
   ]
  },
  {
   "cell_type": "markdown",
   "metadata": {},
   "source": [
    "### Convert approach avoid to 2s and 1s , missed as 0. Then convert to integers (necessary to use as an index)"
   ]
  },
  {
   "cell_type": "code",
   "execution_count": 7,
   "metadata": {},
   "outputs": [
    {
     "name": "stderr",
     "output_type": "stream",
     "text": [
      "┌ Warning: `find(A::AbstractVector)` is deprecated, use `findall(A)` instead.\n",
      "│   caller = top-level scope at In[7]:4\n",
      "└ @ Core In[7]:4\n",
      "┌ Warning: `head(df::AbstractDataFrame)` is deprecated, use `first(df, 6)` instead.\n",
      "│   caller = top-level scope at In[7]:9\n",
      "└ @ Core In[7]:9\n"
     ]
    },
    {
     "data": {
      "text/html": [
       "<table class=\"data-frame\"><thead><tr><th></th><th>subj</th><th>trial_index_actual</th><th>block</th><th>stimulus</th><th>stim_rank</th><th>reward_percent</th><th>delay_s</th><th>profitability</th><th>stim_left_right</th><th>key_press</th><th>approach_avoid</th><th>rt</th><th>rt_z</th><th>force_trial</th><th>missed</th><th>order_condition</th><th>exclude</th><th>exclude_reason</th><th>sub</th></tr><tr><th></th><th>Int64⍰</th><th>Int64⍰</th><th>Int64⍰</th><th>String⍰</th><th>Int64⍰</th><th>Int64⍰</th><th>Int64⍰</th><th>Float64⍰</th><th>String⍰</th><th>Int64⍰</th><th>Integer</th><th>Float64⍰</th><th>Float64⍰</th><th>Int64⍰</th><th>Int64⍰</th><th>Int64⍰</th><th>Int64⍰</th><th>String⍰</th><th>Int64⍰</th></tr></thead><tbody><p>6 rows × 19 columns</p><tr><th>1</th><td>1</td><td>0</td><td>1</td><td>../static/images/invador2.png</td><td>4</td><td>20</td><td>8</td><td>2.5</td><td>left</td><td>74</td><td>1</td><td>1172.0</td><td>1.475</td><td>0</td><td>0</td><td>2</td><td>0</td><td>do not exclude</td><td>1</td></tr><tr><th>2</th><td>1</td><td>1</td><td>1</td><td>../static/images/invador3.png</td><td>1</td><td>80</td><td>2</td><td>40.0</td><td>right</td><td>74</td><td>2</td><td>1046.0</td><td>0.846311</td><td>1</td><td>0</td><td>2</td><td>0</td><td>do not exclude</td><td>1</td></tr><tr><th>3</th><td>1</td><td>2</td><td>1</td><td>../static/images/invador1.png</td><td>3</td><td>80</td><td>8</td><td>10.0</td><td>left</td><td>70</td><td>2</td><td>743.0</td><td>-0.665547</td><td>0</td><td>0</td><td>2</td><td>0</td><td>do not exclude</td><td>1</td></tr><tr><th>4</th><td>1</td><td>3</td><td>1</td><td>../static/images/invador2.png</td><td>4</td><td>20</td><td>8</td><td>2.5</td><td>right</td><td>74</td><td>0</td><td>NaN</td><td>NaN</td><td>1</td><td>1</td><td>2</td><td>0</td><td>do not exclude</td><td>1</td></tr><tr><th>5</th><td>1</td><td>4</td><td>1</td><td>../static/images/invador2.png</td><td>4</td><td>20</td><td>8</td><td>2.5</td><td>left</td><td>70</td><td>2</td><td>858.0</td><td>-0.0917396</td><td>0</td><td>0</td><td>2</td><td>0</td><td>do not exclude</td><td>1</td></tr><tr><th>6</th><td>1</td><td>5</td><td>1</td><td>../static/images/invador4.png</td><td>2</td><td>20</td><td>2</td><td>10.0</td><td>left</td><td>70</td><td>2</td><td>818.0</td><td>-0.291325</td><td>0</td><td>0</td><td>2</td><td>0</td><td>do not exclude</td><td>1</td></tr></tbody></table>"
      ],
      "text/latex": [
       "\\begin{tabular}{r|ccccccccccccccccccc}\n",
       "\t& subj & trial\\_index\\_actual & block & stimulus & stim\\_rank & reward\\_percent & delay\\_s & profitability & stim\\_left\\_right & key\\_press & approach\\_avoid & rt & rt\\_z & force\\_trial & missed & order\\_condition & exclude & exclude\\_reason & sub\\\\\n",
       "\t\\hline\n",
       "\t1 & 1 & 0 & 1 & ../static/images/invador2.png & 4 & 20 & 8 & 2.5 & left & 74 & 1 & 1172.0 & 1.475 & 0 & 0 & 2 & 0 & do not exclude & 1 \\\\\n",
       "\t2 & 1 & 1 & 1 & ../static/images/invador3.png & 1 & 80 & 2 & 40.0 & right & 74 & 2 & 1046.0 & 0.846311 & 1 & 0 & 2 & 0 & do not exclude & 1 \\\\\n",
       "\t3 & 1 & 2 & 1 & ../static/images/invador1.png & 3 & 80 & 8 & 10.0 & left & 70 & 2 & 743.0 & -0.665547 & 0 & 0 & 2 & 0 & do not exclude & 1 \\\\\n",
       "\t4 & 1 & 3 & 1 & ../static/images/invador2.png & 4 & 20 & 8 & 2.5 & right & 74 & 0 & NaN & NaN & 1 & 1 & 2 & 0 & do not exclude & 1 \\\\\n",
       "\t5 & 1 & 4 & 1 & ../static/images/invador2.png & 4 & 20 & 8 & 2.5 & left & 70 & 2 & 858.0 & -0.0917396 & 0 & 0 & 2 & 0 & do not exclude & 1 \\\\\n",
       "\t6 & 1 & 5 & 1 & ../static/images/invador4.png & 2 & 20 & 2 & 10.0 & left & 70 & 2 & 818.0 & -0.291325 & 0 & 0 & 2 & 0 & do not exclude & 1 \\\\\n",
       "\\end{tabular}\n"
      ],
      "text/plain": [
       "6×19 DataFrame. Omitted printing of 15 columns\n",
       "│ Row │ subj   │ trial_index_actual │ block  │ stimulus                      │\n",
       "│     │ \u001b[90mInt64⍰\u001b[39m │ \u001b[90mInt64⍰\u001b[39m             │ \u001b[90mInt64⍰\u001b[39m │ \u001b[90mUnion{Missing, String}\u001b[39m        │\n",
       "├─────┼────────┼────────────────────┼────────┼───────────────────────────────┤\n",
       "│ 1   │ 1      │ 0                  │ 1      │ ../static/images/invador2.png │\n",
       "│ 2   │ 1      │ 1                  │ 1      │ ../static/images/invador3.png │\n",
       "│ 3   │ 1      │ 2                  │ 1      │ ../static/images/invador1.png │\n",
       "│ 4   │ 1      │ 3                  │ 1      │ ../static/images/invador2.png │\n",
       "│ 5   │ 1      │ 4                  │ 1      │ ../static/images/invador2.png │\n",
       "│ 6   │ 1      │ 5                  │ 1      │ ../static/images/invador4.png │"
      ]
     },
     "execution_count": 7,
     "metadata": {},
     "output_type": "execute_result"
    }
   ],
   "source": [
    "#convert approach_avoid to 1s (avoid) and 2s (approach)\n",
    "df[df[:approach_avoid].==1,:approach_avoid] = 2\n",
    "df[df[:approach_avoid].==-1,:approach_avoid] = 1\n",
    "\n",
    "index_NaN = find(isnan.(df[:approach_avoid]))\n",
    "df[index_NaN, :approach_avoid] = 0\n",
    "\n",
    "df[:approach_avoid] = convert(Vector{Integer}, df[:approach_avoid])\n",
    "\n",
    "head(df)\n"
   ]
  },
  {
   "cell_type": "markdown",
   "metadata": {},
   "source": [
    "### Read in summary stats"
   ]
  },
  {
   "cell_type": "code",
   "execution_count": 8,
   "metadata": {},
   "outputs": [
    {
     "name": "stderr",
     "output_type": "stream",
     "text": [
      "┌ Warning: readtable is deprecated, use CSV.read from the CSV package instead\n",
      "│   caller = top-level scope at In[8]:1\n",
      "└ @ Core In[8]:1\n",
      "┌ Warning: `head(df::AbstractDataFrame)` is deprecated, use `first(df, 6)` instead.\n",
      "│   caller = top-level scope at In[8]:2\n",
      "└ @ Core In[8]:2\n"
     ]
    },
    {
     "data": {
      "text/html": [
       "<table class=\"data-frame\"><thead><tr><th></th><th>MturkID</th><th>AssignID</th><th>sub_no</th><th>age</th><th>gender</th><th>n_trials</th><th>n_force_wrong</th><th>n_missed</th><th>bonus_payment</th><th>percent_accept_A1</th><th>percent_accept_A2</th><th>percent_accept_A3</th><th>percent_accept_A4</th><th>percent_accept_A2_A3</th><th>percent_accept_B1</th><th>percent_accept_B2</th><th>percent_accept_B3</th><th>percent_accept_B4</th><th>percent_accept_B2_B3</th><th>percent_accept_B1_min_A1</th><th>percent_accept_B2_min_A2</th><th>percent_accept_B3_min_A3</th><th>percent_accept_B4_min_A4</th><th>percent_accept_B2_B3_min_A2_A3</th><th>percent_accept_AB1</th><th>percent_accept_AB2</th><th>percent_accept_AB3</th><th>percent_accept_AB4</th><th>percent_accept_AB2_AB3</th><th>exclude</th><th>exclude_reason</th><th>order_condition</th><th>comment</th></tr><tr><th></th><th>String⍰</th><th>String⍰</th><th>Int64⍰</th><th>Int64⍰</th><th>String⍰</th><th>Int64⍰</th><th>Int64⍰</th><th>Int64⍰</th><th>Float64⍰</th><th>Float64⍰</th><th>Float64⍰</th><th>Float64⍰</th><th>Float64⍰</th><th>Float64⍰</th><th>Float64⍰</th><th>Float64⍰</th><th>Float64⍰</th><th>Float64⍰</th><th>Float64⍰</th><th>Float64⍰</th><th>Float64⍰</th><th>Float64⍰</th><th>Float64⍰</th><th>Float64⍰</th><th>Float64⍰</th><th>Float64⍰</th><th>Float64⍰</th><th>Float64⍰</th><th>Float64⍰</th><th>Int64⍰</th><th>String⍰</th><th>Int64⍰</th><th>String⍰</th></tr></thead><tbody><p>6 rows × 33 columns</p><tr><th>1</th><td>A3V1WO6CU1EQA1</td><td>3TXWC2NHNZQV07CW65J93JAODMK9SI</td><td>1</td><td>23</td><td>M</td><td>434</td><td>4</td><td>4</td><td>3.8</td><td>0.989362</td><td>0.0</td><td>0.15</td><td>0.037037</td><td>0.075</td><td>0.947368</td><td>0.592593</td><td>0.761905</td><td>0.134021</td><td>0.666667</td><td>-0.0419933</td><td>0.592593</td><td>0.611905</td><td>0.0969836</td><td>0.591667</td><td>0.982301</td><td>0.340426</td><td>0.463415</td><td>0.112903</td><td>0.397727</td><td>0</td><td>do not exclude</td><td>2</td><td>It would be great to have a feature that shows your current amount of fuel collected. Otherwise, great hit!</td></tr><tr><th>2</th><td>A2VRDE2FHCBMF8</td><td>3QHK8ZVMIMIRKNW3KG04I3RJ9SFBLG</td><td>2</td><td>38</td><td>m</td><td>437</td><td>57</td><td>29</td><td>3.6</td><td>0.988235</td><td>0.85</td><td>0.0</td><td>0.0</td><td>0.395349</td><td>0.904762</td><td>0.958333</td><td>0.0357143</td><td>0.0215054</td><td>0.461538</td><td>-0.0834734</td><td>0.108333</td><td>0.0357143</td><td>0.0215054</td><td>0.0661896</td><td>0.971698</td><td>0.909091</td><td>0.0196078</td><td>0.0183486</td><td>0.431579</td><td>1</td><td>&gt;19 missed</td><td>2</td><td>It has been funny, thank you! When I missed too many * I decided to change my strategy ad I aimed just for the grey and the green invaders despite the position of other *.</td></tr><tr><th>3</th><td>AHPOUVK6YUTK1</td><td>3A4NIXBJ76ZN3E00B5QDWJ2DLRJLMF</td><td>3</td><td>32</td><td>f</td><td>480</td><td>3</td><td>2</td><td>3.8</td><td>0.980769</td><td>0.96</td><td>0.0</td><td>0.0833333</td><td>0.470588</td><td>1.0</td><td>1.0</td><td>0.0</td><td>0.0</td><td>0.464286</td><td>0.0192308</td><td>0.04</td><td>0.0</td><td>-0.0833333</td><td>-0.00630252</td><td>0.985294</td><td>0.980392</td><td>0.0</td><td>0.0147059</td><td>0.46729</td><td>0</td><td>do not exclude</td><td>1</td><td>That was fun, but my arm hurts from sitting in the same position for too long!</td></tr><tr><th>4</th><td>A150GMV1YQWWB3</td><td>3TE22NPXPBCB1G49Z9R0O8J2DE344A</td><td>4</td><td>37</td><td>m</td><td>409</td><td>2</td><td>5</td><td>3.9</td><td>0.98913</td><td>0.9</td><td>0.818182</td><td>0.0416667</td><td>0.857143</td><td>0.904762</td><td>0.52381</td><td>1.0</td><td>0.021978</td><td>0.761905</td><td>-0.0843685</td><td>-0.37619</td><td>0.181818</td><td>-0.0196886</td><td>-0.0952381</td><td>0.973451</td><td>0.707317</td><td>0.906977</td><td>0.026087</td><td>0.809524</td><td>0</td><td>do not exclude</td><td>2</td><td></td></tr><tr><th>5</th><td>A5EU1AQJNC7F2</td><td>3F1567XTNW5JNRXJE1U48JVNVYZ9QT</td><td>5</td><td>28</td><td>F</td><td>386</td><td>13</td><td>28</td><td>3.5</td><td>0.933333</td><td>0.473684</td><td>0.347826</td><td>0.1</td><td>0.404762</td><td>0.947368</td><td>0.764706</td><td>0.736842</td><td>0.0789474</td><td>0.75</td><td>0.0140351</td><td>0.291022</td><td>0.389016</td><td>-0.0210526</td><td>0.345238</td><td>0.93617</td><td>0.611111</td><td>0.52381</td><td>0.0833333</td><td>0.564103</td><td>1</td><td>&gt;19 missed</td><td>2</td><td>none</td></tr><tr><th>6</th><td>AHDBHMH3AY1V2</td><td>3FTOP5WARFOK5A5TJFR2I7I8EZDJ00</td><td>6</td><td>31</td><td>m</td><td>421</td><td>1</td><td>3</td><td>3.9</td><td>1.0</td><td>0.833333</td><td>0.0454545</td><td>0.136364</td><td>0.456522</td><td>1.0</td><td>0.875</td><td>1.0</td><td>0.043956</td><td>0.948718</td><td>0.0</td><td>0.0416667</td><td>0.954545</td><td>-0.0924076</td><td>0.492196</td><td>1.0</td><td>0.85</td><td>0.533333</td><td>0.0619469</td><td>0.682353</td><td>0</td><td>do not exclude</td><td>2</td><td></td></tr></tbody></table>"
      ],
      "text/latex": [
       "\\begin{tabular}{r|ccccccccccccccccccccccccccccccccc}\n",
       "\t& MturkID & AssignID & sub\\_no & age & gender & n\\_trials & n\\_force\\_wrong & n\\_missed & bonus\\_payment & percent\\_accept\\_A1 & percent\\_accept\\_A2 & percent\\_accept\\_A3 & percent\\_accept\\_A4 & percent\\_accept\\_A2\\_A3 & percent\\_accept\\_B1 & percent\\_accept\\_B2 & percent\\_accept\\_B3 & percent\\_accept\\_B4 & percent\\_accept\\_B2\\_B3 & percent\\_accept\\_B1\\_min\\_A1 & percent\\_accept\\_B2\\_min\\_A2 & percent\\_accept\\_B3\\_min\\_A3 & percent\\_accept\\_B4\\_min\\_A4 & percent\\_accept\\_B2\\_B3\\_min\\_A2\\_A3 & percent\\_accept\\_AB1 & percent\\_accept\\_AB2 & percent\\_accept\\_AB3 & percent\\_accept\\_AB4 & percent\\_accept\\_AB2\\_AB3 & exclude & exclude\\_reason & order\\_condition & comment\\\\\n",
       "\t\\hline\n",
       "\t1 & A3V1WO6CU1EQA1 & 3TXWC2NHNZQV07CW65J93JAODMK9SI & 1 & 23 & M & 434 & 4 & 4 & 3.8 & 0.989362 & 0.0 & 0.15 & 0.037037 & 0.075 & 0.947368 & 0.592593 & 0.761905 & 0.134021 & 0.666667 & -0.0419933 & 0.592593 & 0.611905 & 0.0969836 & 0.591667 & 0.982301 & 0.340426 & 0.463415 & 0.112903 & 0.397727 & 0 & do not exclude & 2 & It would be great to have a feature that shows your current amount of fuel collected. Otherwise, great hit! \\\\\n",
       "\t2 & A2VRDE2FHCBMF8 & 3QHK8ZVMIMIRKNW3KG04I3RJ9SFBLG & 2 & 38 & m & 437 & 57 & 29 & 3.6 & 0.988235 & 0.85 & 0.0 & 0.0 & 0.395349 & 0.904762 & 0.958333 & 0.0357143 & 0.0215054 & 0.461538 & -0.0834734 & 0.108333 & 0.0357143 & 0.0215054 & 0.0661896 & 0.971698 & 0.909091 & 0.0196078 & 0.0183486 & 0.431579 & 1 & >19 missed & 2 & It has been funny, thank you! When I missed too many * I decided to change my strategy ad I aimed just for the grey and the green invaders despite the position of other *. \\\\\n",
       "\t3 & AHPOUVK6YUTK1 & 3A4NIXBJ76ZN3E00B5QDWJ2DLRJLMF & 3 & 32 & f & 480 & 3 & 2 & 3.8 & 0.980769 & 0.96 & 0.0 & 0.0833333 & 0.470588 & 1.0 & 1.0 & 0.0 & 0.0 & 0.464286 & 0.0192308 & 0.04 & 0.0 & -0.0833333 & -0.00630252 & 0.985294 & 0.980392 & 0.0 & 0.0147059 & 0.46729 & 0 & do not exclude & 1 & That was fun, but my arm hurts from sitting in the same position for too long! \\\\\n",
       "\t4 & A150GMV1YQWWB3 & 3TE22NPXPBCB1G49Z9R0O8J2DE344A & 4 & 37 & m & 409 & 2 & 5 & 3.9 & 0.98913 & 0.9 & 0.818182 & 0.0416667 & 0.857143 & 0.904762 & 0.52381 & 1.0 & 0.021978 & 0.761905 & -0.0843685 & -0.37619 & 0.181818 & -0.0196886 & -0.0952381 & 0.973451 & 0.707317 & 0.906977 & 0.026087 & 0.809524 & 0 & do not exclude & 2 &  \\\\\n",
       "\t5 & A5EU1AQJNC7F2 & 3F1567XTNW5JNRXJE1U48JVNVYZ9QT & 5 & 28 & F & 386 & 13 & 28 & 3.5 & 0.933333 & 0.473684 & 0.347826 & 0.1 & 0.404762 & 0.947368 & 0.764706 & 0.736842 & 0.0789474 & 0.75 & 0.0140351 & 0.291022 & 0.389016 & -0.0210526 & 0.345238 & 0.93617 & 0.611111 & 0.52381 & 0.0833333 & 0.564103 & 1 & >19 missed & 2 & none \\\\\n",
       "\t6 & AHDBHMH3AY1V2 & 3FTOP5WARFOK5A5TJFR2I7I8EZDJ00 & 6 & 31 & m & 421 & 1 & 3 & 3.9 & 1.0 & 0.833333 & 0.0454545 & 0.136364 & 0.456522 & 1.0 & 0.875 & 1.0 & 0.043956 & 0.948718 & 0.0 & 0.0416667 & 0.954545 & -0.0924076 & 0.492196 & 1.0 & 0.85 & 0.533333 & 0.0619469 & 0.682353 & 0 & do not exclude & 2 &  \\\\\n",
       "\\end{tabular}\n"
      ],
      "text/plain": [
       "6×33 DataFrame. Omitted printing of 29 columns\n",
       "│ Row │ MturkID        │ AssignID                       │ sub_no │ age    │\n",
       "│     │ \u001b[90mString⍰\u001b[39m        │ \u001b[90mUnion{Missing, String}\u001b[39m         │ \u001b[90mInt64⍰\u001b[39m │ \u001b[90mInt64⍰\u001b[39m │\n",
       "├─────┼────────────────┼────────────────────────────────┼────────┼────────┤\n",
       "│ 1   │ A3V1WO6CU1EQA1 │ 3TXWC2NHNZQV07CW65J93JAODMK9SI │ 1      │ 23     │\n",
       "│ 2   │ A2VRDE2FHCBMF8 │ 3QHK8ZVMIMIRKNW3KG04I3RJ9SFBLG │ 2      │ 38     │\n",
       "│ 3   │ AHPOUVK6YUTK1  │ 3A4NIXBJ76ZN3E00B5QDWJ2DLRJLMF │ 3      │ 32     │\n",
       "│ 4   │ A150GMV1YQWWB3 │ 3TE22NPXPBCB1G49Z9R0O8J2DE344A │ 4      │ 37     │\n",
       "│ 5   │ A5EU1AQJNC7F2  │ 3F1567XTNW5JNRXJE1U48JVNVYZ9QT │ 5      │ 28     │\n",
       "│ 6   │ AHDBHMH3AY1V2  │ 3FTOP5WARFOK5A5TJFR2I7I8EZDJ00 │ 6      │ 31     │"
      ]
     },
     "execution_count": 8,
     "metadata": {},
     "output_type": "execute_result"
    }
   ],
   "source": [
    "summary_stats = readtable(\"/Users/neil/GitHubRepo/Projects/PreySelection/v103/data/subdata_103.csv\")\n",
    "head(summary_stats)"
   ]
  },
  {
   "cell_type": "markdown",
   "metadata": {},
   "source": [
    "### Get rid of excluded subs"
   ]
  },
  {
   "cell_type": "code",
   "execution_count": 9,
   "metadata": {
    "collapsed": true
   },
   "outputs": [],
   "source": [
    "summary_stats = summary_stats[summary_stats[:exclude].==0,:];\n"
   ]
  },
  {
   "cell_type": "markdown",
   "metadata": {},
   "source": [
    "### Get rid of Mturk ID etc (first 3 columns)"
   ]
  },
  {
   "cell_type": "code",
   "execution_count": 10,
   "metadata": {},
   "outputs": [],
   "source": [
    "summary_stats = summary_stats[:,4:end];"
   ]
  },
  {
   "cell_type": "markdown",
   "metadata": {},
   "source": [
    "# Pearce Hall Model\n",
    "\n",
    "This model comprises: \n",
    "\n",
    "1. An intercept which reflects degree of bias to reject.\n",
    "\n",
    "2. A beta (termperature parameter) which controls sensitivity to the difference between the options (0 = pick 50/50. Higher it is, the more sensative subs are tothe different options (more step functionesque). <br>\n",
    "\n",
    "3. One learning rate (initalised to very low level)\n",
    "\n",
    "4. associability parameter w which alters learning rate on a second by second basis\n",
    "\n",
    "Uses Q learned average to predict choice\n",
    "\n",
    "Initalise Qaverage in model at the arithmetic average over all subs over both sessions"
   ]
  },
  {
   "cell_type": "code",
   "execution_count": 62,
   "metadata": {},
   "outputs": [
    {
     "data": {
      "text/plain": [
       "33.78920000000001"
      ]
     },
     "execution_count": 62,
     "metadata": {},
     "output_type": "execute_result"
    }
   ],
   "source": [
    "lr = 0.01\n",
    "w = 0.5 + 0.5 * erf(0 / sqrt(2))\n",
    "Q_estimate = 8.22\n",
    "PE = 0 .- Q_estimate[1]\n",
    "\n",
    "lr = (1-w).*lr[1] + w.*PE^2"
   ]
  },
  {
   "cell_type": "code",
   "execution_count": 70,
   "metadata": {},
   "outputs": [
    {
     "data": {
      "text/plain": [
       "67.43645000000001"
      ]
     },
     "execution_count": 70,
     "metadata": {},
     "output_type": "execute_result"
    }
   ],
   "source": [
    "PE = 0 .- Q_estimate[1]\n",
    "\n",
    "lr = (1-w).*lr[1] + w.*PE^2"
   ]
  },
  {
   "cell_type": "code",
   "execution_count": null,
   "metadata": {
    "collapsed": true
   },
   "outputs": [],
   "source": []
  },
  {
   "cell_type": "code",
   "execution_count": 212,
   "metadata": {},
   "outputs": [
    {
     "name": "stderr",
     "output_type": "stream",
     "text": [
      "WARNING: Base.@everywhere is deprecated: it has been moved to the standard library package `Distributed`.\n",
      "Add `using Distributed` to your imports.\n",
      "  likely near /Users/neil/.julia/packages/IJulia/GIANC/src/kernel.jl:41\n",
      "WARNING: Base.@everywhere is deprecated: it has been moved to the standard library package `Distributed`.\n",
      "Add `using Distributed` to your imports.\n",
      "  likely near /Users/neil/.julia/packages/IJulia/GIANC/src/kernel.jl:41\n"
     ]
    }
   ],
   "source": [
    "@everywhere function model_PearceHall(params, data)\n",
    "     \n",
    "    #model parameters\n",
    "    intercept = params[1]\n",
    "    beta = params[2]\n",
    "    lr = 0.01\n",
    "    \n",
    "    w = 0.5 + 0.5 * erf(params[3] / sqrt(2))\n",
    "\n",
    "    #initalise various variables\n",
    "    delay_sum = zeros(typeof(beta),1)\n",
    "    reward_sum = zeros(typeof(beta),1)\n",
    "    Q_arithmetic = zeros(typeof(beta),1) # stores actual (arithmetic) average reward rate\n",
    "    opp_cost_arithmetic = zeros(typeof(beta),1) # stores actual (arithmetic) opp cost\n",
    "    Q_estimate = zeros(typeof(beta),1) .+ 8.22/100 # stores estimated global reward rate\n",
    "    opp_cost_estimate = zeros(typeof(beta),1) # stores estimated opp cost\n",
    "    \n",
    "    Qd = zeros(typeof(beta),2) # decision variable; 1st element is the opp cost of accepting (or value of rejecting), 2nd element is just the reward of the option (value of accepting)\n",
    "\n",
    "    lik = 0 #likelihood\n",
    "\n",
    "    #these store new trial by trial values (e.g. Q estimate on each trial etc.)\n",
    "    reward_sum_store = [];\n",
    "    delay_sum_store = [];\n",
    "    Q_arithmetic_store = [];\n",
    "    opp_cost_arithmetic_store  = []; \n",
    "    Q_estimate_store = [];\n",
    "    opp_cost_estimate_store = [];\n",
    "\n",
    "    #extract various variables from the dataframe\n",
    "    reward = data[:reward_percent]/100\n",
    "    delay = data[:delay_s]\n",
    "    force = data[:force_trial]  \n",
    "    missed = data[:missed] #missed responses \n",
    "    c = data[:approach_avoid] #choice\n",
    "\n",
    "    for i = 1:length(c)\n",
    "        \n",
    "            # 2 seconds without reward on each trial regadless of accept/reject\n",
    "            delay_sum .+= 2;\n",
    "         \n",
    "            # calculate current (arithmetic) reward per second from number of seconds elapsed and reward accured\n",
    "            Q_arithmetic = reward_sum./delay_sum\n",
    "            opp_cost_arithmetic = Q_arithmetic*delay[i]\n",
    "           \n",
    "            PE = 0 .- Q_estimate[1]\n",
    "\n",
    "            # decrease estimate of global reward rate for encounter time (2seconds)\n",
    "            Q_estimate = (1-lr)*Q_estimate[1] .+ 0\n",
    "        \n",
    "            lr = (1-w).*lr[1] + w.*PE^2\n",
    "        \n",
    "            PE = 0 .- Q_estimate[1]\n",
    "\n",
    "            Q_estimate = (1-lr) * Q_estimate[1] .+ 0\n",
    "        \n",
    "            lr = (1-w).*lr[1] + w.*PE^2\n",
    "        \n",
    "            #calculate estimate of opportunity cost given estimate of reward rate and delay incurred by option \n",
    "            opp_cost_estimate = Q_estimate[1].*delay[i]\n",
    "        \n",
    "            #add trial by trial values \n",
    "            append!(reward_sum_store, reward_sum)\n",
    "            append!(delay_sum_store, delay_sum)\n",
    "            append!(Q_arithmetic_store, Q_arithmetic)\n",
    "            append!(opp_cost_arithmetic_store, opp_cost_arithmetic)\n",
    "            append!(Q_estimate_store, Q_estimate)\n",
    "            append!(opp_cost_estimate_store, opp_cost_estimate)\n",
    "        \n",
    "            # if not a force trial predict choice based on current values\n",
    "            if ((force[i]<1) & (missed[i]<1))\n",
    "                        \n",
    "                # decision variable - the estimate of opportunity cost (\"reward\" of rejecting) versus \n",
    "                # reward of the current option (if accepted)\n",
    "                Qd = [intercept, 0] .+ [beta.*opp_cost_estimate[1], beta.*reward[i]]\n",
    "\n",
    "                # increment likelihood\n",
    "                lik += Qd[c[i]] - log(sum(exp.(Qd)))\n",
    "            \n",
    "            end\n",
    "            \n",
    "            #incur 8second time out for missed response\n",
    "            if (missed[i]==1)\n",
    "                \n",
    "                delay_sum .+= 8\n",
    "            \n",
    "                for j = 1:8\n",
    "                \n",
    "                    PE = 0 .- Q_estimate[1]\n",
    "\n",
    "                    Q_estimate = (1-lr) * Q_estimate[1] .+ 0\n",
    "                \n",
    "                    lr = (1-w).*lr[1] + w.*PE^2\n",
    "\n",
    "                end\n",
    "            \n",
    "            end\n",
    "        \n",
    "            # regardless of whether a force trial or not, \n",
    "            # if accept the option, Q_estimate updates and there is a delay incurred\n",
    "            if ((c[i] == 2) & (missed[i]==0))\n",
    "                \n",
    "                delay_sum .+= delay[i]\n",
    "                reward_sum .+= reward[i]\n",
    "            \n",
    "                for j = 1:delay[i]\n",
    "                \n",
    "                    PE = 0 .- Q_estimate[1]\n",
    "\n",
    "                    Q_estimate = (1-lr) * Q_estimate[1] .+ 0\n",
    "            \n",
    "                    lr = (1-w).*lr[1] .+ w.*PE^2\n",
    "                    #lr = w.*PE\n",
    "                \n",
    "                end\n",
    "            \n",
    "                    PE = reward[i] .- Q_estimate[1]\n",
    "\n",
    "                    Q_estimate = (1-lr) * Q_estimate[1] .+ lr*reward[i]\n",
    "            \n",
    "                    lr = (1-w).*lr[1] + w.*PE^2\n",
    "                \n",
    "            end\n",
    "    \n",
    "    end\n",
    "    \n",
    "    # compile trial by trial values here\n",
    "    trial_data = DataFrame(reward_sum = reward_sum_store,\n",
    "            delay_sum = delay_sum_store,\n",
    "            Q_arithmetic = Q_arithmetic_store,\n",
    "            opp_cost_arithmetic = opp_cost_arithmetic_store,\n",
    "            Q_estimate = Q_estimate_store,\n",
    "            opp_cost_estimate = opp_cost_estimate_store)\n",
    "    \n",
    "    # here if running em you can only return the likelihood\n",
    "    return -lik\n",
    "    \n",
    "    # but if you run in order to extract trials, subs etc then want to return this\n",
    "    #return (-lik, trial_data)\n",
    "    \n",
    "end\n"
   ]
  },
  {
   "cell_type": "markdown",
   "metadata": {},
   "source": [
    "# Parameter optimisiation"
   ]
  },
  {
   "cell_type": "markdown",
   "metadata": {},
   "source": [
    "### Run model for one subject\n",
    "\n",
    "aids debugging"
   ]
  },
  {
   "cell_type": "code",
   "execution_count": 213,
   "metadata": {},
   "outputs": [
    {
     "data": {
      "text/plain": [
       "225.2728336819827"
      ]
     },
     "execution_count": 213,
     "metadata": {},
     "output_type": "execute_result"
    }
   ],
   "source": [
    "# initialize parameter structures\n",
    "(df, subs, X, betas, sigma) = genVars(df, 3);\n",
    "\n",
    "# run model for sub 1\n",
    "model_PearceHall(betas,df[df[:sub].==subs[1],:])\n"
   ]
  },
  {
   "cell_type": "markdown",
   "metadata": {},
   "source": [
    "### Run em to get best fit parameters for each subject"
   ]
  },
  {
   "cell_type": "code",
   "execution_count": 229,
   "metadata": {},
   "outputs": [
    {
     "name": "stdout",
     "output_type": "stream",
     "text": [
      "\n",
      "iter: 19\n",
      "betas: [0.81, 7.82, -3.56]\n",
      "sigma: [1.0 -0.85 0.85; -0.85 5.22 0.62; 0.85 0.62 2.03]\n",
      "change: [1.0e-5, 3.9e-5, -8.0e-6, 0.000173, -1.8e-5, 0.000165, 0.000717, 0.000499, 0.000116]\n",
      "max: 0.000717\n",
      " 77.472433 seconds (12.49 M allocations: 344.091 MiB, 0.11% gc time)\n"
     ]
    }
   ],
   "source": [
    "# initialized parameter structures (again)\n",
    "# note that some of the variables (e.g. betas, sigma) are entered and returned by em function \n",
    "(df, subs, X, betas, sigma) = genVars(df, 3);\n",
    "\n",
    "# run for full learner\n",
    "# x contains the parameters for each subject (note not the same as variable X)\n",
    "# l and h are per-subject likelihood and hessians\n",
    "@time (betas, sigma, x, l, h) = em(df, subs, X, betas, sigma, model_PearceHall; emtol=1e-3, parallel=true, full=true, quiet=false);\n"
   ]
  },
  {
   "cell_type": "markdown",
   "metadata": {},
   "source": [
    "### Generate Model Statistics \n",
    "(IAIC, IBIC, LOOCV)"
   ]
  },
  {
   "cell_type": "code",
   "execution_count": 230,
   "metadata": {},
   "outputs": [
    {
     "name": "stdout",
     "output_type": "stream",
     "text": [
      "Subject: 1..2..3..4..5..6..7..8..9..10..11..12..13..14..15..16..17..18..19..20..21..22..23..24..25..26..27..28..29..30..31..32..33..34..35..36..37..38..39..40..4011.970887432759"
     ]
    }
   ],
   "source": [
    "## model selection/comparison/scoring\n",
    "\n",
    "# laplace approximation to the aggregate log marginal likelihood of the whole dataset\n",
    "# marginalized over the individual params\n",
    "\n",
    "aggll = lml(x, l, h)\n",
    "\n",
    "# to compare this between models you need to correct for the group-level free parameters\n",
    "# either aic or bic\n",
    "\n",
    "aggll_ibic = ibic(x, l, h, betas, sigma, nrow(df))\n",
    "aggll_iaic = iaic(x, l, h, betas, sigma)\n",
    "\n",
    "# or you can compute unbiased per subject marginal likelihoods via subject-level cross validation\n",
    "# you can do paired t tests on these between models\n",
    "# these are also appropriate for SPM_BMS etc\n",
    "\n",
    "# takes ages so comment in when want to run, otherwise just use IAIC above\n",
    "liks = loocv(df, subs, x, X, betas, sigma, model_PearceHall; emtol=1e-3, parallel=true, full=true)\n",
    "aggll_loo = sum(liks)\n",
    "\n",
    "#println(\"\\n\\nraw nll:  $aggll\\nibic nll: $aggll_ibic\\niaic nll: $aggll_iaic\\nloo nll:  $aggll_loo\")\n",
    "#println(\"\\n\\nraw nll:  $aggll\\nibic nll: $aggll_ibic\\niaic nll:\")\n",
    "print(aggll_iaic)\n"
   ]
  },
  {
   "cell_type": "markdown",
   "metadata": {},
   "source": [
    "### Write loocv scores to csv file\n",
    "\n",
    "(if you have run loocv above)"
   ]
  },
  {
   "cell_type": "code",
   "execution_count": 231,
   "metadata": {
    "collapsed": true,
    "scrolled": true
   },
   "outputs": [],
   "source": [
    "# put loocv scores into dataframe\n",
    "loocv_scores = DataFrame(sub = subs,\n",
    "liks = vec(liks));\n"
   ]
  },
  {
   "cell_type": "markdown",
   "metadata": {},
   "source": [
    "#### save LOOCV to csv file\n"
   ]
  },
  {
   "cell_type": "code",
   "execution_count": 232,
   "metadata": {},
   "outputs": [
    {
     "data": {
      "text/plain": [
       "\"loocv_scores.csv\""
      ]
     },
     "execution_count": 232,
     "metadata": {},
     "output_type": "execute_result"
    }
   ],
   "source": [
    "CSV.write(\"loocv_scores.csv\", DataFrame(loocv_scores))\n"
   ]
  },
  {
   "cell_type": "markdown",
   "metadata": {},
   "source": [
    "#### add to summary stats to LOOCV as well"
   ]
  },
  {
   "cell_type": "code",
   "execution_count": 233,
   "metadata": {},
   "outputs": [
    {
     "name": "stderr",
     "output_type": "stream",
     "text": [
      "┌ Warning: broadcast will default to iterating over its arguments in the future. Wrap arguments of\n",
      "│ type `x::Char` with `Ref(x)` to ensure they broadcast as \"scalar\" elements.\n",
      "│   caller = ip:0x0\n",
      "└ @ Core :-1\n"
     ]
    },
    {
     "ename": "ArgumentError",
     "evalue": "ArgumentError: Duplicate variable names: :liks. Pass makeunique=true to make them unique using a suffix automatically.",
     "output_type": "error",
     "traceback": [
      "ArgumentError: Duplicate variable names: :liks. Pass makeunique=true to make them unique using a suffix automatically.",
      "",
      "Stacktrace:",
      " [1] #add_names#15(::Bool, ::Function, ::DataFrames.Index, ::DataFrames.Index) at /Users/neil/.julia/packages/DataFrames/z2XOB/src/other/index.jl:192",
      " [2] #add_names at ./none:0 [inlined]",
      " [3] #hcat!#68(::Bool, ::Function, ::DataFrame, ::DataFrame) at /Users/neil/.julia/packages/DataFrames/z2XOB/src/dataframe/dataframe.jl:869",
      " [4] (::getfield(DataFrames, Symbol(\"#kw##hcat!\")))(::NamedTuple{(:makeunique,),Tuple{Bool}}, ::typeof(DataFrames.hcat!), ::DataFrame, ::DataFrame) at ./none:0",
      " [5] #hcat!#69 at /Users/neil/.julia/packages/DataFrames/z2XOB/src/dataframe/dataframe.jl:878 [inlined]",
      " [6] #hcat! at ./none:0 [inlined]",
      " [7] #hcat#77(::Bool, ::Function, ::DataFrame, ::DataFrame) at /Users/neil/.julia/packages/DataFrames/z2XOB/src/dataframe/dataframe.jl:900",
      " [8] hcat(::DataFrame, ::DataFrame) at /Users/neil/.julia/packages/DataFrames/z2XOB/src/dataframe/dataframe.jl:900",
      " [9] top-level scope at In[233]:1"
     ]
    }
   ],
   "source": [
    "summary_stats = [summary_stats loocv_scores];"
   ]
  },
  {
   "cell_type": "markdown",
   "metadata": {},
   "source": [
    "### Calculate and write p values, std error and covariance"
   ]
  },
  {
   "cell_type": "code",
   "execution_count": 234,
   "metadata": {},
   "outputs": [
    {
     "name": "stderr",
     "output_type": "stream",
     "text": [
      "WARNING: LinearAlgebra.trace is deprecated, use tr instead.\n",
      "  likely near /Users/neil/.julia/packages/IJulia/GIANC/src/kernel.jl:41\n",
      "WARNING: LinearAlgebra.trace is deprecated, use tr instead.\n",
      "  likely near /Users/neil/.julia/packages/IJulia/GIANC/src/kernel.jl:41\n",
      "WARNING: LinearAlgebra.trace is deprecated, use tr instead.\n",
      "  likely near /Users/neil/.julia/packages/IJulia/GIANC/src/kernel.jl:41\n",
      "in #53 at none\n",
      "┌ Warning: `ccdf(d::UnivariateDistribution, X::AbstractArray)` is deprecated, use `ccdf.(d, X)` instead.\n",
      "│   caller = emerrors(::DataFrame, ::Array{Union{Missing, Int64},1}, ::SharedArray{Float64,2}, ::Array{Float64,3}, ::SharedArray{Float64,3}, ::Array{Float64,1}, ::Array{Float64,2}, ::Function) at em.jl:300\n",
      "└ @ Main /Users/neil/GitHubRepo/Projects/PreySelection/v103/models/model_PearceHall/em.jl:300\n"
     ]
    }
   ],
   "source": [
    "# standard errors on the subject-level means, based on an asymptotic Gaussian approx \n",
    "# (these may be inflated esp for small n)\n",
    "(standarderrors, pvalues, covmtx) = emerrors(df,subs,x,X,h,betas,sigma,model_PearceHall);\n"
   ]
  },
  {
   "cell_type": "code",
   "execution_count": 235,
   "metadata": {},
   "outputs": [],
   "source": [
    "model_stats = DataFrame(stderror = vec(standarderrors),\n",
    "pvalues = vec(pvalues),\n",
    "covmtx_1 = vec(covmtx[:,1]),\n",
    "covmtx_2 = vec(covmtx[:,2]),\n",
    "covmtx_3 = vec(covmtx[:,3]));\n",
    "\n",
    "# save model stats to csv file\n",
    "CSV.write(\"model_stats.csv\", DataFrame(model_stats));"
   ]
  },
  {
   "cell_type": "code",
   "execution_count": 236,
   "metadata": {},
   "outputs": [
    {
     "name": "stdout",
     "output_type": "stream",
     "text": [
      "[0.162726, 0.397254, 0.260234]"
     ]
    }
   ],
   "source": [
    "print(standarderrors)\n"
   ]
  },
  {
   "cell_type": "code",
   "execution_count": 237,
   "metadata": {},
   "outputs": [
    {
     "name": "stdout",
     "output_type": "stream",
     "text": [
      "[7.06034e-7, 2.72601e-86, 1.43383e-42]"
     ]
    }
   ],
   "source": [
    "print(pvalues)\n"
   ]
  },
  {
   "cell_type": "code",
   "execution_count": 238,
   "metadata": {
    "scrolled": true
   },
   "outputs": [
    {
     "name": "stdout",
     "output_type": "stream",
     "text": [
      "[0.0264796 -0.0211194 0.0213663; -0.0211194 0.157811 0.0151474; 0.0213663 0.0151474 0.067722]"
     ]
    }
   ],
   "source": [
    "print(covmtx)\n"
   ]
  },
  {
   "cell_type": "markdown",
   "metadata": {},
   "source": [
    "### Write per subject model parameters to csv files"
   ]
  },
  {
   "cell_type": "code",
   "execution_count": 239,
   "metadata": {
    "collapsed": true
   },
   "outputs": [],
   "source": [
    "# put parameters into variable d\n",
    "d=x';\n",
    "\n",
    "# now put parameters into dataframe\n",
    "params = DataFrame(sub = subs,\n",
    "intercept = vec(d[:,1]), \n",
    "beta = vec(d[:,2]),\n",
    "w_raw = vec(d[:,3]),\n",
    "w_transformed = vec(0.5 .+ 0.5*erf.(d[:,3] / sqrt(2))));\n"
   ]
  },
  {
   "cell_type": "markdown",
   "metadata": {},
   "source": [
    "#### save parameters to csv file\n"
   ]
  },
  {
   "cell_type": "code",
   "execution_count": 240,
   "metadata": {},
   "outputs": [
    {
     "data": {
      "text/plain": [
       "\"subject_params.csv\""
      ]
     },
     "execution_count": 240,
     "metadata": {},
     "output_type": "execute_result"
    }
   ],
   "source": [
    "CSV.write(\"subject_params.csv\", DataFrame(params))\n"
   ]
  },
  {
   "cell_type": "markdown",
   "metadata": {},
   "source": [
    "#### save a copy with summary stats as well"
   ]
  },
  {
   "cell_type": "markdown",
   "metadata": {},
   "source": [
    "##### Delete non needed columns: exclude, exclude reason and duplicate sub column"
   ]
  },
  {
   "cell_type": "code",
   "execution_count": 241,
   "metadata": {},
   "outputs": [
    {
     "name": "stderr",
     "output_type": "stream",
     "text": [
      "┌ Warning: `delete!(df::AbstractDataFrame, cols::Any)` is deprecated, use `deletecols!(df, cols)` instead.\n",
      "│   caller = top-level scope at In[241]:1\n",
      "└ @ Core In[241]:1\n"
     ]
    },
    {
     "ename": "KeyError",
     "evalue": "KeyError: key :sub not found",
     "output_type": "error",
     "traceback": [
      "KeyError: key :sub not found",
      "",
      "Stacktrace:",
      " [1] getindex at ./dict.jl:478 [inlined]",
      " [2] getindex at /Users/neil/.julia/packages/DataFrames/z2XOB/src/other/index.jl:139 [inlined]",
      " [3] deletecols! at /Users/neil/.julia/packages/DataFrames/z2XOB/src/dataframe/dataframe.jl:811 [inlined]",
      " [4] delete!(::DataFrame, ::Symbol) at ./deprecated.jl:55",
      " [5] top-level scope at In[241]:1"
     ]
    }
   ],
   "source": [
    "delete!(summary_stats, :sub);\n",
    "delete!(summary_stats, :exclude_reason);\n",
    "delete!(summary_stats, :exclude);\n",
    "delete!(summary_stats, :comment);"
   ]
  },
  {
   "cell_type": "markdown",
   "metadata": {},
   "source": [
    "##### Save summary stats"
   ]
  },
  {
   "cell_type": "code",
   "execution_count": 242,
   "metadata": {},
   "outputs": [
    {
     "ename": "ArgumentError",
     "evalue": "ArgumentError: Duplicate variable names: :intercept, :beta, :w_raw and :w_transformed. Pass makeunique=true to make them unique using a suffix automatically.",
     "output_type": "error",
     "traceback": [
      "ArgumentError: Duplicate variable names: :intercept, :beta, :w_raw and :w_transformed. Pass makeunique=true to make them unique using a suffix automatically.",
      "",
      "Stacktrace:",
      " [1] #add_names#15(::Bool, ::Function, ::DataFrames.Index, ::DataFrames.Index) at /Users/neil/.julia/packages/DataFrames/z2XOB/src/other/index.jl:192",
      " [2] #add_names at ./none:0 [inlined]",
      " [3] #hcat!#68(::Bool, ::Function, ::DataFrame, ::DataFrame) at /Users/neil/.julia/packages/DataFrames/z2XOB/src/dataframe/dataframe.jl:869",
      " [4] (::getfield(DataFrames, Symbol(\"#kw##hcat!\")))(::NamedTuple{(:makeunique,),Tuple{Bool}}, ::typeof(DataFrames.hcat!), ::DataFrame, ::DataFrame) at ./none:0",
      " [5] #hcat!#69 at /Users/neil/.julia/packages/DataFrames/z2XOB/src/dataframe/dataframe.jl:878 [inlined]",
      " [6] #hcat! at ./none:0 [inlined]",
      " [7] #hcat#77(::Bool, ::Function, ::DataFrame, ::DataFrame) at /Users/neil/.julia/packages/DataFrames/z2XOB/src/dataframe/dataframe.jl:900",
      " [8] hcat(::DataFrame, ::DataFrame) at /Users/neil/.julia/packages/DataFrames/z2XOB/src/dataframe/dataframe.jl:900",
      " [9] top-level scope at In[242]:2"
     ]
    }
   ],
   "source": [
    "params = params[:,2:end]\n",
    "summary_stats = [summary_stats params]\n",
    "CSV.write(\"summary_stats.csv\", DataFrame(summary_stats))\n"
   ]
  }
 ],
 "metadata": {
  "kernelspec": {
   "display_name": "Julia 0.7.0",
   "language": "julia",
   "name": "julia-0.7"
  },
  "language_info": {
   "file_extension": ".jl",
   "mimetype": "application/julia",
   "name": "julia",
   "version": "0.7.0"
  },
  "toc": {
   "base_numbering": 1,
   "nav_menu": {},
   "number_sections": true,
   "sideBar": true,
   "skip_h1_title": false,
   "title_cell": "Table of Contents",
   "title_sidebar": "Contents",
   "toc_cell": false,
   "toc_position": {},
   "toc_section_display": true,
   "toc_window_display": false
  }
 },
 "nbformat": 4,
 "nbformat_minor": 1
}
