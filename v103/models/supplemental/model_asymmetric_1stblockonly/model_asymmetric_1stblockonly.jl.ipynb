{
 "cells": [
  {
   "cell_type": "markdown",
   "metadata": {},
   "source": [
    "** Neil Garrett, June 2018 **\n",
    "uses julia EM model fitting by Nathaniel Daw\n"
   ]
  },
  {
   "cell_type": "markdown",
   "metadata": {},
   "source": [
    "# Start up commands/load relevant functions"
   ]
  },
  {
   "cell_type": "code",
   "execution_count": 1,
   "metadata": {},
   "outputs": [],
   "source": [
    "\n",
    "parallel = true # Run on multiple CPUs. If you are having trouble, set parallel = false: easier to debug\n",
    "full = false    # Maintain full covariance matrix (vs a diagional one) at the group level\n",
    "emtol = 1e-3    # stopping condition (relative change) for EM\n",
    "\n",
    "using Distributed\n",
    "if (parallel)\n",
    "\t# only run this once\n",
    "\taddprocs()\n",
    "end\n",
    "\n",
    "# this loads the packages needed -- the @everywhere makes sure they \n",
    "# available on all CPUs \n",
    "\n",
    "@everywhere using DataFrames\n",
    "@everywhere using SharedArrays\n",
    "@everywhere using ForwardDiff\n",
    "@everywhere using Optim\n",
    "@everywhere using LinearAlgebra       # for tr, diagonal\n",
    "@everywhere using StatsFuns           # logsumexp\n",
    "@everywhere using SpecialFunctions    # for erf\n",
    "@everywhere using Statistics          # for mean\n",
    "@everywhere using Distributions\n",
    "@everywhere using GLM\n",
    "@everywhere using CSV #for reading/writing csv files\n",
    "\n",
    "# change this to where you keep the Daw's latest em code\n",
    "@everywhere directory = \"/Users/neil/GitHubRepo/Projects/PreySelection/em\"\n",
    "\n",
    "#load in functions including em\n",
    "@everywhere include(\"$directory/em.jl\");\n",
    "@everywhere include(\"$directory/common.jl\");\n",
    "@everywhere include(\"$directory/likfuns.jl\")\n"
   ]
  },
  {
   "cell_type": "markdown",
   "metadata": {},
   "source": [
    "# Data read and process"
   ]
  },
  {
   "cell_type": "markdown",
   "metadata": {},
   "source": [
    "### Read in trial by trial data"
   ]
  },
  {
   "cell_type": "code",
   "execution_count": 2,
   "metadata": {},
   "outputs": [],
   "source": [
    "\n",
    "#read in csv file of the data\n",
    "#trial by trial data: note will include force trials and missed responses\n",
    "df = CSV.read(\"/Users/neil/GitHubRepo/Projects/PreySelection/v103/data/trialdata_103_processed.csv\");\n"
   ]
  },
  {
   "cell_type": "markdown",
   "metadata": {},
   "source": [
    "### Get rid of excluded subs"
   ]
  },
  {
   "cell_type": "code",
   "execution_count": 3,
   "metadata": {},
   "outputs": [],
   "source": [
    "\n",
    "df = df[df[:exclude].==0,:];\n"
   ]
  },
  {
   "cell_type": "markdown",
   "metadata": {},
   "source": [
    "### Convert approach avoid to 2s and 1s , missed as 0. Then convert to integers (necessary to use as an index)"
   ]
  },
  {
   "cell_type": "code",
   "execution_count": 4,
   "metadata": {},
   "outputs": [
    {
     "data": {
      "text/html": [
       "<table class=\"data-frame\"><thead><tr><th></th><th>subj</th><th>trial_index_actual</th><th>block</th><th>stimulus</th><th>stim_rank</th><th>reward_percent</th><th>delay_s</th><th>profitability</th><th>stim_left_right</th><th>key_press</th><th>approach_avoid</th><th>rt</th><th>rt_z</th><th>force_trial</th><th>missed</th><th>order_condition</th><th>exclude</th><th>exclude_reason</th></tr><tr><th></th><th>Int64⍰</th><th>Int64⍰</th><th>Int64⍰</th><th>String⍰</th><th>Int64⍰</th><th>Int64⍰</th><th>Int64⍰</th><th>Float64⍰</th><th>String⍰</th><th>Int64⍰</th><th>Integer</th><th>Float64⍰</th><th>Float64⍰</th><th>Int64⍰</th><th>Int64⍰</th><th>Int64⍰</th><th>Int64⍰</th><th>String⍰</th></tr></thead><tbody><p>6 rows × 18 columns</p><tr><th>1</th><td>1</td><td>0</td><td>1</td><td>../static/images/invador2.png</td><td>4</td><td>20</td><td>8</td><td>2.5</td><td>left</td><td>74</td><td>1</td><td>1172.0</td><td>1.475</td><td>0</td><td>0</td><td>2</td><td>0</td><td>do not exclude</td></tr><tr><th>2</th><td>1</td><td>1</td><td>1</td><td>../static/images/invador3.png</td><td>1</td><td>80</td><td>2</td><td>40.0</td><td>right</td><td>74</td><td>2</td><td>1046.0</td><td>0.846311</td><td>1</td><td>0</td><td>2</td><td>0</td><td>do not exclude</td></tr><tr><th>3</th><td>1</td><td>2</td><td>1</td><td>../static/images/invador1.png</td><td>3</td><td>80</td><td>8</td><td>10.0</td><td>left</td><td>70</td><td>2</td><td>743.0</td><td>-0.665547</td><td>0</td><td>0</td><td>2</td><td>0</td><td>do not exclude</td></tr><tr><th>4</th><td>1</td><td>3</td><td>1</td><td>../static/images/invador2.png</td><td>4</td><td>20</td><td>8</td><td>2.5</td><td>right</td><td>74</td><td>0</td><td>NaN</td><td>NaN</td><td>1</td><td>1</td><td>2</td><td>0</td><td>do not exclude</td></tr><tr><th>5</th><td>1</td><td>4</td><td>1</td><td>../static/images/invador2.png</td><td>4</td><td>20</td><td>8</td><td>2.5</td><td>left</td><td>70</td><td>2</td><td>858.0</td><td>-0.0917396</td><td>0</td><td>0</td><td>2</td><td>0</td><td>do not exclude</td></tr><tr><th>6</th><td>1</td><td>5</td><td>1</td><td>../static/images/invador4.png</td><td>2</td><td>20</td><td>2</td><td>10.0</td><td>left</td><td>70</td><td>2</td><td>818.0</td><td>-0.291325</td><td>0</td><td>0</td><td>2</td><td>0</td><td>do not exclude</td></tr></tbody></table>"
      ],
      "text/latex": [
       "\\begin{tabular}{r|cccccccccccccccccc}\n",
       "\t& subj & trial\\_index\\_actual & block & stimulus & stim\\_rank & reward\\_percent & delay\\_s & profitability & stim\\_left\\_right & key\\_press & approach\\_avoid & rt & rt\\_z & force\\_trial & missed & order\\_condition & exclude & exclude\\_reason\\\\\n",
       "\t\\hline\n",
       "\t& Int64⍰ & Int64⍰ & Int64⍰ & String⍰ & Int64⍰ & Int64⍰ & Int64⍰ & Float64⍰ & String⍰ & Int64⍰ & Integer & Float64⍰ & Float64⍰ & Int64⍰ & Int64⍰ & Int64⍰ & Int64⍰ & String⍰\\\\\n",
       "\t\\hline\n",
       "\t1 & 1 & 0 & 1 & ../static/images/invador2.png & 4 & 20 & 8 & 2.5 & left & 74 & 1 & 1172.0 & 1.475 & 0 & 0 & 2 & 0 & do not exclude \\\\\n",
       "\t2 & 1 & 1 & 1 & ../static/images/invador3.png & 1 & 80 & 2 & 40.0 & right & 74 & 2 & 1046.0 & 0.846311 & 1 & 0 & 2 & 0 & do not exclude \\\\\n",
       "\t3 & 1 & 2 & 1 & ../static/images/invador1.png & 3 & 80 & 8 & 10.0 & left & 70 & 2 & 743.0 & -0.665547 & 0 & 0 & 2 & 0 & do not exclude \\\\\n",
       "\t4 & 1 & 3 & 1 & ../static/images/invador2.png & 4 & 20 & 8 & 2.5 & right & 74 & 0 & NaN & NaN & 1 & 1 & 2 & 0 & do not exclude \\\\\n",
       "\t5 & 1 & 4 & 1 & ../static/images/invador2.png & 4 & 20 & 8 & 2.5 & left & 70 & 2 & 858.0 & -0.0917396 & 0 & 0 & 2 & 0 & do not exclude \\\\\n",
       "\t6 & 1 & 5 & 1 & ../static/images/invador4.png & 2 & 20 & 2 & 10.0 & left & 70 & 2 & 818.0 & -0.291325 & 0 & 0 & 2 & 0 & do not exclude \\\\\n",
       "\\end{tabular}\n"
      ],
      "text/plain": [
       "6×18 DataFrame. Omitted printing of 14 columns\n",
       "│ Row │ subj   │ trial_index_actual │ block  │ stimulus                      │\n",
       "│     │ \u001b[90mInt64⍰\u001b[39m │ \u001b[90mInt64⍰\u001b[39m             │ \u001b[90mInt64⍰\u001b[39m │ \u001b[90mUnion{Missing, String}\u001b[39m        │\n",
       "├─────┼────────┼────────────────────┼────────┼───────────────────────────────┤\n",
       "│ 1   │ 1      │ 0                  │ 1      │ ../static/images/invador2.png │\n",
       "│ 2   │ 1      │ 1                  │ 1      │ ../static/images/invador3.png │\n",
       "│ 3   │ 1      │ 2                  │ 1      │ ../static/images/invador1.png │\n",
       "│ 4   │ 1      │ 3                  │ 1      │ ../static/images/invador2.png │\n",
       "│ 5   │ 1      │ 4                  │ 1      │ ../static/images/invador2.png │\n",
       "│ 6   │ 1      │ 5                  │ 1      │ ../static/images/invador4.png │"
      ]
     },
     "execution_count": 4,
     "metadata": {},
     "output_type": "execute_result"
    }
   ],
   "source": [
    "\n",
    "# convert approach_avoid to 1s (avoid) and 2s (approach)\n",
    "df[df[:approach_avoid].==1,:approach_avoid] = 2\n",
    "df[df[:approach_avoid].==-1,:approach_avoid] = 1\n",
    "\n",
    "# put 0 for missed responses\n",
    "index_NaN = findall(isnan.(df[:approach_avoid]))\n",
    "df[index_NaN, :approach_avoid] = 0\n",
    "\n",
    "df[:approach_avoid] = convert(Vector{Integer}, df[:approach_avoid])\n",
    "\n",
    "first(df, 6)\n"
   ]
  },
  {
   "cell_type": "markdown",
   "metadata": {},
   "source": [
    "### Keep First Block Only (throw out second block)"
   ]
  },
  {
   "cell_type": "code",
   "execution_count": 5,
   "metadata": {},
   "outputs": [
    {
     "data": {
      "text/html": [
       "<table class=\"data-frame\"><thead><tr><th></th><th>subj</th><th>trial_index_actual</th><th>block</th><th>stimulus</th><th>stim_rank</th><th>reward_percent</th><th>delay_s</th><th>profitability</th><th>stim_left_right</th><th>key_press</th><th>approach_avoid</th><th>rt</th><th>rt_z</th><th>force_trial</th><th>missed</th><th>order_condition</th><th>exclude</th><th>exclude_reason</th></tr><tr><th></th><th>Int64⍰</th><th>Int64⍰</th><th>Int64⍰</th><th>String⍰</th><th>Int64⍰</th><th>Int64⍰</th><th>Int64⍰</th><th>Float64⍰</th><th>String⍰</th><th>Int64⍰</th><th>Integer</th><th>Float64⍰</th><th>Float64⍰</th><th>Int64⍰</th><th>Int64⍰</th><th>Int64⍰</th><th>Int64⍰</th><th>String⍰</th></tr></thead><tbody><p>8,615 rows × 18 columns</p><tr><th>1</th><td>1</td><td>0</td><td>1</td><td>../static/images/invador2.png</td><td>4</td><td>20</td><td>8</td><td>2.5</td><td>left</td><td>74</td><td>1</td><td>1172.0</td><td>1.475</td><td>0</td><td>0</td><td>2</td><td>0</td><td>do not exclude</td></tr><tr><th>2</th><td>1</td><td>1</td><td>1</td><td>../static/images/invador3.png</td><td>1</td><td>80</td><td>2</td><td>40.0</td><td>right</td><td>74</td><td>2</td><td>1046.0</td><td>0.846311</td><td>1</td><td>0</td><td>2</td><td>0</td><td>do not exclude</td></tr><tr><th>3</th><td>1</td><td>2</td><td>1</td><td>../static/images/invador1.png</td><td>3</td><td>80</td><td>8</td><td>10.0</td><td>left</td><td>70</td><td>2</td><td>743.0</td><td>-0.665547</td><td>0</td><td>0</td><td>2</td><td>0</td><td>do not exclude</td></tr><tr><th>4</th><td>1</td><td>3</td><td>1</td><td>../static/images/invador2.png</td><td>4</td><td>20</td><td>8</td><td>2.5</td><td>right</td><td>74</td><td>0</td><td>NaN</td><td>NaN</td><td>1</td><td>1</td><td>2</td><td>0</td><td>do not exclude</td></tr><tr><th>5</th><td>1</td><td>4</td><td>1</td><td>../static/images/invador2.png</td><td>4</td><td>20</td><td>8</td><td>2.5</td><td>left</td><td>70</td><td>2</td><td>858.0</td><td>-0.0917396</td><td>0</td><td>0</td><td>2</td><td>0</td><td>do not exclude</td></tr><tr><th>6</th><td>1</td><td>5</td><td>1</td><td>../static/images/invador4.png</td><td>2</td><td>20</td><td>2</td><td>10.0</td><td>left</td><td>70</td><td>2</td><td>818.0</td><td>-0.291325</td><td>0</td><td>0</td><td>2</td><td>0</td><td>do not exclude</td></tr><tr><th>7</th><td>1</td><td>6</td><td>1</td><td>../static/images/invador2.png</td><td>4</td><td>20</td><td>8</td><td>2.5</td><td>left</td><td>70</td><td>2</td><td>1076.0</td><td>0.996</td><td>0</td><td>0</td><td>2</td><td>0</td><td>do not exclude</td></tr><tr><th>8</th><td>1</td><td>7</td><td>1</td><td>../static/images/invador2.png</td><td>4</td><td>20</td><td>8</td><td>2.5</td><td>right</td><td>74</td><td>2</td><td>987.0</td><td>0.551923</td><td>0</td><td>0</td><td>2</td><td>0</td><td>do not exclude</td></tr><tr><th>9</th><td>1</td><td>8</td><td>1</td><td>../static/images/invador1.png</td><td>3</td><td>80</td><td>8</td><td>10.0</td><td>left</td><td>74</td><td>1</td><td>766.0</td><td>-0.550786</td><td>2</td><td>0</td><td>2</td><td>0</td><td>do not exclude</td></tr><tr><th>10</th><td>1</td><td>9</td><td>1</td><td>../static/images/invador4.png</td><td>2</td><td>20</td><td>2</td><td>10.0</td><td>right</td><td>74</td><td>2</td><td>1059.0</td><td>0.911176</td><td>0</td><td>0</td><td>2</td><td>0</td><td>do not exclude</td></tr><tr><th>11</th><td>1</td><td>10</td><td>1</td><td>../static/images/invador2.png</td><td>4</td><td>20</td><td>8</td><td>2.5</td><td>left</td><td>74</td><td>1</td><td>569.0</td><td>-1.53374</td><td>2</td><td>0</td><td>2</td><td>0</td><td>do not exclude</td></tr><tr><th>12</th><td>1</td><td>11</td><td>1</td><td>../static/images/invador3.png</td><td>1</td><td>80</td><td>2</td><td>40.0</td><td>right</td><td>74</td><td>2</td><td>940.0</td><td>0.31741</td><td>0</td><td>0</td><td>2</td><td>0</td><td>do not exclude</td></tr><tr><th>13</th><td>1</td><td>12</td><td>1</td><td>../static/images/invador2.png</td><td>4</td><td>20</td><td>8</td><td>2.5</td><td>left</td><td>74</td><td>1</td><td>791.0</td><td>-0.426045</td><td>2</td><td>0</td><td>2</td><td>0</td><td>do not exclude</td></tr><tr><th>14</th><td>1</td><td>13</td><td>1</td><td>../static/images/invador2.png</td><td>4</td><td>20</td><td>8</td><td>2.5</td><td>left</td><td>70</td><td>2</td><td>907.0</td><td>0.152752</td><td>0</td><td>0</td><td>2</td><td>0</td><td>do not exclude</td></tr><tr><th>15</th><td>1</td><td>14</td><td>1</td><td>../static/images/invador2.png</td><td>4</td><td>20</td><td>8</td><td>2.5</td><td>right</td><td>70</td><td>1</td><td>962.0</td><td>0.427182</td><td>2</td><td>0</td><td>2</td><td>0</td><td>do not exclude</td></tr><tr><th>16</th><td>1</td><td>15</td><td>1</td><td>../static/images/invador2.png</td><td>4</td><td>20</td><td>8</td><td>2.5</td><td>left</td><td>70</td><td>2</td><td>919.0</td><td>0.212628</td><td>0</td><td>0</td><td>2</td><td>0</td><td>do not exclude</td></tr><tr><th>17</th><td>1</td><td>16</td><td>1</td><td>../static/images/invador2.png</td><td>4</td><td>20</td><td>8</td><td>2.5</td><td>left</td><td>74</td><td>1</td><td>949.0</td><td>0.362317</td><td>0</td><td>0</td><td>2</td><td>0</td><td>do not exclude</td></tr><tr><th>18</th><td>1</td><td>17</td><td>1</td><td>../static/images/invador4.png</td><td>2</td><td>20</td><td>2</td><td>10.0</td><td>left</td><td>70</td><td>2</td><td>873.0</td><td>-0.0168951</td><td>0</td><td>0</td><td>2</td><td>0</td><td>do not exclude</td></tr><tr><th>19</th><td>1</td><td>18</td><td>1</td><td>../static/images/invador1.png</td><td>3</td><td>80</td><td>8</td><td>10.0</td><td>left</td><td>70</td><td>2</td><td>1016.0</td><td>0.696622</td><td>0</td><td>0</td><td>2</td><td>0</td><td>do not exclude</td></tr><tr><th>20</th><td>1</td><td>19</td><td>1</td><td>../static/images/invador3.png</td><td>1</td><td>80</td><td>2</td><td>40.0</td><td>left</td><td>70</td><td>2</td><td>907.0</td><td>0.152752</td><td>0</td><td>0</td><td>2</td><td>0</td><td>do not exclude</td></tr><tr><th>21</th><td>1</td><td>20</td><td>1</td><td>../static/images/invador2.png</td><td>4</td><td>20</td><td>8</td><td>2.5</td><td>left</td><td>74</td><td>1</td><td>763.0</td><td>-0.565754</td><td>0</td><td>0</td><td>2</td><td>0</td><td>do not exclude</td></tr><tr><th>22</th><td>1</td><td>21</td><td>1</td><td>../static/images/invador2.png</td><td>4</td><td>20</td><td>8</td><td>2.5</td><td>left</td><td>74</td><td>1</td><td>1056.0</td><td>0.896207</td><td>0</td><td>0</td><td>2</td><td>0</td><td>do not exclude</td></tr><tr><th>23</th><td>1</td><td>22</td><td>1</td><td>../static/images/invador4.png</td><td>2</td><td>20</td><td>2</td><td>10.0</td><td>right</td><td>74</td><td>2</td><td>772.0</td><td>-0.520848</td><td>0</td><td>0</td><td>2</td><td>0</td><td>do not exclude</td></tr><tr><th>24</th><td>1</td><td>23</td><td>1</td><td>../static/images/invador2.png</td><td>4</td><td>20</td><td>8</td><td>2.5</td><td>left</td><td>74</td><td>1</td><td>868.0</td><td>-0.0418433</td><td>0</td><td>0</td><td>2</td><td>0</td><td>do not exclude</td></tr><tr><th>25</th><td>1</td><td>24</td><td>1</td><td>../static/images/invador1.png</td><td>3</td><td>80</td><td>8</td><td>10.0</td><td>right</td><td>74</td><td>2</td><td>1015.0</td><td>0.691632</td><td>0</td><td>0</td><td>2</td><td>0</td><td>do not exclude</td></tr><tr><th>26</th><td>1</td><td>25</td><td>1</td><td>../static/images/invador3.png</td><td>1</td><td>80</td><td>2</td><td>40.0</td><td>left</td><td>74</td><td>1</td><td>961.0</td><td>0.422192</td><td>0</td><td>0</td><td>2</td><td>0</td><td>do not exclude</td></tr><tr><th>27</th><td>1</td><td>26</td><td>1</td><td>../static/images/invador2.png</td><td>4</td><td>20</td><td>8</td><td>2.5</td><td>right</td><td>70</td><td>1</td><td>1075.0</td><td>0.99101</td><td>0</td><td>0</td><td>2</td><td>0</td><td>do not exclude</td></tr><tr><th>28</th><td>1</td><td>27</td><td>1</td><td>../static/images/invador2.png</td><td>4</td><td>20</td><td>8</td><td>2.5</td><td>left</td><td>74</td><td>1</td><td>1015.0</td><td>0.691632</td><td>0</td><td>0</td><td>2</td><td>0</td><td>do not exclude</td></tr><tr><th>29</th><td>1</td><td>28</td><td>1</td><td>../static/images/invador4.png</td><td>2</td><td>20</td><td>2</td><td>10.0</td><td>left</td><td>70</td><td>2</td><td>954.0</td><td>0.387265</td><td>0</td><td>0</td><td>2</td><td>0</td><td>do not exclude</td></tr><tr><th>30</th><td>1</td><td>29</td><td>1</td><td>../static/images/invador2.png</td><td>4</td><td>20</td><td>8</td><td>2.5</td><td>left</td><td>70</td><td>2</td><td>907.0</td><td>0.152752</td><td>0</td><td>0</td><td>2</td><td>0</td><td>do not exclude</td></tr><tr><th>&vellip;</th><td>&vellip;</td><td>&vellip;</td><td>&vellip;</td><td>&vellip;</td><td>&vellip;</td><td>&vellip;</td><td>&vellip;</td><td>&vellip;</td><td>&vellip;</td><td>&vellip;</td><td>&vellip;</td><td>&vellip;</td><td>&vellip;</td><td>&vellip;</td><td>&vellip;</td><td>&vellip;</td><td>&vellip;</td><td>&vellip;</td></tr></tbody></table>"
      ],
      "text/latex": [
       "\\begin{tabular}{r|cccccccccccccccccc}\n",
       "\t& subj & trial\\_index\\_actual & block & stimulus & stim\\_rank & reward\\_percent & delay\\_s & profitability & stim\\_left\\_right & key\\_press & approach\\_avoid & rt & rt\\_z & force\\_trial & missed & order\\_condition & exclude & exclude\\_reason\\\\\n",
       "\t\\hline\n",
       "\t& Int64⍰ & Int64⍰ & Int64⍰ & String⍰ & Int64⍰ & Int64⍰ & Int64⍰ & Float64⍰ & String⍰ & Int64⍰ & Integer & Float64⍰ & Float64⍰ & Int64⍰ & Int64⍰ & Int64⍰ & Int64⍰ & String⍰\\\\\n",
       "\t\\hline\n",
       "\t1 & 1 & 0 & 1 & ../static/images/invador2.png & 4 & 20 & 8 & 2.5 & left & 74 & 1 & 1172.0 & 1.475 & 0 & 0 & 2 & 0 & do not exclude \\\\\n",
       "\t2 & 1 & 1 & 1 & ../static/images/invador3.png & 1 & 80 & 2 & 40.0 & right & 74 & 2 & 1046.0 & 0.846311 & 1 & 0 & 2 & 0 & do not exclude \\\\\n",
       "\t3 & 1 & 2 & 1 & ../static/images/invador1.png & 3 & 80 & 8 & 10.0 & left & 70 & 2 & 743.0 & -0.665547 & 0 & 0 & 2 & 0 & do not exclude \\\\\n",
       "\t4 & 1 & 3 & 1 & ../static/images/invador2.png & 4 & 20 & 8 & 2.5 & right & 74 & 0 & NaN & NaN & 1 & 1 & 2 & 0 & do not exclude \\\\\n",
       "\t5 & 1 & 4 & 1 & ../static/images/invador2.png & 4 & 20 & 8 & 2.5 & left & 70 & 2 & 858.0 & -0.0917396 & 0 & 0 & 2 & 0 & do not exclude \\\\\n",
       "\t6 & 1 & 5 & 1 & ../static/images/invador4.png & 2 & 20 & 2 & 10.0 & left & 70 & 2 & 818.0 & -0.291325 & 0 & 0 & 2 & 0 & do not exclude \\\\\n",
       "\t7 & 1 & 6 & 1 & ../static/images/invador2.png & 4 & 20 & 8 & 2.5 & left & 70 & 2 & 1076.0 & 0.996 & 0 & 0 & 2 & 0 & do not exclude \\\\\n",
       "\t8 & 1 & 7 & 1 & ../static/images/invador2.png & 4 & 20 & 8 & 2.5 & right & 74 & 2 & 987.0 & 0.551923 & 0 & 0 & 2 & 0 & do not exclude \\\\\n",
       "\t9 & 1 & 8 & 1 & ../static/images/invador1.png & 3 & 80 & 8 & 10.0 & left & 74 & 1 & 766.0 & -0.550786 & 2 & 0 & 2 & 0 & do not exclude \\\\\n",
       "\t10 & 1 & 9 & 1 & ../static/images/invador4.png & 2 & 20 & 2 & 10.0 & right & 74 & 2 & 1059.0 & 0.911176 & 0 & 0 & 2 & 0 & do not exclude \\\\\n",
       "\t11 & 1 & 10 & 1 & ../static/images/invador2.png & 4 & 20 & 8 & 2.5 & left & 74 & 1 & 569.0 & -1.53374 & 2 & 0 & 2 & 0 & do not exclude \\\\\n",
       "\t12 & 1 & 11 & 1 & ../static/images/invador3.png & 1 & 80 & 2 & 40.0 & right & 74 & 2 & 940.0 & 0.31741 & 0 & 0 & 2 & 0 & do not exclude \\\\\n",
       "\t13 & 1 & 12 & 1 & ../static/images/invador2.png & 4 & 20 & 8 & 2.5 & left & 74 & 1 & 791.0 & -0.426045 & 2 & 0 & 2 & 0 & do not exclude \\\\\n",
       "\t14 & 1 & 13 & 1 & ../static/images/invador2.png & 4 & 20 & 8 & 2.5 & left & 70 & 2 & 907.0 & 0.152752 & 0 & 0 & 2 & 0 & do not exclude \\\\\n",
       "\t15 & 1 & 14 & 1 & ../static/images/invador2.png & 4 & 20 & 8 & 2.5 & right & 70 & 1 & 962.0 & 0.427182 & 2 & 0 & 2 & 0 & do not exclude \\\\\n",
       "\t16 & 1 & 15 & 1 & ../static/images/invador2.png & 4 & 20 & 8 & 2.5 & left & 70 & 2 & 919.0 & 0.212628 & 0 & 0 & 2 & 0 & do not exclude \\\\\n",
       "\t17 & 1 & 16 & 1 & ../static/images/invador2.png & 4 & 20 & 8 & 2.5 & left & 74 & 1 & 949.0 & 0.362317 & 0 & 0 & 2 & 0 & do not exclude \\\\\n",
       "\t18 & 1 & 17 & 1 & ../static/images/invador4.png & 2 & 20 & 2 & 10.0 & left & 70 & 2 & 873.0 & -0.0168951 & 0 & 0 & 2 & 0 & do not exclude \\\\\n",
       "\t19 & 1 & 18 & 1 & ../static/images/invador1.png & 3 & 80 & 8 & 10.0 & left & 70 & 2 & 1016.0 & 0.696622 & 0 & 0 & 2 & 0 & do not exclude \\\\\n",
       "\t20 & 1 & 19 & 1 & ../static/images/invador3.png & 1 & 80 & 2 & 40.0 & left & 70 & 2 & 907.0 & 0.152752 & 0 & 0 & 2 & 0 & do not exclude \\\\\n",
       "\t21 & 1 & 20 & 1 & ../static/images/invador2.png & 4 & 20 & 8 & 2.5 & left & 74 & 1 & 763.0 & -0.565754 & 0 & 0 & 2 & 0 & do not exclude \\\\\n",
       "\t22 & 1 & 21 & 1 & ../static/images/invador2.png & 4 & 20 & 8 & 2.5 & left & 74 & 1 & 1056.0 & 0.896207 & 0 & 0 & 2 & 0 & do not exclude \\\\\n",
       "\t23 & 1 & 22 & 1 & ../static/images/invador4.png & 2 & 20 & 2 & 10.0 & right & 74 & 2 & 772.0 & -0.520848 & 0 & 0 & 2 & 0 & do not exclude \\\\\n",
       "\t24 & 1 & 23 & 1 & ../static/images/invador2.png & 4 & 20 & 8 & 2.5 & left & 74 & 1 & 868.0 & -0.0418433 & 0 & 0 & 2 & 0 & do not exclude \\\\\n",
       "\t25 & 1 & 24 & 1 & ../static/images/invador1.png & 3 & 80 & 8 & 10.0 & right & 74 & 2 & 1015.0 & 0.691632 & 0 & 0 & 2 & 0 & do not exclude \\\\\n",
       "\t26 & 1 & 25 & 1 & ../static/images/invador3.png & 1 & 80 & 2 & 40.0 & left & 74 & 1 & 961.0 & 0.422192 & 0 & 0 & 2 & 0 & do not exclude \\\\\n",
       "\t27 & 1 & 26 & 1 & ../static/images/invador2.png & 4 & 20 & 8 & 2.5 & right & 70 & 1 & 1075.0 & 0.99101 & 0 & 0 & 2 & 0 & do not exclude \\\\\n",
       "\t28 & 1 & 27 & 1 & ../static/images/invador2.png & 4 & 20 & 8 & 2.5 & left & 74 & 1 & 1015.0 & 0.691632 & 0 & 0 & 2 & 0 & do not exclude \\\\\n",
       "\t29 & 1 & 28 & 1 & ../static/images/invador4.png & 2 & 20 & 2 & 10.0 & left & 70 & 2 & 954.0 & 0.387265 & 0 & 0 & 2 & 0 & do not exclude \\\\\n",
       "\t30 & 1 & 29 & 1 & ../static/images/invador2.png & 4 & 20 & 8 & 2.5 & left & 70 & 2 & 907.0 & 0.152752 & 0 & 0 & 2 & 0 & do not exclude \\\\\n",
       "\t$\\dots$ & $\\dots$ & $\\dots$ & $\\dots$ & $\\dots$ & $\\dots$ & $\\dots$ & $\\dots$ & $\\dots$ & $\\dots$ & $\\dots$ & $\\dots$ & $\\dots$ & $\\dots$ & $\\dots$ & $\\dots$ & $\\dots$ & $\\dots$ & $\\dots$ \\\\\n",
       "\\end{tabular}\n"
      ],
      "text/plain": [
       "8615×18 DataFrame. Omitted printing of 14 columns\n",
       "│ Row  │ subj   │ trial_index_actual │ block  │ stimulus                      │\n",
       "│      │ \u001b[90mInt64⍰\u001b[39m │ \u001b[90mInt64⍰\u001b[39m             │ \u001b[90mInt64⍰\u001b[39m │ \u001b[90mUnion{Missing, String}\u001b[39m        │\n",
       "├──────┼────────┼────────────────────┼────────┼───────────────────────────────┤\n",
       "│ 1    │ 1      │ 0                  │ 1      │ ../static/images/invador2.png │\n",
       "│ 2    │ 1      │ 1                  │ 1      │ ../static/images/invador3.png │\n",
       "│ 3    │ 1      │ 2                  │ 1      │ ../static/images/invador1.png │\n",
       "│ 4    │ 1      │ 3                  │ 1      │ ../static/images/invador2.png │\n",
       "│ 5    │ 1      │ 4                  │ 1      │ ../static/images/invador2.png │\n",
       "│ 6    │ 1      │ 5                  │ 1      │ ../static/images/invador4.png │\n",
       "│ 7    │ 1      │ 6                  │ 1      │ ../static/images/invador2.png │\n",
       "│ 8    │ 1      │ 7                  │ 1      │ ../static/images/invador2.png │\n",
       "│ 9    │ 1      │ 8                  │ 1      │ ../static/images/invador1.png │\n",
       "│ 10   │ 1      │ 9                  │ 1      │ ../static/images/invador4.png │\n",
       "⋮\n",
       "│ 8605 │ 62     │ 179                │ 0      │ ../static/images/invador1.png │\n",
       "│ 8606 │ 62     │ 180                │ 0      │ ../static/images/invador4.png │\n",
       "│ 8607 │ 62     │ 181                │ 0      │ ../static/images/invador4.png │\n",
       "│ 8608 │ 62     │ 182                │ 0      │ ../static/images/invador2.png │\n",
       "│ 8609 │ 62     │ 183                │ 0      │ ../static/images/invador3.png │\n",
       "│ 8610 │ 62     │ 184                │ 0      │ ../static/images/invador4.png │\n",
       "│ 8611 │ 62     │ 185                │ 0      │ ../static/images/invador4.png │\n",
       "│ 8612 │ 62     │ 186                │ 0      │ ../static/images/invador4.png │\n",
       "│ 8613 │ 62     │ 187                │ 0      │ ../static/images/invador4.png │\n",
       "│ 8614 │ 62     │ 188                │ 0      │ ../static/images/invador1.png │\n",
       "│ 8615 │ 62     │ 189                │ 0      │ ../static/images/invador2.png │"
      ]
     },
     "execution_count": 5,
     "metadata": {},
     "output_type": "execute_result"
    }
   ],
   "source": [
    "\n",
    "df = df[((df[:order_condition].==2) .& (df[:block].==1)) .| ((df[:order_condition].==1) .& (df[:block].==0)), :]\n"
   ]
  },
  {
   "cell_type": "markdown",
   "metadata": {},
   "source": [
    "# Asymmetric Model\n",
    "\n",
    "This model comprises: \n",
    "\n",
    "1. An intercept which reflects degree of bias to reject.\n",
    "\n",
    "2. A beta (termperature parameter) which controls sensitivity to the difference between the options (0 = pick 50/50. Higher it is, the more sensative subs are tothe different options (more step functionesque). <br>\n",
    "\n",
    "3. Two learning rates: one for appetative component (reward), one for aversive (delay)\n",
    "\n",
    "Uses Q learned average to predict choice\n",
    "\n",
    "Initalise Qaverage in model at the arithmetic average over all subs over both sessions"
   ]
  },
  {
   "cell_type": "code",
   "execution_count": 6,
   "metadata": {},
   "outputs": [],
   "source": [
    "\n",
    "@everywhere function model_asymmetric(params, data)\n",
    "     \n",
    "    #model parameters\n",
    "    intercept = params[1]\n",
    "    beta = params[2]\n",
    "    lr_pos = 0.5 .+ 0.5.*erf(params[3]/sqrt(2))\n",
    "    lr_neg = 0.5 .+ 0.5.*erf(params[4]/sqrt(2))\n",
    "    \n",
    "    #initalise various variables\n",
    "    opp_cost_estimate = zeros(typeof(beta),1) # stores estimated opp cost\n",
    "\n",
    "    #initalise to average rate over the experiment\n",
    "    Q_estimate = zeros(typeof(beta),1) .+ 8.22 # stores estimated global reward rate\n",
    "    \n",
    "    Qd = zeros(typeof(beta),2) # decision variable; 1st element is the opp cost of accepting (or value of rejecting), 2nd element is just the reward of the option (value of accepting)\n",
    "\n",
    "    lik = 0 #likelihood\n",
    "\n",
    "    #extract various variables from the dataframe\n",
    "    reward = data[:reward_percent]\n",
    "    delay = data[:delay_s]\n",
    "    force = data[:force_trial]  \n",
    "    missed = data[:missed] \n",
    "    c = data[:approach_avoid]\n",
    "        \n",
    "    for i = 1:length(c)\n",
    "                    \n",
    "            # decrease estimate of global reward rate for encounter time (2seconds)\n",
    "            Q_estimate = (1-lr_neg) * Q_estimate .+ 0\n",
    "            Q_estimate = (1-lr_neg) * Q_estimate .+ 0\n",
    "        \n",
    "            #calculate estimate of opportunity cost given estimate of reward rate and delay incurred by option \n",
    "            opp_cost_estimate = Q_estimate*delay[i]\n",
    "        \n",
    "            # if not a force trial predict choice based on current values\n",
    "            if ((force[i]<1) & (missed[i]<1))\n",
    "                        \n",
    "                # decision variable - the estimate of opportunity cost (\"reward\" of rejecting) versus \n",
    "                # reward of the current option (if accepted)\n",
    "                Qd = [intercept, 0] .+ [beta.*opp_cost_estimate[1], beta.*reward[i]]\n",
    "\n",
    "                # increment likelihood\n",
    "                lik += Qd[c[i]] - log(sum(exp.(Qd)))\n",
    "            \n",
    "            end\n",
    "            \n",
    "            #incur 8second time out for missed response\n",
    "            if (missed[i]==1)\n",
    "            \n",
    "                for j = 1:8\n",
    "                \n",
    "                     Q_estimate = (1-lr_neg) * Q_estimate .+ 0\n",
    "\n",
    "                end\n",
    "            \n",
    "            end\n",
    "        \n",
    "            # regardless of whether a force trial or not, \n",
    "            # if accept the option, Q_estimate updates and there is a delay incurred\n",
    "            if ((c[i] == 2) & (missed[i]==0))\n",
    "                \n",
    "                for j = 1:delay[i]\n",
    "                \n",
    "                    Q_estimate = (1-lr_neg) * Q_estimate .+ 0\n",
    "                \n",
    "                end\n",
    "            \n",
    "                    Q_estimate = (1-lr_pos) * Q_estimate .+ lr_pos*reward[i]\n",
    "                \n",
    "            end\n",
    "    \n",
    "    end\n",
    "        \n",
    "    # here if running em you can only return the likelihood\n",
    "    return -lik\n",
    "    \n",
    "end\n"
   ]
  },
  {
   "cell_type": "markdown",
   "metadata": {},
   "source": [
    "# Parameter optimisiation"
   ]
  },
  {
   "cell_type": "markdown",
   "metadata": {},
   "source": [
    "### setup variables for em"
   ]
  },
  {
   "cell_type": "code",
   "execution_count": 7,
   "metadata": {},
   "outputs": [],
   "source": [
    "\n",
    "#store list of actual subject numbers (in subj)\n",
    "subs = unique(df[:subj])\n",
    "\n",
    "#put in a new column called \"sub\" which is identical to subj - em looks for this\n",
    "df[:sub] = df[:subj];\n",
    "\n",
    "NS = length(subs)\n",
    "X = ones(NS)\n",
    "betas = [0. 0. 0. 0.]\n",
    "sigma = [1., 1., 1., 1.];\n"
   ]
  },
  {
   "cell_type": "markdown",
   "metadata": {},
   "source": [
    "### Run em to get best fit parameters for each subject"
   ]
  },
  {
   "cell_type": "code",
   "execution_count": 8,
   "metadata": {},
   "outputs": [
    {
     "name": "stdout",
     "output_type": "stream",
     "text": [
      "\n",
      "iter: 34\n",
      "betas: [-1.79 0.07 -2.32 -2.62]\n",
      "sigma: [3.83, 0.0, 0.04, 0.07]\n",
      "free energy: -1620.528652\n",
      "change: [-8.5e-5, 1.0e-6, -7.3e-5, -6.0e-5, 0.000291, 0.000154, 0.000605, 0.000916]\n",
      "max: 0.000916\n"
     ]
    }
   ],
   "source": [
    "\n",
    "# run em\n",
    "# x contains the parameters for each subject (note not the same as variable X)\n",
    "# l and h are per-subject likelihood and hessians\n",
    "(betas, sigma, x, l, h) = em(df, subs, X, betas, sigma, model_asymmetric; emtol=emtol, parallel=parallel, full=full);\n"
   ]
  },
  {
   "cell_type": "markdown",
   "metadata": {},
   "source": [
    "### Generate Model Statistics \n",
    "(LOOCV)"
   ]
  },
  {
   "cell_type": "code",
   "execution_count": 9,
   "metadata": {},
   "outputs": [
    {
     "name": "stdout",
     "output_type": "stream",
     "text": [
      "Subject: 1..2..3..4..5..6..7..8..9..10..11..12..13..14..15..16..17..18..19..20..21..22..23..24..25..26..27..28..29..30..31..32..33..34..35..36..37..38..39..40..1466.010183751361"
     ]
    }
   ],
   "source": [
    "\n",
    "#compute unbiased per subject marginal likelihoods via cross validation.\n",
    "liks = loocv(df, subs, x, X, betas, sigma, model_asymmetric; emtol=emtol, parallel=parallel, full=full)\n",
    "\n",
    "print(sum(liks))\n"
   ]
  },
  {
   "cell_type": "markdown",
   "metadata": {},
   "source": [
    "### Write loocv scores to csv file and save\n",
    "\n",
    "(if you have run loocv above)"
   ]
  },
  {
   "cell_type": "code",
   "execution_count": 10,
   "metadata": {
    "scrolled": true
   },
   "outputs": [
    {
     "data": {
      "text/plain": [
       "\"loocv_scores.csv\""
      ]
     },
     "execution_count": 10,
     "metadata": {},
     "output_type": "execute_result"
    }
   ],
   "source": [
    "\n",
    "#put loocv scores into dataframe\n",
    "loocv_scores = DataFrame(sub = subs,\n",
    "liks = vec(liks));\n",
    "\n",
    "CSV.write(\"loocv_scores.csv\", DataFrame(loocv_scores))\n"
   ]
  },
  {
   "cell_type": "markdown",
   "metadata": {},
   "source": [
    "### Calculate and write p values, std error and covariance"
   ]
  },
  {
   "cell_type": "code",
   "execution_count": 11,
   "metadata": {},
   "outputs": [],
   "source": [
    "\n",
    "# standard errors on the subject-level means, based on an asymptotic Gaussian approx \n",
    "# (these may be inflated esp for small n)\n",
    "(standarderrors, pvalues, covmtx) = emerrors(df, subs, x, X, h, betas, sigma, model_asymmetric);\n"
   ]
  },
  {
   "cell_type": "code",
   "execution_count": 12,
   "metadata": {},
   "outputs": [],
   "source": [
    "\n",
    "model_stats = DataFrame(stderror = vec(standarderrors),\n",
    "pvalues = vec(pvalues),\n",
    "covmtx_1 = vec(covmtx[:, 1]),\n",
    "covmtx_2 = vec(covmtx[:, 2]),\n",
    "covmtx_3 = vec(covmtx[:, 3]),\n",
    "covmtx_4 = vec(covmtx[:, 4]));\n",
    "\n",
    "# save model stats to csv file\n",
    "CSV.write(\"model_stats.csv\", DataFrame(model_stats));\n"
   ]
  },
  {
   "cell_type": "markdown",
   "metadata": {},
   "source": [
    "### Write per subject model parameters to csv files and save"
   ]
  },
  {
   "cell_type": "code",
   "execution_count": 13,
   "metadata": {},
   "outputs": [
    {
     "data": {
      "text/plain": [
       "\"subject_params.csv\""
      ]
     },
     "execution_count": 13,
     "metadata": {},
     "output_type": "execute_result"
    }
   ],
   "source": [
    "\n",
    "# put parameters into variable d\n",
    "d=x;\n",
    "\n",
    "# now put parameters into dataframe\n",
    "params = DataFrame(sub = subs,\n",
    "intercept = vec(d[:,1]), \n",
    "beta = vec(d[:,2]),\n",
    "learning_rate_raw_pos = vec(d[:,3]),\n",
    "learning_rate_raw_neg = vec(d[:,4]));\n",
    "\n",
    "CSV.write(\"subject_params.csv\", DataFrame(params))\n"
   ]
  }
 ],
 "metadata": {
  "kernelspec": {
   "display_name": "Julia 0.7.0",
   "language": "julia",
   "name": "julia-0.7"
  },
  "language_info": {
   "file_extension": ".jl",
   "mimetype": "application/julia",
   "name": "julia",
   "version": "0.7.0"
  },
  "toc": {
   "base_numbering": 1,
   "nav_menu": {},
   "number_sections": true,
   "sideBar": true,
   "skip_h1_title": false,
   "title_cell": "Table of Contents",
   "title_sidebar": "Contents",
   "toc_cell": false,
   "toc_position": {},
   "toc_section_display": true,
   "toc_window_display": false
  }
 },
 "nbformat": 4,
 "nbformat_minor": 1
}
