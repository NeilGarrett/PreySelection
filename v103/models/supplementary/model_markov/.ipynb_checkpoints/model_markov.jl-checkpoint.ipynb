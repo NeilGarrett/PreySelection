{
 "cells": [
  {
   "cell_type": "markdown",
   "metadata": {},
   "source": [
    "# Model markov"
   ]
  },
  {
   "cell_type": "markdown",
   "metadata": {},
   "source": [
    "### Start up commands/load relevant functions"
   ]
  },
  {
   "cell_type": "code",
   "execution_count": 1,
   "metadata": {
    "collapsed": true
   },
   "outputs": [],
   "source": [
    "# set everything up\n",
    "parallel = true # Run on multiple CPUs. If you are having trouble, set parallel = false: easier to debug\n",
    "\n",
    "# this activates the multiprocessing threads\n",
    "if (parallel)\n",
    "\t# only run this once\n",
    "addprocs(4)\n",
    "end\n",
    "\n",
    "# load required libraries\n",
    "\n",
    "@everywhere using DataFrames\n",
    "@everywhere using DataArrays\n",
    "@everywhere using ForwardDiff\n",
    "@everywhere using PyCall\n",
    "@everywhere using Distributions\n",
    "@everywhere using PyPlot\n",
    "\n",
    "@everywhere PyCall.@pyimport scipy.optimize as so\n",
    "\n",
    "# this is the code for the actual fitting routines\n",
    "@everywhere include(\"em.jl\")\n",
    "@everywhere include(\"common.jl\")\n",
    "@everywhere include(\"likfuns.jl\")\n",
    "\n",
    "# this is generates starting matricies for betas, sigmas etc to feed into model\n",
    "@everywhere include(\"genVars.jl\")"
   ]
  },
  {
   "cell_type": "markdown",
   "metadata": {},
   "source": [
    "### Read in task data"
   ]
  },
  {
   "cell_type": "code",
   "execution_count": 2,
   "metadata": {},
   "outputs": [
    {
     "data": {
      "text/html": [
       "<table class=\"data-frame\"><thead><tr><th></th><th>sub_no</th><th>exclude</th><th>trial_index</th><th>trial_index_per_block</th><th>block</th><th>rank</th><th>reward</th><th>delay</th><th>reward_z</th><th>delay_z</th><th>profitability</th><th>profitability_zscored</th><th>approach_avoid</th><th>rt</th><th>rt_z</th><th>force_trial</th><th>missed</th><th>order_condition</th><th>rank_prev_t</th><th>reward_prev_t</th><th>reward_prev_t_zscored</th><th>delay_prev_t</th><th>delay_prev_t_zscored</th><th>accept_reject_prev_t</th><th>force_prev_t</th><th>profitability_prev_t</th><th>profitability_2back</th><th>average_reward_2back</th><th>average_delay_2back</th><th>average_reward_3back</th><th>average_delay_3back</th><th>average_reward_4back</th><th>average_delay_4back</th><th>average_reward_5back</th><th>average_delay_5back</th><th>average_reward_10back</th><th>average_delay_10back</th></tr></thead><tbody><tr><th>1</th><td>1</td><td>0</td><td>0</td><td>0</td><td>1</td><td>4</td><td>20</td><td>8</td><td>-1.008096045</td><td>1.008096045</td><td>2.5</td><td>-0.941004336</td><td>-1.0</td><td>1172</td><td>1.471803083</td><td>0</td><td>0</td><td>2</td><td>NaN</td><td>NaN</td><td>NaN</td><td>NaN</td><td>NaN</td><td>NaN</td><td>NaN</td><td>NaN</td><td>NaN</td><td>NaN</td><td>NaN</td><td>NaN</td><td>NaN</td><td>NaN</td><td>NaN</td><td>NaN</td><td>NaN</td><td>NaN</td><td>NaN</td></tr><tr><th>2</th><td>1</td><td>0</td><td>1</td><td>1</td><td>1</td><td>1</td><td>80</td><td>2</td><td>0.989683332</td><td>-0.989683332</td><td>40.0</td><td>1.305397655</td><td>1.0</td><td>1046</td><td>0.844305618</td><td>1</td><td>0</td><td>2</td><td>4.0</td><td>20.0</td><td>-1.008096045</td><td>8.0</td><td>1.008096045</td><td>-1.0</td><td>0.0</td><td>2.5</td><td>NaN</td><td>NaN</td><td>NaN</td><td>NaN</td><td>NaN</td><td>NaN</td><td>NaN</td><td>NaN</td><td>NaN</td><td>NaN</td><td>NaN</td></tr><tr><th>3</th><td>1</td><td>0</td><td>2</td><td>2</td><td>1</td><td>3</td><td>80</td><td>8</td><td>0.989683332</td><td>1.008096045</td><td>10.0</td><td>-0.491723938</td><td>1.0</td><td>743</td><td>-0.664676379</td><td>0</td><td>0</td><td>2</td><td>1.0</td><td>80.0</td><td>0.989683332</td><td>2.0</td><td>-0.989683332</td><td>1.0</td><td>1.0</td><td>40.0</td><td>2.5</td><td>50.0</td><td>5.0</td><td>NaN</td><td>NaN</td><td>NaN</td><td>NaN</td><td>NaN</td><td>NaN</td><td>NaN</td><td>NaN</td></tr><tr><th>4</th><td>1</td><td>0</td><td>3</td><td>3</td><td>1</td><td>4</td><td>20</td><td>8</td><td>-1.008096045</td><td>1.008096045</td><td>2.5</td><td>-0.941004336</td><td>NaN</td><td>533</td><td>-1.710505486</td><td>1</td><td>1</td><td>2</td><td>3.0</td><td>80.0</td><td>0.989683332</td><td>8.0</td><td>1.008096045</td><td>1.0</td><td>0.0</td><td>10.0</td><td>40.0</td><td>80.0</td><td>5.0</td><td>60.0</td><td>6.0</td><td>NaN</td><td>NaN</td><td>NaN</td><td>NaN</td><td>NaN</td><td>NaN</td></tr><tr><th>5</th><td>1</td><td>0</td><td>4</td><td>4</td><td>1</td><td>4</td><td>20</td><td>8</td><td>-1.008096045</td><td>1.008096045</td><td>2.5</td><td>-0.941004336</td><td>1.0</td><td>858</td><td>-0.09196044</td><td>0</td><td>0</td><td>2</td><td>4.0</td><td>20.0</td><td>-1.008096045</td><td>8.0</td><td>1.008096045</td><td>NaN</td><td>1.0</td><td>2.5</td><td>10.0</td><td>50.0</td><td>8.0</td><td>60.0</td><td>6.0</td><td>50.0</td><td>6.5</td><td>NaN</td><td>NaN</td><td>NaN</td><td>NaN</td></tr><tr><th>6</th><td>1</td><td>0</td><td>5</td><td>5</td><td>1</td><td>2</td><td>20</td><td>2</td><td>-1.008096045</td><td>-0.989683332</td><td>10.0</td><td>-0.491723938</td><td>1.0</td><td>818</td><td>-0.291165984</td><td>0</td><td>0</td><td>2</td><td>4.0</td><td>20.0</td><td>-1.008096045</td><td>8.0</td><td>1.008096045</td><td>1.0</td><td>0.0</td><td>2.5</td><td>2.5</td><td>20.0</td><td>8.0</td><td>40.0</td><td>8.0</td><td>50.0</td><td>6.5</td><td>44.0</td><td>6.8</td><td>NaN</td><td>NaN</td></tr></tbody></table>"
      ],
      "text/plain": [
       "6×37 DataFrames.DataFrame\n",
       "│ Row │ sub_no │ exclude │ trial_index │ trial_index_per_block │ block │ rank │\n",
       "├─────┼────────┼─────────┼─────────────┼───────────────────────┼───────┼──────┤\n",
       "│ 1   │ 1      │ 0       │ 0           │ 0                     │ 1     │ 4    │\n",
       "│ 2   │ 1      │ 0       │ 1           │ 1                     │ 1     │ 1    │\n",
       "│ 3   │ 1      │ 0       │ 2           │ 2                     │ 1     │ 3    │\n",
       "│ 4   │ 1      │ 0       │ 3           │ 3                     │ 1     │ 4    │\n",
       "│ 5   │ 1      │ 0       │ 4           │ 4                     │ 1     │ 4    │\n",
       "│ 6   │ 1      │ 0       │ 5           │ 5                     │ 1     │ 2    │\n",
       "\n",
       "│ Row │ reward │ delay │ reward_z │ delay_z   │ profitability │\n",
       "├─────┼────────┼───────┼──────────┼───────────┼───────────────┤\n",
       "│ 1   │ 20     │ 8     │ -1.0081  │ 1.0081    │ 2.5           │\n",
       "│ 2   │ 80     │ 2     │ 0.989683 │ -0.989683 │ 40.0          │\n",
       "│ 3   │ 80     │ 8     │ 0.989683 │ 1.0081    │ 10.0          │\n",
       "│ 4   │ 20     │ 8     │ -1.0081  │ 1.0081    │ 2.5           │\n",
       "│ 5   │ 20     │ 8     │ -1.0081  │ 1.0081    │ 2.5           │\n",
       "│ 6   │ 20     │ 2     │ -1.0081  │ -0.989683 │ 10.0          │\n",
       "\n",
       "│ Row │ profitability_zscored │ approach_avoid │ rt   │ rt_z       │\n",
       "├─────┼───────────────────────┼────────────────┼──────┼────────────┤\n",
       "│ 1   │ -0.941004             │ -1.0           │ 1172 │ 1.4718     │\n",
       "│ 2   │ 1.3054                │ 1.0            │ 1046 │ 0.844306   │\n",
       "│ 3   │ -0.491724             │ 1.0            │ 743  │ -0.664676  │\n",
       "│ 4   │ -0.941004             │ NaN            │ 533  │ -1.71051   │\n",
       "│ 5   │ -0.941004             │ 1.0            │ 858  │ -0.0919604 │\n",
       "│ 6   │ -0.491724             │ 1.0            │ 818  │ -0.291166  │\n",
       "\n",
       "│ Row │ force_trial │ missed │ order_condition │ rank_prev_t │ reward_prev_t │\n",
       "├─────┼─────────────┼────────┼─────────────────┼─────────────┼───────────────┤\n",
       "│ 1   │ 0           │ 0      │ 2               │ NaN         │ NaN           │\n",
       "│ 2   │ 1           │ 0      │ 2               │ 4.0         │ 20.0          │\n",
       "│ 3   │ 0           │ 0      │ 2               │ 1.0         │ 80.0          │\n",
       "│ 4   │ 1           │ 1      │ 2               │ 3.0         │ 80.0          │\n",
       "│ 5   │ 0           │ 0      │ 2               │ 4.0         │ 20.0          │\n",
       "│ 6   │ 0           │ 0      │ 2               │ 4.0         │ 20.0          │\n",
       "\n",
       "│ Row │ reward_prev_t_zscored │ delay_prev_t │ delay_prev_t_zscored │\n",
       "├─────┼───────────────────────┼──────────────┼──────────────────────┤\n",
       "│ 1   │ NaN                   │ NaN          │ NaN                  │\n",
       "│ 2   │ -1.0081               │ 8.0          │ 1.0081               │\n",
       "│ 3   │ 0.989683              │ 2.0          │ -0.989683            │\n",
       "│ 4   │ 0.989683              │ 8.0          │ 1.0081               │\n",
       "│ 5   │ -1.0081               │ 8.0          │ 1.0081               │\n",
       "│ 6   │ -1.0081               │ 8.0          │ 1.0081               │\n",
       "\n",
       "│ Row │ accept_reject_prev_t │ force_prev_t │ profitability_prev_t │\n",
       "├─────┼──────────────────────┼──────────────┼──────────────────────┤\n",
       "│ 1   │ NaN                  │ NaN          │ NaN                  │\n",
       "│ 2   │ -1.0                 │ 0.0          │ 2.5                  │\n",
       "│ 3   │ 1.0                  │ 1.0          │ 40.0                 │\n",
       "│ 4   │ 1.0                  │ 0.0          │ 10.0                 │\n",
       "│ 5   │ NaN                  │ 1.0          │ 2.5                  │\n",
       "│ 6   │ 1.0                  │ 0.0          │ 2.5                  │\n",
       "\n",
       "│ Row │ profitability_2back │ average_reward_2back │ average_delay_2back │\n",
       "├─────┼─────────────────────┼──────────────────────┼─────────────────────┤\n",
       "│ 1   │ NaN                 │ NaN                  │ NaN                 │\n",
       "│ 2   │ NaN                 │ NaN                  │ NaN                 │\n",
       "│ 3   │ 2.5                 │ 50.0                 │ 5.0                 │\n",
       "│ 4   │ 40.0                │ 80.0                 │ 5.0                 │\n",
       "│ 5   │ 10.0                │ 50.0                 │ 8.0                 │\n",
       "│ 6   │ 2.5                 │ 20.0                 │ 8.0                 │\n",
       "\n",
       "│ Row │ average_reward_3back │ average_delay_3back │ average_reward_4back │\n",
       "├─────┼──────────────────────┼─────────────────────┼──────────────────────┤\n",
       "│ 1   │ NaN                  │ NaN                 │ NaN                  │\n",
       "│ 2   │ NaN                  │ NaN                 │ NaN                  │\n",
       "│ 3   │ NaN                  │ NaN                 │ NaN                  │\n",
       "│ 4   │ 60.0                 │ 6.0                 │ NaN                  │\n",
       "│ 5   │ 60.0                 │ 6.0                 │ 50.0                 │\n",
       "│ 6   │ 40.0                 │ 8.0                 │ 50.0                 │\n",
       "\n",
       "│ Row │ average_delay_4back │ average_reward_5back │ average_delay_5back │\n",
       "├─────┼─────────────────────┼──────────────────────┼─────────────────────┤\n",
       "│ 1   │ NaN                 │ NaN                  │ NaN                 │\n",
       "│ 2   │ NaN                 │ NaN                  │ NaN                 │\n",
       "│ 3   │ NaN                 │ NaN                  │ NaN                 │\n",
       "│ 4   │ NaN                 │ NaN                  │ NaN                 │\n",
       "│ 5   │ 6.5                 │ NaN                  │ NaN                 │\n",
       "│ 6   │ 6.5                 │ 44.0                 │ 6.8                 │\n",
       "\n",
       "│ Row │ average_reward_10back │ average_delay_10back │\n",
       "├─────┼───────────────────────┼──────────────────────┤\n",
       "│ 1   │ NaN                   │ NaN                  │\n",
       "│ 2   │ NaN                   │ NaN                  │\n",
       "│ 3   │ NaN                   │ NaN                  │\n",
       "│ 4   │ NaN                   │ NaN                  │\n",
       "│ 5   │ NaN                   │ NaN                  │\n",
       "│ 6   │ NaN                   │ NaN                  │"
      ]
     },
     "execution_count": 2,
     "metadata": {},
     "output_type": "execute_result"
    }
   ],
   "source": [
    "#read in csv file of the data\n",
    "df = readtable(\"/Users/neil/Dropbox/Daw_Lab/PreySelection/v103/data/subject_data_excluded_deleted.csv\")\n",
    "\n",
    "#note will include force trials and missed responses \n",
    "\n",
    "#display header\n",
    "head(df)"
   ]
  },
  {
   "cell_type": "markdown",
   "metadata": {},
   "source": [
    "### Append data with the column \"sub\" \n"
   ]
  },
  {
   "cell_type": "code",
   "execution_count": 3,
   "metadata": {},
   "outputs": [
    {
     "data": {
      "text/html": [
       "<table class=\"data-frame\"><thead><tr><th></th><th>sub_no</th><th>exclude</th><th>trial_index</th><th>trial_index_per_block</th><th>block</th><th>rank</th><th>reward</th><th>delay</th><th>reward_z</th><th>delay_z</th><th>profitability</th><th>profitability_zscored</th><th>approach_avoid</th><th>rt</th><th>rt_z</th><th>force_trial</th><th>missed</th><th>order_condition</th><th>rank_prev_t</th><th>reward_prev_t</th><th>reward_prev_t_zscored</th><th>delay_prev_t</th><th>delay_prev_t_zscored</th><th>accept_reject_prev_t</th><th>force_prev_t</th><th>profitability_prev_t</th><th>profitability_2back</th><th>average_reward_2back</th><th>average_delay_2back</th><th>average_reward_3back</th><th>average_delay_3back</th><th>average_reward_4back</th><th>average_delay_4back</th><th>average_reward_5back</th><th>average_delay_5back</th><th>average_reward_10back</th><th>average_delay_10back</th><th>sub</th></tr></thead><tbody><tr><th>1</th><td>1</td><td>0</td><td>0</td><td>0</td><td>1</td><td>4</td><td>20</td><td>8</td><td>-1.008096045</td><td>1.008096045</td><td>2.5</td><td>-0.941004336</td><td>-1.0</td><td>1172</td><td>1.471803083</td><td>0</td><td>0</td><td>2</td><td>NaN</td><td>NaN</td><td>NaN</td><td>NaN</td><td>NaN</td><td>NaN</td><td>NaN</td><td>NaN</td><td>NaN</td><td>NaN</td><td>NaN</td><td>NaN</td><td>NaN</td><td>NaN</td><td>NaN</td><td>NaN</td><td>NaN</td><td>NaN</td><td>NaN</td><td>1</td></tr><tr><th>2</th><td>1</td><td>0</td><td>1</td><td>1</td><td>1</td><td>1</td><td>80</td><td>2</td><td>0.989683332</td><td>-0.989683332</td><td>40.0</td><td>1.305397655</td><td>1.0</td><td>1046</td><td>0.844305618</td><td>1</td><td>0</td><td>2</td><td>4.0</td><td>20.0</td><td>-1.008096045</td><td>8.0</td><td>1.008096045</td><td>-1.0</td><td>0.0</td><td>2.5</td><td>NaN</td><td>NaN</td><td>NaN</td><td>NaN</td><td>NaN</td><td>NaN</td><td>NaN</td><td>NaN</td><td>NaN</td><td>NaN</td><td>NaN</td><td>1</td></tr><tr><th>3</th><td>1</td><td>0</td><td>2</td><td>2</td><td>1</td><td>3</td><td>80</td><td>8</td><td>0.989683332</td><td>1.008096045</td><td>10.0</td><td>-0.491723938</td><td>1.0</td><td>743</td><td>-0.664676379</td><td>0</td><td>0</td><td>2</td><td>1.0</td><td>80.0</td><td>0.989683332</td><td>2.0</td><td>-0.989683332</td><td>1.0</td><td>1.0</td><td>40.0</td><td>2.5</td><td>50.0</td><td>5.0</td><td>NaN</td><td>NaN</td><td>NaN</td><td>NaN</td><td>NaN</td><td>NaN</td><td>NaN</td><td>NaN</td><td>1</td></tr><tr><th>4</th><td>1</td><td>0</td><td>3</td><td>3</td><td>1</td><td>4</td><td>20</td><td>8</td><td>-1.008096045</td><td>1.008096045</td><td>2.5</td><td>-0.941004336</td><td>NaN</td><td>533</td><td>-1.710505486</td><td>1</td><td>1</td><td>2</td><td>3.0</td><td>80.0</td><td>0.989683332</td><td>8.0</td><td>1.008096045</td><td>1.0</td><td>0.0</td><td>10.0</td><td>40.0</td><td>80.0</td><td>5.0</td><td>60.0</td><td>6.0</td><td>NaN</td><td>NaN</td><td>NaN</td><td>NaN</td><td>NaN</td><td>NaN</td><td>1</td></tr><tr><th>5</th><td>1</td><td>0</td><td>4</td><td>4</td><td>1</td><td>4</td><td>20</td><td>8</td><td>-1.008096045</td><td>1.008096045</td><td>2.5</td><td>-0.941004336</td><td>1.0</td><td>858</td><td>-0.09196044</td><td>0</td><td>0</td><td>2</td><td>4.0</td><td>20.0</td><td>-1.008096045</td><td>8.0</td><td>1.008096045</td><td>NaN</td><td>1.0</td><td>2.5</td><td>10.0</td><td>50.0</td><td>8.0</td><td>60.0</td><td>6.0</td><td>50.0</td><td>6.5</td><td>NaN</td><td>NaN</td><td>NaN</td><td>NaN</td><td>1</td></tr><tr><th>6</th><td>1</td><td>0</td><td>5</td><td>5</td><td>1</td><td>2</td><td>20</td><td>2</td><td>-1.008096045</td><td>-0.989683332</td><td>10.0</td><td>-0.491723938</td><td>1.0</td><td>818</td><td>-0.291165984</td><td>0</td><td>0</td><td>2</td><td>4.0</td><td>20.0</td><td>-1.008096045</td><td>8.0</td><td>1.008096045</td><td>1.0</td><td>0.0</td><td>2.5</td><td>2.5</td><td>20.0</td><td>8.0</td><td>40.0</td><td>8.0</td><td>50.0</td><td>6.5</td><td>44.0</td><td>6.8</td><td>NaN</td><td>NaN</td><td>1</td></tr></tbody></table>"
      ],
      "text/plain": [
       "6×38 DataFrames.DataFrame\n",
       "│ Row │ sub_no │ exclude │ trial_index │ trial_index_per_block │ block │ rank │\n",
       "├─────┼────────┼─────────┼─────────────┼───────────────────────┼───────┼──────┤\n",
       "│ 1   │ 1      │ 0       │ 0           │ 0                     │ 1     │ 4    │\n",
       "│ 2   │ 1      │ 0       │ 1           │ 1                     │ 1     │ 1    │\n",
       "│ 3   │ 1      │ 0       │ 2           │ 2                     │ 1     │ 3    │\n",
       "│ 4   │ 1      │ 0       │ 3           │ 3                     │ 1     │ 4    │\n",
       "│ 5   │ 1      │ 0       │ 4           │ 4                     │ 1     │ 4    │\n",
       "│ 6   │ 1      │ 0       │ 5           │ 5                     │ 1     │ 2    │\n",
       "\n",
       "│ Row │ reward │ delay │ reward_z │ delay_z   │ profitability │\n",
       "├─────┼────────┼───────┼──────────┼───────────┼───────────────┤\n",
       "│ 1   │ 20     │ 8     │ -1.0081  │ 1.0081    │ 2.5           │\n",
       "│ 2   │ 80     │ 2     │ 0.989683 │ -0.989683 │ 40.0          │\n",
       "│ 3   │ 80     │ 8     │ 0.989683 │ 1.0081    │ 10.0          │\n",
       "│ 4   │ 20     │ 8     │ -1.0081  │ 1.0081    │ 2.5           │\n",
       "│ 5   │ 20     │ 8     │ -1.0081  │ 1.0081    │ 2.5           │\n",
       "│ 6   │ 20     │ 2     │ -1.0081  │ -0.989683 │ 10.0          │\n",
       "\n",
       "│ Row │ profitability_zscored │ approach_avoid │ rt   │ rt_z       │\n",
       "├─────┼───────────────────────┼────────────────┼──────┼────────────┤\n",
       "│ 1   │ -0.941004             │ -1.0           │ 1172 │ 1.4718     │\n",
       "│ 2   │ 1.3054                │ 1.0            │ 1046 │ 0.844306   │\n",
       "│ 3   │ -0.491724             │ 1.0            │ 743  │ -0.664676  │\n",
       "│ 4   │ -0.941004             │ NaN            │ 533  │ -1.71051   │\n",
       "│ 5   │ -0.941004             │ 1.0            │ 858  │ -0.0919604 │\n",
       "│ 6   │ -0.491724             │ 1.0            │ 818  │ -0.291166  │\n",
       "\n",
       "│ Row │ force_trial │ missed │ order_condition │ rank_prev_t │ reward_prev_t │\n",
       "├─────┼─────────────┼────────┼─────────────────┼─────────────┼───────────────┤\n",
       "│ 1   │ 0           │ 0      │ 2               │ NaN         │ NaN           │\n",
       "│ 2   │ 1           │ 0      │ 2               │ 4.0         │ 20.0          │\n",
       "│ 3   │ 0           │ 0      │ 2               │ 1.0         │ 80.0          │\n",
       "│ 4   │ 1           │ 1      │ 2               │ 3.0         │ 80.0          │\n",
       "│ 5   │ 0           │ 0      │ 2               │ 4.0         │ 20.0          │\n",
       "│ 6   │ 0           │ 0      │ 2               │ 4.0         │ 20.0          │\n",
       "\n",
       "│ Row │ reward_prev_t_zscored │ delay_prev_t │ delay_prev_t_zscored │\n",
       "├─────┼───────────────────────┼──────────────┼──────────────────────┤\n",
       "│ 1   │ NaN                   │ NaN          │ NaN                  │\n",
       "│ 2   │ -1.0081               │ 8.0          │ 1.0081               │\n",
       "│ 3   │ 0.989683              │ 2.0          │ -0.989683            │\n",
       "│ 4   │ 0.989683              │ 8.0          │ 1.0081               │\n",
       "│ 5   │ -1.0081               │ 8.0          │ 1.0081               │\n",
       "│ 6   │ -1.0081               │ 8.0          │ 1.0081               │\n",
       "\n",
       "│ Row │ accept_reject_prev_t │ force_prev_t │ profitability_prev_t │\n",
       "├─────┼──────────────────────┼──────────────┼──────────────────────┤\n",
       "│ 1   │ NaN                  │ NaN          │ NaN                  │\n",
       "│ 2   │ -1.0                 │ 0.0          │ 2.5                  │\n",
       "│ 3   │ 1.0                  │ 1.0          │ 40.0                 │\n",
       "│ 4   │ 1.0                  │ 0.0          │ 10.0                 │\n",
       "│ 5   │ NaN                  │ 1.0          │ 2.5                  │\n",
       "│ 6   │ 1.0                  │ 0.0          │ 2.5                  │\n",
       "\n",
       "│ Row │ profitability_2back │ average_reward_2back │ average_delay_2back │\n",
       "├─────┼─────────────────────┼──────────────────────┼─────────────────────┤\n",
       "│ 1   │ NaN                 │ NaN                  │ NaN                 │\n",
       "│ 2   │ NaN                 │ NaN                  │ NaN                 │\n",
       "│ 3   │ 2.5                 │ 50.0                 │ 5.0                 │\n",
       "│ 4   │ 40.0                │ 80.0                 │ 5.0                 │\n",
       "│ 5   │ 10.0                │ 50.0                 │ 8.0                 │\n",
       "│ 6   │ 2.5                 │ 20.0                 │ 8.0                 │\n",
       "\n",
       "│ Row │ average_reward_3back │ average_delay_3back │ average_reward_4back │\n",
       "├─────┼──────────────────────┼─────────────────────┼──────────────────────┤\n",
       "│ 1   │ NaN                  │ NaN                 │ NaN                  │\n",
       "│ 2   │ NaN                  │ NaN                 │ NaN                  │\n",
       "│ 3   │ NaN                  │ NaN                 │ NaN                  │\n",
       "│ 4   │ 60.0                 │ 6.0                 │ NaN                  │\n",
       "│ 5   │ 60.0                 │ 6.0                 │ 50.0                 │\n",
       "│ 6   │ 40.0                 │ 8.0                 │ 50.0                 │\n",
       "\n",
       "│ Row │ average_delay_4back │ average_reward_5back │ average_delay_5back │\n",
       "├─────┼─────────────────────┼──────────────────────┼─────────────────────┤\n",
       "│ 1   │ NaN                 │ NaN                  │ NaN                 │\n",
       "│ 2   │ NaN                 │ NaN                  │ NaN                 │\n",
       "│ 3   │ NaN                 │ NaN                  │ NaN                 │\n",
       "│ 4   │ NaN                 │ NaN                  │ NaN                 │\n",
       "│ 5   │ 6.5                 │ NaN                  │ NaN                 │\n",
       "│ 6   │ 6.5                 │ 44.0                 │ 6.8                 │\n",
       "\n",
       "│ Row │ average_reward_10back │ average_delay_10back │ sub │\n",
       "├─────┼───────────────────────┼──────────────────────┼─────┤\n",
       "│ 1   │ NaN                   │ NaN                  │ 1   │\n",
       "│ 2   │ NaN                   │ NaN                  │ 1   │\n",
       "│ 3   │ NaN                   │ NaN                  │ 1   │\n",
       "│ 4   │ NaN                   │ NaN                  │ 1   │\n",
       "│ 5   │ NaN                   │ NaN                  │ 1   │\n",
       "│ 6   │ NaN                   │ NaN                  │ 1   │"
      ]
     },
     "execution_count": 3,
     "metadata": {},
     "output_type": "execute_result"
    }
   ],
   "source": [
    "#this is just a replica of the existing column sub_no but think em looks for \"sub\" specifically\n",
    "df[:sub] = df[:sub_no]\n",
    "head(df)"
   ]
  },
  {
   "cell_type": "markdown",
   "metadata": {},
   "source": [
    "### Take out missed responses\n",
    "#### note: you will need to account for these at a later point as missing repsonses imposes a time delay"
   ]
  },
  {
   "cell_type": "code",
   "execution_count": 4,
   "metadata": {},
   "outputs": [
    {
     "data": {
      "text/html": [
       "<table class=\"data-frame\"><thead><tr><th></th><th>sub_no</th><th>exclude</th><th>trial_index</th><th>trial_index_per_block</th><th>block</th><th>rank</th><th>reward</th><th>delay</th><th>reward_z</th><th>delay_z</th><th>profitability</th><th>profitability_zscored</th><th>approach_avoid</th><th>rt</th><th>rt_z</th><th>force_trial</th><th>missed</th><th>order_condition</th><th>rank_prev_t</th><th>reward_prev_t</th><th>reward_prev_t_zscored</th><th>delay_prev_t</th><th>delay_prev_t_zscored</th><th>accept_reject_prev_t</th><th>force_prev_t</th><th>profitability_prev_t</th><th>profitability_2back</th><th>average_reward_2back</th><th>average_delay_2back</th><th>average_reward_3back</th><th>average_delay_3back</th><th>average_reward_4back</th><th>average_delay_4back</th><th>average_reward_5back</th><th>average_delay_5back</th><th>average_reward_10back</th><th>average_delay_10back</th><th>sub</th></tr></thead><tbody><tr><th>1</th><td>1</td><td>0</td><td>0</td><td>0</td><td>1</td><td>4</td><td>20</td><td>8</td><td>-1.008096045</td><td>1.008096045</td><td>2.5</td><td>-0.941004336</td><td>-1.0</td><td>1172</td><td>1.471803083</td><td>0</td><td>0</td><td>2</td><td>NaN</td><td>NaN</td><td>NaN</td><td>NaN</td><td>NaN</td><td>NaN</td><td>NaN</td><td>NaN</td><td>NaN</td><td>NaN</td><td>NaN</td><td>NaN</td><td>NaN</td><td>NaN</td><td>NaN</td><td>NaN</td><td>NaN</td><td>NaN</td><td>NaN</td><td>1</td></tr><tr><th>2</th><td>1</td><td>0</td><td>1</td><td>1</td><td>1</td><td>1</td><td>80</td><td>2</td><td>0.989683332</td><td>-0.989683332</td><td>40.0</td><td>1.305397655</td><td>1.0</td><td>1046</td><td>0.844305618</td><td>1</td><td>0</td><td>2</td><td>4.0</td><td>20.0</td><td>-1.008096045</td><td>8.0</td><td>1.008096045</td><td>-1.0</td><td>0.0</td><td>2.5</td><td>NaN</td><td>NaN</td><td>NaN</td><td>NaN</td><td>NaN</td><td>NaN</td><td>NaN</td><td>NaN</td><td>NaN</td><td>NaN</td><td>NaN</td><td>1</td></tr><tr><th>3</th><td>1</td><td>0</td><td>2</td><td>2</td><td>1</td><td>3</td><td>80</td><td>8</td><td>0.989683332</td><td>1.008096045</td><td>10.0</td><td>-0.491723938</td><td>1.0</td><td>743</td><td>-0.664676379</td><td>0</td><td>0</td><td>2</td><td>1.0</td><td>80.0</td><td>0.989683332</td><td>2.0</td><td>-0.989683332</td><td>1.0</td><td>1.0</td><td>40.0</td><td>2.5</td><td>50.0</td><td>5.0</td><td>NaN</td><td>NaN</td><td>NaN</td><td>NaN</td><td>NaN</td><td>NaN</td><td>NaN</td><td>NaN</td><td>1</td></tr><tr><th>4</th><td>1</td><td>0</td><td>4</td><td>4</td><td>1</td><td>4</td><td>20</td><td>8</td><td>-1.008096045</td><td>1.008096045</td><td>2.5</td><td>-0.941004336</td><td>1.0</td><td>858</td><td>-0.09196044</td><td>0</td><td>0</td><td>2</td><td>4.0</td><td>20.0</td><td>-1.008096045</td><td>8.0</td><td>1.008096045</td><td>NaN</td><td>1.0</td><td>2.5</td><td>10.0</td><td>50.0</td><td>8.0</td><td>60.0</td><td>6.0</td><td>50.0</td><td>6.5</td><td>NaN</td><td>NaN</td><td>NaN</td><td>NaN</td><td>1</td></tr><tr><th>5</th><td>1</td><td>0</td><td>5</td><td>5</td><td>1</td><td>2</td><td>20</td><td>2</td><td>-1.008096045</td><td>-0.989683332</td><td>10.0</td><td>-0.491723938</td><td>1.0</td><td>818</td><td>-0.291165984</td><td>0</td><td>0</td><td>2</td><td>4.0</td><td>20.0</td><td>-1.008096045</td><td>8.0</td><td>1.008096045</td><td>1.0</td><td>0.0</td><td>2.5</td><td>2.5</td><td>20.0</td><td>8.0</td><td>40.0</td><td>8.0</td><td>50.0</td><td>6.5</td><td>44.0</td><td>6.8</td><td>NaN</td><td>NaN</td><td>1</td></tr><tr><th>6</th><td>1</td><td>0</td><td>6</td><td>6</td><td>1</td><td>4</td><td>20</td><td>8</td><td>-1.008096045</td><td>1.008096045</td><td>2.5</td><td>-0.941004336</td><td>1.0</td><td>1076</td><td>0.993709776</td><td>0</td><td>0</td><td>2</td><td>2.0</td><td>20.0</td><td>-1.008096045</td><td>2.0</td><td>-0.989683332</td><td>1.0</td><td>0.0</td><td>10.0</td><td>2.5</td><td>20.0</td><td>5.0</td><td>20.0</td><td>6.0</td><td>35.0</td><td>6.5</td><td>44.0</td><td>5.6</td><td>NaN</td><td>NaN</td><td>1</td></tr></tbody></table>"
      ],
      "text/plain": [
       "6×38 DataFrames.DataFrame\n",
       "│ Row │ sub_no │ exclude │ trial_index │ trial_index_per_block │ block │ rank │\n",
       "├─────┼────────┼─────────┼─────────────┼───────────────────────┼───────┼──────┤\n",
       "│ 1   │ 1      │ 0       │ 0           │ 0                     │ 1     │ 4    │\n",
       "│ 2   │ 1      │ 0       │ 1           │ 1                     │ 1     │ 1    │\n",
       "│ 3   │ 1      │ 0       │ 2           │ 2                     │ 1     │ 3    │\n",
       "│ 4   │ 1      │ 0       │ 4           │ 4                     │ 1     │ 4    │\n",
       "│ 5   │ 1      │ 0       │ 5           │ 5                     │ 1     │ 2    │\n",
       "│ 6   │ 1      │ 0       │ 6           │ 6                     │ 1     │ 4    │\n",
       "\n",
       "│ Row │ reward │ delay │ reward_z │ delay_z   │ profitability │\n",
       "├─────┼────────┼───────┼──────────┼───────────┼───────────────┤\n",
       "│ 1   │ 20     │ 8     │ -1.0081  │ 1.0081    │ 2.5           │\n",
       "│ 2   │ 80     │ 2     │ 0.989683 │ -0.989683 │ 40.0          │\n",
       "│ 3   │ 80     │ 8     │ 0.989683 │ 1.0081    │ 10.0          │\n",
       "│ 4   │ 20     │ 8     │ -1.0081  │ 1.0081    │ 2.5           │\n",
       "│ 5   │ 20     │ 2     │ -1.0081  │ -0.989683 │ 10.0          │\n",
       "│ 6   │ 20     │ 8     │ -1.0081  │ 1.0081    │ 2.5           │\n",
       "\n",
       "│ Row │ profitability_zscored │ approach_avoid │ rt   │ rt_z       │\n",
       "├─────┼───────────────────────┼────────────────┼──────┼────────────┤\n",
       "│ 1   │ -0.941004             │ -1.0           │ 1172 │ 1.4718     │\n",
       "│ 2   │ 1.3054                │ 1.0            │ 1046 │ 0.844306   │\n",
       "│ 3   │ -0.491724             │ 1.0            │ 743  │ -0.664676  │\n",
       "│ 4   │ -0.941004             │ 1.0            │ 858  │ -0.0919604 │\n",
       "│ 5   │ -0.491724             │ 1.0            │ 818  │ -0.291166  │\n",
       "│ 6   │ -0.941004             │ 1.0            │ 1076 │ 0.99371    │\n",
       "\n",
       "│ Row │ force_trial │ missed │ order_condition │ rank_prev_t │ reward_prev_t │\n",
       "├─────┼─────────────┼────────┼─────────────────┼─────────────┼───────────────┤\n",
       "│ 1   │ 0           │ 0      │ 2               │ NaN         │ NaN           │\n",
       "│ 2   │ 1           │ 0      │ 2               │ 4.0         │ 20.0          │\n",
       "│ 3   │ 0           │ 0      │ 2               │ 1.0         │ 80.0          │\n",
       "│ 4   │ 0           │ 0      │ 2               │ 4.0         │ 20.0          │\n",
       "│ 5   │ 0           │ 0      │ 2               │ 4.0         │ 20.0          │\n",
       "│ 6   │ 0           │ 0      │ 2               │ 2.0         │ 20.0          │\n",
       "\n",
       "│ Row │ reward_prev_t_zscored │ delay_prev_t │ delay_prev_t_zscored │\n",
       "├─────┼───────────────────────┼──────────────┼──────────────────────┤\n",
       "│ 1   │ NaN                   │ NaN          │ NaN                  │\n",
       "│ 2   │ -1.0081               │ 8.0          │ 1.0081               │\n",
       "│ 3   │ 0.989683              │ 2.0          │ -0.989683            │\n",
       "│ 4   │ -1.0081               │ 8.0          │ 1.0081               │\n",
       "│ 5   │ -1.0081               │ 8.0          │ 1.0081               │\n",
       "│ 6   │ -1.0081               │ 2.0          │ -0.989683            │\n",
       "\n",
       "│ Row │ accept_reject_prev_t │ force_prev_t │ profitability_prev_t │\n",
       "├─────┼──────────────────────┼──────────────┼──────────────────────┤\n",
       "│ 1   │ NaN                  │ NaN          │ NaN                  │\n",
       "│ 2   │ -1.0                 │ 0.0          │ 2.5                  │\n",
       "│ 3   │ 1.0                  │ 1.0          │ 40.0                 │\n",
       "│ 4   │ NaN                  │ 1.0          │ 2.5                  │\n",
       "│ 5   │ 1.0                  │ 0.0          │ 2.5                  │\n",
       "│ 6   │ 1.0                  │ 0.0          │ 10.0                 │\n",
       "\n",
       "│ Row │ profitability_2back │ average_reward_2back │ average_delay_2back │\n",
       "├─────┼─────────────────────┼──────────────────────┼─────────────────────┤\n",
       "│ 1   │ NaN                 │ NaN                  │ NaN                 │\n",
       "│ 2   │ NaN                 │ NaN                  │ NaN                 │\n",
       "│ 3   │ 2.5                 │ 50.0                 │ 5.0                 │\n",
       "│ 4   │ 10.0                │ 50.0                 │ 8.0                 │\n",
       "│ 5   │ 2.5                 │ 20.0                 │ 8.0                 │\n",
       "│ 6   │ 2.5                 │ 20.0                 │ 5.0                 │\n",
       "\n",
       "│ Row │ average_reward_3back │ average_delay_3back │ average_reward_4back │\n",
       "├─────┼──────────────────────┼─────────────────────┼──────────────────────┤\n",
       "│ 1   │ NaN                  │ NaN                 │ NaN                  │\n",
       "│ 2   │ NaN                  │ NaN                 │ NaN                  │\n",
       "│ 3   │ NaN                  │ NaN                 │ NaN                  │\n",
       "│ 4   │ 60.0                 │ 6.0                 │ 50.0                 │\n",
       "│ 5   │ 40.0                 │ 8.0                 │ 50.0                 │\n",
       "│ 6   │ 20.0                 │ 6.0                 │ 35.0                 │\n",
       "\n",
       "│ Row │ average_delay_4back │ average_reward_5back │ average_delay_5back │\n",
       "├─────┼─────────────────────┼──────────────────────┼─────────────────────┤\n",
       "│ 1   │ NaN                 │ NaN                  │ NaN                 │\n",
       "│ 2   │ NaN                 │ NaN                  │ NaN                 │\n",
       "│ 3   │ NaN                 │ NaN                  │ NaN                 │\n",
       "│ 4   │ 6.5                 │ NaN                  │ NaN                 │\n",
       "│ 5   │ 6.5                 │ 44.0                 │ 6.8                 │\n",
       "│ 6   │ 6.5                 │ 44.0                 │ 5.6                 │\n",
       "\n",
       "│ Row │ average_reward_10back │ average_delay_10back │ sub │\n",
       "├─────┼───────────────────────┼──────────────────────┼─────┤\n",
       "│ 1   │ NaN                   │ NaN                  │ 1   │\n",
       "│ 2   │ NaN                   │ NaN                  │ 1   │\n",
       "│ 3   │ NaN                   │ NaN                  │ 1   │\n",
       "│ 4   │ NaN                   │ NaN                  │ 1   │\n",
       "│ 5   │ NaN                   │ NaN                  │ 1   │\n",
       "│ 6   │ NaN                   │ NaN                  │ 1   │"
      ]
     },
     "execution_count": 4,
     "metadata": {},
     "output_type": "execute_result"
    }
   ],
   "source": [
    "#exclude missed responses\n",
    "df = df[df[:missed].==0,:]\n",
    "head(df)"
   ]
  },
  {
   "cell_type": "markdown",
   "metadata": {},
   "source": [
    "### The model: \"subjective\""
   ]
  },
  {
   "cell_type": "code",
   "execution_count": 53,
   "metadata": {
    "collapsed": true
   },
   "outputs": [],
   "source": [
    "@everywhere function model_subjective(params, data)\n",
    "        \n",
    "    intercept = params[1]\n",
    "    beta = params[2]\n",
    "    lr = 0.5 + 0.5*erf(params[3]/sqrt(2))\n",
    "    gamma = 0.5 + 0.5*erf(params[4]/sqrt(2))\n",
    "    \n",
    "    #lr = params[3]\n",
    "    #gamma = params[4]\n",
    "      \n",
    "    Q_encounter = zeros(typeof(beta),1) + 8.42\n",
    "    Q_aliens = zeros(typeof(beta),4,2)\n",
    "    Q_outcome = zeros(typeof(beta),4)\n",
    "    \n",
    "    Qd = zeros(typeof(beta),2)\n",
    "\n",
    "    encounter_time = 2\n",
    "    \n",
    "    #initalise likelihood value\n",
    "    lik = 0\n",
    "    \n",
    "    reward = data[:reward]\n",
    "    delay = data[:delay]\n",
    "    force = data[:force_trial] \n",
    "    t = data[:trial_index] # trial \n",
    "    sub = data[:sub_no] # subject number\n",
    "    block = data[:block] # block\n",
    "    rank = data[:rank]\n",
    "    \n",
    "    c = data[:approach_avoid]\n",
    "    \n",
    "    #convert data to 1s (=avoid) and 2s (=approach); \n",
    "    # 1 (previously -1) is going to index choice to go with opportunity cost, \n",
    "    # 2 (previously +1) to go with the reward of the encountered option\n",
    "    c = c+1;\n",
    "    c_index_avoid = find(c.==0)\n",
    "    c[c_index_avoid] = 1\n",
    "        \n",
    "    #must convert floats (i.e. decimals) to integers in order to use as an index\n",
    "    c = convert(DataVector{Integer}, c)\n",
    "    \n",
    "    for i = 1:length(c)\n",
    "        \n",
    "        alien_trial = rank[i]\n",
    "\n",
    "        Q_encounter = (1-lr)*Q_encounter[1] + lr*(gamma^encounter_time*(maximum(Q_aliens[alien_trial,:])))\n",
    "        # if not a force trial predict choice based on current values\n",
    "        if (force[i]<1)\n",
    "                        \n",
    "                # decision variable - the estimate of opportunity cost (\"reward\" of rejecting) versus \n",
    "                # reward of the current option (if accepted)\n",
    "                Qd = [intercept, 0] + [beta*Q_aliens[alien_trial,1], beta*Q_aliens[alien_trial,2]]\n",
    "\n",
    "                # increment likelihood\n",
    "                lik += Qd[c[i]] - log(sum(exp.(Qd)))\n",
    "            \n",
    "        end\n",
    "        \n",
    "            # regardless of whether a force trial or not, \n",
    "            # if accept the option:\n",
    "            if (c[i] == 2)\n",
    "                \n",
    "                #update Q for state action pair taken\n",
    "\n",
    "                Q_aliens[alien_trial, 2] = (1-lr)*Q_aliens[alien_trial,2] + lr*(gamma^delay[i]*(Q_outcome[alien_trial]))\n",
    "        \n",
    "                #update Q for the outcome according to reward recieved\n",
    "                Q_outcome[alien_trial] = (1-lr)*Q_outcome[alien_trial] + lr*(reward[i] + gamma*(Q_encounter))\n",
    "            \n",
    "            #if dont accept option\n",
    "            else\n",
    "            \n",
    "                Q_aliens[alien_trial, 1] = (1-lr)*Q_aliens[alien_trial,1] + lr*(gamma*Q_encounter[1])\n",
    "            \n",
    "            end\n",
    "        \n",
    "    \n",
    "    end\n",
    "    \n",
    "    \n",
    "    # here if running em you can only return the likelihood\n",
    "    return -lik\n",
    "    \n",
    "    # but if you run in order to extract trials, subs etc then want to return this\n",
    "    #return (Q_aliens)\n",
    "    \n",
    "end"
   ]
  },
  {
   "cell_type": "markdown",
   "metadata": {},
   "source": [
    "### Run model for one subject\n",
    "\n",
    "##### aids debugging"
   ]
  },
  {
   "cell_type": "code",
   "execution_count": 54,
   "metadata": {},
   "outputs": [
    {
     "data": {
      "text/plain": [
       "225.2728336819827"
      ]
     },
     "execution_count": 54,
     "metadata": {},
     "output_type": "execute_result"
    }
   ],
   "source": [
    "# initialize parameter structures\n",
    "(df, subs, X, betas, sigma) = genVars(df, 4);\n",
    "\n",
    "# run model for sub 1\n",
    "model_subjective(betas, df[df[:sub].==subs[1],:])"
   ]
  },
  {
   "cell_type": "markdown",
   "metadata": {},
   "source": [
    "### Run em to get best fit parameters for each subject"
   ]
  },
  {
   "cell_type": "code",
   "execution_count": 55,
   "metadata": {},
   "outputs": [
    {
     "name": "stdout",
     "output_type": "stream",
     "text": [
      "\n",
      "iter: 15\n",
      "betas: [1.54, 0.32, 0.03, 1.05]\n",
      "sigma: [0.99 0.15 0.5 -0.37; 0.15 0.09 0.09 -0.14; 0.5 0.09 0.48 -0.14; -0.37 -0.14 -0.14 0.49]\n",
      "change: [5.0e-6, 4.0e-5, 0.000456, 3.0e-6, 0.000144, 8.3e-5, 0.000343, -0.000173, 0.000141, 8.0e-5, -4.1e-5, 0.000478, -0.000939, 3.9e-5]\n",
      "max: 0.000478\n",
      " 64.773583 seconds (250.82 k allocations: 17.873 MiB, 0.01% gc time)\n"
     ]
    }
   ],
   "source": [
    "# initialized parameter structures (again)\n",
    "# note that some of the variables (e.g. betas, sigma) are entered and returned by em function \n",
    "(df, subs, X, betas, sigma) = genVars(df, 4);\n",
    "\n",
    "# run for full learner\n",
    "# x contains the parameters for each subject (note not the same as variable X)\n",
    "# l and h are per-subject likelihood and hessians\n",
    "@time (betas, sigma, x, l, h) = em(df, subs, X, betas, sigma, model_subjective; emtol=1e-3, parallel=true, full=true, quiet=false);\n"
   ]
  },
  {
   "cell_type": "code",
   "execution_count": 56,
   "metadata": {},
   "outputs": [
    {
     "name": "stderr",
     "output_type": "stream",
     "text": [
      "\u001b[1m\u001b[33mWARNING: \u001b[39m\u001b[22m\u001b[33mccdf(d::UnivariateDistribution, X::AbstractArray) is deprecated, use ccdf.(d, X) instead.\u001b[39m\n",
      "Stacktrace:\n",
      " [1] \u001b[1mdepwarn\u001b[22m\u001b[22m\u001b[1m(\u001b[22m\u001b[22m::String, ::Symbol\u001b[1m)\u001b[22m\u001b[22m at \u001b[1m./deprecated.jl:70\u001b[22m\u001b[22m\n",
      " [2] \u001b[1mccdf\u001b[22m\u001b[22m\u001b[1m(\u001b[22m\u001b[22m::Distributions.Normal{Float64}, ::Array{Float64,1}\u001b[1m)\u001b[22m\u001b[22m at \u001b[1m./deprecated.jl:57\u001b[22m\u001b[22m\n",
      " [3] \u001b[1memerrors\u001b[22m\u001b[22m\u001b[1m(\u001b[22m\u001b[22m::DataFrames.DataFrame, ::DataArrays.DataArray{Int64,1}, ::SharedArray{Float64,2}, ::Array{Float64,3}, ::SharedArray{Float64,3}, ::Array{Float64,1}, ::Array{Float64,2}, ::Function\u001b[1m)\u001b[22m\u001b[22m at \u001b[1m/Users/neil/Dropbox/Daw_Lab/PreySelection/v103/models/corrected/model_markov/em.jl:300\u001b[22m\u001b[22m\n",
      " [4] \u001b[1minclude_string\u001b[22m\u001b[22m\u001b[1m(\u001b[22m\u001b[22m::String, ::String\u001b[1m)\u001b[22m\u001b[22m at \u001b[1m./loading.jl:515\u001b[22m\u001b[22m\n",
      " [5] \u001b[1minclude_string\u001b[22m\u001b[22m\u001b[1m(\u001b[22m\u001b[22m::Module, ::String, ::String\u001b[1m)\u001b[22m\u001b[22m at \u001b[1m/Users/neil/.julia/v0.6/Compat/src/Compat.jl:174\u001b[22m\u001b[22m\n",
      " [6] \u001b[1mexecute_request\u001b[22m\u001b[22m\u001b[1m(\u001b[22m\u001b[22m::ZMQ.Socket, ::IJulia.Msg\u001b[1m)\u001b[22m\u001b[22m at \u001b[1m/Users/neil/.julia/v0.6/IJulia/src/execute_request.jl:154\u001b[22m\u001b[22m\n",
      " [7] \u001b[1m(::Compat.#inner#16{Array{Any,1},IJulia.#execute_request,Tuple{ZMQ.Socket,IJulia.Msg}})\u001b[22m\u001b[22m\u001b[1m(\u001b[22m\u001b[22m\u001b[1m)\u001b[22m\u001b[22m at \u001b[1m/Users/neil/.julia/v0.6/Compat/src/Compat.jl:496\u001b[22m\u001b[22m\n",
      " [8] \u001b[1meventloop\u001b[22m\u001b[22m\u001b[1m(\u001b[22m\u001b[22m::ZMQ.Socket\u001b[1m)\u001b[22m\u001b[22m at \u001b[1m/Users/neil/.julia/v0.6/IJulia/src/eventloop.jl:8\u001b[22m\u001b[22m\n",
      " [9] \u001b[1m(::IJulia.##14#17)\u001b[22m\u001b[22m\u001b[1m(\u001b[22m\u001b[22m\u001b[1m)\u001b[22m\u001b[22m at \u001b[1m./task.jl:335\u001b[22m\u001b[22m\n",
      "while loading In[56], in expression starting on line 1\n"
     ]
    },
    {
     "data": {
      "text/plain": [
       "([0.152222, 0.0459318, 0.109427, 0.106683], [5.69784e-24, 1.51046e-12, 0.800678, 1.09464e-22], [0.0231716 0.00344555 0.0112819 -0.00789258; 0.00344555 0.00210973 0.0019777 -0.00332557; 0.0112819 0.0019777 0.0119742 -0.00280625; -0.00789258 -0.00332557 -0.00280625 0.0113812])"
      ]
     },
     "execution_count": 56,
     "metadata": {},
     "output_type": "execute_result"
    }
   ],
   "source": [
    "(standarderrors,pvalues,covmtx) = emerrors(df,subs,x,X,h,betas,sigma,model_subjective)"
   ]
  },
  {
   "cell_type": "code",
   "execution_count": 57,
   "metadata": {},
   "outputs": [
    {
     "data": {
      "text/plain": [
       "4-element Array{Float64,1}:\n",
       " 5.69784e-24\n",
       " 1.51046e-12\n",
       " 0.800678   \n",
       " 1.09464e-22"
      ]
     },
     "execution_count": 57,
     "metadata": {},
     "output_type": "execute_result"
    }
   ],
   "source": [
    "pvalues"
   ]
  },
  {
   "cell_type": "markdown",
   "metadata": {},
   "source": [
    "### Generate Model Statistics \n",
    "#### (IAIC, LOOCV, etc.)"
   ]
  },
  {
   "cell_type": "code",
   "execution_count": 58,
   "metadata": {},
   "outputs": [
    {
     "data": {
      "text/plain": [
       "3678.7374029068765"
      ]
     },
     "execution_count": 58,
     "metadata": {},
     "output_type": "execute_result"
    }
   ],
   "source": [
    "## model selection/comparison/scoring\n",
    "\n",
    "# laplace approximation to the aggregate log marginal likelihood of the whole dataset\n",
    "# marginalized over the individual params\n",
    "\n",
    "aggll = lml(x,l,h)\n",
    "\n",
    "# to compare this between models you need to correct for the group-level free parameters\n",
    "# either aic or bic\n",
    "\n",
    "aggll_ibic = ibic(x,l,h,betas,sigma,nrow(df))\n",
    "aggll_iaic = iaic(x,l,h,betas,sigma)\n",
    "\n",
    "# or you can compute unbiased per subject marginal likelihoods via subject-level cross validation\n",
    "# you can do paired t tests on these between models\n",
    "# these are also appropriate for SPM_BMS etc\n",
    "\n",
    "# takes ages so comment in when want to run, otherwise just use IAIC above\n",
    "\n",
    "#liks = loocv(df, subs, x, X, betas, sigma, model_subjective; emtol=1e-3, parallel=true, full=true)\n",
    "#aggll_loo = sum(liks)\n",
    "\n",
    "#println(\"\\n\\nraw nll:  $aggll\\nibic nll: $aggll_ibic\\niaic nll: $aggll_iaic\\nloo nll:  $aggll_loo\")\n",
    "#println(\"\\n\\nraw nll:  $aggll\\nibic nll: $aggll_ibic\\niaic nll:\")"
   ]
  },
  {
   "cell_type": "markdown",
   "metadata": {},
   "source": [
    "### Write loocv scores to csv file\n",
    "\n",
    "#### (if you have run this part above)"
   ]
  },
  {
   "cell_type": "code",
   "execution_count": null,
   "metadata": {
    "collapsed": true
   },
   "outputs": [],
   "source": [
    "# put loocv scores into dataframe\n",
    " loocv_scores = DataFrame(sub = subs,\n",
    " liks = vec(liks));\n",
    "\n",
    "# save loocv scores to csv file\n",
    " writetable(\"loocv_scores.csv\", DataFrame(loocv_scores))"
   ]
  },
  {
   "cell_type": "markdown",
   "metadata": {},
   "source": [
    "### Write per subject model parameters to csv file\n"
   ]
  },
  {
   "cell_type": "code",
   "execution_count": 59,
   "metadata": {},
   "outputs": [
    {
     "name": "stderr",
     "output_type": "stream",
     "text": [
      "WARNING: imported binding for params overwritten in module Main\n"
     ]
    }
   ],
   "source": [
    "# put parameters into variable d\n",
    "d=x';\n",
    "\n",
    "# now put parameters into dataframe\n",
    "params = DataFrame(sub = subs,\n",
    "intercept = vec(d[:,1]), \n",
    "beta = vec(d[:,2]),\n",
    "learning_rate_raw = vec(d[:,3]),\n",
    "learning_rate_transformed = vec(0.5 + 0.5*erf.(d[:,3] / sqrt(2))),\n",
    "gamma_raw = vec(d[:,4]),\n",
    "gamma_transformed = vec(0.5 + 0.5*erf.(d[:,4] / sqrt(2))));\n",
    "\n",
    "# save parameters to csv file\n",
    "writetable(\"subject_params.csv\", DataFrame(params))\n",
    "\n",
    "#or: CSV.write(\"subject_params_full_learner.csv\",params_full)"
   ]
  },
  {
   "cell_type": "markdown",
   "metadata": {},
   "source": [
    "## Now run  model with these parameters for each subject to get trial by trial Q values\n",
    "##### Note: must rerun model with it set to return trial data (uncomment this)\n",
    "\n"
   ]
  },
  {
   "cell_type": "code",
   "execution_count": null,
   "metadata": {
    "collapsed": true
   },
   "outputs": [],
   "source": [
    "# if you already have best fit parameters saved, can read in here (rather than running model to find)\n",
    "params = readtable(\"subject_params.csv\")\n",
    "head(params)"
   ]
  },
  {
   "cell_type": "markdown",
   "metadata": {},
   "source": [
    "### run model for each sub using best fit parameters"
   ]
  },
  {
   "cell_type": "code",
   "execution_count": null,
   "metadata": {
    "collapsed": true
   },
   "outputs": [],
   "source": [
    "# initialize parameter structures once again\n",
    "(df, subs, X, betas, sigma) = genVars(df, 3);\n",
    "\n",
    "# initalise this - will store all trial to trial parameters\n",
    "trial_data_compile = []\n",
    "\n",
    "# run model for each subject using best fit parameters\n",
    "for x = 1:length(subs)\n",
    "\n",
    "    # pull out optimal betas for subject - these are used in the model\n",
    "    # note: you want the unconverted learning score to be fed in\n",
    "    betas_sub = Array(params[x, [:intercept, :beta, :learning_rate_raw]])\n",
    "    data_sub = df[df[:sub].==subs[x], :]\n",
    "    \n",
    "    # run model using these parameters - note must have commented in the model to return all of these variables (and not only -lik)\n",
    "    (minus_li, trial_data) = model_subjective(betas_sub, data_sub)\n",
    "    \n",
    "    if x==1\n",
    "        \n",
    "        trial_data_compile = trial_data\n",
    "        \n",
    "    else\n",
    "        \n",
    "        append!(trial_data_compile, trial_data)\n",
    "        \n",
    "    end\n",
    " \n",
    "end\n",
    "\n",
    "# check these are all the same sizes\n",
    "print(size(df))\n",
    "print(size(trial_data_compile))\n",
    "\n",
    "# print header of data compile\n",
    "head(trial_data_compile)"
   ]
  },
  {
   "cell_type": "markdown",
   "metadata": {},
   "source": [
    "### Calculate probabilities of choosing"
   ]
  },
  {
   "cell_type": "code",
   "execution_count": null,
   "metadata": {
    "collapsed": true
   },
   "outputs": [],
   "source": [
    "ProbAccept_ALL = []\n",
    "ProbReject_ALL = [] \n",
    "ProbAccept_minus_ProbReject_ALL = []\n",
    "\n",
    "for x = 1:length(subs)\n",
    "\n",
    "    current_sub = subs[x];\n",
    "    \n",
    "    # pull out optimal betas for subject - these are used in the model\n",
    "    # note: you want the unconverted learning score to be fed in\n",
    "    betas_sub = Array(params[x, [:intercept, :beta]])\n",
    "    \n",
    "    intercept = betas_sub[1] \n",
    "    beta = betas_sub[2]\n",
    "            \n",
    "    subset_data = trial_data_compile[trial_data_compile[:sub].==subs[x], :]\n",
    "    \n",
    "    n_trials = size(subset_data); n_trials = n_trials[1]\n",
    "\n",
    "    ProbAccept = zeros(n_trials)\n",
    "    ProbReject = zeros(n_trials)\n",
    "    ProbAccept_minus_ProbReject = zeros(n_trials)\n",
    "    \n",
    "    accept_value = subset_data[:reward]\n",
    "    reject_value = subset_data[:opp_cost_estimate]\n",
    "    choices = subset_data[:choice]\n",
    "    \n",
    "    for t = 1:n_trials\n",
    "                       \n",
    "        ProbAccept[t] = exp(0 + beta*accept_value[t])/(exp(0 + beta*accept_value[t]) + exp(intercept + beta*reject_value[t])) \n",
    "        ProbReject[t] = 1 - ProbAccept[t];\n",
    "        ProbAccept_minus_ProbReject[t] = ProbAccept[t] - ProbReject[t];\n",
    "         \n",
    "    end\n",
    "\n",
    "    ProbAccept_ALL = [ProbAccept_ALL; ProbAccept]\n",
    "    ProbReject_ALL = [ProbReject_ALL; ProbReject]\n",
    "    ProbAccept_minus_ProbReject_ALL = [ProbAccept_minus_ProbReject_ALL; ProbAccept_minus_ProbReject]\n",
    "    \n",
    "end\n",
    "\n",
    "#Now bung into data frame and merge with rest\n",
    "Q_probs = DataFrame([ProbAccept_ALL, \n",
    "        ProbReject_ALL, \n",
    "        ProbAccept_minus_ProbReject_ALL]) \n",
    "\n",
    "#annoying - must be a better way to do this\n",
    "names!(Q_probs, [:ProbAccept, \n",
    "        :ProbReject, \n",
    "        :ProbAccept_minus_ProbReject])\n",
    "\n",
    "# now merge the two dataframes together (note this overwrites previous full compile)\n",
    "trial_data_compile = hcat(trial_data_compile, Q_probs); #could also do just: [full_Q_compile Q_probs]"
   ]
  },
  {
   "cell_type": "markdown",
   "metadata": {},
   "source": [
    "### Save data to csv in model folder\n",
    "##### NOTE: after this note you must save as an xlsx file to run in matlab "
   ]
  },
  {
   "cell_type": "code",
   "execution_count": null,
   "metadata": {
    "collapsed": true,
    "scrolled": true
   },
   "outputs": [],
   "source": [
    "writetable(\"trial_by_trial_values.csv\", DataFrame(trial_data_compile))\n"
   ]
  },
  {
   "cell_type": "markdown",
   "metadata": {},
   "source": [
    "### Inspect parameters\n"
   ]
  },
  {
   "cell_type": "code",
   "execution_count": null,
   "metadata": {
    "collapsed": true
   },
   "outputs": [],
   "source": [
    "println(\"intercept min: \", minimum(params[:intercept]))\n",
    "println(\"intercept max: \", maximum(params[:intercept]))\n",
    "println(\"beta min: \", minimum(params[:beta]))\n",
    "println(\"beta max: \", maximum(params[:beta]))\n",
    "println(\"lr min: \", minimum(params[:learning_rate_transformed]))\n",
    "println(\"lr max: \", maximum(params[:learning_rate_transformed]))\n"
   ]
  },
  {
   "cell_type": "code",
   "execution_count": null,
   "metadata": {
    "collapsed": true
   },
   "outputs": [],
   "source": [
    "x = [1, 2, 3]\n",
    "\n",
    "my_xticks = [\"intercept\",\"beta\", \"lr\"]\n",
    "\n",
    "y=[mean(params[:intercept]), mean(params[:beta]), mean(params[:learning_rate_transformed])]\n",
    "\n",
    "PyPlot.plt[:xticks](x, my_xticks)\n",
    "PyPlot.plt[:bar](x,y,color=\"#0f87bf\",align=\"center\",alpha=0.4)\n",
    "title(\"average parameter values\")\n"
   ]
  },
  {
   "cell_type": "markdown",
   "metadata": {},
   "source": [
    "###### NOTE: intercept in the model is put on the value of rejecting: hence a negative value suggests a bias away from rejecting (the value of rejecting is devalued)"
   ]
  },
  {
   "cell_type": "code",
   "execution_count": null,
   "metadata": {
    "collapsed": true
   },
   "outputs": [],
   "source": [
    "PyPlot.plt[:hist](params[:intercept],10)\n",
    "title(\"Histrogram of intercept parameters\")"
   ]
  },
  {
   "cell_type": "code",
   "execution_count": null,
   "metadata": {
    "collapsed": true
   },
   "outputs": [],
   "source": [
    "PyPlot.plt[:hist](params[:beta],10)\n",
    "title(\"Histrogram of beta value\")"
   ]
  },
  {
   "cell_type": "code",
   "execution_count": null,
   "metadata": {
    "collapsed": true
   },
   "outputs": [],
   "source": [
    "PyPlot.plt[:hist](params[:learning_rate_transformed],10)\n",
    "title(\"Histrogram of learning parameters\")"
   ]
  },
  {
   "cell_type": "code",
   "execution_count": null,
   "metadata": {
    "collapsed": true
   },
   "outputs": [],
   "source": [
    "PyPlot.plt[:scatter](params[:beta],params[:learning_rate_transformed])\n",
    "title(\"learning parameters: beta vs lr\")\n",
    "xlabel(\"beta\")\n",
    "ylabel(\"learning_rate\")\n",
    "\n",
    "println(\"correlation: \", cor(params[:beta],params[:learning_rate_transformed]))"
   ]
  },
  {
   "cell_type": "code",
   "execution_count": null,
   "metadata": {
    "collapsed": true
   },
   "outputs": [],
   "source": [
    "for x = 1:length(subs)\n",
    "\n",
    "    current_sub = subs[x];\n",
    "    \n",
    "    subset_data_all = trial_data_compile[trial_data_compile[:sub].==current_sub, :]\n",
    "    \n",
    "    #subset_data_b1 = \n",
    "    #subset_data_b2  = \n",
    "    \n",
    "    X = subset_data_all[:trial]\n",
    "    Y = subset_data_all[:opp_cost_arithmetic]\n",
    "    \n",
    "    subplot(7,7,x)\n",
    "\n",
    "    PyPlot.plt[:scatter](X,Y,s=0.5)\n",
    "            \n",
    "end\n",
    "\n",
    "suptitle(\"Arithmetic opportunity cost over time for each sub\")\n"
   ]
  },
  {
   "cell_type": "markdown",
   "metadata": {},
   "source": [
    "#### opp cost fluctuates trial by trial a lot depending on the options (their delay) as well as the average reward rate \n",
    "#### hence why it looks like two lines "
   ]
  },
  {
   "cell_type": "code",
   "execution_count": null,
   "metadata": {
    "collapsed": true
   },
   "outputs": [],
   "source": [
    "for x = 1:length(subs)\n",
    "\n",
    "    current_sub = subs[x];\n",
    "    \n",
    "    subset_data_all = trial_data_compile[trial_data_compile[:sub].==current_sub, :]\n",
    "    \n",
    "    \n",
    "    X = subset_data_all[:trial]\n",
    "    Y = subset_data_all[:opp_cost_estimate]\n",
    "    \n",
    "    subplot(7,7,x)\n",
    "\n",
    "    PyPlot.plt[:scatter](X,Y,s=0.5)\n",
    "            \n",
    "end\n",
    "\n",
    "suptitle(\"Estimated opportunity cost over time for each sub\")\n"
   ]
  },
  {
   "cell_type": "code",
   "execution_count": null,
   "metadata": {
    "collapsed": true
   },
   "outputs": [],
   "source": [
    "for x = 1:length(subs)\n",
    "\n",
    "    current_sub = subs[x];\n",
    "    \n",
    "    subset_data_all = trial_data_compile[trial_data_compile[:sub].==current_sub, :]\n",
    "    \n",
    "    #subset_data_b1 = \n",
    "    #subset_data_b2  = \n",
    "    \n",
    "    X = subset_data_all[:trial]\n",
    "    Y = subset_data_all[:avreward_arithmetic]\n",
    "    \n",
    "    subplot(7,7,x)\n",
    "\n",
    "    PyPlot.plt[:scatter](X,Y,s=0.5)\n",
    "            \n",
    "end\n",
    "\n",
    "suptitle(\"Arithmetic average reward rate over time for each sub\")\n"
   ]
  },
  {
   "cell_type": "code",
   "execution_count": null,
   "metadata": {
    "collapsed": true
   },
   "outputs": [],
   "source": [
    "for x = 1:length(subs)\n",
    "\n",
    "    current_sub = subs[x];\n",
    "    \n",
    "    subset_data_all = trial_data_compile[trial_data_compile[:sub].==current_sub, :]\n",
    "    \n",
    "    #subset_data_b1 = \n",
    "    #subset_data_b2  = \n",
    "    \n",
    "    X = subset_data_all[:trial]\n",
    "    Y = subset_data_all[:avreward_estimate]\n",
    "    \n",
    "    subplot(7,7,x)\n",
    "\n",
    "    PyPlot.plt[:scatter](X,Y,s=0.5)\n",
    "            \n",
    "end\n",
    "\n",
    "suptitle(\"Estimated average reward rate over time for each sub\")\n"
   ]
  }
 ],
 "metadata": {
  "kernelspec": {
   "display_name": "Julia 0.7.0",
   "language": "julia",
   "name": "julia-0.7"
  },
  "language_info": {
   "file_extension": ".jl",
   "mimetype": "application/julia",
   "name": "julia",
   "version": "0.6.1"
  },
  "toc": {
   "base_numbering": 1,
   "nav_menu": {},
   "number_sections": true,
   "sideBar": true,
   "skip_h1_title": false,
   "title_cell": "Table of Contents",
   "title_sidebar": "Contents",
   "toc_cell": false,
   "toc_position": {},
   "toc_section_display": true,
   "toc_window_display": false
  }
 },
 "nbformat": 4,
 "nbformat_minor": 1
}
