{
 "cells": [
  {
   "cell_type": "markdown",
   "metadata": {},
   "source": [
    "** Neil Garrett, June 2018 **"
   ]
  },
  {
   "cell_type": "markdown",
   "metadata": {
    "heading_collapsed": true
   },
   "source": [
    "# Start up commands/load relevant functions"
   ]
  },
  {
   "cell_type": "code",
   "execution_count": 3,
   "metadata": {
    "hidden": true
   },
   "outputs": [
    {
     "name": "stderr",
     "output_type": "stream",
     "text": [
      "┌ Warning: Deprecated syntax `(covvar < 0) ? NaN:` at /Users/neil/GitHubRepo/Projects/PreySelection/v103/models/supplementary/model_asymmetry_learn_options/em.jl:288.\n",
      "│ Use `(covvar < 0) ? NaN :` instead.\n",
      "└ @ nothing /Users/neil/GitHubRepo/Projects/PreySelection/v103/models/supplementary/model_asymmetry_learn_options/em.jl:288\n",
      "┌ Warning: Deprecated syntax `(covvar < 0) ? NaN :sqrt` at /Users/neil/GitHubRepo/Projects/PreySelection/v103/models/supplementary/model_asymmetry_learn_options/em.jl:288.\n",
      "│ Use `(covvar < 0) ? NaN : sqrt` instead.\n",
      "└ @ nothing /Users/neil/GitHubRepo/Projects/PreySelection/v103/models/supplementary/model_asymmetry_learn_options/em.jl:288\n",
      "┌ Warning: Deprecated syntax `(diag(covmtx)[i] .< 0) ? NaN:` at /Users/neil/GitHubRepo/Projects/PreySelection/v103/models/supplementary/model_asymmetry_learn_options/em.jl:299.\n",
      "│ Use `(diag(covmtx)[i] .< 0) ? NaN :` instead.\n",
      "└ @ nothing /Users/neil/GitHubRepo/Projects/PreySelection/v103/models/supplementary/model_asymmetry_learn_options/em.jl:299\n",
      "┌ Warning: Deprecated syntax `(diag(covmtx)[i] .< 0) ? NaN :diag` at /Users/neil/GitHubRepo/Projects/PreySelection/v103/models/supplementary/model_asymmetry_learn_options/em.jl:299.\n",
      "│ Use `(diag(covmtx)[i] .< 0) ? NaN : diag` instead.\n",
      "└ @ nothing /Users/neil/GitHubRepo/Projects/PreySelection/v103/models/supplementary/model_asymmetry_learn_options/em.jl:299\n",
      "┌ Warning: Deprecated syntax `(covvar < 0) ? NaN:` at /Users/neil/GitHubRepo/Projects/PreySelection/v103/models/supplementary/model_asymmetry_learn_options/em.jl:288.\n",
      "│ Use `(covvar < 0) ? NaN :` instead.\n",
      "└ @ ~/GitHubRepo/Projects/PreySelection/v103/models/supplementary/model_asymmetry_learn_options/em.jl:288\n",
      "┌ Warning: Deprecated syntax `(covvar < 0) ? NaN :sqrt` at /Users/neil/GitHubRepo/Projects/PreySelection/v103/models/supplementary/model_asymmetry_learn_options/em.jl:288.\n",
      "│ Use `(covvar < 0) ? NaN : sqrt` instead.\n",
      "└ @ ~/GitHubRepo/Projects/PreySelection/v103/models/supplementary/model_asymmetry_learn_options/em.jl:288\n",
      "┌ Warning: Deprecated syntax `(diag(covmtx)[i] .< 0) ? NaN:` at /Users/neil/GitHubRepo/Projects/PreySelection/v103/models/supplementary/model_asymmetry_learn_options/em.jl:299.\n",
      "│ Use `(diag(covmtx)[i] .< 0) ? NaN :` instead.\n",
      "└ @ ~/GitHubRepo/Projects/PreySelection/v103/models/supplementary/model_asymmetry_learn_options/em.jl:299\n",
      "┌ Warning: Deprecated syntax `(diag(covmtx)[i] .< 0) ? NaN :diag` at /Users/neil/GitHubRepo/Projects/PreySelection/v103/models/supplementary/model_asymmetry_learn_options/em.jl:299.\n",
      "│ Use `(diag(covmtx)[i] .< 0) ? NaN : diag` instead.\n",
      "└ @ ~/GitHubRepo/Projects/PreySelection/v103/models/supplementary/model_asymmetry_learn_options/em.jl:299\n",
      "┌ Warning: Deprecated syntax `(covvar < 0) ? NaN:` at /Users/neil/GitHubRepo/Projects/PreySelection/v103/models/supplementary/model_asymmetry_learn_options/em.jl:288.\n",
      "│ Use `(covvar < 0) ? NaN :` instead.\n",
      "└ @ ~/GitHubRepo/Projects/PreySelection/v103/models/supplementary/model_asymmetry_learn_options/em.jl:288\n",
      "┌ Warning: Deprecated syntax `(covvar < 0) ? NaN :sqrt` at /Users/neil/GitHubRepo/Projects/PreySelection/v103/models/supplementary/model_asymmetry_learn_options/em.jl:288.\n",
      "│ Use `(covvar < 0) ? NaN : sqrt` instead.\n",
      "└ @ ~/GitHubRepo/Projects/PreySelection/v103/models/supplementary/model_asymmetry_learn_options/em.jl:288\n",
      "┌ Warning: Deprecated syntax `(covvar < 0) ? NaN:` at /Users/neil/GitHubRepo/Projects/PreySelection/v103/models/supplementary/model_asymmetry_learn_options/em.jl:288.\n",
      "│ Use `(covvar < 0) ? NaN :` instead.\n",
      "└ @ ~/GitHubRepo/Projects/PreySelection/v103/models/supplementary/model_asymmetry_learn_options/em.jl:288\n",
      "┌ Warning: Deprecated syntax `(covvar < 0) ? NaN :sqrt` at /Users/neil/GitHubRepo/Projects/PreySelection/v103/models/supplementary/model_asymmetry_learn_options/em.jl:288.\n",
      "│ Use `(covvar < 0) ? NaN : sqrt` instead.\n",
      "└ @ ~/GitHubRepo/Projects/PreySelection/v103/models/supplementary/model_asymmetry_learn_options/em.jl:288\n",
      "┌ Warning: Deprecated syntax `(diag(covmtx)[i] .< 0) ? NaN:` at /Users/neil/GitHubRepo/Projects/PreySelection/v103/models/supplementary/model_asymmetry_learn_options/em.jl:299.\n",
      "│ Use `(diag(covmtx)[i] .< 0) ? NaN :` instead.\n",
      "└ @ ~/GitHubRepo/Projects/PreySelection/v103/models/supplementary/model_asymmetry_learn_options/em.jl:299\n",
      "┌ Warning: Deprecated syntax `(diag(covmtx)[i] .< 0) ? NaN :diag` at /Users/neil/GitHubRepo/Projects/PreySelection/v103/models/supplementary/model_asymmetry_learn_options/em.jl:299.\n",
      "│ Use `(diag(covmtx)[i] .< 0) ? NaN : diag` instead.\n",
      "└ @ ~/GitHubRepo/Projects/PreySelection/v103/models/supplementary/model_asymmetry_learn_options/em.jl:299\n",
      "┌ Warning: Deprecated syntax `(diag(covmtx)[i] .< 0) ? NaN:` at /Users/neil/GitHubRepo/Projects/PreySelection/v103/models/supplementary/model_asymmetry_learn_options/em.jl:299.\n",
      "│ Use `(diag(covmtx)[i] .< 0) ? NaN :` instead.\n",
      "└ @ ~/GitHubRepo/Projects/PreySelection/v103/models/supplementary/model_asymmetry_learn_options/em.jl:299\n",
      "┌ Warning: Deprecated syntax `(diag(covmtx)[i] .< 0) ? NaN :diag` at /Users/neil/GitHubRepo/Projects/PreySelection/v103/models/supplementary/model_asymmetry_learn_options/em.jl:299.\n",
      "│ Use `(diag(covmtx)[i] .< 0) ? NaN : diag` instead.\n",
      "└ @ ~/GitHubRepo/Projects/PreySelection/v103/models/supplementary/model_asymmetry_learn_options/em.jl:299\n",
      "┌ Warning: Deprecated syntax `(covvar < 0) ? NaN:` at /Users/neil/GitHubRepo/Projects/PreySelection/v103/models/supplementary/model_asymmetry_learn_options/em.jl:288.\n",
      "│ Use `(covvar < 0) ? NaN :` instead.\n",
      "└ @ ~/GitHubRepo/Projects/PreySelection/v103/models/supplementary/model_asymmetry_learn_options/em.jl:288\n",
      "┌ Warning: Deprecated syntax `(covvar < 0) ? NaN :sqrt` at /Users/neil/GitHubRepo/Projects/PreySelection/v103/models/supplementary/model_asymmetry_learn_options/em.jl:288.\n",
      "│ Use `(covvar < 0) ? NaN : sqrt` instead.\n",
      "└ @ ~/GitHubRepo/Projects/PreySelection/v103/models/supplementary/model_asymmetry_learn_options/em.jl:288\n",
      "┌ Warning: Deprecated syntax `(diag(covmtx)[i] .< 0) ? NaN:` at /Users/neil/GitHubRepo/Projects/PreySelection/v103/models/supplementary/model_asymmetry_learn_options/em.jl:299.\n",
      "│ Use `(diag(covmtx)[i] .< 0) ? NaN :` instead.\n",
      "└ @ ~/GitHubRepo/Projects/PreySelection/v103/models/supplementary/model_asymmetry_learn_options/em.jl:299\n",
      "┌ Warning: Deprecated syntax `(diag(covmtx)[i] .< 0) ? NaN :diag` at /Users/neil/GitHubRepo/Projects/PreySelection/v103/models/supplementary/model_asymmetry_learn_options/em.jl:299.\n",
      "│ Use `(diag(covmtx)[i] .< 0) ? NaN : diag` instead.\n",
      "└ @ ~/GitHubRepo/Projects/PreySelection/v103/models/supplementary/model_asymmetry_learn_options/em.jl:299\n",
      "┌ Warning: `@parallel` is deprecated, use `@distributed` instead.\n",
      "│   caller = include at boot.jl:317 [inlined]\n",
      "└ @ Core ./boot.jl:317\n",
      "┌ Warning: `@parallel` is deprecated, use `@distributed` instead.\n",
      "│   caller = include at boot.jl:317 [inlined]\n",
      "└ @ Core ./boot.jl:317\n",
      "┌ Warning: `@parallel` is deprecated, use `@distributed` instead.\n",
      "│   caller = include at boot.jl:317 [inlined]\n",
      "└ @ Core ./boot.jl:317\n",
      "┌ Warning: `@parallel` is deprecated, use `@distributed` instead.\n",
      "│   caller = include at boot.jl:317 [inlined]\n",
      "└ @ Core ./boot.jl:317\n",
      "┌ Warning: `@parallel` is deprecated, use `@distributed` instead.\n",
      "│   caller = include at boot.jl:317 [inlined]\n",
      "└ @ Core ./boot.jl:317\n",
      "┌ Warning: Deprecated syntax `any(x -> begin\n",
      "│     # /Users/neil/GitHubRepo/Projects/PreySelection/v103/models/supplementary/model_asymmetry_learn_options/common.jl, line 66\n",
      "│     isa(x, Array)\n",
      "│ end, a)?` at /Users/neil/GitHubRepo/Projects/PreySelection/v103/models/supplementary/model_asymmetry_learn_options/common.jl:66.\n",
      "│ Use `any(x -> begin\n",
      "│     # /Users/neil/GitHubRepo/Projects/PreySelection/v103/models/supplementary/model_asymmetry_learn_options/common.jl, line 66\n",
      "│     isa(x, Array)\n",
      "│ end, a) ?` instead.\n",
      "└ @ nothing /Users/neil/GitHubRepo/Projects/PreySelection/v103/models/supplementary/model_asymmetry_learn_options/common.jl:66\n",
      "┌ Warning: Deprecated syntax `any(x -> begin\n",
      "│     # /Users/neil/GitHubRepo/Projects/PreySelection/v103/models/supplementary/model_asymmetry_learn_options/common.jl, line 66\n",
      "│     isa(x, Array)\n",
      "│ end, a)?` at /Users/neil/GitHubRepo/Projects/PreySelection/v103/models/supplementary/model_asymmetry_learn_options/common.jl:66.\n",
      "│ Use `any(x -> begin\n",
      "│     # /Users/neil/GitHubRepo/Projects/PreySelection/v103/models/supplementary/model_asymmetry_learn_options/common.jl, line 66\n",
      "│     isa(x, Array)\n",
      "│ end, a) ?` instead.\n",
      "└ @ ~/GitHubRepo/Projects/PreySelection/v103/models/supplementary/model_asymmetry_learn_options/common.jl:66\n",
      "┌ Warning: Deprecated syntax `any(x -> begin\n",
      "│     # /Users/neil/GitHubRepo/Projects/PreySelection/v103/models/supplementary/model_asymmetry_learn_options/common.jl, line 66\n",
      "│     isa(x, Array)\n",
      "│ end, a)?` at /Users/neil/GitHubRepo/Projects/PreySelection/v103/models/supplementary/model_asymmetry_learn_options/common.jl:66.\n",
      "│ Use `any(x -> begin\n",
      "│     # /Users/neil/GitHubRepo/Projects/PreySelection/v103/models/supplementary/model_asymmetry_learn_options/common.jl, line 66\n",
      "│     isa(x, Array)\n",
      "│ end, a) ?` instead.\n",
      "└ @ ~/GitHubRepo/Projects/PreySelection/v103/models/supplementary/model_asymmetry_learn_options/common.jl:66\n",
      "┌ Warning: Deprecated syntax `any(x -> begin\n",
      "│     # /Users/neil/GitHubRepo/Projects/PreySelection/v103/models/supplementary/model_asymmetry_learn_options/common.jl, line 66\n",
      "│     isa(x, Array)\n",
      "│ end, a) ? flatten(vcat(map(flatten, a)...)):` at /Users/neil/GitHubRepo/Projects/PreySelection/v103/models/supplementary/model_asymmetry_learn_options/common.jl:66.\n",
      "│ Use `any(x -> begin\n",
      "│     # /Users/neil/GitHubRepo/Projects/PreySelection/v103/models/supplementary/model_asymmetry_learn_options/common.jl, line 66\n",
      "│     isa(x, Array)\n",
      "│ end, a) ? flatten(vcat(map(flatten, a)...)) :` instead.\n",
      "└ @ nothing /Users/neil/GitHubRepo/Projects/PreySelection/v103/models/supplementary/model_asymmetry_learn_options/common.jl:66\n",
      "┌ Warning: Deprecated syntax `any(x -> begin\n",
      "│     # /Users/neil/GitHubRepo/Projects/PreySelection/v103/models/supplementary/model_asymmetry_learn_options/common.jl, line 66\n",
      "│     isa(x, Array)\n",
      "│ end, a) ? flatten(vcat(map(flatten, a)...)):` at /Users/neil/GitHubRepo/Projects/PreySelection/v103/models/supplementary/model_asymmetry_learn_options/common.jl:66.\n",
      "│ Use `any(x -> begin\n",
      "│     # /Users/neil/GitHubRepo/Projects/PreySelection/v103/models/supplementary/model_asymmetry_learn_options/common.jl, line 66\n",
      "│     isa(x, Array)\n",
      "│ end, a) ? flatten(vcat(map(flatten, a)...)) :` instead.\n",
      "└ @ ~/GitHubRepo/Projects/PreySelection/v103/models/supplementary/model_asymmetry_learn_options/common.jl:66\n",
      "┌ Warning: Deprecated syntax `any(x -> begin\n",
      "│     # /Users/neil/GitHubRepo/Projects/PreySelection/v103/models/supplementary/model_asymmetry_learn_options/common.jl, line 66\n",
      "│     isa(x, Array)\n",
      "│ end, a) ? flatten(vcat(map(flatten, a)...)):` at /Users/neil/GitHubRepo/Projects/PreySelection/v103/models/supplementary/model_asymmetry_learn_options/common.jl:66.\n",
      "│ Use `any(x -> begin\n",
      "│     # /Users/neil/GitHubRepo/Projects/PreySelection/v103/models/supplementary/model_asymmetry_learn_options/common.jl, line 66\n",
      "│     isa(x, Array)\n",
      "│ end, a) ? flatten(vcat(map(flatten, a)...)) :` instead.\n",
      "└ @ ~/GitHubRepo/Projects/PreySelection/v103/models/supplementary/model_asymmetry_learn_options/common.jl:66\n",
      "┌ Warning: Deprecated syntax `any(x -> begin\n",
      "│     # /Users/neil/GitHubRepo/Projects/PreySelection/v103/models/supplementary/model_asymmetry_learn_options/common.jl, line 66\n",
      "│     isa(x, Array)\n",
      "│ end, a)?` at /Users/neil/GitHubRepo/Projects/PreySelection/v103/models/supplementary/model_asymmetry_learn_options/common.jl:66.\n",
      "│ Use `any(x -> begin\n",
      "│     # /Users/neil/GitHubRepo/Projects/PreySelection/v103/models/supplementary/model_asymmetry_learn_options/common.jl, line 66\n",
      "│     isa(x, Array)\n",
      "│ end, a) ?` instead.\n",
      "└ @ ~/GitHubRepo/Projects/PreySelection/v103/models/supplementary/model_asymmetry_learn_options/common.jl:66\n",
      "┌ Warning: Deprecated syntax `any(x -> begin\n",
      "│     # /Users/neil/GitHubRepo/Projects/PreySelection/v103/models/supplementary/model_asymmetry_learn_options/common.jl, line 66\n",
      "│     isa(x, Array)\n",
      "│ end, a) ? flatten(vcat(map(flatten, a)...)):` at /Users/neil/GitHubRepo/Projects/PreySelection/v103/models/supplementary/model_asymmetry_learn_options/common.jl:66.\n",
      "│ Use `any(x -> begin\n",
      "│     # /Users/neil/GitHubRepo/Projects/PreySelection/v103/models/supplementary/model_asymmetry_learn_options/common.jl, line 66\n",
      "│     isa(x, Array)\n",
      "│ end, a) ? flatten(vcat(map(flatten, a)...)) :` instead.\n",
      "└ @ ~/GitHubRepo/Projects/PreySelection/v103/models/supplementary/model_asymmetry_learn_options/common.jl:66\n",
      "┌ Warning: Deprecated syntax `any(x -> begin\n",
      "│     # /Users/neil/GitHubRepo/Projects/PreySelection/v103/models/supplementary/model_asymmetry_learn_options/common.jl, line 66\n",
      "│     isa(x, Array)\n",
      "│ end, a)?` at /Users/neil/GitHubRepo/Projects/PreySelection/v103/models/supplementary/model_asymmetry_learn_options/common.jl:66.\n",
      "│ Use `any(x -> begin\n",
      "│     # /Users/neil/GitHubRepo/Projects/PreySelection/v103/models/supplementary/model_asymmetry_learn_options/common.jl, line 66\n",
      "│     isa(x, Array)\n",
      "│ end, a) ?` instead.\n",
      "└ @ ~/GitHubRepo/Projects/PreySelection/v103/models/supplementary/model_asymmetry_learn_options/common.jl:66\n",
      "┌ Warning: Deprecated syntax `any(x -> begin\n",
      "│     # /Users/neil/GitHubRepo/Projects/PreySelection/v103/models/supplementary/model_asymmetry_learn_options/common.jl, line 66\n",
      "│     isa(x, Array)\n",
      "│ end, a) ? flatten(vcat(map(flatten, a)...)):` at /Users/neil/GitHubRepo/Projects/PreySelection/v103/models/supplementary/model_asymmetry_learn_options/common.jl:66.\n",
      "│ Use `any(x -> begin\n",
      "│     # /Users/neil/GitHubRepo/Projects/PreySelection/v103/models/supplementary/model_asymmetry_learn_options/common.jl, line 66\n",
      "│     isa(x, Array)\n",
      "│ end, a) ? flatten(vcat(map(flatten, a)...)) :` instead.\n",
      "└ @ ~/GitHubRepo/Projects/PreySelection/v103/models/supplementary/model_asymmetry_learn_options/common.jl:66\n",
      "┌ Warning: Deprecated syntax `parametric method syntax flatten{T}(a::Array{T, 1})` around /Users/neil/GitHubRepo/Projects/PreySelection/v103/models/supplementary/model_asymmetry_learn_options/common.jl:66.\n",
      "│ Use `flatten(a::Array{T, 1}) where T` instead.\n",
      "└ @ nothing /Users/neil/GitHubRepo/Projects/PreySelection/v103/models/supplementary/model_asymmetry_learn_options/common.jl:66\n",
      "┌ Warning: Deprecated syntax `parametric method syntax flatten{T}(a::Array{T, 1})` around /Users/neil/GitHubRepo/Projects/PreySelection/v103/models/supplementary/model_asymmetry_learn_options/common.jl:66.\n",
      "│ Use `flatten(a::Array{T, 1}) where T` instead.\n",
      "└ @ ~/GitHubRepo/Projects/PreySelection/v103/models/supplementary/model_asymmetry_learn_options/common.jl:66\n",
      "┌ Warning: Deprecated syntax `parametric method syntax flatten{T}(a::Array{T})` around /Users/neil/GitHubRepo/Projects/PreySelection/v103/models/supplementary/model_asymmetry_learn_options/common.jl:67.\n",
      "│ Use `flatten(a::Array{T}) where T` instead.\n",
      "└ @ nothing /Users/neil/GitHubRepo/Projects/PreySelection/v103/models/supplementary/model_asymmetry_learn_options/common.jl:67\n"
     ]
    },
    {
     "name": "stderr",
     "output_type": "stream",
     "text": [
      "┌ Warning: Deprecated syntax `parametric method syntax flatten{T}(a::Array{T})` around /Users/neil/GitHubRepo/Projects/PreySelection/v103/models/supplementary/model_asymmetry_learn_options/common.jl:67.\n",
      "│ Use `flatten(a::Array{T}) where T` instead.\n",
      "└ @ ~/GitHubRepo/Projects/PreySelection/v103/models/supplementary/model_asymmetry_learn_options/common.jl:67\n",
      "┌ Warning: Deprecated syntax `parametric method syntax flatten{T}(a::Array{T, 1})` around /Users/neil/GitHubRepo/Projects/PreySelection/v103/models/supplementary/model_asymmetry_learn_options/common.jl:66.\n",
      "│ Use `flatten(a::Array{T, 1}) where T` instead.\n",
      "└ @ ~/GitHubRepo/Projects/PreySelection/v103/models/supplementary/model_asymmetry_learn_options/common.jl:66\n",
      "┌ Warning: Deprecated syntax `parametric method syntax flatten{T}(a::Array{T})` around /Users/neil/GitHubRepo/Projects/PreySelection/v103/models/supplementary/model_asymmetry_learn_options/common.jl:67.\n",
      "│ Use `flatten(a::Array{T}) where T` instead.\n",
      "└ @ ~/GitHubRepo/Projects/PreySelection/v103/models/supplementary/model_asymmetry_learn_options/common.jl:67\n",
      "┌ Warning: Deprecated syntax `parametric method syntax flatten{T}(a::Array{T, 1})` around /Users/neil/GitHubRepo/Projects/PreySelection/v103/models/supplementary/model_asymmetry_learn_options/common.jl:66.\n",
      "│ Use `flatten(a::Array{T, 1}) where T` instead.\n",
      "└ @ ~/GitHubRepo/Projects/PreySelection/v103/models/supplementary/model_asymmetry_learn_options/common.jl:66\n",
      "┌ Warning: Deprecated syntax `parametric method syntax flatten{T}(a::Array{T, 1})` around /Users/neil/GitHubRepo/Projects/PreySelection/v103/models/supplementary/model_asymmetry_learn_options/common.jl:66.\n",
      "│ Use `flatten(a::Array{T, 1}) where T` instead.\n",
      "└ @ ~/GitHubRepo/Projects/PreySelection/v103/models/supplementary/model_asymmetry_learn_options/common.jl:66\n",
      "┌ Warning: Deprecated syntax `parametric method syntax flatten{T}(a::Array{T})` around /Users/neil/GitHubRepo/Projects/PreySelection/v103/models/supplementary/model_asymmetry_learn_options/common.jl:67.\n",
      "│ Use `flatten(a::Array{T}) where T` instead.\n",
      "└ @ ~/GitHubRepo/Projects/PreySelection/v103/models/supplementary/model_asymmetry_learn_options/common.jl:67\n",
      "┌ Warning: Deprecated syntax `parametric method syntax flatten{T}(a::Array{T})` around /Users/neil/GitHubRepo/Projects/PreySelection/v103/models/supplementary/model_asymmetry_learn_options/common.jl:67.\n",
      "│ Use `flatten(a::Array{T}) where T` instead.\n",
      "└ @ ~/GitHubRepo/Projects/PreySelection/v103/models/supplementary/model_asymmetry_learn_options/common.jl:67\n",
      "┌ Warning: Deprecated syntax `try without catch or finally` at /Users/neil/GitHubRepo/Projects/PreySelection/v103/models/supplementary/model_asymmetry_learn_options/genVars.jl:17.\n",
      "└ @ nothing /Users/neil/GitHubRepo/Projects/PreySelection/v103/models/supplementary/model_asymmetry_learn_options/genVars.jl:17\n",
      "┌ Warning: Deprecated syntax `try without catch or finally` at /Users/neil/GitHubRepo/Projects/PreySelection/v103/models/supplementary/model_asymmetry_learn_options/genVars.jl:17.\n",
      "└ @ ~/GitHubRepo/Projects/PreySelection/v103/models/supplementary/model_asymmetry_learn_options/genVars.jl:17\n",
      "┌ Warning: Deprecated syntax `try without catch or finally` at /Users/neil/GitHubRepo/Projects/PreySelection/v103/models/supplementary/model_asymmetry_learn_options/genVars.jl:17.\n",
      "└ @ ~/GitHubRepo/Projects/PreySelection/v103/models/supplementary/model_asymmetry_learn_options/genVars.jl:17\n",
      "┌ Warning: Deprecated syntax `try without catch or finally` at /Users/neil/GitHubRepo/Projects/PreySelection/v103/models/supplementary/model_asymmetry_learn_options/genVars.jl:17.\n",
      "└ @ ~/GitHubRepo/Projects/PreySelection/v103/models/supplementary/model_asymmetry_learn_options/genVars.jl:17\n",
      "┌ Warning: Deprecated syntax `try without catch or finally` at /Users/neil/GitHubRepo/Projects/PreySelection/v103/models/supplementary/model_asymmetry_learn_options/genVars.jl:17.\n",
      "└ @ ~/GitHubRepo/Projects/PreySelection/v103/models/supplementary/model_asymmetry_learn_options/genVars.jl:17\n"
     ]
    }
   ],
   "source": [
    "# load required libraries\n",
    "using Distributed\n",
    "\n",
    "# # set everything up\n",
    "parallel = true # Run on multiple CPUs. \n",
    "\n",
    "# this activates the multiprocessing threads\n",
    "if (parallel)\n",
    "\t# only run this once\n",
    "    addprocs(4)\n",
    "end\n",
    "\n",
    "# load required libraries\n",
    "\n",
    "@everywhere using DataFrames\n",
    "#using DataArrays\n",
    "@everywhere using ForwardDiff\n",
    "@everywhere using PyCall\n",
    "@everywhere using Distributions\n",
    "@everywhere using PyPlot\n",
    "@everywhere using CSV\n",
    "@everywhere using SpecialFunctions\n",
    "@everywhere using SharedArrays\n",
    "@everywhere using LinearAlgebra\n",
    "\n",
    "@everywhere PyCall.@pyimport scipy.optimize as so\n",
    "\n",
    "# this is the code for the actual fitting routines\n",
    "@everywhere include(\"em.jl\")\n",
    "@everywhere include(\"common.jl\")\n",
    "@everywhere include(\"likfuns.jl\")\n",
    "\n",
    "# this is generates starting matricies for betas, sigmas etc to feed into model\n",
    "@everywhere include(\"genVars.jl\")"
   ]
  },
  {
   "cell_type": "markdown",
   "metadata": {
    "heading_collapsed": true
   },
   "source": [
    "# Data read and process"
   ]
  },
  {
   "cell_type": "markdown",
   "metadata": {
    "hidden": true
   },
   "source": [
    "### Read in trial by trial data"
   ]
  },
  {
   "cell_type": "code",
   "execution_count": 2,
   "metadata": {
    "hidden": true
   },
   "outputs": [
    {
     "name": "stderr",
     "output_type": "stream",
     "text": [
      "┌ Warning: readtable is deprecated, use CSV.read from the CSV package instead\n",
      "│   caller = top-level scope at In[2]:1\n",
      "└ @ Core In[2]:1\n"
     ]
    },
    {
     "data": {
      "text/html": [
       "<table class=\"data-frame\"><thead><tr><th></th><th>subj</th><th>trial_index_actual</th><th>block</th><th>stimulus</th><th>stim_rank</th><th>reward_percent</th><th>delay_s</th><th>profitability</th><th>stim_left_right</th><th>key_press</th><th>approach_avoid</th><th>rt</th><th>rt_z</th><th>force_trial</th><th>missed</th><th>order_condition</th><th>exclude</th><th>exclude_reason</th></tr><tr><th></th><th>Int64⍰</th><th>Int64⍰</th><th>Int64⍰</th><th>String⍰</th><th>Int64⍰</th><th>Int64⍰</th><th>Int64⍰</th><th>Float64⍰</th><th>String⍰</th><th>Int64⍰</th><th>Float64⍰</th><th>Float64⍰</th><th>Float64⍰</th><th>Int64⍰</th><th>Int64⍰</th><th>Int64⍰</th><th>Int64⍰</th><th>String⍰</th></tr></thead><tbody><tr><th>1</th><td>1</td><td>0</td><td>1</td><td>../static/images/invador2.png</td><td>4</td><td>20</td><td>8</td><td>2.5</td><td>left</td><td>74</td><td>-1.0</td><td>1172.0</td><td>1.475</td><td>0</td><td>0</td><td>2</td><td>0</td><td>do not exclude</td></tr><tr><th>2</th><td>1</td><td>1</td><td>1</td><td>../static/images/invador3.png</td><td>1</td><td>80</td><td>2</td><td>40.0</td><td>right</td><td>74</td><td>1.0</td><td>1046.0</td><td>0.846311</td><td>1</td><td>0</td><td>2</td><td>0</td><td>do not exclude</td></tr><tr><th>3</th><td>1</td><td>2</td><td>1</td><td>../static/images/invador1.png</td><td>3</td><td>80</td><td>8</td><td>10.0</td><td>left</td><td>70</td><td>1.0</td><td>743.0</td><td>-0.665547</td><td>0</td><td>0</td><td>2</td><td>0</td><td>do not exclude</td></tr><tr><th>4</th><td>1</td><td>3</td><td>1</td><td>../static/images/invador2.png</td><td>4</td><td>20</td><td>8</td><td>2.5</td><td>right</td><td>74</td><td>NaN</td><td>NaN</td><td>NaN</td><td>1</td><td>1</td><td>2</td><td>0</td><td>do not exclude</td></tr><tr><th>5</th><td>1</td><td>4</td><td>1</td><td>../static/images/invador2.png</td><td>4</td><td>20</td><td>8</td><td>2.5</td><td>left</td><td>70</td><td>1.0</td><td>858.0</td><td>-0.0917396</td><td>0</td><td>0</td><td>2</td><td>0</td><td>do not exclude</td></tr><tr><th>6</th><td>1</td><td>5</td><td>1</td><td>../static/images/invador4.png</td><td>2</td><td>20</td><td>2</td><td>10.0</td><td>left</td><td>70</td><td>1.0</td><td>818.0</td><td>-0.291325</td><td>0</td><td>0</td><td>2</td><td>0</td><td>do not exclude</td></tr></tbody></table>"
      ],
      "text/latex": [
       "\\begin{tabular}{r|cccccccccccccccccc}\n",
       "\t& subj & trial\\_index\\_actual & block & stimulus & stim\\_rank & reward\\_percent & delay\\_s & profitability & stim\\_left\\_right & key\\_press & approach\\_avoid & rt & rt\\_z & force\\_trial & missed & order\\_condition & exclude & exclude\\_reason\\\\\n",
       "\t\\hline\n",
       "\t1 & 1 & 0 & 1 & ../static/images/invador2.png & 4 & 20 & 8 & 2.5 & left & 74 & -1.0 & 1172.0 & 1.475 & 0 & 0 & 2 & 0 & do not exclude \\\\\n",
       "\t2 & 1 & 1 & 1 & ../static/images/invador3.png & 1 & 80 & 2 & 40.0 & right & 74 & 1.0 & 1046.0 & 0.846311 & 1 & 0 & 2 & 0 & do not exclude \\\\\n",
       "\t3 & 1 & 2 & 1 & ../static/images/invador1.png & 3 & 80 & 8 & 10.0 & left & 70 & 1.0 & 743.0 & -0.665547 & 0 & 0 & 2 & 0 & do not exclude \\\\\n",
       "\t4 & 1 & 3 & 1 & ../static/images/invador2.png & 4 & 20 & 8 & 2.5 & right & 74 & NaN & NaN & NaN & 1 & 1 & 2 & 0 & do not exclude \\\\\n",
       "\t5 & 1 & 4 & 1 & ../static/images/invador2.png & 4 & 20 & 8 & 2.5 & left & 70 & 1.0 & 858.0 & -0.0917396 & 0 & 0 & 2 & 0 & do not exclude \\\\\n",
       "\t6 & 1 & 5 & 1 & ../static/images/invador4.png & 2 & 20 & 2 & 10.0 & left & 70 & 1.0 & 818.0 & -0.291325 & 0 & 0 & 2 & 0 & do not exclude \\\\\n",
       "\\end{tabular}\n"
      ],
      "text/plain": [
       "6×18 DataFrame. Omitted printing of 14 columns\n",
       "│ Row │ subj   │ trial_index_actual │ block  │ stimulus                      │\n",
       "│     │ \u001b[90mInt64⍰\u001b[39m │ \u001b[90mInt64⍰\u001b[39m             │ \u001b[90mInt64⍰\u001b[39m │ \u001b[90mUnion{Missing, String}\u001b[39m        │\n",
       "├─────┼────────┼────────────────────┼────────┼───────────────────────────────┤\n",
       "│ 1   │ 1      │ 0                  │ 1      │ ../static/images/invador2.png │\n",
       "│ 2   │ 1      │ 1                  │ 1      │ ../static/images/invador3.png │\n",
       "│ 3   │ 1      │ 2                  │ 1      │ ../static/images/invador1.png │\n",
       "│ 4   │ 1      │ 3                  │ 1      │ ../static/images/invador2.png │\n",
       "│ 5   │ 1      │ 4                  │ 1      │ ../static/images/invador2.png │\n",
       "│ 6   │ 1      │ 5                  │ 1      │ ../static/images/invador4.png │"
      ]
     },
     "execution_count": 2,
     "metadata": {},
     "output_type": "execute_result"
    }
   ],
   "source": [
    "#read in csv file of the data\n",
    "#trial by trial data: note will include force trials and missed responses\n",
    "df = readtable(\"/Users/neil/GitHubRepo/Projects/PreySelection/v103/data/trialdata_103_processed.csv\")\n",
    "\n",
    "#display header\n",
    "head(df)\n"
   ]
  },
  {
   "cell_type": "markdown",
   "metadata": {
    "hidden": true
   },
   "source": [
    "### Append data with the column \"sub\" \n"
   ]
  },
  {
   "cell_type": "code",
   "execution_count": 3,
   "metadata": {
    "collapsed": true,
    "hidden": true
   },
   "outputs": [],
   "source": [
    "#this is just a replica of the existing column sub_no but think em looks for \"sub\" specifically\n",
    "df[:sub] = df[:subj];\n"
   ]
  },
  {
   "cell_type": "markdown",
   "metadata": {
    "hidden": true
   },
   "source": [
    "### Get rid of excluded subs"
   ]
  },
  {
   "cell_type": "code",
   "execution_count": 4,
   "metadata": {
    "collapsed": true,
    "hidden": true
   },
   "outputs": [],
   "source": [
    "df = df[df[:exclude].==0,:];\n"
   ]
  },
  {
   "cell_type": "markdown",
   "metadata": {
    "hidden": true
   },
   "source": [
    "### Convert approach avoid to 2s and 1s , missed as 0. Then convert to integers (necessary to use as an index)"
   ]
  },
  {
   "cell_type": "code",
   "execution_count": 5,
   "metadata": {
    "hidden": true
   },
   "outputs": [
    {
     "name": "stderr",
     "output_type": "stream",
     "text": [
      "┌ Warning: `find(A::AbstractVector)` is deprecated, use `findall(A)` instead.\n",
      "│   caller = top-level scope at In[5]:4\n",
      "└ @ Core In[5]:4\n"
     ]
    },
    {
     "data": {
      "text/html": [
       "<table class=\"data-frame\"><thead><tr><th></th><th>subj</th><th>trial_index_actual</th><th>block</th><th>stimulus</th><th>stim_rank</th><th>reward_percent</th><th>delay_s</th><th>profitability</th><th>stim_left_right</th><th>key_press</th><th>approach_avoid</th><th>rt</th><th>rt_z</th><th>force_trial</th><th>missed</th><th>order_condition</th><th>exclude</th><th>exclude_reason</th><th>sub</th></tr><tr><th></th><th>Int64⍰</th><th>Int64⍰</th><th>Int64⍰</th><th>String⍰</th><th>Int64⍰</th><th>Int64⍰</th><th>Int64⍰</th><th>Float64⍰</th><th>String⍰</th><th>Int64⍰</th><th>Integer</th><th>Float64⍰</th><th>Float64⍰</th><th>Int64⍰</th><th>Int64⍰</th><th>Int64⍰</th><th>Int64⍰</th><th>String⍰</th><th>Int64⍰</th></tr></thead><tbody><tr><th>1</th><td>1</td><td>0</td><td>1</td><td>../static/images/invador2.png</td><td>4</td><td>20</td><td>8</td><td>2.5</td><td>left</td><td>74</td><td>1</td><td>1172.0</td><td>1.475</td><td>0</td><td>0</td><td>2</td><td>0</td><td>do not exclude</td><td>1</td></tr><tr><th>2</th><td>1</td><td>1</td><td>1</td><td>../static/images/invador3.png</td><td>1</td><td>80</td><td>2</td><td>40.0</td><td>right</td><td>74</td><td>2</td><td>1046.0</td><td>0.846311</td><td>1</td><td>0</td><td>2</td><td>0</td><td>do not exclude</td><td>1</td></tr><tr><th>3</th><td>1</td><td>2</td><td>1</td><td>../static/images/invador1.png</td><td>3</td><td>80</td><td>8</td><td>10.0</td><td>left</td><td>70</td><td>2</td><td>743.0</td><td>-0.665547</td><td>0</td><td>0</td><td>2</td><td>0</td><td>do not exclude</td><td>1</td></tr><tr><th>4</th><td>1</td><td>3</td><td>1</td><td>../static/images/invador2.png</td><td>4</td><td>20</td><td>8</td><td>2.5</td><td>right</td><td>74</td><td>0</td><td>NaN</td><td>NaN</td><td>1</td><td>1</td><td>2</td><td>0</td><td>do not exclude</td><td>1</td></tr><tr><th>5</th><td>1</td><td>4</td><td>1</td><td>../static/images/invador2.png</td><td>4</td><td>20</td><td>8</td><td>2.5</td><td>left</td><td>70</td><td>2</td><td>858.0</td><td>-0.0917396</td><td>0</td><td>0</td><td>2</td><td>0</td><td>do not exclude</td><td>1</td></tr><tr><th>6</th><td>1</td><td>5</td><td>1</td><td>../static/images/invador4.png</td><td>2</td><td>20</td><td>2</td><td>10.0</td><td>left</td><td>70</td><td>2</td><td>818.0</td><td>-0.291325</td><td>0</td><td>0</td><td>2</td><td>0</td><td>do not exclude</td><td>1</td></tr></tbody></table>"
      ],
      "text/latex": [
       "\\begin{tabular}{r|ccccccccccccccccccc}\n",
       "\t& subj & trial\\_index\\_actual & block & stimulus & stim\\_rank & reward\\_percent & delay\\_s & profitability & stim\\_left\\_right & key\\_press & approach\\_avoid & rt & rt\\_z & force\\_trial & missed & order\\_condition & exclude & exclude\\_reason & sub\\\\\n",
       "\t\\hline\n",
       "\t1 & 1 & 0 & 1 & ../static/images/invador2.png & 4 & 20 & 8 & 2.5 & left & 74 & 1 & 1172.0 & 1.475 & 0 & 0 & 2 & 0 & do not exclude & 1 \\\\\n",
       "\t2 & 1 & 1 & 1 & ../static/images/invador3.png & 1 & 80 & 2 & 40.0 & right & 74 & 2 & 1046.0 & 0.846311 & 1 & 0 & 2 & 0 & do not exclude & 1 \\\\\n",
       "\t3 & 1 & 2 & 1 & ../static/images/invador1.png & 3 & 80 & 8 & 10.0 & left & 70 & 2 & 743.0 & -0.665547 & 0 & 0 & 2 & 0 & do not exclude & 1 \\\\\n",
       "\t4 & 1 & 3 & 1 & ../static/images/invador2.png & 4 & 20 & 8 & 2.5 & right & 74 & 0 & NaN & NaN & 1 & 1 & 2 & 0 & do not exclude & 1 \\\\\n",
       "\t5 & 1 & 4 & 1 & ../static/images/invador2.png & 4 & 20 & 8 & 2.5 & left & 70 & 2 & 858.0 & -0.0917396 & 0 & 0 & 2 & 0 & do not exclude & 1 \\\\\n",
       "\t6 & 1 & 5 & 1 & ../static/images/invador4.png & 2 & 20 & 2 & 10.0 & left & 70 & 2 & 818.0 & -0.291325 & 0 & 0 & 2 & 0 & do not exclude & 1 \\\\\n",
       "\\end{tabular}\n"
      ],
      "text/plain": [
       "6×19 DataFrame. Omitted printing of 15 columns\n",
       "│ Row │ subj   │ trial_index_actual │ block  │ stimulus                      │\n",
       "│     │ \u001b[90mInt64⍰\u001b[39m │ \u001b[90mInt64⍰\u001b[39m             │ \u001b[90mInt64⍰\u001b[39m │ \u001b[90mUnion{Missing, String}\u001b[39m        │\n",
       "├─────┼────────┼────────────────────┼────────┼───────────────────────────────┤\n",
       "│ 1   │ 1      │ 0                  │ 1      │ ../static/images/invador2.png │\n",
       "│ 2   │ 1      │ 1                  │ 1      │ ../static/images/invador3.png │\n",
       "│ 3   │ 1      │ 2                  │ 1      │ ../static/images/invador1.png │\n",
       "│ 4   │ 1      │ 3                  │ 1      │ ../static/images/invador2.png │\n",
       "│ 5   │ 1      │ 4                  │ 1      │ ../static/images/invador2.png │\n",
       "│ 6   │ 1      │ 5                  │ 1      │ ../static/images/invador4.png │"
      ]
     },
     "execution_count": 5,
     "metadata": {},
     "output_type": "execute_result"
    }
   ],
   "source": [
    "#convert approach_avoid to 1s (avoid) and 2s (approach)\n",
    "df[df[:approach_avoid].==1,:approach_avoid] = 2\n",
    "df[df[:approach_avoid].==-1,:approach_avoid] = 1\n",
    "\n",
    "index_NaN = find(isnan.(df[:approach_avoid]))\n",
    "df[index_NaN, :approach_avoid] = 0\n",
    "\n",
    "df[:approach_avoid] = convert(Vector{Integer}, df[:approach_avoid])\n",
    "\n",
    "head(df)\n"
   ]
  },
  {
   "cell_type": "markdown",
   "metadata": {
    "hidden": true
   },
   "source": [
    "### Read in summary stats"
   ]
  },
  {
   "cell_type": "code",
   "execution_count": 6,
   "metadata": {
    "hidden": true
   },
   "outputs": [
    {
     "name": "stderr",
     "output_type": "stream",
     "text": [
      "┌ Warning: readtable is deprecated, use CSV.read from the CSV package instead\n",
      "│   caller = top-level scope at In[6]:1\n",
      "└ @ Core In[6]:1\n"
     ]
    },
    {
     "data": {
      "text/html": [
       "<table class=\"data-frame\"><thead><tr><th></th><th>MturkID</th><th>AssignID</th><th>sub_no</th><th>age</th><th>gender</th><th>n_trials</th><th>n_force_wrong</th><th>n_missed</th><th>bonus_payment</th><th>percent_accept_A1</th><th>percent_accept_A2</th><th>percent_accept_A3</th><th>percent_accept_A4</th><th>percent_accept_A2_A3</th><th>percent_accept_B1</th><th>percent_accept_B2</th><th>percent_accept_B3</th><th>percent_accept_B4</th><th>percent_accept_B2_B3</th><th>percent_accept_B1_min_A1</th><th>percent_accept_B2_min_A2</th><th>percent_accept_B3_min_A3</th><th>percent_accept_B4_min_A4</th><th>percent_accept_B2_B3_min_A2_A3</th><th>percent_accept_AB1</th><th>percent_accept_AB2</th><th>percent_accept_AB3</th><th>percent_accept_AB4</th><th>percent_accept_AB2_AB3</th><th>exclude</th><th>exclude_reason</th><th>order_condition</th><th>comment</th></tr><tr><th></th><th>String⍰</th><th>String⍰</th><th>Int64⍰</th><th>Int64⍰</th><th>String⍰</th><th>Int64⍰</th><th>Int64⍰</th><th>Int64⍰</th><th>Float64⍰</th><th>Float64⍰</th><th>Float64⍰</th><th>Float64⍰</th><th>Float64⍰</th><th>Float64⍰</th><th>Float64⍰</th><th>Float64⍰</th><th>Float64⍰</th><th>Float64⍰</th><th>Float64⍰</th><th>Float64⍰</th><th>Float64⍰</th><th>Float64⍰</th><th>Float64⍰</th><th>Float64⍰</th><th>Float64⍰</th><th>Float64⍰</th><th>Float64⍰</th><th>Float64⍰</th><th>Float64⍰</th><th>Int64⍰</th><th>String⍰</th><th>Int64⍰</th><th>String⍰</th></tr></thead><tbody><tr><th>1</th><td>A3V1WO6CU1EQA1</td><td>3TXWC2NHNZQV07CW65J93JAODMK9SI</td><td>1</td><td>23</td><td>M</td><td>434</td><td>4</td><td>4</td><td>3.8</td><td>0.989362</td><td>0.0</td><td>0.15</td><td>0.037037</td><td>0.075</td><td>0.947368</td><td>0.592593</td><td>0.761905</td><td>0.134021</td><td>0.666667</td><td>-0.0419933</td><td>0.592593</td><td>0.611905</td><td>0.0969836</td><td>0.591667</td><td>0.982301</td><td>0.340426</td><td>0.463415</td><td>0.112903</td><td>0.397727</td><td>0</td><td>do not exclude</td><td>2</td><td>It would be great to have a feature that shows your current amount of fuel collected. Otherwise, great hit!</td></tr><tr><th>2</th><td>A2VRDE2FHCBMF8</td><td>3QHK8ZVMIMIRKNW3KG04I3RJ9SFBLG</td><td>2</td><td>38</td><td>m</td><td>437</td><td>57</td><td>29</td><td>3.6</td><td>0.988235</td><td>0.85</td><td>0.0</td><td>0.0</td><td>0.395349</td><td>0.904762</td><td>0.958333</td><td>0.0357143</td><td>0.0215054</td><td>0.461538</td><td>-0.0834734</td><td>0.108333</td><td>0.0357143</td><td>0.0215054</td><td>0.0661896</td><td>0.971698</td><td>0.909091</td><td>0.0196078</td><td>0.0183486</td><td>0.431579</td><td>1</td><td>&gt;19 missed</td><td>2</td><td>It has been funny, thank you! When I missed too many * I decided to change my strategy ad I aimed just for the grey and the green invaders despite the position of other *.</td></tr><tr><th>3</th><td>AHPOUVK6YUTK1</td><td>3A4NIXBJ76ZN3E00B5QDWJ2DLRJLMF</td><td>3</td><td>32</td><td>f</td><td>480</td><td>3</td><td>2</td><td>3.8</td><td>0.980769</td><td>0.96</td><td>0.0</td><td>0.0833333</td><td>0.470588</td><td>1.0</td><td>1.0</td><td>0.0</td><td>0.0</td><td>0.464286</td><td>0.0192308</td><td>0.04</td><td>0.0</td><td>-0.0833333</td><td>-0.00630252</td><td>0.985294</td><td>0.980392</td><td>0.0</td><td>0.0147059</td><td>0.46729</td><td>0</td><td>do not exclude</td><td>1</td><td>That was fun, but my arm hurts from sitting in the same position for too long!</td></tr><tr><th>4</th><td>A150GMV1YQWWB3</td><td>3TE22NPXPBCB1G49Z9R0O8J2DE344A</td><td>4</td><td>37</td><td>m</td><td>409</td><td>2</td><td>5</td><td>3.9</td><td>0.98913</td><td>0.9</td><td>0.818182</td><td>0.0416667</td><td>0.857143</td><td>0.904762</td><td>0.52381</td><td>1.0</td><td>0.021978</td><td>0.761905</td><td>-0.0843685</td><td>-0.37619</td><td>0.181818</td><td>-0.0196886</td><td>-0.0952381</td><td>0.973451</td><td>0.707317</td><td>0.906977</td><td>0.026087</td><td>0.809524</td><td>0</td><td>do not exclude</td><td>2</td><td></td></tr><tr><th>5</th><td>A5EU1AQJNC7F2</td><td>3F1567XTNW5JNRXJE1U48JVNVYZ9QT</td><td>5</td><td>28</td><td>F</td><td>386</td><td>13</td><td>28</td><td>3.5</td><td>0.933333</td><td>0.473684</td><td>0.347826</td><td>0.1</td><td>0.404762</td><td>0.947368</td><td>0.764706</td><td>0.736842</td><td>0.0789474</td><td>0.75</td><td>0.0140351</td><td>0.291022</td><td>0.389016</td><td>-0.0210526</td><td>0.345238</td><td>0.93617</td><td>0.611111</td><td>0.52381</td><td>0.0833333</td><td>0.564103</td><td>1</td><td>&gt;19 missed</td><td>2</td><td>none</td></tr><tr><th>6</th><td>AHDBHMH3AY1V2</td><td>3FTOP5WARFOK5A5TJFR2I7I8EZDJ00</td><td>6</td><td>31</td><td>m</td><td>421</td><td>1</td><td>3</td><td>3.9</td><td>1.0</td><td>0.833333</td><td>0.0454545</td><td>0.136364</td><td>0.456522</td><td>1.0</td><td>0.875</td><td>1.0</td><td>0.043956</td><td>0.948718</td><td>0.0</td><td>0.0416667</td><td>0.954545</td><td>-0.0924076</td><td>0.492196</td><td>1.0</td><td>0.85</td><td>0.533333</td><td>0.0619469</td><td>0.682353</td><td>0</td><td>do not exclude</td><td>2</td><td></td></tr></tbody></table>"
      ],
      "text/latex": [
       "\\begin{tabular}{r|ccccccccccccccccccccccccccccccccc}\n",
       "\t& MturkID & AssignID & sub\\_no & age & gender & n\\_trials & n\\_force\\_wrong & n\\_missed & bonus\\_payment & percent\\_accept\\_A1 & percent\\_accept\\_A2 & percent\\_accept\\_A3 & percent\\_accept\\_A4 & percent\\_accept\\_A2\\_A3 & percent\\_accept\\_B1 & percent\\_accept\\_B2 & percent\\_accept\\_B3 & percent\\_accept\\_B4 & percent\\_accept\\_B2\\_B3 & percent\\_accept\\_B1\\_min\\_A1 & percent\\_accept\\_B2\\_min\\_A2 & percent\\_accept\\_B3\\_min\\_A3 & percent\\_accept\\_B4\\_min\\_A4 & percent\\_accept\\_B2\\_B3\\_min\\_A2\\_A3 & percent\\_accept\\_AB1 & percent\\_accept\\_AB2 & percent\\_accept\\_AB3 & percent\\_accept\\_AB4 & percent\\_accept\\_AB2\\_AB3 & exclude & exclude\\_reason & order\\_condition & comment\\\\\n",
       "\t\\hline\n",
       "\t1 & A3V1WO6CU1EQA1 & 3TXWC2NHNZQV07CW65J93JAODMK9SI & 1 & 23 & M & 434 & 4 & 4 & 3.8 & 0.989362 & 0.0 & 0.15 & 0.037037 & 0.075 & 0.947368 & 0.592593 & 0.761905 & 0.134021 & 0.666667 & -0.0419933 & 0.592593 & 0.611905 & 0.0969836 & 0.591667 & 0.982301 & 0.340426 & 0.463415 & 0.112903 & 0.397727 & 0 & do not exclude & 2 & It would be great to have a feature that shows your current amount of fuel collected. Otherwise, great hit! \\\\\n",
       "\t2 & A2VRDE2FHCBMF8 & 3QHK8ZVMIMIRKNW3KG04I3RJ9SFBLG & 2 & 38 & m & 437 & 57 & 29 & 3.6 & 0.988235 & 0.85 & 0.0 & 0.0 & 0.395349 & 0.904762 & 0.958333 & 0.0357143 & 0.0215054 & 0.461538 & -0.0834734 & 0.108333 & 0.0357143 & 0.0215054 & 0.0661896 & 0.971698 & 0.909091 & 0.0196078 & 0.0183486 & 0.431579 & 1 & >19 missed & 2 & It has been funny, thank you! When I missed too many * I decided to change my strategy ad I aimed just for the grey and the green invaders despite the position of other *. \\\\\n",
       "\t3 & AHPOUVK6YUTK1 & 3A4NIXBJ76ZN3E00B5QDWJ2DLRJLMF & 3 & 32 & f & 480 & 3 & 2 & 3.8 & 0.980769 & 0.96 & 0.0 & 0.0833333 & 0.470588 & 1.0 & 1.0 & 0.0 & 0.0 & 0.464286 & 0.0192308 & 0.04 & 0.0 & -0.0833333 & -0.00630252 & 0.985294 & 0.980392 & 0.0 & 0.0147059 & 0.46729 & 0 & do not exclude & 1 & That was fun, but my arm hurts from sitting in the same position for too long! \\\\\n",
       "\t4 & A150GMV1YQWWB3 & 3TE22NPXPBCB1G49Z9R0O8J2DE344A & 4 & 37 & m & 409 & 2 & 5 & 3.9 & 0.98913 & 0.9 & 0.818182 & 0.0416667 & 0.857143 & 0.904762 & 0.52381 & 1.0 & 0.021978 & 0.761905 & -0.0843685 & -0.37619 & 0.181818 & -0.0196886 & -0.0952381 & 0.973451 & 0.707317 & 0.906977 & 0.026087 & 0.809524 & 0 & do not exclude & 2 &  \\\\\n",
       "\t5 & A5EU1AQJNC7F2 & 3F1567XTNW5JNRXJE1U48JVNVYZ9QT & 5 & 28 & F & 386 & 13 & 28 & 3.5 & 0.933333 & 0.473684 & 0.347826 & 0.1 & 0.404762 & 0.947368 & 0.764706 & 0.736842 & 0.0789474 & 0.75 & 0.0140351 & 0.291022 & 0.389016 & -0.0210526 & 0.345238 & 0.93617 & 0.611111 & 0.52381 & 0.0833333 & 0.564103 & 1 & >19 missed & 2 & none \\\\\n",
       "\t6 & AHDBHMH3AY1V2 & 3FTOP5WARFOK5A5TJFR2I7I8EZDJ00 & 6 & 31 & m & 421 & 1 & 3 & 3.9 & 1.0 & 0.833333 & 0.0454545 & 0.136364 & 0.456522 & 1.0 & 0.875 & 1.0 & 0.043956 & 0.948718 & 0.0 & 0.0416667 & 0.954545 & -0.0924076 & 0.492196 & 1.0 & 0.85 & 0.533333 & 0.0619469 & 0.682353 & 0 & do not exclude & 2 &  \\\\\n",
       "\\end{tabular}\n"
      ],
      "text/plain": [
       "6×33 DataFrame. Omitted printing of 29 columns\n",
       "│ Row │ MturkID        │ AssignID                       │ sub_no │ age    │\n",
       "│     │ \u001b[90mString⍰\u001b[39m        │ \u001b[90mUnion{Missing, String}\u001b[39m         │ \u001b[90mInt64⍰\u001b[39m │ \u001b[90mInt64⍰\u001b[39m │\n",
       "├─────┼────────────────┼────────────────────────────────┼────────┼────────┤\n",
       "│ 1   │ A3V1WO6CU1EQA1 │ 3TXWC2NHNZQV07CW65J93JAODMK9SI │ 1      │ 23     │\n",
       "│ 2   │ A2VRDE2FHCBMF8 │ 3QHK8ZVMIMIRKNW3KG04I3RJ9SFBLG │ 2      │ 38     │\n",
       "│ 3   │ AHPOUVK6YUTK1  │ 3A4NIXBJ76ZN3E00B5QDWJ2DLRJLMF │ 3      │ 32     │\n",
       "│ 4   │ A150GMV1YQWWB3 │ 3TE22NPXPBCB1G49Z9R0O8J2DE344A │ 4      │ 37     │\n",
       "│ 5   │ A5EU1AQJNC7F2  │ 3F1567XTNW5JNRXJE1U48JVNVYZ9QT │ 5      │ 28     │\n",
       "│ 6   │ AHDBHMH3AY1V2  │ 3FTOP5WARFOK5A5TJFR2I7I8EZDJ00 │ 6      │ 31     │"
      ]
     },
     "execution_count": 6,
     "metadata": {},
     "output_type": "execute_result"
    }
   ],
   "source": [
    "summary_stats = readtable(\"/Users/neil/GitHubRepo/Projects/PreySelection/v103/data/subdata_103.csv\")\n",
    "head(summary_stats)"
   ]
  },
  {
   "cell_type": "markdown",
   "metadata": {
    "hidden": true
   },
   "source": [
    "### Get rid of excluded subs"
   ]
  },
  {
   "cell_type": "code",
   "execution_count": 7,
   "metadata": {
    "collapsed": true,
    "hidden": true
   },
   "outputs": [],
   "source": [
    "summary_stats = summary_stats[summary_stats[:exclude].==0,:];\n"
   ]
  },
  {
   "cell_type": "markdown",
   "metadata": {
    "hidden": true
   },
   "source": [
    "### Get rid of Mturk ID etc (first 3 columns)"
   ]
  },
  {
   "cell_type": "code",
   "execution_count": 8,
   "metadata": {
    "hidden": true
   },
   "outputs": [
    {
     "name": "stderr",
     "output_type": "stream",
     "text": [
      "┌ Warning: indexing with colon as row will create a copy in the future use df[col_inds] to get the columns without copying\n",
      "│   caller = top-level scope at In[8]:1\n",
      "└ @ Core In[8]:1\n"
     ]
    }
   ],
   "source": [
    "summary_stats = summary_stats[:,4:end];"
   ]
  },
  {
   "cell_type": "markdown",
   "metadata": {
    "heading_collapsed": true
   },
   "source": [
    "# Asymmetry Model Learn Options\n",
    "\n",
    "This model comprises: \n",
    "\n",
    "1. An intercept which reflects degree of bias to reject.\n",
    "\n",
    "2. A beta (termperature parameter) which controls sensitivity to the difference between the options (0 = pick 50/50. Higher it is, the more sensative subs are tothe different options (more step functionesque). <br>\n",
    "\n",
    "3. Two learning rates: one for appetative component (reward), one for aversive (delay) for average reward rate\n",
    "\n",
    "4. Seperate learning rate for learning the value of the options (no longer assume they know this)\n",
    "\n",
    "Uses Q learned average to predict choice\n",
    "\n",
    "Initalise Qaverage in model at the arithmetic average over all subs over both sessions"
   ]
  },
  {
   "cell_type": "code",
   "execution_count": 11,
   "metadata": {
    "collapsed": true,
    "hidden": true
   },
   "outputs": [],
   "source": [
    "@everywhere function model_asymmetry_learn_options(params, data)\n",
    "     \n",
    "    #model parameters\n",
    "    intercept = params[1]\n",
    "    beta = params[2]\n",
    "    lr_environment_reward = 0.5 .+ 0.5.*erf(params[3]/sqrt(2))\n",
    "    lr_environment_delay = 0.5 .+ 0.5.*erf(params[4]/sqrt(2))\n",
    "    lr_options = 0.5 .+ 0.5.*erf(params[5]/sqrt(2))\n",
    "   \n",
    "    \n",
    "    #initalise various variables\n",
    "    delay_sum = zeros(typeof(beta),1)\n",
    "    reward_sum = zeros(typeof(beta),1)\n",
    "    Q_arithmetic = zeros(typeof(beta),1) # stores actual (arithmetic) average reward rate\n",
    "    opp_cost_arithmetic = zeros(typeof(beta),1) # stores actual (arithmetic) opp cost\n",
    "    Q_estimate = zeros(typeof(beta),1) .+ 8.22 # stores estimated global reward rate\n",
    "    opp_cost_estimate = zeros(typeof(beta),1) # stores estimated opp cost\n",
    "    \n",
    "    Qd = zeros(typeof(beta),2) # decision variable; 1st element is the opp cost of accepting (or value of rejecting), 2nd element is just the reward of the option (value of accepting)\n",
    "\n",
    "    # maintains estimate of the reward for each option (options indexed by rank: 1-4). \n",
    "    Q_options_reward = zeros(typeof(beta),4)\n",
    "    Q_options_delay = zeros(typeof(beta),4)\n",
    "    \n",
    "    lik = 0 #likelihood\n",
    "\n",
    "    #these store new trial by trial values (e.g. Q estimate on each trial etc.)\n",
    "    reward_sum_store = [];\n",
    "    delay_sum_store = [];\n",
    "    Q_arithmetic_store = [];\n",
    "    opp_cost_arithmetic_store  = []; \n",
    "    Q_estimate_store = [];\n",
    "    opp_cost_estimate_store = [];\n",
    "\n",
    "    #extract various variables from the dataframe\n",
    "    reward = data[:reward_percent]\n",
    "    delay = data[:delay_s]\n",
    "    force = data[:force_trial]  \n",
    "    missed = data[:missed] #missed responses \n",
    "    c = data[:approach_avoid] #choice\n",
    "    option_rank = data[:stim_rank] #option rank \n",
    "\n",
    "    for i = 1:length(c)\n",
    "        \n",
    "            #option presented in current trial\n",
    "            option_index = option_rank[i]\n",
    "        \n",
    "            # 2 seconds without reward on each trial regadless of accept/reject\n",
    "            delay_sum .+= 2;\n",
    "         \n",
    "            # calculate current (arithmetic) reward per second from number of seconds elapsed and reward accured\n",
    "            Q_arithmetic = reward_sum./delay_sum\n",
    "            opp_cost_arithmetic = Q_arithmetic*delay[i]\n",
    "           \n",
    "            # decrease estimate of global reward rate for encounter time (2seconds)\n",
    "            Q_estimate = (1-lr_environment_delay) * Q_estimate .+ 0\n",
    "            Q_estimate = (1-lr_environment_delay) * Q_estimate .+ 0\n",
    "        \n",
    "            #calculate estimate of opportunity cost given estimate of reward rate and delay incurred by option \n",
    "            opp_cost_estimate = Q_estimate*Q_options_delay[option_index]\n",
    "        \n",
    "            #add trial by trial values \n",
    "            append!(reward_sum_store, reward_sum)\n",
    "            append!(delay_sum_store, delay_sum)\n",
    "            append!(Q_arithmetic_store, Q_arithmetic)\n",
    "            append!(opp_cost_arithmetic_store, opp_cost_arithmetic)\n",
    "            append!(Q_estimate_store, Q_estimate)\n",
    "            append!(opp_cost_estimate_store, opp_cost_estimate)\n",
    "        \n",
    "            # if not a force trial predict choice based on current values\n",
    "            if ((force[i]<1) & (missed[i]<1))\n",
    "                        \n",
    "                # decision variable - the estimate of opportunity cost (\"reward\" of rejecting) versus \n",
    "                # reward of the current option (if accepted)\n",
    "                Qd = [intercept, 0] .+ [beta.*opp_cost_estimate[1], beta.*Q_options_reward[option_index]]\n",
    "\n",
    "                # increment likelihood\n",
    "                lik += Qd[c[i]] - log(sum(exp.(Qd)))\n",
    "            \n",
    "            end\n",
    "            \n",
    "            #incur 8second time out for missed response\n",
    "            if (missed[i]==1)\n",
    "                \n",
    "                delay_sum .+= 8\n",
    "            \n",
    "                for j = 1:8\n",
    "                \n",
    "                     Q_estimate = (1-lr_environment_delay) * Q_estimate .+ 0\n",
    "\n",
    "                end\n",
    "            \n",
    "            end\n",
    "        \n",
    "            # regardless of whether a force trial or not, \n",
    "            # if accept the option, Q_estimate updates and there is a delay incurred\n",
    "            if ((c[i] == 2) & (missed[i]==0))\n",
    "                \n",
    "                delay_sum .+= delay[i]\n",
    "                reward_sum .+= reward[i]\n",
    "            \n",
    "                for j = 1:delay[i]\n",
    "                \n",
    "                    Q_estimate = (1-lr_environment_delay) * Q_estimate .+ 0\n",
    "                \n",
    "                end\n",
    "            \n",
    "                    Q_estimate = (1-lr_environment_reward) * Q_estimate .+ lr_environment_reward*reward[i]\n",
    "            \n",
    "                Q_options_reward[option_index] = (1-lr_options)*Q_options_reward[option_index] .+ lr_options*reward[i]\n",
    "                Q_options_delay[option_index] = (1-lr_options)*Q_options_delay[option_index] .+ lr_options*delay[i]\n",
    "                \n",
    "            end\n",
    "    \n",
    "    end\n",
    "    \n",
    "    # compile trial by trial values here\n",
    "    trial_data = DataFrame(reward_sum = reward_sum_store,\n",
    "            delay_sum = delay_sum_store,\n",
    "            Q_arithmetic = Q_arithmetic_store,\n",
    "            opp_cost_arithmetic = opp_cost_arithmetic_store,\n",
    "            Q_estimate = Q_estimate_store,\n",
    "            opp_cost_estimate = opp_cost_estimate_store)\n",
    "    \n",
    "    # here if running em you can only return the likelihood\n",
    "    return -lik\n",
    "    \n",
    "    # but if you run in order to extract trials, subs etc then want to return this\n",
    "    #return (-lik, trial_data)\n",
    "    \n",
    "end\n"
   ]
  },
  {
   "cell_type": "markdown",
   "metadata": {
    "heading_collapsed": true
   },
   "source": [
    "# Parameter optimisiation"
   ]
  },
  {
   "cell_type": "markdown",
   "metadata": {
    "hidden": true
   },
   "source": [
    "### Run model for one subject\n",
    "\n",
    "aids debugging"
   ]
  },
  {
   "cell_type": "code",
   "execution_count": 12,
   "metadata": {
    "hidden": true
   },
   "outputs": [
    {
     "data": {
      "text/plain": [
       "225.2728336819827"
      ]
     },
     "execution_count": 12,
     "metadata": {},
     "output_type": "execute_result"
    }
   ],
   "source": [
    "# initialize parameter structures\n",
    "(df, subs, X, betas, sigma) = genVars(df, 5);\n",
    "\n",
    "# run model for sub 1\n",
    "model_asymmetry_learn_options(betas,df[df[:sub].==subs[1],:])\n"
   ]
  },
  {
   "cell_type": "markdown",
   "metadata": {
    "hidden": true
   },
   "source": [
    "### Run em to get best fit parameters for each subject"
   ]
  },
  {
   "cell_type": "code",
   "execution_count": 13,
   "metadata": {
    "hidden": true
   },
   "outputs": [
    {
     "name": "stdout",
     "output_type": "stream",
     "text": [
      "\n",
      "iter: 32\n",
      "betas: [-1.8, 0.09, -2.56, -2.95, 0.23]\n",
      "sigma: [4.58 0.01 -0.4 0.2 -1.19; 0.01 0.0 -0.01 -0.0 -0.01; -0.4 -0.01 0.44 0.31 0.21; 0.2 -0.0 0.31 0.33 0.06; -1.19 -0.01 0.21 0.06 1.24]\n",
      "change: [-0.0, 1.2e-5, -0.0, -1.0e-6, 4.8e-5, 2.0e-6, 3.9e-5, -6.0e-6, 3.1e-5, -7.0e-6, 3.6e-5, -1.1e-5, -0.000338, -0.000259, 1.4e-5, 1.2e-5, 3.7e-5, 1.7e-5, 0.000227, 5.6e-5]\n",
      "max: 0.000227\n",
      "164.180445 seconds (43.49 M allocations: 1.662 GiB, 0.40% gc time)\n"
     ]
    }
   ],
   "source": [
    "# initialized parameter structures (again)\n",
    "# note that some of the variables (e.g. betas, sigma) are entered and returned by em function \n",
    "(df, subs, X, betas, sigma) = genVars(df, 5);\n",
    "\n",
    "# run for full learner\n",
    "# x contains the parameters for each subject (note not the same as variable X)\n",
    "# l and h are per-subject likelihood and hessians\n",
    "@time (betas, sigma, x, l, h) = em(df, subs, X, betas, sigma, model_asymmetry_learn_options; emtol=1e-3, parallel=true, full=true, quiet=false);\n"
   ]
  },
  {
   "cell_type": "markdown",
   "metadata": {
    "hidden": true
   },
   "source": [
    "### Generate Model Statistics \n",
    "(IAIC, IBIC, LOOCV)"
   ]
  },
  {
   "cell_type": "code",
   "execution_count": 14,
   "metadata": {
    "hidden": true
   },
   "outputs": [
    {
     "name": "stdout",
     "output_type": "stream",
     "text": [
      "Subject: 1..2..3..4..5..6..7..8..9..10..11..12..13..14..15..16..17..18..19..20..21..22..23..24..25..26..27..28..29..30..31..32..33..34..35..36..37..38..39..40.."
     ]
    },
    {
     "data": {
      "text/plain": [
       "40-element Array{Float64,1}:\n",
       " 105.17597582832133 \n",
       "  30.374000056542812\n",
       "  73.9450348243689  \n",
       "  68.84728770343057 \n",
       "  83.27692019115374 \n",
       "  82.53203577001136 \n",
       "  30.31638726896194 \n",
       "  58.143322032764786\n",
       "  41.01649778229009 \n",
       "  71.2082641850933  \n",
       "  58.83034758465124 \n",
       "  24.88119710097701 \n",
       " 118.42196928296562 \n",
       "   ⋮                \n",
       "  64.95063079704879 \n",
       "  88.53411427716192 \n",
       "  80.61482297090673 \n",
       "  52.521056368107914\n",
       " 100.2780627009526  \n",
       "  68.47293957150933 \n",
       "  53.28454865666784 \n",
       "  66.25265161292873 \n",
       " 127.89801127485227 \n",
       "  65.58760464276578 \n",
       "  91.64703335078723 \n",
       "  27.658485794392654"
      ]
     },
     "execution_count": 14,
     "metadata": {},
     "output_type": "execute_result"
    }
   ],
   "source": [
    "## model selection/comparison/scoring\n",
    "\n",
    "# laplace approximation to the aggregate log marginal likelihood of the whole dataset\n",
    "# marginalized over the individual params\n",
    "\n",
    "aggll = lml(x,l,h)\n",
    "\n",
    "# to compare this between models you need to correct for the group-level free parameters\n",
    "# either aic or bic\n",
    "\n",
    "aggll_ibic = ibic(x,l,h,betas,sigma,nrow(df))\n",
    "aggll_iaic = iaic(x,l,h,betas,sigma)\n",
    "\n",
    "# or you can compute unbiased per subject marginal likelihoods via subject-level cross validation\n",
    "# you can do paired t tests on these between models\n",
    "# these are also appropriate for SPM_BMS etc\n",
    "\n",
    "# takes ages so comment in when want to run, otherwise just use IAIC above\n",
    "liks = loocv(df, subs, x, X, betas, sigma, model_asymmetry_learn_options; emtol=1e-3, parallel=true, full=true)\n",
    "#aggll_loo = sum(liks)\n",
    "\n",
    "#println(\"\\n\\nraw nll:  $aggll\\nibic nll: $aggll_ibic\\niaic nll: $aggll_iaic\\nloo nll:  $aggll_loo\")\n",
    "#println(\"\\n\\nraw nll:  $aggll\\nibic nll: $aggll_ibic\\niaic nll:\")\n",
    "#print(aggll_iaic)\n"
   ]
  },
  {
   "cell_type": "markdown",
   "metadata": {
    "hidden": true
   },
   "source": [
    "### Write loocv scores to csv file\n",
    "\n",
    "(if you have run loocv above)"
   ]
  },
  {
   "cell_type": "code",
   "execution_count": 15,
   "metadata": {
    "collapsed": true,
    "hidden": true,
    "scrolled": true
   },
   "outputs": [],
   "source": [
    "# put loocv scores into dataframe\n",
    "loocv_scores = DataFrame(sub = subs,\n",
    "liks = vec(liks));\n"
   ]
  },
  {
   "cell_type": "markdown",
   "metadata": {
    "hidden": true
   },
   "source": [
    "#### save LOOCV to csv file\n"
   ]
  },
  {
   "cell_type": "code",
   "execution_count": 16,
   "metadata": {
    "hidden": true
   },
   "outputs": [
    {
     "name": "stderr",
     "output_type": "stream",
     "text": [
      "┌ Warning: In the future DataFrame constructor called with a `DataFrame` argument will return a copy. Use `convert(DataFrame, df)` to avoid copying if `df` is a `DataFrame`.\n",
      "│   caller = top-level scope at In[16]:1\n",
      "└ @ Core In[16]:1\n"
     ]
    },
    {
     "data": {
      "text/plain": [
       "\"loocv_scores.csv\""
      ]
     },
     "execution_count": 16,
     "metadata": {},
     "output_type": "execute_result"
    }
   ],
   "source": [
    "CSV.write(\"loocv_scores.csv\", DataFrame(loocv_scores))\n"
   ]
  },
  {
   "cell_type": "markdown",
   "metadata": {
    "hidden": true
   },
   "source": [
    "#### add to summary stats to LOOCV as well"
   ]
  },
  {
   "cell_type": "code",
   "execution_count": 17,
   "metadata": {
    "collapsed": true,
    "hidden": true
   },
   "outputs": [],
   "source": [
    "summary_stats = [summary_stats loocv_scores];"
   ]
  },
  {
   "cell_type": "markdown",
   "metadata": {
    "hidden": true
   },
   "source": [
    "### Calculate and write p values, std error and covariance"
   ]
  },
  {
   "cell_type": "code",
   "execution_count": 18,
   "metadata": {
    "hidden": true
   },
   "outputs": [
    {
     "name": "stderr",
     "output_type": "stream",
     "text": [
      "WARNING: LinearAlgebra.trace is deprecated, use tr instead.\n",
      "  likely near /Users/neil/.julia/packages/IJulia/DL02A/src/kernel.jl:41\n",
      "WARNING: LinearAlgebra.trace is deprecated, use tr instead.\n",
      "  likely near /Users/neil/.julia/packages/IJulia/DL02A/src/kernel.jl:41\n",
      "WARNING: LinearAlgebra.trace is deprecated, use tr instead.\n",
      "  likely near /Users/neil/.julia/packages/IJulia/DL02A/src/kernel.jl:41\n",
      "in #53 at none\n",
      "WARNING: LinearAlgebra.trace is deprecated, use tr instead.\n",
      "  likely near /Users/neil/.julia/packages/IJulia/DL02A/src/kernel.jl:41\n",
      "WARNING: LinearAlgebra.trace is deprecated, use tr instead.\n",
      "  likely near /Users/neil/.julia/packages/IJulia/DL02A/src/kernel.jl:41\n",
      "WARNING: LinearAlgebra.trace is deprecated, use tr instead.\n",
      "  likely near /Users/neil/.julia/packages/IJulia/DL02A/src/kernel.jl:41\n",
      "in #53 at none\n",
      "┌ Warning: `ccdf(d::UnivariateDistribution, X::AbstractArray)` is deprecated, use `ccdf.(d, X)` instead.\n",
      "│   caller = emerrors(::DataFrame, ::Array{Union{Missing, Int64},1}, ::SharedArray{Float64,2}, ::Array{Float64,3}, ::SharedArray{Float64,3}, ::Array{Float64,1}, ::Array{Float64,2}, ::Function) at em.jl:300\n",
      "└ @ Main /Users/neil/GitHubRepo/Projects/PreySelection/v103/models/supplementary/model_asymmetry_learn_options/em.jl:300\n"
     ]
    }
   ],
   "source": [
    "# standard errors on the subject-level means, based on an asymptotic Gaussian approx \n",
    "# (these may be inflated esp for small n)\n",
    "(standarderrors, pvalues, covmtx) = emerrors(df,subs,x,X,h,betas,sigma,model_asymmetry_learn_options);\n"
   ]
  },
  {
   "cell_type": "code",
   "execution_count": 19,
   "metadata": {
    "hidden": true
   },
   "outputs": [
    {
     "name": "stderr",
     "output_type": "stream",
     "text": [
      "┌ Warning: In the future DataFrame constructor called with a `DataFrame` argument will return a copy. Use `convert(DataFrame, df)` to avoid copying if `df` is a `DataFrame`.\n",
      "│   caller = top-level scope at In[19]:8\n",
      "└ @ Core In[19]:8\n"
     ]
    }
   ],
   "source": [
    "model_stats = DataFrame(stderror = vec(standarderrors),\n",
    "pvalues = vec(pvalues),\n",
    "covmtx_1 = vec(covmtx[:,1]),\n",
    "covmtx_2 = vec(covmtx[:,2]),\n",
    "covmtx_3 = vec(covmtx[:,3]),\n",
    "covmtx_4 = vec(covmtx[:,4]),\n",
    "covmtx_5 = vec(covmtx[:,5]));\n",
    "\n",
    "# save model stats to csv file\n",
    "CSV.write(\"model_stats.csv\", DataFrame(model_stats));"
   ]
  },
  {
   "cell_type": "code",
   "execution_count": 20,
   "metadata": {
    "hidden": true
   },
   "outputs": [
    {
     "name": "stdout",
     "output_type": "stream",
     "text": [
      "[0.351078, 0.00557931, 0.109808, 0.10232, 0.220723]"
     ]
    }
   ],
   "source": [
    "print(standarderrors)\n"
   ]
  },
  {
   "cell_type": "code",
   "execution_count": 21,
   "metadata": {
    "hidden": true
   },
   "outputs": [
    {
     "name": "stdout",
     "output_type": "stream",
     "text": [
      "[2.96909e-7, 2.52355e-57, 3.60892e-120, 3.75563e-183, 0.305061]"
     ]
    }
   ],
   "source": [
    "print(pvalues)\n"
   ]
  },
  {
   "cell_type": "code",
   "execution_count": 22,
   "metadata": {
    "hidden": true,
    "scrolled": true
   },
   "outputs": [
    {
     "name": "stdout",
     "output_type": "stream",
     "text": [
      "[0.123256 0.000177681 -0.0106329 0.00512219 -0.0319179; 0.000177681 3.11287e-5 -0.000249284 -5.92755e-5 -0.00023785; -0.0106329 -0.000249284 0.0120577 0.00904528 0.00526887; 0.00512219 -5.92755e-5 0.00904528 0.0104694 0.00129002; -0.0319179 -0.00023785 0.00526887 0.00129002 0.0487188]"
     ]
    }
   ],
   "source": [
    "print(covmtx)\n"
   ]
  },
  {
   "cell_type": "markdown",
   "metadata": {
    "hidden": true
   },
   "source": [
    "### Write per subject model parameters to csv files"
   ]
  },
  {
   "cell_type": "code",
   "execution_count": 23,
   "metadata": {
    "collapsed": true,
    "hidden": true
   },
   "outputs": [],
   "source": [
    "# put parameters into variable d\n",
    "d=x';\n",
    "\n",
    "# now put parameters into dataframe\n",
    "params = DataFrame(sub = subs,\n",
    "intercept = vec(d[:,1]), \n",
    "beta = vec(d[:,2]),\n",
    "learning_rate_environment_reward_raw = vec(d[:,3]),\n",
    "learning_rate_environment_reward_transformed = vec(0.5 .+ 0.5*erf.(d[:,3]/sqrt(2))),\n",
    "learning_rate_environment_delay_raw = vec(d[:,4]),\n",
    "learning_rate_environment_delay_transformed = vec(0.5 .+ 0.5*erf.(d[:,4]/sqrt(2))),\n",
    "learning_rate_options_raw = vec(d[:,5]),\n",
    "learning_rate_options_transformed = vec(0.5 .+ 0.5*erf.(d[:,5]/sqrt(2))));"
   ]
  },
  {
   "cell_type": "code",
   "execution_count": 24,
   "metadata": {
    "hidden": true
   },
   "outputs": [
    {
     "name": "stderr",
     "output_type": "stream",
     "text": [
      "┌ Warning: In the future DataFrame constructor called with a `DataFrame` argument will return a copy. Use `convert(DataFrame, df)` to avoid copying if `df` is a `DataFrame`.\n",
      "│   caller = top-level scope at In[24]:1\n",
      "└ @ Core In[24]:1\n"
     ]
    },
    {
     "data": {
      "text/plain": [
       "\"subject_params.csv\""
      ]
     },
     "execution_count": 24,
     "metadata": {},
     "output_type": "execute_result"
    }
   ],
   "source": [
    "CSV.write(\"subject_params.csv\", DataFrame(params))\n"
   ]
  },
  {
   "cell_type": "markdown",
   "metadata": {
    "hidden": true
   },
   "source": [
    "### Test difference in learning rates"
   ]
  },
  {
   "cell_type": "code",
   "execution_count": 4,
   "metadata": {
    "hidden": true
   },
   "outputs": [
    {
     "data": {
      "text/html": [
       "<table class=\"data-frame\"><thead><tr><th></th><th>sub</th><th>intercept</th><th>beta</th><th>learning_rate_environment_reward_raw</th><th>learning_rate_environment_reward_transformed</th><th>learning_rate_environment_delay_raw</th><th>learning_rate_environment_delay_transformed</th><th>learning_rate_options_raw</th><th>learning_rate_options_transformed</th></tr><tr><th></th><th>Int64⍰</th><th>Float64⍰</th><th>Float64⍰</th><th>Float64⍰</th><th>Float64⍰</th><th>Float64⍰</th><th>Float64⍰</th><th>Float64⍰</th><th>Float64⍰</th></tr></thead><tbody><tr><th>1</th><td>1</td><td>0.174478</td><td>0.0734811</td><td>-1.92948</td><td>0.0268359</td><td>-2.09015</td><td>0.0183023</td><td>-0.949774</td><td>0.171114</td></tr><tr><th>2</th><td>3</td><td>-5.98517</td><td>0.0420079</td><td>-1.69662</td><td>0.0448843</td><td>-3.00412</td><td>0.00133177</td><td>1.29346</td><td>0.902074</td></tr><tr><th>3</th><td>4</td><td>-0.103493</td><td>0.105737</td><td>-3.5085</td><td>0.000225319</td><td>-3.46941</td><td>0.000260805</td><td>-0.822035</td><td>0.205528</td></tr><tr><th>4</th><td>6</td><td>-1.97819</td><td>0.0865272</td><td>-2.12014</td><td>0.0169971</td><td>-2.36357</td><td>0.00904989</td><td>0.419748</td><td>0.662665</td></tr><tr><th>5</th><td>8</td><td>1.46089</td><td>0.0921156</td><td>-2.06339</td><td>0.0195377</td><td>-1.98504</td><td>0.0235699</td><td>0.480433</td><td>0.68454</td></tr><tr><th>6</th><td>9</td><td>0.268886</td><td>0.0844414</td><td>-3.13601</td><td>0.000856317</td><td>-3.32819</td><td>0.000437063</td><td>-0.542262</td><td>0.293819</td></tr><tr><th>7</th><td>10</td><td>-3.47929</td><td>0.125164</td><td>-2.76586</td><td>0.00283862</td><td>-3.1758</td><td>0.000747118</td><td>0.924281</td><td>0.82233</td></tr><tr><th>8</th><td>12</td><td>-3.22742</td><td>0.0703459</td><td>-1.74428</td><td>0.0405548</td><td>-2.28356</td><td>0.0111988</td><td>1.55558</td><td>0.940096</td></tr><tr><th>9</th><td>13</td><td>0.59332</td><td>0.163037</td><td>-3.65239</td><td>0.000129905</td><td>-3.24685</td><td>0.000583439</td><td>-0.520887</td><td>0.301223</td></tr><tr><th>10</th><td>14</td><td>-1.08792</td><td>0.0972178</td><td>-2.901</td><td>0.00185985</td><td>-3.20179</td><td>0.000682887</td><td>0.143993</td><td>0.557247</td></tr><tr><th>11</th><td>15</td><td>-3.0117</td><td>0.109296</td><td>-3.14738</td><td>0.000823696</td><td>-3.62282</td><td>0.000145705</td><td>-1.77704</td><td>0.0377808</td></tr><tr><th>12</th><td>16</td><td>-4.51684</td><td>0.139271</td><td>-2.85676</td><td>0.00213996</td><td>-3.1942</td><td>0.000701098</td><td>0.818194</td><td>0.793377</td></tr><tr><th>13</th><td>17</td><td>-1.66452</td><td>0.0432486</td><td>-1.24429</td><td>0.106696</td><td>-2.13125</td><td>0.0165344</td><td>-0.559351</td><td>0.287961</td></tr><tr><th>14</th><td>18</td><td>-2.9366</td><td>0.1322</td><td>-2.35823</td><td>0.00918126</td><td>-2.5863</td><td>0.00485069</td><td>1.39936</td><td>0.919147</td></tr><tr><th>15</th><td>19</td><td>-0.638054</td><td>0.0854006</td><td>-1.4829</td><td>0.0690499</td><td>-2.11252</td><td>0.017321</td><td>0.253919</td><td>0.600221</td></tr><tr><th>16</th><td>21</td><td>-2.31157</td><td>0.0738175</td><td>-1.56247</td><td>0.0590881</td><td>-2.30836</td><td>0.0104895</td><td>-0.786438</td><td>0.215806</td></tr><tr><th>17</th><td>23</td><td>-2.98398</td><td>0.0920471</td><td>-2.85307</td><td>0.00216496</td><td>-3.37974</td><td>0.000362767</td><td>-0.111823</td><td>0.455482</td></tr><tr><th>18</th><td>25</td><td>-2.30028</td><td>0.108583</td><td>-2.16457</td><td>0.0152105</td><td>-2.62924</td><td>0.00427884</td><td>-0.105185</td><td>0.458114</td></tr><tr><th>19</th><td>27</td><td>-3.65027</td><td>0.0800877</td><td>-1.6533</td><td>0.0491345</td><td>-2.13475</td><td>0.0163908</td><td>1.37642</td><td>0.915654</td></tr><tr><th>20</th><td>29</td><td>3.34053</td><td>0.108853</td><td>-2.4966</td><td>0.00626946</td><td>-2.03275</td><td>0.0210389</td><td>0.17215</td><td>0.56834</td></tr><tr><th>21</th><td>30</td><td>-5.61743</td><td>0.0690433</td><td>-1.46195</td><td>0.0718777</td><td>-2.53383</td><td>0.00564124</td><td>2.03004</td><td>0.978824</td></tr><tr><th>22</th><td>31</td><td>0.35535</td><td>0.10409</td><td>-2.90582</td><td>0.00183143</td><td>-3.00334</td><td>0.00133517</td><td>-1.44539</td><td>0.0741737</td></tr><tr><th>23</th><td>32</td><td>-2.26892</td><td>0.0472466</td><td>-2.36324</td><td>0.0090579</td><td>-2.96726</td><td>0.00150233</td><td>0.420055</td><td>0.662777</td></tr><tr><th>24</th><td>33</td><td>0.520362</td><td>0.115133</td><td>-3.33511</td><td>0.000426321</td><td>-3.2079</td><td>0.000668538</td><td>-0.859599</td><td>0.195005</td></tr><tr><th>25</th><td>34</td><td>-1.66834</td><td>0.0782779</td><td>-2.8111</td><td>0.00246858</td><td>-3.24402</td><td>0.000589273</td><td>0.651095</td><td>0.742507</td></tr><tr><th>26</th><td>35</td><td>0.794729</td><td>0.0695375</td><td>-3.18121</td><td>0.000733313</td><td>-3.48053</td><td>0.000250212</td><td>-0.367815</td><td>0.356506</td></tr><tr><th>27</th><td>36</td><td>-5.58438</td><td>0.114938</td><td>-3.30452</td><td>0.0004757</td><td>-3.94652</td><td>3.96477e-5</td><td>0.641126</td><td>0.73928</td></tr><tr><th>28</th><td>37</td><td>-2.2291</td><td>0.0867494</td><td>-2.57758</td><td>0.0049747</td><td>-2.83225</td><td>0.00231109</td><td>1.12622</td><td>0.869964</td></tr><tr><th>29</th><td>39</td><td>-4.56178</td><td>0.0246705</td><td>-2.24343</td><td>0.0124344</td><td>-3.47797</td><td>0.000252615</td><td>1.28449</td><td>0.900514</td></tr><tr><th>30</th><td>40</td><td>-1.47541</td><td>0.0574295</td><td>-2.76895</td><td>0.00281186</td><td>-3.06702</td><td>0.00108103</td><td>1.28574</td><td>0.900733</td></tr><tr><th>&vellip;</th><td>&vellip;</td><td>&vellip;</td><td>&vellip;</td><td>&vellip;</td><td>&vellip;</td><td>&vellip;</td><td>&vellip;</td><td>&vellip;</td><td>&vellip;</td></tr></tbody></table>"
      ],
      "text/latex": [
       "\\begin{tabular}{r|ccccccccc}\n",
       "\t& sub & intercept & beta & learning\\_rate\\_environment\\_reward\\_raw & learning\\_rate\\_environment\\_reward\\_transformed & learning\\_rate\\_environment\\_delay\\_raw & learning\\_rate\\_environment\\_delay\\_transformed & learning\\_rate\\_options\\_raw & learning\\_rate\\_options\\_transformed\\\\\n",
       "\t\\hline\n",
       "\t1 & 1 & 0.174478 & 0.0734811 & -1.92948 & 0.0268359 & -2.09015 & 0.0183023 & -0.949774 & 0.171114 \\\\\n",
       "\t2 & 3 & -5.98517 & 0.0420079 & -1.69662 & 0.0448843 & -3.00412 & 0.00133177 & 1.29346 & 0.902074 \\\\\n",
       "\t3 & 4 & -0.103493 & 0.105737 & -3.5085 & 0.000225319 & -3.46941 & 0.000260805 & -0.822035 & 0.205528 \\\\\n",
       "\t4 & 6 & -1.97819 & 0.0865272 & -2.12014 & 0.0169971 & -2.36357 & 0.00904989 & 0.419748 & 0.662665 \\\\\n",
       "\t5 & 8 & 1.46089 & 0.0921156 & -2.06339 & 0.0195377 & -1.98504 & 0.0235699 & 0.480433 & 0.68454 \\\\\n",
       "\t6 & 9 & 0.268886 & 0.0844414 & -3.13601 & 0.000856317 & -3.32819 & 0.000437063 & -0.542262 & 0.293819 \\\\\n",
       "\t7 & 10 & -3.47929 & 0.125164 & -2.76586 & 0.00283862 & -3.1758 & 0.000747118 & 0.924281 & 0.82233 \\\\\n",
       "\t8 & 12 & -3.22742 & 0.0703459 & -1.74428 & 0.0405548 & -2.28356 & 0.0111988 & 1.55558 & 0.940096 \\\\\n",
       "\t9 & 13 & 0.59332 & 0.163037 & -3.65239 & 0.000129905 & -3.24685 & 0.000583439 & -0.520887 & 0.301223 \\\\\n",
       "\t10 & 14 & -1.08792 & 0.0972178 & -2.901 & 0.00185985 & -3.20179 & 0.000682887 & 0.143993 & 0.557247 \\\\\n",
       "\t11 & 15 & -3.0117 & 0.109296 & -3.14738 & 0.000823696 & -3.62282 & 0.000145705 & -1.77704 & 0.0377808 \\\\\n",
       "\t12 & 16 & -4.51684 & 0.139271 & -2.85676 & 0.00213996 & -3.1942 & 0.000701098 & 0.818194 & 0.793377 \\\\\n",
       "\t13 & 17 & -1.66452 & 0.0432486 & -1.24429 & 0.106696 & -2.13125 & 0.0165344 & -0.559351 & 0.287961 \\\\\n",
       "\t14 & 18 & -2.9366 & 0.1322 & -2.35823 & 0.00918126 & -2.5863 & 0.00485069 & 1.39936 & 0.919147 \\\\\n",
       "\t15 & 19 & -0.638054 & 0.0854006 & -1.4829 & 0.0690499 & -2.11252 & 0.017321 & 0.253919 & 0.600221 \\\\\n",
       "\t16 & 21 & -2.31157 & 0.0738175 & -1.56247 & 0.0590881 & -2.30836 & 0.0104895 & -0.786438 & 0.215806 \\\\\n",
       "\t17 & 23 & -2.98398 & 0.0920471 & -2.85307 & 0.00216496 & -3.37974 & 0.000362767 & -0.111823 & 0.455482 \\\\\n",
       "\t18 & 25 & -2.30028 & 0.108583 & -2.16457 & 0.0152105 & -2.62924 & 0.00427884 & -0.105185 & 0.458114 \\\\\n",
       "\t19 & 27 & -3.65027 & 0.0800877 & -1.6533 & 0.0491345 & -2.13475 & 0.0163908 & 1.37642 & 0.915654 \\\\\n",
       "\t20 & 29 & 3.34053 & 0.108853 & -2.4966 & 0.00626946 & -2.03275 & 0.0210389 & 0.17215 & 0.56834 \\\\\n",
       "\t21 & 30 & -5.61743 & 0.0690433 & -1.46195 & 0.0718777 & -2.53383 & 0.00564124 & 2.03004 & 0.978824 \\\\\n",
       "\t22 & 31 & 0.35535 & 0.10409 & -2.90582 & 0.00183143 & -3.00334 & 0.00133517 & -1.44539 & 0.0741737 \\\\\n",
       "\t23 & 32 & -2.26892 & 0.0472466 & -2.36324 & 0.0090579 & -2.96726 & 0.00150233 & 0.420055 & 0.662777 \\\\\n",
       "\t24 & 33 & 0.520362 & 0.115133 & -3.33511 & 0.000426321 & -3.2079 & 0.000668538 & -0.859599 & 0.195005 \\\\\n",
       "\t25 & 34 & -1.66834 & 0.0782779 & -2.8111 & 0.00246858 & -3.24402 & 0.000589273 & 0.651095 & 0.742507 \\\\\n",
       "\t26 & 35 & 0.794729 & 0.0695375 & -3.18121 & 0.000733313 & -3.48053 & 0.000250212 & -0.367815 & 0.356506 \\\\\n",
       "\t27 & 36 & -5.58438 & 0.114938 & -3.30452 & 0.0004757 & -3.94652 & 3.96477e-5 & 0.641126 & 0.73928 \\\\\n",
       "\t28 & 37 & -2.2291 & 0.0867494 & -2.57758 & 0.0049747 & -2.83225 & 0.00231109 & 1.12622 & 0.869964 \\\\\n",
       "\t29 & 39 & -4.56178 & 0.0246705 & -2.24343 & 0.0124344 & -3.47797 & 0.000252615 & 1.28449 & 0.900514 \\\\\n",
       "\t30 & 40 & -1.47541 & 0.0574295 & -2.76895 & 0.00281186 & -3.06702 & 0.00108103 & 1.28574 & 0.900733 \\\\\n",
       "\t31 & 41 & 0.00342575 & 0.08179 & -2.70911 & 0.00337324 & -3.15214 & 0.000810386 & 0.574423 & 0.717159 \\\\\n",
       "\t32 & 43 & -4.41952 & 0.0966169 & -2.375 & 0.00877447 & -3.01256 & 0.00129527 & 1.14581 & 0.874063 \\\\\n",
       "\t33 & 49 & 0.314194 & 0.0869014 & -2.642 & 0.00412096 & -2.79361 & 0.00260615 & -1.39823 & 0.0810223 \\\\\n",
       "\t34 & 50 & -1.3956 & 0.0892906 & -3.38062 & 0.000361613 & -3.72241 & 9.86653e-5 & 0.24967 & 0.598579 \\\\\n",
       "\t35 & 52 & -2.96589 & 0.0986391 & -2.65595 & 0.00395425 & -3.16919 & 0.000764315 & 0.347062 & 0.635727 \\\\\n",
       "\t36 & 54 & -2.93528 & 0.06 & -1.87084 & 0.0306834 & -2.50396 & 0.00614053 & 1.12117 & 0.868893 \\\\\n",
       "\t37 & 56 & 0.0677468 & 0.0536502 & -3.13495 & 0.000859429 & -3.61958 & 0.000147543 & 0.339377 & 0.632837 \\\\\n",
       "\t38 & 60 & -2.04893 & 0.0867117 & -3.21486 & 0.000652543 & -3.66869 & 0.000121897 & -0.53147 & 0.297547 \\\\\n",
       "\t39 & 61 & -0.230754 & 0.107286 & -2.61333 & 0.00448317 & -2.7947 & 0.00259743 & -1.45111 & 0.0733751 \\\\\n",
       "\t40 & 62 & -2.59382 & 0.120411 & -3.49258 & 0.000239191 & -3.64222 & 0.000135151 & 1.2299 & 0.890632 \\\\\n",
       "\\end{tabular}\n"
      ],
      "text/plain": [
       "40×9 DataFrame. Omitted printing of 5 columns\n",
       "│ Row │ sub    │ intercept  │ beta      │ learning_rate_environment_reward_raw │\n",
       "│     │ \u001b[90mInt64⍰\u001b[39m │ \u001b[90mFloat64⍰\u001b[39m   │ \u001b[90mFloat64⍰\u001b[39m  │ \u001b[90mUnion{Missing, Float64}\u001b[39m              │\n",
       "├─────┼────────┼────────────┼───────────┼──────────────────────────────────────┤\n",
       "│ 1   │ 1      │ 0.174478   │ 0.0734811 │ -1.92948                             │\n",
       "│ 2   │ 3      │ -5.98517   │ 0.0420079 │ -1.69662                             │\n",
       "│ 3   │ 4      │ -0.103493  │ 0.105737  │ -3.5085                              │\n",
       "│ 4   │ 6      │ -1.97819   │ 0.0865272 │ -2.12014                             │\n",
       "│ 5   │ 8      │ 1.46089    │ 0.0921156 │ -2.06339                             │\n",
       "│ 6   │ 9      │ 0.268886   │ 0.0844414 │ -3.13601                             │\n",
       "│ 7   │ 10     │ -3.47929   │ 0.125164  │ -2.76586                             │\n",
       "│ 8   │ 12     │ -3.22742   │ 0.0703459 │ -1.74428                             │\n",
       "│ 9   │ 13     │ 0.59332    │ 0.163037  │ -3.65239                             │\n",
       "│ 10  │ 14     │ -1.08792   │ 0.0972178 │ -2.901                               │\n",
       "⋮\n",
       "│ 30  │ 40     │ -1.47541   │ 0.0574295 │ -2.76895                             │\n",
       "│ 31  │ 41     │ 0.00342575 │ 0.08179   │ -2.70911                             │\n",
       "│ 32  │ 43     │ -4.41952   │ 0.0966169 │ -2.375                               │\n",
       "│ 33  │ 49     │ 0.314194   │ 0.0869014 │ -2.642                               │\n",
       "│ 34  │ 50     │ -1.3956    │ 0.0892906 │ -3.38062                             │\n",
       "│ 35  │ 52     │ -2.96589   │ 0.0986391 │ -2.65595                             │\n",
       "│ 36  │ 54     │ -2.93528   │ 0.06      │ -1.87084                             │\n",
       "│ 37  │ 56     │ 0.0677468  │ 0.0536502 │ -3.13495                             │\n",
       "│ 38  │ 60     │ -2.04893   │ 0.0867117 │ -3.21486                             │\n",
       "│ 39  │ 61     │ -0.230754  │ 0.107286  │ -2.61333                             │\n",
       "│ 40  │ 62     │ -2.59382   │ 0.120411  │ -3.49258                             │"
      ]
     },
     "execution_count": 4,
     "metadata": {},
     "output_type": "execute_result"
    }
   ],
   "source": [
    "# if you already have best fit parameters saved, can read in here (rather than running model to find)\n",
    "params = CSV.read(\"subject_params.csv\")"
   ]
  },
  {
   "cell_type": "code",
   "execution_count": 5,
   "metadata": {
    "hidden": true
   },
   "outputs": [
    {
     "data": {
      "text/html": [
       "<table class=\"data-frame\"><thead><tr><th></th><th>stderror</th><th>pvalues</th><th>covmtx_1</th><th>covmtx_2</th><th>covmtx_3</th><th>covmtx_4</th><th>covmtx_5</th></tr><tr><th></th><th>Float64⍰</th><th>Float64⍰</th><th>Float64⍰</th><th>Float64⍰</th><th>Float64⍰</th><th>Float64⍰</th><th>Float64⍰</th></tr></thead><tbody><tr><th>1</th><td>0.351078</td><td>2.96909e-7</td><td>0.123256</td><td>0.000177681</td><td>-0.0106329</td><td>0.00512219</td><td>-0.0319179</td></tr><tr><th>2</th><td>0.00557931</td><td>2.52355e-57</td><td>0.000177681</td><td>3.11287e-5</td><td>-0.000249284</td><td>-5.92755e-5</td><td>-0.00023785</td></tr><tr><th>3</th><td>0.109808</td><td>3.60892e-120</td><td>-0.0106329</td><td>-0.000249284</td><td>0.0120577</td><td>0.00904528</td><td>0.00526887</td></tr><tr><th>4</th><td>0.10232</td><td>3.75563e-183</td><td>0.00512219</td><td>-5.92755e-5</td><td>0.00904528</td><td>0.0104694</td><td>0.00129002</td></tr><tr><th>5</th><td>0.220723</td><td>0.305061</td><td>-0.0319179</td><td>-0.00023785</td><td>0.00526887</td><td>0.00129002</td><td>0.0487188</td></tr></tbody></table>"
      ],
      "text/latex": [
       "\\begin{tabular}{r|ccccccc}\n",
       "\t& stderror & pvalues & covmtx\\_1 & covmtx\\_2 & covmtx\\_3 & covmtx\\_4 & covmtx\\_5\\\\\n",
       "\t\\hline\n",
       "\t1 & 0.351078 & 2.96909e-7 & 0.123256 & 0.000177681 & -0.0106329 & 0.00512219 & -0.0319179 \\\\\n",
       "\t2 & 0.00557931 & 2.52355e-57 & 0.000177681 & 3.11287e-5 & -0.000249284 & -5.92755e-5 & -0.00023785 \\\\\n",
       "\t3 & 0.109808 & 3.60892e-120 & -0.0106329 & -0.000249284 & 0.0120577 & 0.00904528 & 0.00526887 \\\\\n",
       "\t4 & 0.10232 & 3.75563e-183 & 0.00512219 & -5.92755e-5 & 0.00904528 & 0.0104694 & 0.00129002 \\\\\n",
       "\t5 & 0.220723 & 0.305061 & -0.0319179 & -0.00023785 & 0.00526887 & 0.00129002 & 0.0487188 \\\\\n",
       "\\end{tabular}\n"
      ],
      "text/plain": [
       "5×7 DataFrame. Omitted printing of 2 columns\n",
       "│ Row │ stderror   │ pvalues      │ covmtx_1    │ covmtx_2     │ covmtx_3     │\n",
       "│     │ \u001b[90mFloat64⍰\u001b[39m   │ \u001b[90mFloat64⍰\u001b[39m     │ \u001b[90mFloat64⍰\u001b[39m    │ \u001b[90mFloat64⍰\u001b[39m     │ \u001b[90mFloat64⍰\u001b[39m     │\n",
       "├─────┼────────────┼──────────────┼─────────────┼──────────────┼──────────────┤\n",
       "│ 1   │ 0.351078   │ 2.96909e-7   │ 0.123256    │ 0.000177681  │ -0.0106329   │\n",
       "│ 2   │ 0.00557931 │ 2.52355e-57  │ 0.000177681 │ 3.11287e-5   │ -0.000249284 │\n",
       "│ 3   │ 0.109808   │ 3.60892e-120 │ -0.0106329  │ -0.000249284 │ 0.0120577    │\n",
       "│ 4   │ 0.10232    │ 3.75563e-183 │ 0.00512219  │ -5.92755e-5  │ 0.00904528   │\n",
       "│ 5   │ 0.220723   │ 0.305061     │ -0.0319179  │ -0.00023785  │ 0.00526887   │"
      ]
     },
     "execution_count": 5,
     "metadata": {},
     "output_type": "execute_result"
    }
   ],
   "source": [
    "# if you already have best fit parameters saved, can read in here (rather than running model to find)\n",
    "model_stats = CSV.read(\"model_stats.csv\")"
   ]
  },
  {
   "cell_type": "code",
   "execution_count": 23,
   "metadata": {
    "hidden": true
   },
   "outputs": [
    {
     "name": "stderr",
     "output_type": "stream",
     "text": [
      "┌ Warning: indexing with colon as row will create a copy in the future use df[col_inds] to get the columns without copying\n",
      "│   caller = top-level scope at In[23]:1\n",
      "└ @ Core In[23]:1\n"
     ]
    },
    {
     "data": {
      "text/plain": [
       "5×5 Array{Union{Missing, Float64},2}:\n",
       "  0.123256      0.000177681  -0.0106329     0.00512219  -0.0319179 \n",
       "  0.000177681   3.11287e-5   -0.000249284  -5.92755e-5  -0.00023785\n",
       " -0.0106329    -0.000249284   0.0120577     0.00904528   0.00526887\n",
       "  0.00512219   -5.92755e-5    0.00904528    0.0104694    0.00129002\n",
       " -0.0319179    -0.00023785    0.00526887    0.00129002   0.0487188 "
      ]
     },
     "execution_count": 23,
     "metadata": {},
     "output_type": "execute_result"
    }
   ],
   "source": [
    "covmtx = convert(Array, model_stats[:,3:7])"
   ]
  },
  {
   "cell_type": "code",
   "execution_count": 28,
   "metadata": {
    "hidden": true
   },
   "outputs": [
    {
     "name": "stdout",
     "output_type": "stream",
     "text": [
      "learning_parm_diff: 0.39351654926940194\n",
      "std_error: 0.06660788088253787\n",
      "zstat: 5.907957798017374\n"
     ]
    }
   ],
   "source": [
    "# require contrast vector to test the difference in the learning parameters (from the covariance matrix)\n",
    "con_vec = [0, 0, 1, -1, 0]\n",
    "\n",
    "#calculate standard error\n",
    "std_error = sqrt(con_vec'*covmtx*con_vec)\n",
    "\n",
    "#difference in (raw) learning rates\n",
    "learning_parm_diff = mean(params[:learning_rate_environment_reward_raw]) - mean(params[:learning_rate_environment_delay_raw])\n",
    "\n",
    "#now can derive tstatistic\n",
    "z_stat = learning_parm_diff/std_error\n",
    "\n",
    "#print these to output\n",
    "println(\"learning_parm_diff: \", learning_parm_diff);\n",
    "println(\"std_error: \", std_error);\n",
    "println(\"zstat: \", z_stat);"
   ]
  }
 ],
 "metadata": {
  "kernelspec": {
   "display_name": "Julia 0.7.0",
   "language": "julia",
   "name": "julia-0.7"
  },
  "language_info": {
   "file_extension": ".jl",
   "mimetype": "application/julia",
   "name": "julia",
   "version": "0.7.0"
  },
  "toc": {
   "base_numbering": 1,
   "nav_menu": {},
   "number_sections": true,
   "sideBar": true,
   "skip_h1_title": false,
   "title_cell": "Table of Contents",
   "title_sidebar": "Contents",
   "toc_cell": false,
   "toc_position": {},
   "toc_section_display": true,
   "toc_window_display": false
  }
 },
 "nbformat": 4,
 "nbformat_minor": 1
}
