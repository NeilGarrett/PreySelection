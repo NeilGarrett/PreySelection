{
 "cells": [
  {
   "cell_type": "markdown",
   "metadata": {},
   "source": [
    "** Neil Garrett, June 2018 **"
   ]
  },
  {
   "cell_type": "markdown",
   "metadata": {
    "heading_collapsed": true
   },
   "source": [
    "# Start up commands/load relevant functions"
   ]
  },
  {
   "cell_type": "code",
   "execution_count": 1,
   "metadata": {
    "hidden": true
   },
   "outputs": [
    {
     "name": "stderr",
     "output_type": "stream",
     "text": [
      "┌ Warning: Deprecated syntax `(covvar < 0) ? NaN:` at /Users/neil/GitHubRepo/Projects/PreySelection/v105/models/model_asymmetry/em.jl:288.\n",
      "│ Use `(covvar < 0) ? NaN :` instead.\n",
      "└ @ nothing /Users/neil/GitHubRepo/Projects/PreySelection/v105/models/model_asymmetry/em.jl:288\n",
      "┌ Warning: Deprecated syntax `(covvar < 0) ? NaN :sqrt` at /Users/neil/GitHubRepo/Projects/PreySelection/v105/models/model_asymmetry/em.jl:288.\n",
      "│ Use `(covvar < 0) ? NaN : sqrt` instead.\n",
      "└ @ nothing /Users/neil/GitHubRepo/Projects/PreySelection/v105/models/model_asymmetry/em.jl:288\n",
      "┌ Warning: Deprecated syntax `(diag(covmtx)[i] .< 0) ? NaN:` at /Users/neil/GitHubRepo/Projects/PreySelection/v105/models/model_asymmetry/em.jl:299.\n",
      "│ Use `(diag(covmtx)[i] .< 0) ? NaN :` instead.\n",
      "└ @ nothing /Users/neil/GitHubRepo/Projects/PreySelection/v105/models/model_asymmetry/em.jl:299\n",
      "┌ Warning: Deprecated syntax `(diag(covmtx)[i] .< 0) ? NaN :diag` at /Users/neil/GitHubRepo/Projects/PreySelection/v105/models/model_asymmetry/em.jl:299.\n",
      "│ Use `(diag(covmtx)[i] .< 0) ? NaN : diag` instead.\n",
      "└ @ nothing /Users/neil/GitHubRepo/Projects/PreySelection/v105/models/model_asymmetry/em.jl:299\n",
      "┌ Warning: Deprecated syntax `(covvar < 0) ? NaN:` at /Users/neil/GitHubRepo/Projects/PreySelection/v105/models/model_asymmetry/em.jl:288.\n",
      "│ Use `(covvar < 0) ? NaN :` instead.\n",
      "└ @ ~/GitHubRepo/Projects/PreySelection/v105/models/model_asymmetry/em.jl:288\n",
      "┌ Warning: Deprecated syntax `(covvar < 0) ? NaN :sqrt` at /Users/neil/GitHubRepo/Projects/PreySelection/v105/models/model_asymmetry/em.jl:288.\n",
      "│ Use `(covvar < 0) ? NaN : sqrt` instead.\n",
      "└ @ ~/GitHubRepo/Projects/PreySelection/v105/models/model_asymmetry/em.jl:288\n",
      "┌ Warning: Deprecated syntax `(diag(covmtx)[i] .< 0) ? NaN:` at /Users/neil/GitHubRepo/Projects/PreySelection/v105/models/model_asymmetry/em.jl:299.\n",
      "│ Use `(diag(covmtx)[i] .< 0) ? NaN :` instead.\n",
      "└ @ ~/GitHubRepo/Projects/PreySelection/v105/models/model_asymmetry/em.jl:299\n",
      "┌ Warning: Deprecated syntax `(diag(covmtx)[i] .< 0) ? NaN :diag` at /Users/neil/GitHubRepo/Projects/PreySelection/v105/models/model_asymmetry/em.jl:299.\n",
      "│ Use `(diag(covmtx)[i] .< 0) ? NaN : diag` instead.\n",
      "└ @ ~/GitHubRepo/Projects/PreySelection/v105/models/model_asymmetry/em.jl:299\n",
      "┌ Warning: Deprecated syntax `(covvar < 0) ? NaN:` at /Users/neil/GitHubRepo/Projects/PreySelection/v105/models/model_asymmetry/em.jl:288.\n",
      "│ Use `(covvar < 0) ? NaN :` instead.\n",
      "└ @ ~/GitHubRepo/Projects/PreySelection/v105/models/model_asymmetry/em.jl:288\n",
      "┌ Warning: Deprecated syntax `(covvar < 0) ? NaN :sqrt` at /Users/neil/GitHubRepo/Projects/PreySelection/v105/models/model_asymmetry/em.jl:288.\n",
      "│ Use `(covvar < 0) ? NaN : sqrt` instead.\n",
      "└ @ ~/GitHubRepo/Projects/PreySelection/v105/models/model_asymmetry/em.jl:288\n",
      "┌ Warning: Deprecated syntax `(diag(covmtx)[i] .< 0) ? NaN:` at /Users/neil/GitHubRepo/Projects/PreySelection/v105/models/model_asymmetry/em.jl:299.\n",
      "│ Use `(diag(covmtx)[i] .< 0) ? NaN :` instead.\n",
      "└ @ ~/GitHubRepo/Projects/PreySelection/v105/models/model_asymmetry/em.jl:299\n",
      "┌ Warning: Deprecated syntax `(diag(covmtx)[i] .< 0) ? NaN :diag` at /Users/neil/GitHubRepo/Projects/PreySelection/v105/models/model_asymmetry/em.jl:299.\n",
      "│ Use `(diag(covmtx)[i] .< 0) ? NaN : diag` instead.\n",
      "└ @ ~/GitHubRepo/Projects/PreySelection/v105/models/model_asymmetry/em.jl:299\n",
      "┌ Warning: Deprecated syntax `(covvar < 0) ? NaN:` at /Users/neil/GitHubRepo/Projects/PreySelection/v105/models/model_asymmetry/em.jl:288.\n",
      "│ Use `(covvar < 0) ? NaN :` instead.\n",
      "└ @ ~/GitHubRepo/Projects/PreySelection/v105/models/model_asymmetry/em.jl:288\n",
      "┌ Warning: Deprecated syntax `(covvar < 0) ? NaN :sqrt` at /Users/neil/GitHubRepo/Projects/PreySelection/v105/models/model_asymmetry/em.jl:288.\n",
      "│ Use `(covvar < 0) ? NaN : sqrt` instead.\n",
      "└ @ ~/GitHubRepo/Projects/PreySelection/v105/models/model_asymmetry/em.jl:288\n",
      "┌ Warning: Deprecated syntax `(diag(covmtx)[i] .< 0) ? NaN:` at /Users/neil/GitHubRepo/Projects/PreySelection/v105/models/model_asymmetry/em.jl:299.\n",
      "│ Use `(diag(covmtx)[i] .< 0) ? NaN :` instead.\n",
      "└ @ ~/GitHubRepo/Projects/PreySelection/v105/models/model_asymmetry/em.jl:299\n",
      "┌ Warning: Deprecated syntax `(diag(covmtx)[i] .< 0) ? NaN :diag` at /Users/neil/GitHubRepo/Projects/PreySelection/v105/models/model_asymmetry/em.jl:299.\n",
      "│ Use `(diag(covmtx)[i] .< 0) ? NaN : diag` instead.\n",
      "└ @ ~/GitHubRepo/Projects/PreySelection/v105/models/model_asymmetry/em.jl:299\n",
      "┌ Warning: Deprecated syntax `(covvar < 0) ? NaN:` at /Users/neil/GitHubRepo/Projects/PreySelection/v105/models/model_asymmetry/em.jl:288.\n",
      "│ Use `(covvar < 0) ? NaN :` instead.\n",
      "└ @ ~/GitHubRepo/Projects/PreySelection/v105/models/model_asymmetry/em.jl:288\n",
      "┌ Warning: Deprecated syntax `(covvar < 0) ? NaN :sqrt` at /Users/neil/GitHubRepo/Projects/PreySelection/v105/models/model_asymmetry/em.jl:288.\n",
      "│ Use `(covvar < 0) ? NaN : sqrt` instead.\n",
      "└ @ ~/GitHubRepo/Projects/PreySelection/v105/models/model_asymmetry/em.jl:288\n",
      "┌ Warning: Deprecated syntax `(diag(covmtx)[i] .< 0) ? NaN:` at /Users/neil/GitHubRepo/Projects/PreySelection/v105/models/model_asymmetry/em.jl:299.\n",
      "│ Use `(diag(covmtx)[i] .< 0) ? NaN :` instead.\n",
      "└ @ ~/GitHubRepo/Projects/PreySelection/v105/models/model_asymmetry/em.jl:299\n",
      "┌ Warning: Deprecated syntax `(diag(covmtx)[i] .< 0) ? NaN :diag` at /Users/neil/GitHubRepo/Projects/PreySelection/v105/models/model_asymmetry/em.jl:299.\n",
      "│ Use `(diag(covmtx)[i] .< 0) ? NaN : diag` instead.\n",
      "└ @ ~/GitHubRepo/Projects/PreySelection/v105/models/model_asymmetry/em.jl:299\n",
      "┌ Warning: `@parallel` is deprecated, use `@distributed` instead.\n",
      "│   caller = include at boot.jl:317 [inlined]\n",
      "└ @ Core ./boot.jl:317\n",
      "┌ Warning: `@parallel` is deprecated, use `@distributed` instead.\n",
      "│   caller = include at boot.jl:317 [inlined]\n",
      "└ @ Core ./boot.jl:317\n",
      "┌ Warning: `@parallel` is deprecated, use `@distributed` instead.\n",
      "│   caller = include at boot.jl:317 [inlined]\n",
      "└ @ Core ./boot.jl:317\n",
      "┌ Warning: `@parallel` is deprecated, use `@distributed` instead.\n",
      "│   caller = include at boot.jl:317 [inlined]\n",
      "└ @ Core ./boot.jl:317\n",
      "┌ Warning: `@parallel` is deprecated, use `@distributed` instead.\n",
      "│   caller = include at boot.jl:317 [inlined]\n",
      "└ @ Core ./boot.jl:317\n",
      "┌ Warning: Deprecated syntax `any(x -> begin\n",
      "│     # /Users/neil/GitHubRepo/Projects/PreySelection/v105/models/model_asymmetry/common.jl, line 66\n",
      "│     isa(x, Array)\n",
      "│ end, a)?` at /Users/neil/GitHubRepo/Projects/PreySelection/v105/models/model_asymmetry/common.jl:66.\n",
      "│ Use `any(x -> begin\n",
      "│     # /Users/neil/GitHubRepo/Projects/PreySelection/v105/models/model_asymmetry/common.jl, line 66\n",
      "│     isa(x, Array)\n",
      "│ end, a) ?` instead.\n",
      "└ @ ~/GitHubRepo/Projects/PreySelection/v105/models/model_asymmetry/common.jl:66\n",
      "┌ Warning: Deprecated syntax `any(x -> begin\n",
      "│     # /Users/neil/GitHubRepo/Projects/PreySelection/v105/models/model_asymmetry/common.jl, line 66\n",
      "│     isa(x, Array)\n",
      "│ end, a)?` at /Users/neil/GitHubRepo/Projects/PreySelection/v105/models/model_asymmetry/common.jl:66.\n",
      "│ Use `any(x -> begin\n",
      "│     # /Users/neil/GitHubRepo/Projects/PreySelection/v105/models/model_asymmetry/common.jl, line 66\n",
      "│     isa(x, Array)\n",
      "│ end, a) ?` instead.\n",
      "└ @ ~/GitHubRepo/Projects/PreySelection/v105/models/model_asymmetry/common.jl:66\n",
      "┌ Warning: Deprecated syntax `any(x -> begin\n",
      "│     # /Users/neil/GitHubRepo/Projects/PreySelection/v105/models/model_asymmetry/common.jl, line 66\n",
      "│     isa(x, Array)\n",
      "│ end, a)?` at /Users/neil/GitHubRepo/Projects/PreySelection/v105/models/model_asymmetry/common.jl:66.\n",
      "│ Use `any(x -> begin\n",
      "│     # /Users/neil/GitHubRepo/Projects/PreySelection/v105/models/model_asymmetry/common.jl, line 66\n",
      "│     isa(x, Array)\n",
      "│ end, a) ?` instead.\n",
      "└ @ ~/GitHubRepo/Projects/PreySelection/v105/models/model_asymmetry/common.jl:66\n",
      "┌ Warning: Deprecated syntax `any(x -> begin\n",
      "│     # /Users/neil/GitHubRepo/Projects/PreySelection/v105/models/model_asymmetry/common.jl, line 66\n",
      "│     isa(x, Array)\n",
      "│ end, a) ? flatten(vcat(map(flatten, a)...)):` at /Users/neil/GitHubRepo/Projects/PreySelection/v105/models/model_asymmetry/common.jl:66.\n",
      "│ Use `any(x -> begin\n",
      "│     # /Users/neil/GitHubRepo/Projects/PreySelection/v105/models/model_asymmetry/common.jl, line 66\n",
      "│     isa(x, Array)\n",
      "│ end, a) ? flatten(vcat(map(flatten, a)...)) :` instead.\n",
      "└ @ ~/GitHubRepo/Projects/PreySelection/v105/models/model_asymmetry/common.jl:66\n",
      "┌ Warning: Deprecated syntax `any(x -> begin\n",
      "│     # /Users/neil/GitHubRepo/Projects/PreySelection/v105/models/model_asymmetry/common.jl, line 66\n",
      "│     isa(x, Array)\n",
      "│ end, a) ? flatten(vcat(map(flatten, a)...)):` at /Users/neil/GitHubRepo/Projects/PreySelection/v105/models/model_asymmetry/common.jl:66.\n",
      "│ Use `any(x -> begin\n",
      "│     # /Users/neil/GitHubRepo/Projects/PreySelection/v105/models/model_asymmetry/common.jl, line 66\n",
      "│     isa(x, Array)\n",
      "│ end, a) ? flatten(vcat(map(flatten, a)...)) :` instead.\n",
      "└ @ ~/GitHubRepo/Projects/PreySelection/v105/models/model_asymmetry/common.jl:66\n",
      "┌ Warning: Deprecated syntax `any(x -> begin\n",
      "│     # /Users/neil/GitHubRepo/Projects/PreySelection/v105/models/model_asymmetry/common.jl, line 66\n",
      "│     isa(x, Array)\n",
      "│ end, a) ? flatten(vcat(map(flatten, a)...)):` at /Users/neil/GitHubRepo/Projects/PreySelection/v105/models/model_asymmetry/common.jl:66.\n",
      "│ Use `any(x -> begin\n",
      "│     # /Users/neil/GitHubRepo/Projects/PreySelection/v105/models/model_asymmetry/common.jl, line 66\n",
      "│     isa(x, Array)\n",
      "│ end, a) ? flatten(vcat(map(flatten, a)...)) :` instead.\n",
      "└ @ ~/GitHubRepo/Projects/PreySelection/v105/models/model_asymmetry/common.jl:66\n",
      "┌ Warning: Deprecated syntax `any(x -> begin\n",
      "│     # /Users/neil/GitHubRepo/Projects/PreySelection/v105/models/model_asymmetry/common.jl, line 66\n",
      "│     isa(x, Array)\n",
      "│ end, a)?` at /Users/neil/GitHubRepo/Projects/PreySelection/v105/models/model_asymmetry/common.jl:66.\n",
      "│ Use `any(x -> begin\n",
      "│     # /Users/neil/GitHubRepo/Projects/PreySelection/v105/models/model_asymmetry/common.jl, line 66\n",
      "│     isa(x, Array)\n",
      "│ end, a) ?` instead.\n",
      "└ @ nothing /Users/neil/GitHubRepo/Projects/PreySelection/v105/models/model_asymmetry/common.jl:66\n",
      "┌ Warning: Deprecated syntax `any(x -> begin\n",
      "│     # /Users/neil/GitHubRepo/Projects/PreySelection/v105/models/model_asymmetry/common.jl, line 66\n",
      "│     isa(x, Array)\n",
      "│ end, a) ? flatten(vcat(map(flatten, a)...)):` at /Users/neil/GitHubRepo/Projects/PreySelection/v105/models/model_asymmetry/common.jl:66.\n",
      "│ Use `any(x -> begin\n",
      "│     # /Users/neil/GitHubRepo/Projects/PreySelection/v105/models/model_asymmetry/common.jl, line 66\n",
      "│     isa(x, Array)\n",
      "│ end, a) ? flatten(vcat(map(flatten, a)...)) :` instead.\n",
      "└ @ nothing /Users/neil/GitHubRepo/Projects/PreySelection/v105/models/model_asymmetry/common.jl:66\n",
      "┌ Warning: Deprecated syntax `parametric method syntax flatten{T}(a::Array{T, 1})` around /Users/neil/GitHubRepo/Projects/PreySelection/v105/models/model_asymmetry/common.jl:66.\n",
      "│ Use `flatten(a::Array{T, 1}) where T` instead.\n",
      "└ @ ~/GitHubRepo/Projects/PreySelection/v105/models/model_asymmetry/common.jl:66\n",
      "┌ Warning: Deprecated syntax `parametric method syntax flatten{T}(a::Array{T, 1})` around /Users/neil/GitHubRepo/Projects/PreySelection/v105/models/model_asymmetry/common.jl:66.\n",
      "│ Use `flatten(a::Array{T, 1}) where T` instead.\n",
      "└ @ ~/GitHubRepo/Projects/PreySelection/v105/models/model_asymmetry/common.jl:66\n",
      "┌ Warning: Deprecated syntax `parametric method syntax flatten{T}(a::Array{T})` around /Users/neil/GitHubRepo/Projects/PreySelection/v105/models/model_asymmetry/common.jl:67.\n",
      "│ Use `flatten(a::Array{T}) where T` instead.\n",
      "└ @ ~/GitHubRepo/Projects/PreySelection/v105/models/model_asymmetry/common.jl:67\n",
      "┌ Warning: Deprecated syntax `parametric method syntax flatten{T}(a::Array{T})` around /Users/neil/GitHubRepo/Projects/PreySelection/v105/models/model_asymmetry/common.jl:67.\n",
      "│ Use `flatten(a::Array{T}) where T` instead.\n",
      "└ @ ~/GitHubRepo/Projects/PreySelection/v105/models/model_asymmetry/common.jl:67\n",
      "┌ Warning: Deprecated syntax `parametric method syntax flatten{T}(a::Array{T, 1})` around /Users/neil/GitHubRepo/Projects/PreySelection/v105/models/model_asymmetry/common.jl:66.\n",
      "│ Use `flatten(a::Array{T, 1}) where T` instead.\n",
      "└ @ ~/GitHubRepo/Projects/PreySelection/v105/models/model_asymmetry/common.jl:66\n",
      "┌ Warning: Deprecated syntax `parametric method syntax flatten{T}(a::Array{T, 1})` around /Users/neil/GitHubRepo/Projects/PreySelection/v105/models/model_asymmetry/common.jl:66.\n",
      "│ Use `flatten(a::Array{T, 1}) where T` instead.\n",
      "└ @ nothing /Users/neil/GitHubRepo/Projects/PreySelection/v105/models/model_asymmetry/common.jl:66\n",
      "┌ Warning: Deprecated syntax `parametric method syntax flatten{T}(a::Array{T})` around /Users/neil/GitHubRepo/Projects/PreySelection/v105/models/model_asymmetry/common.jl:67.\n",
      "│ Use `flatten(a::Array{T}) where T` instead.\n",
      "└ @ ~/GitHubRepo/Projects/PreySelection/v105/models/model_asymmetry/common.jl:67\n",
      "┌ Warning: Deprecated syntax `parametric method syntax flatten{T}(a::Array{T})` around /Users/neil/GitHubRepo/Projects/PreySelection/v105/models/model_asymmetry/common.jl:67.\n",
      "│ Use `flatten(a::Array{T}) where T` instead.\n",
      "└ @ nothing /Users/neil/GitHubRepo/Projects/PreySelection/v105/models/model_asymmetry/common.jl:67\n",
      "┌ Warning: Deprecated syntax `any(x -> begin\n",
      "│     # /Users/neil/GitHubRepo/Projects/PreySelection/v105/models/model_asymmetry/common.jl, line 66\n",
      "│     isa(x, Array)\n",
      "│ end, a)?` at /Users/neil/GitHubRepo/Projects/PreySelection/v105/models/model_asymmetry/common.jl:66.\n",
      "│ Use `any(x -> begin\n",
      "│     # /Users/neil/GitHubRepo/Projects/PreySelection/v105/models/model_asymmetry/common.jl, line 66\n",
      "│     isa(x, Array)\n",
      "│ end, a) ?` instead.\n",
      "└ @ ~/GitHubRepo/Projects/PreySelection/v105/models/model_asymmetry/common.jl:66\n",
      "┌ Warning: Deprecated syntax `any(x -> begin\n",
      "│     # /Users/neil/GitHubRepo/Projects/PreySelection/v105/models/model_asymmetry/common.jl, line 66\n",
      "│     isa(x, Array)\n",
      "│ end, a) ? flatten(vcat(map(flatten, a)...)):` at /Users/neil/GitHubRepo/Projects/PreySelection/v105/models/model_asymmetry/common.jl:66.\n",
      "│ Use `any(x -> begin\n",
      "│     # /Users/neil/GitHubRepo/Projects/PreySelection/v105/models/model_asymmetry/common.jl, line 66\n",
      "│     isa(x, Array)\n",
      "│ end, a) ? flatten(vcat(map(flatten, a)...)) :` instead.\n",
      "└ @ ~/GitHubRepo/Projects/PreySelection/v105/models/model_asymmetry/common.jl:66\n",
      "┌ Warning: Deprecated syntax `parametric method syntax flatten{T}(a::Array{T, 1})` around /Users/neil/GitHubRepo/Projects/PreySelection/v105/models/model_asymmetry/common.jl:66.\n",
      "│ Use `flatten(a::Array{T, 1}) where T` instead.\n",
      "└ @ ~/GitHubRepo/Projects/PreySelection/v105/models/model_asymmetry/common.jl:66\n"
     ]
    },
    {
     "name": "stderr",
     "output_type": "stream",
     "text": [
      "┌ Warning: Deprecated syntax `parametric method syntax flatten{T}(a::Array{T})` around /Users/neil/GitHubRepo/Projects/PreySelection/v105/models/model_asymmetry/common.jl:67.\n",
      "│ Use `flatten(a::Array{T}) where T` instead.\n",
      "└ @ ~/GitHubRepo/Projects/PreySelection/v105/models/model_asymmetry/common.jl:67\n",
      "┌ Warning: Deprecated syntax `try without catch or finally` at /Users/neil/GitHubRepo/Projects/PreySelection/v105/models/model_asymmetry/genVars.jl:17.\n",
      "└ @ ~/GitHubRepo/Projects/PreySelection/v105/models/model_asymmetry/genVars.jl:17\n",
      "┌ Warning: Deprecated syntax `try without catch or finally` at /Users/neil/GitHubRepo/Projects/PreySelection/v105/models/model_asymmetry/genVars.jl:17.\n",
      "└ @ ~/GitHubRepo/Projects/PreySelection/v105/models/model_asymmetry/genVars.jl:17\n",
      "┌ Warning: Deprecated syntax `try without catch or finally` at /Users/neil/GitHubRepo/Projects/PreySelection/v105/models/model_asymmetry/genVars.jl:17.\n",
      "└ @ ~/GitHubRepo/Projects/PreySelection/v105/models/model_asymmetry/genVars.jl:17\n",
      "┌ Warning: Deprecated syntax `try without catch or finally` at /Users/neil/GitHubRepo/Projects/PreySelection/v105/models/model_asymmetry/genVars.jl:17.\n",
      "└ @ nothing /Users/neil/GitHubRepo/Projects/PreySelection/v105/models/model_asymmetry/genVars.jl:17\n",
      "┌ Warning: Deprecated syntax `try without catch or finally` at /Users/neil/GitHubRepo/Projects/PreySelection/v105/models/model_asymmetry/genVars.jl:17.\n",
      "└ @ ~/GitHubRepo/Projects/PreySelection/v105/models/model_asymmetry/genVars.jl:17\n"
     ]
    }
   ],
   "source": [
    "# load required libraries\n",
    "using Distributed\n",
    "\n",
    "# # set everything up\n",
    "parallel = true # Run on multiple CPUs. \n",
    "\n",
    "# this activates the multiprocessing threads\n",
    "if (parallel)\n",
    "\t# only run this once\n",
    "    addprocs(4)\n",
    "end\n",
    "\n",
    "# load required libraries\n",
    "\n",
    "@everywhere using DataFrames\n",
    "#using DataArrays\n",
    "@everywhere using ForwardDiff\n",
    "@everywhere using PyCall\n",
    "@everywhere using Distributions\n",
    "@everywhere using PyPlot\n",
    "@everywhere using CSV\n",
    "@everywhere using SpecialFunctions\n",
    "@everywhere using SharedArrays\n",
    "@everywhere using LinearAlgebra\n",
    "\n",
    "@everywhere PyCall.@pyimport scipy.optimize as so\n",
    "\n",
    "# this is the code for the actual fitting routines\n",
    "@everywhere include(\"em.jl\")\n",
    "@everywhere include(\"common.jl\")\n",
    "@everywhere include(\"likfuns.jl\")\n",
    "\n",
    "# this is generates starting matricies for betas, sigmas etc to feed into model\n",
    "@everywhere include(\"genVars.jl\")"
   ]
  },
  {
   "cell_type": "markdown",
   "metadata": {
    "heading_collapsed": true
   },
   "source": [
    "# Data read and process"
   ]
  },
  {
   "cell_type": "markdown",
   "metadata": {
    "hidden": true
   },
   "source": [
    "### Read in trial by trial data"
   ]
  },
  {
   "cell_type": "code",
   "execution_count": 2,
   "metadata": {
    "hidden": true
   },
   "outputs": [
    {
     "name": "stderr",
     "output_type": "stream",
     "text": [
      "┌ Warning: readtable is deprecated, use CSV.read from the CSV package instead\n",
      "│   caller = top-level scope at In[2]:1\n",
      "└ @ Core In[2]:1\n"
     ]
    },
    {
     "data": {
      "text/html": [
       "<table class=\"data-frame\"><thead><tr><th></th><th>subj</th><th>trial_index_actual</th><th>block</th><th>stimulus</th><th>stim_rank</th><th>reward_percent</th><th>delay_s</th><th>profitability</th><th>stim_left_right</th><th>key_press</th><th>approach_avoid</th><th>rt</th><th>rt_z</th><th>force_trial</th><th>missed</th><th>order_condition</th><th>exclude</th><th>exclude_reason</th></tr><tr><th></th><th>Int64⍰</th><th>Int64⍰</th><th>Int64⍰</th><th>String⍰</th><th>Int64⍰</th><th>Int64⍰</th><th>Int64⍰</th><th>Float64⍰</th><th>String⍰</th><th>Int64⍰</th><th>Float64⍰</th><th>Float64⍰</th><th>Float64⍰</th><th>Int64⍰</th><th>Int64⍰</th><th>Int64⍰</th><th>Int64⍰</th><th>String⍰</th></tr></thead><tbody><tr><th>1</th><td>1</td><td>0</td><td>0</td><td>../static/images/invador1.png</td><td>4</td><td>20</td><td>8</td><td>2.5</td><td>right</td><td>74</td><td>1.0</td><td>1195.0</td><td>1.09567</td><td>1</td><td>0</td><td>1</td><td>0</td><td>do not exclude</td></tr><tr><th>2</th><td>1</td><td>1</td><td>0</td><td>../static/images/invador3.png</td><td>1</td><td>80</td><td>2</td><td>40.0</td><td>right</td><td>74</td><td>1.0</td><td>718.0</td><td>-1.04464</td><td>0</td><td>0</td><td>1</td><td>0</td><td>do not exclude</td></tr><tr><th>3</th><td>1</td><td>2</td><td>0</td><td>../static/images/invador2.png</td><td>2</td><td>20</td><td>2</td><td>10.0</td><td>left</td><td>70</td><td>NaN</td><td>NaN</td><td>NaN</td><td>2</td><td>1</td><td>1</td><td>0</td><td>do not exclude</td></tr><tr><th>4</th><td>1</td><td>3</td><td>0</td><td>../static/images/invador4.png</td><td>3</td><td>80</td><td>8</td><td>10.0</td><td>left</td><td>70</td><td>1.0</td><td>933.0</td><td>-0.0799261</td><td>0</td><td>0</td><td>1</td><td>0</td><td>do not exclude</td></tr><tr><th>5</th><td>1</td><td>4</td><td>0</td><td>../static/images/invador3.png</td><td>1</td><td>80</td><td>2</td><td>40.0</td><td>left</td><td>70</td><td>1.0</td><td>750.0</td><td>-0.901051</td><td>1</td><td>0</td><td>1</td><td>0</td><td>do not exclude</td></tr><tr><th>6</th><td>1</td><td>5</td><td>0</td><td>../static/images/invador3.png</td><td>1</td><td>80</td><td>2</td><td>40.0</td><td>right</td><td>74</td><td>1.0</td><td>628.0</td><td>-1.44847</td><td>0</td><td>0</td><td>1</td><td>0</td><td>do not exclude</td></tr></tbody></table>"
      ],
      "text/latex": [
       "\\begin{tabular}{r|cccccccccccccccccc}\n",
       "\t& subj & trial\\_index\\_actual & block & stimulus & stim\\_rank & reward\\_percent & delay\\_s & profitability & stim\\_left\\_right & key\\_press & approach\\_avoid & rt & rt\\_z & force\\_trial & missed & order\\_condition & exclude & exclude\\_reason\\\\\n",
       "\t\\hline\n",
       "\t1 & 1 & 0 & 0 & ../static/images/invador1.png & 4 & 20 & 8 & 2.5 & right & 74 & 1.0 & 1195.0 & 1.09567 & 1 & 0 & 1 & 0 & do not exclude \\\\\n",
       "\t2 & 1 & 1 & 0 & ../static/images/invador3.png & 1 & 80 & 2 & 40.0 & right & 74 & 1.0 & 718.0 & -1.04464 & 0 & 0 & 1 & 0 & do not exclude \\\\\n",
       "\t3 & 1 & 2 & 0 & ../static/images/invador2.png & 2 & 20 & 2 & 10.0 & left & 70 & NaN & NaN & NaN & 2 & 1 & 1 & 0 & do not exclude \\\\\n",
       "\t4 & 1 & 3 & 0 & ../static/images/invador4.png & 3 & 80 & 8 & 10.0 & left & 70 & 1.0 & 933.0 & -0.0799261 & 0 & 0 & 1 & 0 & do not exclude \\\\\n",
       "\t5 & 1 & 4 & 0 & ../static/images/invador3.png & 1 & 80 & 2 & 40.0 & left & 70 & 1.0 & 750.0 & -0.901051 & 1 & 0 & 1 & 0 & do not exclude \\\\\n",
       "\t6 & 1 & 5 & 0 & ../static/images/invador3.png & 1 & 80 & 2 & 40.0 & right & 74 & 1.0 & 628.0 & -1.44847 & 0 & 0 & 1 & 0 & do not exclude \\\\\n",
       "\\end{tabular}\n"
      ],
      "text/plain": [
       "6×18 DataFrame. Omitted printing of 14 columns\n",
       "│ Row │ subj   │ trial_index_actual │ block  │ stimulus                      │\n",
       "│     │ \u001b[90mInt64⍰\u001b[39m │ \u001b[90mInt64⍰\u001b[39m             │ \u001b[90mInt64⍰\u001b[39m │ \u001b[90mUnion{Missing, String}\u001b[39m        │\n",
       "├─────┼────────┼────────────────────┼────────┼───────────────────────────────┤\n",
       "│ 1   │ 1      │ 0                  │ 0      │ ../static/images/invador1.png │\n",
       "│ 2   │ 1      │ 1                  │ 0      │ ../static/images/invador3.png │\n",
       "│ 3   │ 1      │ 2                  │ 0      │ ../static/images/invador2.png │\n",
       "│ 4   │ 1      │ 3                  │ 0      │ ../static/images/invador4.png │\n",
       "│ 5   │ 1      │ 4                  │ 0      │ ../static/images/invador3.png │\n",
       "│ 6   │ 1      │ 5                  │ 0      │ ../static/images/invador3.png │"
      ]
     },
     "execution_count": 2,
     "metadata": {},
     "output_type": "execute_result"
    }
   ],
   "source": [
    "#read in csv file of the data\n",
    "#trial by trial data: note will include force trials and missed responses\n",
    "df = readtable(\"/Users/neil/GitHubRepo/Projects/PreySelection/v105/data/trialdata_105_processed.csv\")\n",
    "\n",
    "#display header\n",
    "head(df)\n"
   ]
  },
  {
   "cell_type": "markdown",
   "metadata": {
    "hidden": true
   },
   "source": [
    "### Append data with the column \"sub\" \n"
   ]
  },
  {
   "cell_type": "code",
   "execution_count": 3,
   "metadata": {
    "collapsed": true,
    "hidden": true
   },
   "outputs": [],
   "source": [
    "#this is just a replica of the existing column sub_no but think em looks for \"sub\" specifically\n",
    "df[:sub] = df[:subj];\n"
   ]
  },
  {
   "cell_type": "markdown",
   "metadata": {
    "hidden": true
   },
   "source": [
    "### Get rid of excluded subs"
   ]
  },
  {
   "cell_type": "code",
   "execution_count": 4,
   "metadata": {
    "collapsed": true,
    "hidden": true
   },
   "outputs": [],
   "source": [
    "df = df[df[:exclude].==0,:];\n"
   ]
  },
  {
   "cell_type": "markdown",
   "metadata": {
    "hidden": true
   },
   "source": [
    "### Convert approach avoid to 2s and 1s , missed as 0. Then convert to integers (necessary to use as an index)"
   ]
  },
  {
   "cell_type": "code",
   "execution_count": 5,
   "metadata": {
    "hidden": true
   },
   "outputs": [
    {
     "name": "stderr",
     "output_type": "stream",
     "text": [
      "┌ Warning: `find(A::AbstractVector)` is deprecated, use `findall(A)` instead.\n",
      "│   caller = top-level scope at In[5]:4\n",
      "└ @ Core In[5]:4\n"
     ]
    },
    {
     "data": {
      "text/html": [
       "<table class=\"data-frame\"><thead><tr><th></th><th>subj</th><th>trial_index_actual</th><th>block</th><th>stimulus</th><th>stim_rank</th><th>reward_percent</th><th>delay_s</th><th>profitability</th><th>stim_left_right</th><th>key_press</th><th>approach_avoid</th><th>rt</th><th>rt_z</th><th>force_trial</th><th>missed</th><th>order_condition</th><th>exclude</th><th>exclude_reason</th><th>sub</th></tr><tr><th></th><th>Int64⍰</th><th>Int64⍰</th><th>Int64⍰</th><th>String⍰</th><th>Int64⍰</th><th>Int64⍰</th><th>Int64⍰</th><th>Float64⍰</th><th>String⍰</th><th>Int64⍰</th><th>Integer</th><th>Float64⍰</th><th>Float64⍰</th><th>Int64⍰</th><th>Int64⍰</th><th>Int64⍰</th><th>Int64⍰</th><th>String⍰</th><th>Int64⍰</th></tr></thead><tbody><tr><th>1</th><td>1</td><td>0</td><td>0</td><td>../static/images/invador1.png</td><td>4</td><td>20</td><td>8</td><td>2.5</td><td>right</td><td>74</td><td>2</td><td>1195.0</td><td>1.09567</td><td>1</td><td>0</td><td>1</td><td>0</td><td>do not exclude</td><td>1</td></tr><tr><th>2</th><td>1</td><td>1</td><td>0</td><td>../static/images/invador3.png</td><td>1</td><td>80</td><td>2</td><td>40.0</td><td>right</td><td>74</td><td>2</td><td>718.0</td><td>-1.04464</td><td>0</td><td>0</td><td>1</td><td>0</td><td>do not exclude</td><td>1</td></tr><tr><th>3</th><td>1</td><td>2</td><td>0</td><td>../static/images/invador2.png</td><td>2</td><td>20</td><td>2</td><td>10.0</td><td>left</td><td>70</td><td>0</td><td>NaN</td><td>NaN</td><td>2</td><td>1</td><td>1</td><td>0</td><td>do not exclude</td><td>1</td></tr><tr><th>4</th><td>1</td><td>3</td><td>0</td><td>../static/images/invador4.png</td><td>3</td><td>80</td><td>8</td><td>10.0</td><td>left</td><td>70</td><td>2</td><td>933.0</td><td>-0.0799261</td><td>0</td><td>0</td><td>1</td><td>0</td><td>do not exclude</td><td>1</td></tr><tr><th>5</th><td>1</td><td>4</td><td>0</td><td>../static/images/invador3.png</td><td>1</td><td>80</td><td>2</td><td>40.0</td><td>left</td><td>70</td><td>2</td><td>750.0</td><td>-0.901051</td><td>1</td><td>0</td><td>1</td><td>0</td><td>do not exclude</td><td>1</td></tr><tr><th>6</th><td>1</td><td>5</td><td>0</td><td>../static/images/invador3.png</td><td>1</td><td>80</td><td>2</td><td>40.0</td><td>right</td><td>74</td><td>2</td><td>628.0</td><td>-1.44847</td><td>0</td><td>0</td><td>1</td><td>0</td><td>do not exclude</td><td>1</td></tr></tbody></table>"
      ],
      "text/latex": [
       "\\begin{tabular}{r|ccccccccccccccccccc}\n",
       "\t& subj & trial\\_index\\_actual & block & stimulus & stim\\_rank & reward\\_percent & delay\\_s & profitability & stim\\_left\\_right & key\\_press & approach\\_avoid & rt & rt\\_z & force\\_trial & missed & order\\_condition & exclude & exclude\\_reason & sub\\\\\n",
       "\t\\hline\n",
       "\t1 & 1 & 0 & 0 & ../static/images/invador1.png & 4 & 20 & 8 & 2.5 & right & 74 & 2 & 1195.0 & 1.09567 & 1 & 0 & 1 & 0 & do not exclude & 1 \\\\\n",
       "\t2 & 1 & 1 & 0 & ../static/images/invador3.png & 1 & 80 & 2 & 40.0 & right & 74 & 2 & 718.0 & -1.04464 & 0 & 0 & 1 & 0 & do not exclude & 1 \\\\\n",
       "\t3 & 1 & 2 & 0 & ../static/images/invador2.png & 2 & 20 & 2 & 10.0 & left & 70 & 0 & NaN & NaN & 2 & 1 & 1 & 0 & do not exclude & 1 \\\\\n",
       "\t4 & 1 & 3 & 0 & ../static/images/invador4.png & 3 & 80 & 8 & 10.0 & left & 70 & 2 & 933.0 & -0.0799261 & 0 & 0 & 1 & 0 & do not exclude & 1 \\\\\n",
       "\t5 & 1 & 4 & 0 & ../static/images/invador3.png & 1 & 80 & 2 & 40.0 & left & 70 & 2 & 750.0 & -0.901051 & 1 & 0 & 1 & 0 & do not exclude & 1 \\\\\n",
       "\t6 & 1 & 5 & 0 & ../static/images/invador3.png & 1 & 80 & 2 & 40.0 & right & 74 & 2 & 628.0 & -1.44847 & 0 & 0 & 1 & 0 & do not exclude & 1 \\\\\n",
       "\\end{tabular}\n"
      ],
      "text/plain": [
       "6×19 DataFrame. Omitted printing of 15 columns\n",
       "│ Row │ subj   │ trial_index_actual │ block  │ stimulus                      │\n",
       "│     │ \u001b[90mInt64⍰\u001b[39m │ \u001b[90mInt64⍰\u001b[39m             │ \u001b[90mInt64⍰\u001b[39m │ \u001b[90mUnion{Missing, String}\u001b[39m        │\n",
       "├─────┼────────┼────────────────────┼────────┼───────────────────────────────┤\n",
       "│ 1   │ 1      │ 0                  │ 0      │ ../static/images/invador1.png │\n",
       "│ 2   │ 1      │ 1                  │ 0      │ ../static/images/invador3.png │\n",
       "│ 3   │ 1      │ 2                  │ 0      │ ../static/images/invador2.png │\n",
       "│ 4   │ 1      │ 3                  │ 0      │ ../static/images/invador4.png │\n",
       "│ 5   │ 1      │ 4                  │ 0      │ ../static/images/invador3.png │\n",
       "│ 6   │ 1      │ 5                  │ 0      │ ../static/images/invador3.png │"
      ]
     },
     "execution_count": 5,
     "metadata": {},
     "output_type": "execute_result"
    }
   ],
   "source": [
    "#convert approach_avoid to 1s (avoid) and 2s (approach)\n",
    "df[df[:approach_avoid].==1,:approach_avoid] = 2\n",
    "df[df[:approach_avoid].==-1,:approach_avoid] = 1\n",
    "\n",
    "index_NaN = find(isnan.(df[:approach_avoid]))\n",
    "df[index_NaN, :approach_avoid] = 0\n",
    "\n",
    "df[:approach_avoid] = convert(Vector{Integer}, df[:approach_avoid])\n",
    "\n",
    "head(df)\n"
   ]
  },
  {
   "cell_type": "markdown",
   "metadata": {
    "hidden": true
   },
   "source": [
    "### Read in summary stats"
   ]
  },
  {
   "cell_type": "code",
   "execution_count": 6,
   "metadata": {
    "hidden": true
   },
   "outputs": [
    {
     "name": "stderr",
     "output_type": "stream",
     "text": [
      "┌ Warning: readtable is deprecated, use CSV.read from the CSV package instead\n",
      "│   caller = top-level scope at In[6]:1\n",
      "└ @ Core In[6]:1\n"
     ]
    },
    {
     "data": {
      "text/html": [
       "<table class=\"data-frame\"><thead><tr><th></th><th>MturkID</th><th>AssignID</th><th>sub_no</th><th>age</th><th>gender</th><th>n_trials</th><th>n_force_wrong</th><th>n_missed</th><th>bonus_payment</th><th>percent_accept_A1</th><th>percent_accept_A2</th><th>percent_accept_A3</th><th>percent_accept_A4</th><th>percent_accept_A2_A3</th><th>percent_accept_B1</th><th>percent_accept_B2</th><th>percent_accept_B3</th><th>percent_accept_B4</th><th>percent_accept_B2_B3</th><th>percent_accept_B1_min_A1</th><th>percent_accept_B2_min_A2</th><th>percent_accept_B3_min_A3</th><th>percent_accept_B4_min_A4</th><th>percent_accept_B2_B3_min_A2_A3</th><th>percent_accept_AB1</th><th>percent_accept_AB2</th><th>percent_accept_AB3</th><th>percent_accept_AB4</th><th>percent_accept_AB2_AB3</th><th>exclude</th><th>exclude_reason</th><th>order_condition</th><th>comment</th></tr><tr><th></th><th>String⍰</th><th>String⍰</th><th>Int64⍰</th><th>Int64⍰</th><th>String⍰</th><th>Int64⍰</th><th>Int64⍰</th><th>Int64⍰</th><th>Float64⍰</th><th>Float64⍰</th><th>Float64⍰</th><th>Float64⍰</th><th>Float64⍰</th><th>Float64⍰</th><th>Float64⍰</th><th>Float64⍰</th><th>Float64⍰</th><th>Float64⍰</th><th>Float64⍰</th><th>Float64⍰</th><th>Float64⍰</th><th>Float64⍰</th><th>Float64⍰</th><th>Float64⍰</th><th>Float64⍰</th><th>Float64⍰</th><th>Float64⍰</th><th>Float64⍰</th><th>Float64⍰</th><th>Int64⍰</th><th>String⍰</th><th>Int64⍰</th><th>String⍰</th></tr></thead><tbody><tr><th>1</th><td>A3VE8U98QF4FVV</td><td>3RSDURM96AM9RPFMDMRKDJZ2IHMEYS</td><td>1</td><td>30</td><td>m</td><td>284</td><td>1</td><td>1</td><td>2.7</td><td>1.0</td><td>0.0714286</td><td>0.117647</td><td>0.0</td><td>0.0967742</td><td>1.0</td><td>0.857143</td><td>1.0</td><td>0.0227273</td><td>0.9375</td><td>0.0</td><td>0.785714</td><td>0.882353</td><td>0.0227273</td><td>0.840726</td><td>1.0</td><td>0.333333</td><td>0.423077</td><td>0.225</td><td>0.382979</td><td>0</td><td>do not exclude</td><td>1</td><td>Everything went fine and I didn't have any problems and the game was fun.</td></tr><tr><th>2</th><td>A2LI0QVPKA5CG8</td><td>3HQUKB7LNFEZP4GZTNV2CM1CN34HHM</td><td>2</td><td>40</td><td>f</td><td>255</td><td>1</td><td>1</td><td>2.4</td><td>1.0</td><td>0.0</td><td>1.0</td><td>0.111111</td><td>0.45</td><td>0.785714</td><td>0.166667</td><td>1.0</td><td>0.0377358</td><td>0.583333</td><td>-0.214286</td><td>0.166667</td><td>0.0</td><td>-0.0733753</td><td>0.133333</td><td>0.942308</td><td>0.0869565</td><td>1.0</td><td>0.108434</td><td>0.522727</td><td>0</td><td>do not exclude</td><td>2</td><td>A great game that was extremely fun! Thank you!</td></tr><tr><th>3</th><td>AMYZ8WZD19W29</td><td>39ZSFO5CA8W0LWH9HM5M7E6HU3AJUU</td><td>3</td><td>30</td><td>m</td><td>333</td><td>2</td><td>4</td><td>2.8</td><td>1.0</td><td>0.235294</td><td>0.117647</td><td>0.05</td><td>0.176471</td><td>1.0</td><td>0.733333</td><td>0.647059</td><td>0.0</td><td>0.6875</td><td>0.0</td><td>0.498039</td><td>0.529412</td><td>-0.05</td><td>0.511029</td><td>1.0</td><td>0.46875</td><td>0.382353</td><td>0.190476</td><td>0.424242</td><td>0</td><td>do not exclude</td><td>1</td><td>I feel like the red asterisk was there to annoy me.</td></tr><tr><th>4</th><td>AYNWXFK66TKOZ</td><td>3TPWUS5F891Q5M082U312YEJPZCCW8</td><td>4</td><td>29</td><td>f</td><td>350</td><td>5</td><td>8</td><td>2.8</td><td>0.987013</td><td>0.95</td><td>0.0526316</td><td>0.0</td><td>0.512821</td><td>0.933333</td><td>0.944444</td><td>0.8</td><td>0.0166667</td><td>0.878788</td><td>-0.0536797</td><td>-0.00555556</td><td>0.747368</td><td>0.0166667</td><td>0.365967</td><td>0.978261</td><td>0.947368</td><td>0.382353</td><td>0.178218</td><td>0.680556</td><td>0</td><td>do not exclude</td><td>2</td><td>Overall a fun activity, curious about what the study is about. </td></tr><tr><th>5</th><td>A1HKCTDOTL6C9I</td><td>37XITHEISW9LXQJM30TVFZ62XKXCR5</td><td>5</td><td>42</td><td>m</td><td>301</td><td>0</td><td>4</td><td>2.8</td><td>1.0</td><td>0.428571</td><td>0.882353</td><td>0.25</td><td>0.677419</td><td>0.933333</td><td>0.785714</td><td>0.933333</td><td>0.0172414</td><td>0.862069</td><td>-0.0666667</td><td>0.357143</td><td>0.0509804</td><td>-0.232759</td><td>0.18465</td><td>0.986486</td><td>0.607143</td><td>0.90625</td><td>0.244681</td><td>0.766667</td><td>0</td><td>do not exclude</td><td>1</td><td>Thank you.</td></tr><tr><th>6</th><td>A3T9C1USL4V4IJ</td><td>3FUI0JHJPXY51O21ZHHY4YZSLT533V</td><td>6</td><td>36</td><td>male</td><td>321</td><td>2</td><td>12</td><td>2.7</td><td>0.985507</td><td>0.0714286</td><td>0.0</td><td>0.0</td><td>0.03125</td><td>1.0</td><td>0.4</td><td>0.785714</td><td>0.016129</td><td>0.586207</td><td>0.0144928</td><td>0.328571</td><td>0.785714</td><td>0.016129</td><td>0.554957</td><td>0.988095</td><td>0.241379</td><td>0.34375</td><td>0.158416</td><td>0.295082</td><td>0</td><td>do not exclude</td><td>2</td><td>missing</td></tr></tbody></table>"
      ],
      "text/latex": [
       "\\begin{tabular}{r|ccccccccccccccccccccccccccccccccc}\n",
       "\t& MturkID & AssignID & sub\\_no & age & gender & n\\_trials & n\\_force\\_wrong & n\\_missed & bonus\\_payment & percent\\_accept\\_A1 & percent\\_accept\\_A2 & percent\\_accept\\_A3 & percent\\_accept\\_A4 & percent\\_accept\\_A2\\_A3 & percent\\_accept\\_B1 & percent\\_accept\\_B2 & percent\\_accept\\_B3 & percent\\_accept\\_B4 & percent\\_accept\\_B2\\_B3 & percent\\_accept\\_B1\\_min\\_A1 & percent\\_accept\\_B2\\_min\\_A2 & percent\\_accept\\_B3\\_min\\_A3 & percent\\_accept\\_B4\\_min\\_A4 & percent\\_accept\\_B2\\_B3\\_min\\_A2\\_A3 & percent\\_accept\\_AB1 & percent\\_accept\\_AB2 & percent\\_accept\\_AB3 & percent\\_accept\\_AB4 & percent\\_accept\\_AB2\\_AB3 & exclude & exclude\\_reason & order\\_condition & comment\\\\\n",
       "\t\\hline\n",
       "\t1 & A3VE8U98QF4FVV & 3RSDURM96AM9RPFMDMRKDJZ2IHMEYS & 1 & 30 & m & 284 & 1 & 1 & 2.7 & 1.0 & 0.0714286 & 0.117647 & 0.0 & 0.0967742 & 1.0 & 0.857143 & 1.0 & 0.0227273 & 0.9375 & 0.0 & 0.785714 & 0.882353 & 0.0227273 & 0.840726 & 1.0 & 0.333333 & 0.423077 & 0.225 & 0.382979 & 0 & do not exclude & 1 & Everything went fine and I didn't have any problems and the game was fun. \\\\\n",
       "\t2 & A2LI0QVPKA5CG8 & 3HQUKB7LNFEZP4GZTNV2CM1CN34HHM & 2 & 40 & f & 255 & 1 & 1 & 2.4 & 1.0 & 0.0 & 1.0 & 0.111111 & 0.45 & 0.785714 & 0.166667 & 1.0 & 0.0377358 & 0.583333 & -0.214286 & 0.166667 & 0.0 & -0.0733753 & 0.133333 & 0.942308 & 0.0869565 & 1.0 & 0.108434 & 0.522727 & 0 & do not exclude & 2 & A great game that was extremely fun! Thank you! \\\\\n",
       "\t3 & AMYZ8WZD19W29 & 39ZSFO5CA8W0LWH9HM5M7E6HU3AJUU & 3 & 30 & m & 333 & 2 & 4 & 2.8 & 1.0 & 0.235294 & 0.117647 & 0.05 & 0.176471 & 1.0 & 0.733333 & 0.647059 & 0.0 & 0.6875 & 0.0 & 0.498039 & 0.529412 & -0.05 & 0.511029 & 1.0 & 0.46875 & 0.382353 & 0.190476 & 0.424242 & 0 & do not exclude & 1 & I feel like the red asterisk was there to annoy me. \\\\\n",
       "\t4 & AYNWXFK66TKOZ & 3TPWUS5F891Q5M082U312YEJPZCCW8 & 4 & 29 & f & 350 & 5 & 8 & 2.8 & 0.987013 & 0.95 & 0.0526316 & 0.0 & 0.512821 & 0.933333 & 0.944444 & 0.8 & 0.0166667 & 0.878788 & -0.0536797 & -0.00555556 & 0.747368 & 0.0166667 & 0.365967 & 0.978261 & 0.947368 & 0.382353 & 0.178218 & 0.680556 & 0 & do not exclude & 2 & Overall a fun activity, curious about what the study is about.  \\\\\n",
       "\t5 & A1HKCTDOTL6C9I & 37XITHEISW9LXQJM30TVFZ62XKXCR5 & 5 & 42 & m & 301 & 0 & 4 & 2.8 & 1.0 & 0.428571 & 0.882353 & 0.25 & 0.677419 & 0.933333 & 0.785714 & 0.933333 & 0.0172414 & 0.862069 & -0.0666667 & 0.357143 & 0.0509804 & -0.232759 & 0.18465 & 0.986486 & 0.607143 & 0.90625 & 0.244681 & 0.766667 & 0 & do not exclude & 1 & Thank you. \\\\\n",
       "\t6 & A3T9C1USL4V4IJ & 3FUI0JHJPXY51O21ZHHY4YZSLT533V & 6 & 36 & male & 321 & 2 & 12 & 2.7 & 0.985507 & 0.0714286 & 0.0 & 0.0 & 0.03125 & 1.0 & 0.4 & 0.785714 & 0.016129 & 0.586207 & 0.0144928 & 0.328571 & 0.785714 & 0.016129 & 0.554957 & 0.988095 & 0.241379 & 0.34375 & 0.158416 & 0.295082 & 0 & do not exclude & 2 &  \\\\\n",
       "\\end{tabular}\n"
      ],
      "text/plain": [
       "6×33 DataFrame. Omitted printing of 29 columns\n",
       "│ Row │ MturkID        │ AssignID                       │ sub_no │ age    │\n",
       "│     │ \u001b[90mString⍰\u001b[39m        │ \u001b[90mUnion{Missing, String}\u001b[39m         │ \u001b[90mInt64⍰\u001b[39m │ \u001b[90mInt64⍰\u001b[39m │\n",
       "├─────┼────────────────┼────────────────────────────────┼────────┼────────┤\n",
       "│ 1   │ A3VE8U98QF4FVV │ 3RSDURM96AM9RPFMDMRKDJZ2IHMEYS │ 1      │ 30     │\n",
       "│ 2   │ A2LI0QVPKA5CG8 │ 3HQUKB7LNFEZP4GZTNV2CM1CN34HHM │ 2      │ 40     │\n",
       "│ 3   │ AMYZ8WZD19W29  │ 39ZSFO5CA8W0LWH9HM5M7E6HU3AJUU │ 3      │ 30     │\n",
       "│ 4   │ AYNWXFK66TKOZ  │ 3TPWUS5F891Q5M082U312YEJPZCCW8 │ 4      │ 29     │\n",
       "│ 5   │ A1HKCTDOTL6C9I │ 37XITHEISW9LXQJM30TVFZ62XKXCR5 │ 5      │ 42     │\n",
       "│ 6   │ A3T9C1USL4V4IJ │ 3FUI0JHJPXY51O21ZHHY4YZSLT533V │ 6      │ 36     │"
      ]
     },
     "execution_count": 6,
     "metadata": {},
     "output_type": "execute_result"
    }
   ],
   "source": [
    "summary_stats = readtable(\"/Users/neil/GitHubRepo/Projects/PreySelection/v105/data/subdata_105.csv\")\n",
    "head(summary_stats)"
   ]
  },
  {
   "cell_type": "markdown",
   "metadata": {
    "hidden": true
   },
   "source": [
    "### Get rid of excluded subs"
   ]
  },
  {
   "cell_type": "code",
   "execution_count": 7,
   "metadata": {
    "collapsed": true,
    "hidden": true
   },
   "outputs": [],
   "source": [
    "summary_stats = summary_stats[summary_stats[:exclude].==0,:];\n"
   ]
  },
  {
   "cell_type": "markdown",
   "metadata": {
    "hidden": true
   },
   "source": [
    "### Get rid of Mturk ID etc (first 3 columns)"
   ]
  },
  {
   "cell_type": "code",
   "execution_count": 8,
   "metadata": {
    "hidden": true
   },
   "outputs": [
    {
     "name": "stderr",
     "output_type": "stream",
     "text": [
      "┌ Warning: indexing with colon as row will create a copy in the future use df[col_inds] to get the columns without copying\n",
      "│   caller = top-level scope at In[8]:1\n",
      "└ @ Core In[8]:1\n"
     ]
    }
   ],
   "source": [
    "summary_stats = summary_stats[:,4:end];"
   ]
  },
  {
   "cell_type": "markdown",
   "metadata": {
    "heading_collapsed": true
   },
   "source": [
    "# Asymmetry Model\n",
    "\n",
    "This model comprises: \n",
    "\n",
    "1. An intercept which reflects degree of bias to reject.\n",
    "\n",
    "2. A beta (termperature parameter) which controls sensitivity to the difference between the options (0 = pick 50/50. Higher it is, the more sensative subs are tothe different options (more step functionesque). <br>\n",
    "\n",
    "3. Two learning rates: one for appetative component (reward), one for aversive (delay)\n",
    "\n",
    "Uses Q learned average to predict choice\n",
    "\n",
    "Initalise Qaverage in model at the arithmetic average over all subs over both sessions"
   ]
  },
  {
   "cell_type": "code",
   "execution_count": 27,
   "metadata": {
    "collapsed": true,
    "hidden": true
   },
   "outputs": [],
   "source": [
    "@everywhere function model_asymmetry(params, data)\n",
    "     \n",
    "    #model parameters\n",
    "    intercept = params[1]\n",
    "    beta = params[2]\n",
    "    lr_reward = 0.5 .+ 0.5.*erf(params[3]/sqrt(2))\n",
    "    lr_delay = 0.5 .+ 0.5.*erf(params[4]/sqrt(2))\n",
    "    \n",
    "    #initalise various variables\n",
    "    delay_sum = zeros(typeof(beta),1)\n",
    "    reward_sum = zeros(typeof(beta),1)\n",
    "    Q_arithmetic = zeros(typeof(beta),1) # stores actual (arithmetic) average reward rate\n",
    "    opp_cost_arithmetic = zeros(typeof(beta),1) # stores actual (arithmetic) opp cost\n",
    "    Q_estimate = zeros(typeof(beta),1) .+ 7.02 # stores estimated global reward rate\n",
    "    opp_cost_estimate = zeros(typeof(beta),1) # stores estimated opp cost\n",
    "    \n",
    "    Qd = zeros(typeof(beta),2) # decision variable; 1st element is the opp cost of accepting (or value of rejecting), 2nd element is just the reward of the option (value of accepting)\n",
    "\n",
    "    lik = 0 #likelihood\n",
    "\n",
    "    #these store new trial by trial values (e.g. Q estimate on each trial etc.)\n",
    "    reward_sum_store = [];\n",
    "    delay_sum_store = [];\n",
    "    Q_arithmetic_store = [];\n",
    "    opp_cost_arithmetic_store  = []; \n",
    "    Q_estimate_store = [];\n",
    "    opp_cost_estimate_store = [];\n",
    "\n",
    "    #extract various variables from the dataframe\n",
    "    reward = data[:reward_percent]\n",
    "    delay = data[:delay_s]\n",
    "    force = data[:force_trial]  \n",
    "    missed = data[:missed] #missed responses \n",
    "    c = data[:approach_avoid] #choice\n",
    "        \n",
    "    for i = 1:length(c)\n",
    "        \n",
    "            # 2 seconds without reward on each trial regadless of accept/reject\n",
    "            delay_sum .+= 2;\n",
    "         \n",
    "            # calculate current (arithmetic) reward per second from number of seconds elapsed and reward accured\n",
    "            Q_arithmetic = reward_sum./delay_sum\n",
    "            opp_cost_arithmetic = Q_arithmetic*delay[i]\n",
    "           \n",
    "            # decrease estimate of global reward rate for encounter time (2seconds)\n",
    "            Q_estimate = (1-lr_delay) * Q_estimate .+ 0\n",
    "            Q_estimate = (1-lr_delay) * Q_estimate .+ 0\n",
    "        \n",
    "            #calculate estimate of opportunity cost given estimate of reward rate and delay incurred by option \n",
    "            opp_cost_estimate = Q_estimate*delay[i]\n",
    "        \n",
    "            #add trial by trial values \n",
    "            append!(reward_sum_store, reward_sum)\n",
    "            append!(delay_sum_store, delay_sum)\n",
    "            append!(Q_arithmetic_store, Q_arithmetic)\n",
    "            append!(opp_cost_arithmetic_store, opp_cost_arithmetic)\n",
    "            append!(Q_estimate_store, Q_estimate)\n",
    "            append!(opp_cost_estimate_store, opp_cost_estimate)\n",
    "        \n",
    "            # if not a force trial predict choice based on current values\n",
    "            if ((force[i]<1) & (missed[i]<1))\n",
    "                        \n",
    "                # decision variable - the estimate of opportunity cost (\"reward\" of rejecting) versus \n",
    "                # reward of the current option (if accepted)\n",
    "                Qd = [intercept, 0] .+ [beta.*opp_cost_estimate[1], beta.*reward[i]]\n",
    "\n",
    "                # increment likelihood\n",
    "                lik += Qd[c[i]] - log(sum(exp.(Qd)))\n",
    "            \n",
    "            end\n",
    "            \n",
    "            #incur 8second time out for missed response\n",
    "            if (missed[i]==1)\n",
    "                \n",
    "                delay_sum .+= 8\n",
    "            \n",
    "                for j = 1:8\n",
    "                \n",
    "                     Q_estimate = (1-lr_delay) * Q_estimate .+ 0\n",
    "\n",
    "                end\n",
    "            \n",
    "            end\n",
    "        \n",
    "            # regardless of whether a force trial or not, \n",
    "            # if accept the option, Q_estimate updates and there is a delay incurred\n",
    "            if ((c[i] == 2) & (missed[i]==0))\n",
    "                \n",
    "                delay_sum .+= delay[i]\n",
    "                reward_sum .+= reward[i]\n",
    "            \n",
    "                for j = 1:delay[i]\n",
    "                \n",
    "                    Q_estimate = (1-lr_delay) * Q_estimate .+ 0\n",
    "                \n",
    "                end\n",
    "            \n",
    "                    Q_estimate = (1-lr_reward) * Q_estimate .+ lr_reward*reward[i]\n",
    "                \n",
    "            end\n",
    "    \n",
    "    end\n",
    "    \n",
    "    # compile trial by trial values here\n",
    "    trial_data = DataFrame(reward_sum = reward_sum_store,\n",
    "            delay_sum = delay_sum_store,\n",
    "            Q_arithmetic = Q_arithmetic_store,\n",
    "            opp_cost_arithmetic = opp_cost_arithmetic_store,\n",
    "            Q_estimate = Q_estimate_store,\n",
    "            opp_cost_estimate = opp_cost_estimate_store)\n",
    "    \n",
    "    # here if running em you can only return the likelihood\n",
    "    #return -lik\n",
    "    \n",
    "    # but if you run in order to extract trials, subs etc then want to return this\n",
    "    return (-lik, trial_data)\n",
    "    \n",
    "end\n"
   ]
  },
  {
   "cell_type": "markdown",
   "metadata": {
    "heading_collapsed": true
   },
   "source": [
    "# Parameter optimisiation"
   ]
  },
  {
   "cell_type": "markdown",
   "metadata": {
    "hidden": true
   },
   "source": [
    "### Run model for one subject\n",
    "\n",
    "aids debugging"
   ]
  },
  {
   "cell_type": "code",
   "execution_count": 10,
   "metadata": {
    "hidden": true
   },
   "outputs": [
    {
     "data": {
      "text/plain": [
       "140.0157304731092"
      ]
     },
     "execution_count": 10,
     "metadata": {},
     "output_type": "execute_result"
    }
   ],
   "source": [
    "# initialize parameter structures\n",
    "(df, subs, X, betas, sigma) = genVars(df, 4);\n",
    "\n",
    "# run model for sub 1\n",
    "model_asymmetry(betas,df[df[:sub].==subs[1],:])\n"
   ]
  },
  {
   "cell_type": "markdown",
   "metadata": {
    "hidden": true
   },
   "source": [
    "### Run em to get best fit parameters for each subject"
   ]
  },
  {
   "cell_type": "code",
   "execution_count": 11,
   "metadata": {
    "hidden": true
   },
   "outputs": [
    {
     "name": "stdout",
     "output_type": "stream",
     "text": [
      "\n",
      "iter: 18\n",
      "betas: [-1.14, 0.07, -1.99, -2.25]\n",
      "sigma: [2.28 -0.01 -0.03 0.26; -0.01 0.0 -0.0 0.0; -0.03 -0.0 0.29 0.2; 0.26 0.0 0.2 0.23]\n",
      "change: [-0.000281, 3.0e-6, -1.4e-5, -5.1e-5, 0.000205, -0.001235, -0.003245, 0.000734, 0.000475, -0.001565, 0.000872, 0.000224, 8.9e-5, 9.7e-5]\n",
      "max: 0.000872\n",
      "164.191190 seconds (30.34 M allocations: 1.302 GiB, 0.73% gc time)\n"
     ]
    }
   ],
   "source": [
    "# initialized parameter structures (again)\n",
    "# note that some of the variables (e.g. betas, sigma) are entered and returned by em function \n",
    "(df, subs, X, betas, sigma) = genVars(df, 4);\n",
    "\n",
    "# run for full learner\n",
    "# x contains the parameters for each subject (note not the same as variable X)\n",
    "# l and h are per-subject likelihood and hessians\n",
    "@time (betas, sigma, x, l, h) = em(df, subs, X, betas, sigma, model_asymmetry; emtol=1e-3, parallel=true, full=true, quiet=false);\n"
   ]
  },
  {
   "cell_type": "markdown",
   "metadata": {
    "hidden": true
   },
   "source": [
    "### Generate Model Statistics \n",
    "(IAIC, IBIC, LOOCV)"
   ]
  },
  {
   "cell_type": "code",
   "execution_count": 12,
   "metadata": {
    "hidden": true
   },
   "outputs": [
    {
     "name": "stdout",
     "output_type": "stream",
     "text": [
      "Subject: 1..2..3..4..5..6..7..8..9..10..11..12..13..14..15..16..17..18..19..20..21..22..23..24..25..26..27..28..29..30..31..32..33..34..35..36..37..38..2647.231513205752"
     ]
    }
   ],
   "source": [
    "## model selection/comparison/scoring\n",
    "\n",
    "# laplace approximation to the aggregate log marginal likelihood of the whole dataset\n",
    "# marginalized over the individual params\n",
    "\n",
    "aggll = lml(x,l,h)\n",
    "\n",
    "# to compare this between models you need to correct for the group-level free parameters\n",
    "# either aic or bic\n",
    "\n",
    "aggll_ibic = ibic(x,l,h,betas,sigma,nrow(df))\n",
    "aggll_iaic = iaic(x,l,h,betas,sigma)\n",
    "\n",
    "# or you can compute unbiased per subject marginal likelihoods via subject-level cross validation\n",
    "# you can do paired t tests on these between models\n",
    "# these are also appropriate for SPM_BMS etc\n",
    "\n",
    "# takes ages so comment in when want to run, otherwise just use IAIC above\n",
    "liks = loocv(df, subs, x, X, betas, sigma, model_asymmetry; emtol=1e-3, parallel=true, full=true)\n",
    "#aggll_loo = sum(liks)\n",
    "\n",
    "#println(\"\\n\\nraw nll:  $aggll\\nibic nll: $aggll_ibic\\niaic nll: $aggll_iaic\\nloo nll:  $aggll_loo\")\n",
    "#println(\"\\n\\nraw nll:  $aggll\\nibic nll: $aggll_ibic\\niaic nll:\")\n",
    "print(aggll_iaic)\n"
   ]
  },
  {
   "cell_type": "markdown",
   "metadata": {
    "hidden": true
   },
   "source": [
    "### Write loocv scores to csv file\n",
    "\n",
    "(if you have run loocv above)"
   ]
  },
  {
   "cell_type": "code",
   "execution_count": 13,
   "metadata": {
    "collapsed": true,
    "hidden": true,
    "scrolled": true
   },
   "outputs": [],
   "source": [
    "# put loocv scores into dataframe\n",
    "loocv_scores = DataFrame(sub = subs,\n",
    "liks = vec(liks));\n"
   ]
  },
  {
   "cell_type": "markdown",
   "metadata": {
    "hidden": true
   },
   "source": [
    "#### save LOOCV to csv file\n"
   ]
  },
  {
   "cell_type": "code",
   "execution_count": 14,
   "metadata": {
    "hidden": true
   },
   "outputs": [
    {
     "name": "stderr",
     "output_type": "stream",
     "text": [
      "┌ Warning: In the future DataFrame constructor called with a `DataFrame` argument will return a copy. Use `convert(DataFrame, df)` to avoid copying if `df` is a `DataFrame`.\n",
      "│   caller = top-level scope at In[14]:1\n",
      "└ @ Core In[14]:1\n"
     ]
    },
    {
     "data": {
      "text/plain": [
       "\"loocv_scores.csv\""
      ]
     },
     "execution_count": 14,
     "metadata": {},
     "output_type": "execute_result"
    }
   ],
   "source": [
    "CSV.write(\"loocv_scores.csv\", DataFrame(loocv_scores))\n"
   ]
  },
  {
   "cell_type": "markdown",
   "metadata": {
    "hidden": true
   },
   "source": [
    "#### add to summary stats to LOOCV as well"
   ]
  },
  {
   "cell_type": "code",
   "execution_count": 15,
   "metadata": {
    "collapsed": true,
    "hidden": true
   },
   "outputs": [],
   "source": [
    "summary_stats = [summary_stats loocv_scores];"
   ]
  },
  {
   "cell_type": "markdown",
   "metadata": {
    "hidden": true
   },
   "source": [
    "### Calculate and write p values, std error and covariance"
   ]
  },
  {
   "cell_type": "code",
   "execution_count": 16,
   "metadata": {
    "hidden": true
   },
   "outputs": [
    {
     "name": "stderr",
     "output_type": "stream",
     "text": [
      "WARNING: LinearAlgebra.trace is deprecated, use tr instead.\n",
      "  likely near /Users/neil/.julia/packages/IJulia/DL02A/src/kernel.jl:41\n",
      "WARNING: LinearAlgebra.trace is deprecated, use tr instead.\n",
      "  likely near /Users/neil/.julia/packages/IJulia/DL02A/src/kernel.jl:41\n",
      "WARNING: LinearAlgebra.trace is deprecated, use tr instead.\n",
      "  likely near /Users/neil/.julia/packages/IJulia/DL02A/src/kernel.jl:41\n",
      "in #53 at none\n",
      "WARNING: LinearAlgebra.trace is deprecated, use tr instead.\n",
      "  likely near /Users/neil/.julia/packages/IJulia/DL02A/src/kernel.jl:41\n",
      "WARNING: LinearAlgebra.trace is deprecated, use tr instead.\n",
      "  likely near /Users/neil/.julia/packages/IJulia/DL02A/src/kernel.jl:41\n",
      "WARNING: LinearAlgebra.trace is deprecated, use tr instead.\n",
      "  likely near /Users/neil/.julia/packages/IJulia/DL02A/src/kernel.jl:41\n",
      "in #53 at none\n",
      "┌ Warning: `ccdf(d::UnivariateDistribution, X::AbstractArray)` is deprecated, use `ccdf.(d, X)` instead.\n",
      "│   caller = emerrors(::DataFrame, ::Array{Union{Missing, Int64},1}, ::SharedArray{Float64,2}, ::Array{Float64,3}, ::SharedArray{Float64,3}, ::Array{Float64,1}, ::Array{Float64,2}, ::Function) at em.jl:300\n",
      "└ @ Main /Users/neil/GitHubRepo/Projects/PreySelection/v105/models/model_asymmetry/em.jl:300\n"
     ]
    }
   ],
   "source": [
    "# standard errors on the subject-level means, based on an asymptotic Gaussian approx \n",
    "# (these may be inflated esp for small n)\n",
    "(standarderrors, pvalues, covmtx) = emerrors(df,subs,x,X,h,betas,sigma,model_asymmetry);\n"
   ]
  },
  {
   "cell_type": "code",
   "execution_count": 17,
   "metadata": {
    "hidden": true
   },
   "outputs": [
    {
     "name": "stderr",
     "output_type": "stream",
     "text": [
      "┌ Warning: In the future DataFrame constructor called with a `DataFrame` argument will return a copy. Use `convert(DataFrame, df)` to avoid copying if `df` is a `DataFrame`.\n",
      "│   caller = top-level scope at In[17]:7\n",
      "└ @ Core In[17]:7\n"
     ]
    }
   ],
   "source": [
    "model_stats = DataFrame(stderror = vec(standarderrors),\n",
    "pvalues = vec(pvalues),\n",
    "covmtx_1 = vec(covmtx[:,1]),\n",
    "covmtx_2 = vec(covmtx[:,2]),\n",
    "covmtx_3 = vec(covmtx[:,3]),\n",
    "covmtx_4 = vec(covmtx[:,4]));\n",
    "\n",
    "# save model stats to csv file\n",
    "CSV.write(\"model_stats.csv\", DataFrame(model_stats));"
   ]
  },
  {
   "cell_type": "code",
   "execution_count": 18,
   "metadata": {
    "hidden": true
   },
   "outputs": [
    {
     "name": "stdout",
     "output_type": "stream",
     "text": [
      "[0.262051, 0.00616543, 0.0913453, 0.0829935]"
     ]
    }
   ],
   "source": [
    "print(standarderrors)\n"
   ]
  },
  {
   "cell_type": "code",
   "execution_count": 19,
   "metadata": {
    "hidden": true
   },
   "outputs": [
    {
     "name": "stdout",
     "output_type": "stream",
     "text": [
      "[1.35186e-5, 1.73994e-30, 8.89261e-105, 1.87724e-162]"
     ]
    }
   ],
   "source": [
    "print(pvalues)\n"
   ]
  },
  {
   "cell_type": "code",
   "execution_count": 21,
   "metadata": {
    "hidden": true,
    "scrolled": true
   },
   "outputs": [
    {
     "name": "stdout",
     "output_type": "stream",
     "text": [
      "[0.0686707 -0.000276096 -0.0012962 0.00750563; -0.000276096 3.80125e-5 -4.11005e-5 8.31953e-5; -0.0012962 -4.11005e-5 0.00834396 0.00591665; 0.00750563 8.31953e-5 0.00591665 0.00688791]"
     ]
    }
   ],
   "source": [
    "print(covmtx)\n"
   ]
  },
  {
   "cell_type": "markdown",
   "metadata": {
    "hidden": true
   },
   "source": [
    "### Write per subject model parameters to csv files"
   ]
  },
  {
   "cell_type": "code",
   "execution_count": 22,
   "metadata": {
    "collapsed": true,
    "hidden": true
   },
   "outputs": [],
   "source": [
    "# put parameters into variable d\n",
    "d=x';\n",
    "\n",
    "# now put parameters into dataframe\n",
    "params = DataFrame(sub = subs,\n",
    "intercept = vec(d[:,1]), \n",
    "beta = vec(d[:,2]),\n",
    "learning_rate_reward_raw = vec(d[:,3]),\n",
    "learning_rate_reward_transformed = vec(0.5 .+ 0.5*erf.(d[:,3] / sqrt(2))),\n",
    "learning_rate_delay_raw = vec(d[:,4]),\n",
    "learning_rate_delay_transformed = vec(0.5 .+ 0.5*erf.(d[:,4] / sqrt(2))));\n"
   ]
  },
  {
   "cell_type": "markdown",
   "metadata": {
    "hidden": true
   },
   "source": [
    "#### save parameters to csv file\n"
   ]
  },
  {
   "cell_type": "code",
   "execution_count": 23,
   "metadata": {
    "hidden": true
   },
   "outputs": [
    {
     "name": "stderr",
     "output_type": "stream",
     "text": [
      "┌ Warning: In the future DataFrame constructor called with a `DataFrame` argument will return a copy. Use `convert(DataFrame, df)` to avoid copying if `df` is a `DataFrame`.\n",
      "│   caller = top-level scope at In[23]:1\n",
      "└ @ Core In[23]:1\n"
     ]
    },
    {
     "data": {
      "text/plain": [
       "\"subject_params.csv\""
      ]
     },
     "execution_count": 23,
     "metadata": {},
     "output_type": "execute_result"
    }
   ],
   "source": [
    "CSV.write(\"subject_params.csv\", DataFrame(params))\n"
   ]
  },
  {
   "cell_type": "markdown",
   "metadata": {
    "hidden": true
   },
   "source": [
    "#### save a copy with summary stats as well"
   ]
  },
  {
   "cell_type": "markdown",
   "metadata": {
    "hidden": true
   },
   "source": [
    "##### Delete non needed columns: exclude, exclude reason and duplicate sub column"
   ]
  },
  {
   "cell_type": "code",
   "execution_count": 24,
   "metadata": {
    "collapsed": true,
    "hidden": true
   },
   "outputs": [],
   "source": [
    "delete!(summary_stats, :sub);\n",
    "delete!(summary_stats, :exclude_reason);\n",
    "delete!(summary_stats, :exclude);\n",
    "delete!(summary_stats, :comment);"
   ]
  },
  {
   "cell_type": "markdown",
   "metadata": {
    "hidden": true
   },
   "source": [
    "##### Save summary stats"
   ]
  },
  {
   "cell_type": "code",
   "execution_count": 25,
   "metadata": {
    "hidden": true
   },
   "outputs": [
    {
     "name": "stderr",
     "output_type": "stream",
     "text": [
      "┌ Warning: indexing with colon as row will create a copy in the future use df[col_inds] to get the columns without copying\n",
      "│   caller = top-level scope at In[25]:1\n",
      "└ @ Core In[25]:1\n",
      "┌ Warning: In the future DataFrame constructor called with a `DataFrame` argument will return a copy. Use `convert(DataFrame, df)` to avoid copying if `df` is a `DataFrame`.\n",
      "│   caller = top-level scope at In[25]:3\n",
      "└ @ Core In[25]:3\n"
     ]
    },
    {
     "data": {
      "text/plain": [
       "\"summary_stats.csv\""
      ]
     },
     "execution_count": 25,
     "metadata": {},
     "output_type": "execute_result"
    }
   ],
   "source": [
    "params = params[:,2:end]\n",
    "summary_stats = [summary_stats params]\n",
    "CSV.write(\"summary_stats.csv\", DataFrame(summary_stats))\n"
   ]
  },
  {
   "cell_type": "markdown",
   "metadata": {
    "hidden": true
   },
   "source": [
    "### Test difference in learning rates"
   ]
  },
  {
   "cell_type": "code",
   "execution_count": 26,
   "metadata": {
    "hidden": true
   },
   "outputs": [
    {
     "name": "stdout",
     "output_type": "stream",
     "text": [
      "learning_parm_diff: 0.2684841999655301\n",
      "std_error: 0.05829739194488239\n",
      "zstat: 4.605423862175002\n"
     ]
    }
   ],
   "source": [
    "# require contrast vector to test the difference in the learning parameters (from the covariance matrix)\n",
    "con_vec = [0, 0, 1, -1]\n",
    "\n",
    "#calculate standard error\n",
    "std_error = sqrt(con_vec'*covmtx*con_vec)\n",
    "\n",
    "#difference in (raw) learning rates\n",
    "learning_parm_diff = mean(params[:learning_rate_reward_raw]) - mean(params[:learning_rate_delay_raw])\n",
    "\n",
    "#now can derive tstatistic\n",
    "z_stat = learning_parm_diff/std_error\n",
    "\n",
    "#print these to output\n",
    "println(\"learning_parm_diff: \", learning_parm_diff);\n",
    "println(\"std_error: \", std_error);\n",
    "println(\"zstat: \", z_stat);"
   ]
  },
  {
   "cell_type": "markdown",
   "metadata": {
    "heading_collapsed": true
   },
   "source": [
    "# Generate by trial by trial values"
   ]
  },
  {
   "cell_type": "markdown",
   "metadata": {
    "hidden": true
   },
   "source": [
    "### Get best fit parameters"
   ]
  },
  {
   "cell_type": "code",
   "execution_count": null,
   "metadata": {
    "collapsed": true,
    "hidden": true
   },
   "outputs": [],
   "source": [
    "# if you already have best fit parameters saved, can read in here (rather than running model to find)\n",
    "params = CSV.read(\"subject_params.csv\")"
   ]
  },
  {
   "cell_type": "markdown",
   "metadata": {
    "hidden": true
   },
   "source": [
    "### Run model for each sub using best fit parameters\n",
    "Note: must rerun model with it set to return trial data (uncomment this)\n"
   ]
  },
  {
   "cell_type": "code",
   "execution_count": 28,
   "metadata": {
    "hidden": true
   },
   "outputs": [
    {
     "name": "stderr",
     "output_type": "stream",
     "text": [
      "┌ Warning: Deprecated syntax `implicit assignment to global variable `x``.\n",
      "│ Use `global x` instead.\n",
      "└ @ nothing none:0\n",
      "┌ Warning: Loop variable `x` around In[28]:6 overwrites a variable in an enclosing scope. In the future the variable will be local to the loop instead.\n",
      "└ @ nothing In[28]:6\n"
     ]
    },
    {
     "name": "stdout",
     "output_type": "stream",
     "text": [
      "(11858, 19)(11858, 6)"
     ]
    },
    {
     "data": {
      "text/html": [
       "<table class=\"data-frame\"><thead><tr><th></th><th>reward_sum</th><th>delay_sum</th><th>Q_arithmetic</th><th>opp_cost_arithmetic</th><th>Q_estimate</th><th>opp_cost_estimate</th></tr><tr><th></th><th>Any</th><th>Any</th><th>Any</th><th>Any</th><th>Any</th><th>Any</th></tr></thead><tbody><tr><th>1</th><td>0.0</td><td>2.0</td><td>0.0</td><td>0.0</td><td>6.52543</td><td>52.2034</td></tr><tr><th>2</th><td>20.0</td><td>12.0</td><td>1.66667</td><td>3.33333</td><td>5.22805</td><td>10.4561</td></tr><tr><th>3</th><td>100.0</td><td>16.0</td><td>6.25</td><td>12.5</td><td>7.99126</td><td>15.9825</td></tr><tr><th>4</th><td>100.0</td><td>26.0</td><td>3.84615</td><td>30.7692</td><td>5.54593</td><td>44.3674</td></tr><tr><th>5</th><td>180.0</td><td>36.0</td><td>5.0</td><td>10.0</td><td>7.35603</td><td>14.7121</td></tr><tr><th>6</th><td>260.0</td><td>40.0</td><td>6.5</td><td>13.0</td><td>9.73851</td><td>19.477</td></tr></tbody></table>"
      ],
      "text/latex": [
       "\\begin{tabular}{r|cccccc}\n",
       "\t& reward\\_sum & delay\\_sum & Q\\_arithmetic & opp\\_cost\\_arithmetic & Q\\_estimate & opp\\_cost\\_estimate\\\\\n",
       "\t\\hline\n",
       "\t1 & 0.0 & 2.0 & 0.0 & 0.0 & 6.52543 & 52.2034 \\\\\n",
       "\t2 & 20.0 & 12.0 & 1.66667 & 3.33333 & 5.22805 & 10.4561 \\\\\n",
       "\t3 & 100.0 & 16.0 & 6.25 & 12.5 & 7.99126 & 15.9825 \\\\\n",
       "\t4 & 100.0 & 26.0 & 3.84615 & 30.7692 & 5.54593 & 44.3674 \\\\\n",
       "\t5 & 180.0 & 36.0 & 5.0 & 10.0 & 7.35603 & 14.7121 \\\\\n",
       "\t6 & 260.0 & 40.0 & 6.5 & 13.0 & 9.73851 & 19.477 \\\\\n",
       "\\end{tabular}\n"
      ],
      "text/plain": [
       "6×6 DataFrame. Omitted printing of 2 columns\n",
       "│ Row │ reward_sum │ delay_sum │ Q_arithmetic │ opp_cost_arithmetic │\n",
       "│     │ \u001b[90mAny\u001b[39m        │ \u001b[90mAny\u001b[39m       │ \u001b[90mAny\u001b[39m          │ \u001b[90mAny\u001b[39m                 │\n",
       "├─────┼────────────┼───────────┼──────────────┼─────────────────────┤\n",
       "│ 1   │ 0.0        │ 2.0       │ 0.0          │ 0.0                 │\n",
       "│ 2   │ 20.0       │ 12.0      │ 1.66667      │ 3.33333             │\n",
       "│ 3   │ 100.0      │ 16.0      │ 6.25         │ 12.5                │\n",
       "│ 4   │ 100.0      │ 26.0      │ 3.84615      │ 30.7692             │\n",
       "│ 5   │ 180.0      │ 36.0      │ 5.0          │ 10.0                │\n",
       "│ 6   │ 260.0      │ 40.0      │ 6.5          │ 13.0                │"
      ]
     },
     "execution_count": 28,
     "metadata": {},
     "output_type": "execute_result"
    }
   ],
   "source": [
    "# initialize parameter structures once again\n",
    "(df, subs, X, betas, sigma) = genVars(df, 4);\n",
    "\n",
    "# initalise this - will store all trial to trial parameters\n",
    "trial_data_compile = []\n",
    "\n",
    "# run model for each subject using best fit parameters\n",
    "for x = 1:length(subs)\n",
    "\n",
    "    # pull out optimal betas for subject - these are used in the model\n",
    "    # note: you want the unconverted learning score to be fed in\n",
    "    betas_sub = convert(Array, params[x, [:intercept, :beta, :learning_rate_reward_raw, :learning_rate_delay_raw]])\n",
    "    data_sub = df[df[:sub].==subs[x], :]\n",
    "    \n",
    "    # run model using these parameters - note must have commented in the model to return all of these variables (and not only -lik)\n",
    "    (minus_li, trial_data) = model_asymmetry(betas_sub, data_sub)\n",
    "    \n",
    "    if x==1\n",
    "        \n",
    "        trial_data_compile = trial_data\n",
    "        \n",
    "    else\n",
    "        \n",
    "        append!(trial_data_compile, trial_data)\n",
    "        \n",
    "    end\n",
    " \n",
    "end\n",
    "\n",
    "# check these are all the same sizes\n",
    "print(size(df))\n",
    "print(size(trial_data_compile))\n",
    "\n",
    "# print header of data compile\n",
    "head(trial_data_compile)"
   ]
  },
  {
   "cell_type": "markdown",
   "metadata": {
    "hidden": true
   },
   "source": [
    "### Merge dataframes"
   ]
  },
  {
   "cell_type": "code",
   "execution_count": 29,
   "metadata": {
    "collapsed": true,
    "hidden": true
   },
   "outputs": [],
   "source": [
    "trial_data_compile = [df trial_data_compile];\n"
   ]
  },
  {
   "cell_type": "markdown",
   "metadata": {
    "hidden": true
   },
   "source": [
    "### Delete sub column (this is a duplicate) and exclude columns"
   ]
  },
  {
   "cell_type": "code",
   "execution_count": 30,
   "metadata": {
    "collapsed": true,
    "hidden": true
   },
   "outputs": [],
   "source": [
    "delete!(trial_data_compile, :sub);\n",
    "delete!(trial_data_compile, :exclude_reason);\n",
    "delete!(trial_data_compile, :exclude);\n"
   ]
  },
  {
   "cell_type": "markdown",
   "metadata": {
    "hidden": true
   },
   "source": [
    "### Save data to csv (in model folder)"
   ]
  },
  {
   "cell_type": "code",
   "execution_count": 31,
   "metadata": {
    "hidden": true,
    "scrolled": true
   },
   "outputs": [
    {
     "name": "stderr",
     "output_type": "stream",
     "text": [
      "┌ Warning: In the future DataFrame constructor called with a `DataFrame` argument will return a copy. Use `convert(DataFrame, df)` to avoid copying if `df` is a `DataFrame`.\n",
      "│   caller = top-level scope at In[31]:1\n",
      "└ @ Core In[31]:1\n"
     ]
    },
    {
     "data": {
      "text/plain": [
       "\"trial_by_trial_values.csv\""
      ]
     },
     "execution_count": 31,
     "metadata": {},
     "output_type": "execute_result"
    }
   ],
   "source": [
    "CSV.write(\"trial_by_trial_values.csv\", DataFrame(trial_data_compile))\n"
   ]
  }
 ],
 "metadata": {
  "kernelspec": {
   "display_name": "Julia 0.7.0",
   "language": "julia",
   "name": "julia-0.7"
  },
  "language_info": {
   "file_extension": ".jl",
   "mimetype": "application/julia",
   "name": "julia",
   "version": "0.7.0"
  },
  "toc": {
   "base_numbering": 1,
   "nav_menu": {},
   "number_sections": true,
   "sideBar": true,
   "skip_h1_title": false,
   "title_cell": "Table of Contents",
   "title_sidebar": "Contents",
   "toc_cell": false,
   "toc_position": {},
   "toc_section_display": true,
   "toc_window_display": false
  }
 },
 "nbformat": 4,
 "nbformat_minor": 1
}
