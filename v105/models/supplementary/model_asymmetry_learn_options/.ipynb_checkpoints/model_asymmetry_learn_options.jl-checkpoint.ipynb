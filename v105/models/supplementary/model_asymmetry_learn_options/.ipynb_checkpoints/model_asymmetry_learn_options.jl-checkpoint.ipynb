{
 "cells": [
  {
   "cell_type": "markdown",
   "metadata": {},
   "source": [
    "** Neil Garrett, June 2018 **"
   ]
  },
  {
   "cell_type": "markdown",
   "metadata": {
    "heading_collapsed": true
   },
   "source": [
    "# Start up commands/load relevant functions"
   ]
  },
  {
   "cell_type": "code",
   "execution_count": 2,
   "metadata": {
    "hidden": true
   },
   "outputs": [
    {
     "name": "stderr",
     "output_type": "stream",
     "text": [
      "┌ Warning: Deprecated syntax `(covvar < 0) ? NaN:` at /Users/neil/GitHubRepo/Projects/PreySelection/v105/models/supplementary/model_asymmetry_learn_options/em.jl:288.\n",
      "│ Use `(covvar < 0) ? NaN :` instead.\n",
      "└ @ nothing /Users/neil/GitHubRepo/Projects/PreySelection/v105/models/supplementary/model_asymmetry_learn_options/em.jl:288\n",
      "┌ Warning: Deprecated syntax `(covvar < 0) ? NaN :sqrt` at /Users/neil/GitHubRepo/Projects/PreySelection/v105/models/supplementary/model_asymmetry_learn_options/em.jl:288.\n",
      "│ Use `(covvar < 0) ? NaN : sqrt` instead.\n",
      "└ @ nothing /Users/neil/GitHubRepo/Projects/PreySelection/v105/models/supplementary/model_asymmetry_learn_options/em.jl:288\n",
      "┌ Warning: Deprecated syntax `(diag(covmtx)[i] .< 0) ? NaN:` at /Users/neil/GitHubRepo/Projects/PreySelection/v105/models/supplementary/model_asymmetry_learn_options/em.jl:299.\n",
      "│ Use `(diag(covmtx)[i] .< 0) ? NaN :` instead.\n",
      "└ @ nothing /Users/neil/GitHubRepo/Projects/PreySelection/v105/models/supplementary/model_asymmetry_learn_options/em.jl:299\n",
      "┌ Warning: Deprecated syntax `(diag(covmtx)[i] .< 0) ? NaN :diag` at /Users/neil/GitHubRepo/Projects/PreySelection/v105/models/supplementary/model_asymmetry_learn_options/em.jl:299.\n",
      "│ Use `(diag(covmtx)[i] .< 0) ? NaN : diag` instead.\n",
      "└ @ nothing /Users/neil/GitHubRepo/Projects/PreySelection/v105/models/supplementary/model_asymmetry_learn_options/em.jl:299\n",
      "┌ Warning: Deprecated syntax `(covvar < 0) ? NaN:` at /Users/neil/GitHubRepo/Projects/PreySelection/v105/models/supplementary/model_asymmetry_learn_options/em.jl:288.\n",
      "│ Use `(covvar < 0) ? NaN :` instead.\n",
      "└ @ ~/GitHubRepo/Projects/PreySelection/v105/models/supplementary/model_asymmetry_learn_options/em.jl:288\n",
      "┌ Warning: Deprecated syntax `(covvar < 0) ? NaN :sqrt` at /Users/neil/GitHubRepo/Projects/PreySelection/v105/models/supplementary/model_asymmetry_learn_options/em.jl:288.\n",
      "│ Use `(covvar < 0) ? NaN : sqrt` instead.\n",
      "└ @ ~/GitHubRepo/Projects/PreySelection/v105/models/supplementary/model_asymmetry_learn_options/em.jl:288\n",
      "┌ Warning: Deprecated syntax `(diag(covmtx)[i] .< 0) ? NaN:` at /Users/neil/GitHubRepo/Projects/PreySelection/v105/models/supplementary/model_asymmetry_learn_options/em.jl:299.\n",
      "│ Use `(diag(covmtx)[i] .< 0) ? NaN :` instead.\n",
      "└ @ ~/GitHubRepo/Projects/PreySelection/v105/models/supplementary/model_asymmetry_learn_options/em.jl:299\n",
      "┌ Warning: Deprecated syntax `(diag(covmtx)[i] .< 0) ? NaN :diag` at /Users/neil/GitHubRepo/Projects/PreySelection/v105/models/supplementary/model_asymmetry_learn_options/em.jl:299.\n",
      "│ Use `(diag(covmtx)[i] .< 0) ? NaN : diag` instead.\n",
      "└ @ ~/GitHubRepo/Projects/PreySelection/v105/models/supplementary/model_asymmetry_learn_options/em.jl:299\n",
      "┌ Warning: Deprecated syntax `(covvar < 0) ? NaN:` at /Users/neil/GitHubRepo/Projects/PreySelection/v105/models/supplementary/model_asymmetry_learn_options/em.jl:288.\n",
      "│ Use `(covvar < 0) ? NaN :` instead.\n",
      "└ @ ~/GitHubRepo/Projects/PreySelection/v105/models/supplementary/model_asymmetry_learn_options/em.jl:288\n",
      "┌ Warning: Deprecated syntax `(covvar < 0) ? NaN :sqrt` at /Users/neil/GitHubRepo/Projects/PreySelection/v105/models/supplementary/model_asymmetry_learn_options/em.jl:288.\n",
      "│ Use `(covvar < 0) ? NaN : sqrt` instead.\n",
      "└ @ ~/GitHubRepo/Projects/PreySelection/v105/models/supplementary/model_asymmetry_learn_options/em.jl:288\n",
      "┌ Warning: Deprecated syntax `(diag(covmtx)[i] .< 0) ? NaN:` at /Users/neil/GitHubRepo/Projects/PreySelection/v105/models/supplementary/model_asymmetry_learn_options/em.jl:299.\n",
      "│ Use `(diag(covmtx)[i] .< 0) ? NaN :` instead.\n",
      "└ @ ~/GitHubRepo/Projects/PreySelection/v105/models/supplementary/model_asymmetry_learn_options/em.jl:299\n",
      "┌ Warning: Deprecated syntax `(diag(covmtx)[i] .< 0) ? NaN :diag` at /Users/neil/GitHubRepo/Projects/PreySelection/v105/models/supplementary/model_asymmetry_learn_options/em.jl:299.\n",
      "│ Use `(diag(covmtx)[i] .< 0) ? NaN : diag` instead.\n",
      "└ @ ~/GitHubRepo/Projects/PreySelection/v105/models/supplementary/model_asymmetry_learn_options/em.jl:299\n",
      "┌ Warning: Deprecated syntax `(covvar < 0) ? NaN:` at /Users/neil/GitHubRepo/Projects/PreySelection/v105/models/supplementary/model_asymmetry_learn_options/em.jl:288.\n",
      "│ Use `(covvar < 0) ? NaN :` instead.\n",
      "└ @ ~/GitHubRepo/Projects/PreySelection/v105/models/supplementary/model_asymmetry_learn_options/em.jl:288\n",
      "┌ Warning: Deprecated syntax `(covvar < 0) ? NaN :sqrt` at /Users/neil/GitHubRepo/Projects/PreySelection/v105/models/supplementary/model_asymmetry_learn_options/em.jl:288.\n",
      "│ Use `(covvar < 0) ? NaN : sqrt` instead.\n",
      "└ @ ~/GitHubRepo/Projects/PreySelection/v105/models/supplementary/model_asymmetry_learn_options/em.jl:288\n",
      "┌ Warning: Deprecated syntax `(diag(covmtx)[i] .< 0) ? NaN:` at /Users/neil/GitHubRepo/Projects/PreySelection/v105/models/supplementary/model_asymmetry_learn_options/em.jl:299.\n",
      "│ Use `(diag(covmtx)[i] .< 0) ? NaN :` instead.\n",
      "└ @ ~/GitHubRepo/Projects/PreySelection/v105/models/supplementary/model_asymmetry_learn_options/em.jl:299\n",
      "┌ Warning: Deprecated syntax `(diag(covmtx)[i] .< 0) ? NaN :diag` at /Users/neil/GitHubRepo/Projects/PreySelection/v105/models/supplementary/model_asymmetry_learn_options/em.jl:299.\n",
      "│ Use `(diag(covmtx)[i] .< 0) ? NaN : diag` instead.\n",
      "└ @ ~/GitHubRepo/Projects/PreySelection/v105/models/supplementary/model_asymmetry_learn_options/em.jl:299\n",
      "┌ Warning: Deprecated syntax `(covvar < 0) ? NaN:` at /Users/neil/GitHubRepo/Projects/PreySelection/v105/models/supplementary/model_asymmetry_learn_options/em.jl:288.\n",
      "│ Use `(covvar < 0) ? NaN :` instead.\n",
      "└ @ ~/GitHubRepo/Projects/PreySelection/v105/models/supplementary/model_asymmetry_learn_options/em.jl:288\n",
      "┌ Warning: Deprecated syntax `(covvar < 0) ? NaN :sqrt` at /Users/neil/GitHubRepo/Projects/PreySelection/v105/models/supplementary/model_asymmetry_learn_options/em.jl:288.\n",
      "│ Use `(covvar < 0) ? NaN : sqrt` instead.\n",
      "└ @ ~/GitHubRepo/Projects/PreySelection/v105/models/supplementary/model_asymmetry_learn_options/em.jl:288\n",
      "┌ Warning: Deprecated syntax `(diag(covmtx)[i] .< 0) ? NaN:` at /Users/neil/GitHubRepo/Projects/PreySelection/v105/models/supplementary/model_asymmetry_learn_options/em.jl:299.\n",
      "│ Use `(diag(covmtx)[i] .< 0) ? NaN :` instead.\n",
      "└ @ ~/GitHubRepo/Projects/PreySelection/v105/models/supplementary/model_asymmetry_learn_options/em.jl:299\n",
      "┌ Warning: Deprecated syntax `(diag(covmtx)[i] .< 0) ? NaN :diag` at /Users/neil/GitHubRepo/Projects/PreySelection/v105/models/supplementary/model_asymmetry_learn_options/em.jl:299.\n",
      "│ Use `(diag(covmtx)[i] .< 0) ? NaN : diag` instead.\n",
      "└ @ ~/GitHubRepo/Projects/PreySelection/v105/models/supplementary/model_asymmetry_learn_options/em.jl:299\n",
      "┌ Warning: `@parallel` is deprecated, use `@distributed` instead.\n",
      "│   caller = include at boot.jl:317 [inlined]\n",
      "└ @ Core ./boot.jl:317\n",
      "┌ Warning: `@parallel` is deprecated, use `@distributed` instead.\n",
      "│   caller = include at boot.jl:317 [inlined]\n",
      "└ @ Core ./boot.jl:317\n",
      "┌ Warning: `@parallel` is deprecated, use `@distributed` instead.\n",
      "│   caller = include at boot.jl:317 [inlined]\n",
      "└ @ Core ./boot.jl:317\n",
      "┌ Warning: `@parallel` is deprecated, use `@distributed` instead.\n",
      "│   caller = include at boot.jl:317 [inlined]\n",
      "└ @ Core ./boot.jl:317\n",
      "┌ Warning: `@parallel` is deprecated, use `@distributed` instead.\n",
      "│   caller = include at boot.jl:317 [inlined]\n",
      "└ @ Core ./boot.jl:317\n",
      "┌ Warning: Deprecated syntax `any(x -> begin\n",
      "│     # /Users/neil/GitHubRepo/Projects/PreySelection/v105/models/supplementary/model_asymmetry_learn_options/common.jl, line 66\n",
      "│     isa(x, Array)\n",
      "│ end, a)?` at /Users/neil/GitHubRepo/Projects/PreySelection/v105/models/supplementary/model_asymmetry_learn_options/common.jl:66.\n",
      "│ Use `any(x -> begin\n",
      "│     # /Users/neil/GitHubRepo/Projects/PreySelection/v105/models/supplementary/model_asymmetry_learn_options/common.jl, line 66\n",
      "│     isa(x, Array)\n",
      "│ end, a) ?` instead.\n",
      "└ @ nothing /Users/neil/GitHubRepo/Projects/PreySelection/v105/models/supplementary/model_asymmetry_learn_options/common.jl:66\n",
      "┌ Warning: Deprecated syntax `any(x -> begin\n",
      "│     # /Users/neil/GitHubRepo/Projects/PreySelection/v105/models/supplementary/model_asymmetry_learn_options/common.jl, line 66\n",
      "│     isa(x, Array)\n",
      "│ end, a)?` at /Users/neil/GitHubRepo/Projects/PreySelection/v105/models/supplementary/model_asymmetry_learn_options/common.jl:66.\n",
      "│ Use `any(x -> begin\n",
      "│     # /Users/neil/GitHubRepo/Projects/PreySelection/v105/models/supplementary/model_asymmetry_learn_options/common.jl, line 66\n",
      "│     isa(x, Array)\n",
      "│ end, a) ?` instead.\n",
      "└ @ ~/GitHubRepo/Projects/PreySelection/v105/models/supplementary/model_asymmetry_learn_options/common.jl:66\n",
      "┌ Warning: Deprecated syntax `any(x -> begin\n",
      "│     # /Users/neil/GitHubRepo/Projects/PreySelection/v105/models/supplementary/model_asymmetry_learn_options/common.jl, line 66\n",
      "│     isa(x, Array)\n",
      "│ end, a)?` at /Users/neil/GitHubRepo/Projects/PreySelection/v105/models/supplementary/model_asymmetry_learn_options/common.jl:66.\n",
      "│ Use `any(x -> begin\n",
      "│     # /Users/neil/GitHubRepo/Projects/PreySelection/v105/models/supplementary/model_asymmetry_learn_options/common.jl, line 66\n",
      "│     isa(x, Array)\n",
      "│ end, a) ?` instead.\n",
      "└ @ ~/GitHubRepo/Projects/PreySelection/v105/models/supplementary/model_asymmetry_learn_options/common.jl:66\n",
      "┌ Warning: Deprecated syntax `any(x -> begin\n",
      "│     # /Users/neil/GitHubRepo/Projects/PreySelection/v105/models/supplementary/model_asymmetry_learn_options/common.jl, line 66\n",
      "│     isa(x, Array)\n",
      "│ end, a)?` at /Users/neil/GitHubRepo/Projects/PreySelection/v105/models/supplementary/model_asymmetry_learn_options/common.jl:66.\n",
      "│ Use `any(x -> begin\n",
      "│     # /Users/neil/GitHubRepo/Projects/PreySelection/v105/models/supplementary/model_asymmetry_learn_options/common.jl, line 66\n",
      "│     isa(x, Array)\n",
      "│ end, a) ?` instead.\n",
      "└ @ ~/GitHubRepo/Projects/PreySelection/v105/models/supplementary/model_asymmetry_learn_options/common.jl:66\n",
      "┌ Warning: Deprecated syntax `any(x -> begin\n",
      "│     # /Users/neil/GitHubRepo/Projects/PreySelection/v105/models/supplementary/model_asymmetry_learn_options/common.jl, line 66\n",
      "│     isa(x, Array)\n",
      "│ end, a) ? flatten(vcat(map(flatten, a)...)):` at /Users/neil/GitHubRepo/Projects/PreySelection/v105/models/supplementary/model_asymmetry_learn_options/common.jl:66.\n",
      "│ Use `any(x -> begin\n",
      "│     # /Users/neil/GitHubRepo/Projects/PreySelection/v105/models/supplementary/model_asymmetry_learn_options/common.jl, line 66\n",
      "│     isa(x, Array)\n",
      "│ end, a) ? flatten(vcat(map(flatten, a)...)) :` instead.\n",
      "└ @ nothing /Users/neil/GitHubRepo/Projects/PreySelection/v105/models/supplementary/model_asymmetry_learn_options/common.jl:66\n",
      "┌ Warning: Deprecated syntax `any(x -> begin\n",
      "│     # /Users/neil/GitHubRepo/Projects/PreySelection/v105/models/supplementary/model_asymmetry_learn_options/common.jl, line 66\n",
      "│     isa(x, Array)\n",
      "│ end, a) ? flatten(vcat(map(flatten, a)...)):` at /Users/neil/GitHubRepo/Projects/PreySelection/v105/models/supplementary/model_asymmetry_learn_options/common.jl:66.\n",
      "│ Use `any(x -> begin\n",
      "│     # /Users/neil/GitHubRepo/Projects/PreySelection/v105/models/supplementary/model_asymmetry_learn_options/common.jl, line 66\n",
      "│     isa(x, Array)\n",
      "│ end, a) ? flatten(vcat(map(flatten, a)...)) :` instead.\n",
      "└ @ ~/GitHubRepo/Projects/PreySelection/v105/models/supplementary/model_asymmetry_learn_options/common.jl:66\n",
      "┌ Warning: Deprecated syntax `any(x -> begin\n",
      "│     # /Users/neil/GitHubRepo/Projects/PreySelection/v105/models/supplementary/model_asymmetry_learn_options/common.jl, line 66\n",
      "│     isa(x, Array)\n",
      "│ end, a) ? flatten(vcat(map(flatten, a)...)):` at /Users/neil/GitHubRepo/Projects/PreySelection/v105/models/supplementary/model_asymmetry_learn_options/common.jl:66.\n",
      "│ Use `any(x -> begin\n",
      "│     # /Users/neil/GitHubRepo/Projects/PreySelection/v105/models/supplementary/model_asymmetry_learn_options/common.jl, line 66\n",
      "│     isa(x, Array)\n",
      "│ end, a) ? flatten(vcat(map(flatten, a)...)) :` instead.\n",
      "└ @ ~/GitHubRepo/Projects/PreySelection/v105/models/supplementary/model_asymmetry_learn_options/common.jl:66\n",
      "┌ Warning: Deprecated syntax `any(x -> begin\n",
      "│     # /Users/neil/GitHubRepo/Projects/PreySelection/v105/models/supplementary/model_asymmetry_learn_options/common.jl, line 66\n",
      "│     isa(x, Array)\n",
      "│ end, a) ? flatten(vcat(map(flatten, a)...)):` at /Users/neil/GitHubRepo/Projects/PreySelection/v105/models/supplementary/model_asymmetry_learn_options/common.jl:66.\n",
      "│ Use `any(x -> begin\n",
      "│     # /Users/neil/GitHubRepo/Projects/PreySelection/v105/models/supplementary/model_asymmetry_learn_options/common.jl, line 66\n",
      "│     isa(x, Array)\n",
      "│ end, a) ? flatten(vcat(map(flatten, a)...)) :` instead.\n",
      "└ @ ~/GitHubRepo/Projects/PreySelection/v105/models/supplementary/model_asymmetry_learn_options/common.jl:66\n",
      "┌ Warning: Deprecated syntax `parametric method syntax flatten{T}(a::Array{T, 1})` around /Users/neil/GitHubRepo/Projects/PreySelection/v105/models/supplementary/model_asymmetry_learn_options/common.jl:66.\n",
      "│ Use `flatten(a::Array{T, 1}) where T` instead.\n",
      "└ @ nothing /Users/neil/GitHubRepo/Projects/PreySelection/v105/models/supplementary/model_asymmetry_learn_options/common.jl:66\n",
      "┌ Warning: Deprecated syntax `parametric method syntax flatten{T}(a::Array{T, 1})` around /Users/neil/GitHubRepo/Projects/PreySelection/v105/models/supplementary/model_asymmetry_learn_options/common.jl:66.\n",
      "│ Use `flatten(a::Array{T, 1}) where T` instead.\n",
      "└ @ ~/GitHubRepo/Projects/PreySelection/v105/models/supplementary/model_asymmetry_learn_options/common.jl:66\n",
      "┌ Warning: Deprecated syntax `parametric method syntax flatten{T}(a::Array{T, 1})` around /Users/neil/GitHubRepo/Projects/PreySelection/v105/models/supplementary/model_asymmetry_learn_options/common.jl:66.\n",
      "│ Use `flatten(a::Array{T, 1}) where T` instead.\n",
      "└ @ ~/GitHubRepo/Projects/PreySelection/v105/models/supplementary/model_asymmetry_learn_options/common.jl:66\n",
      "┌ Warning: Deprecated syntax `parametric method syntax flatten{T}(a::Array{T})` around /Users/neil/GitHubRepo/Projects/PreySelection/v105/models/supplementary/model_asymmetry_learn_options/common.jl:67.\n",
      "│ Use `flatten(a::Array{T}) where T` instead.\n",
      "└ @ nothing /Users/neil/GitHubRepo/Projects/PreySelection/v105/models/supplementary/model_asymmetry_learn_options/common.jl:67\n",
      "┌ Warning: Deprecated syntax `parametric method syntax flatten{T}(a::Array{T, 1})` around /Users/neil/GitHubRepo/Projects/PreySelection/v105/models/supplementary/model_asymmetry_learn_options/common.jl:66.\n",
      "│ Use `flatten(a::Array{T, 1}) where T` instead.\n",
      "└ @ ~/GitHubRepo/Projects/PreySelection/v105/models/supplementary/model_asymmetry_learn_options/common.jl:66\n",
      "┌ Warning: Deprecated syntax `parametric method syntax flatten{T}(a::Array{T})` around /Users/neil/GitHubRepo/Projects/PreySelection/v105/models/supplementary/model_asymmetry_learn_options/common.jl:67.\n",
      "│ Use `flatten(a::Array{T}) where T` instead.\n",
      "└ @ ~/GitHubRepo/Projects/PreySelection/v105/models/supplementary/model_asymmetry_learn_options/common.jl:67\n",
      "┌ Warning: Deprecated syntax `parametric method syntax flatten{T}(a::Array{T})` around /Users/neil/GitHubRepo/Projects/PreySelection/v105/models/supplementary/model_asymmetry_learn_options/common.jl:67.\n",
      "│ Use `flatten(a::Array{T}) where T` instead.\n",
      "└ @ ~/GitHubRepo/Projects/PreySelection/v105/models/supplementary/model_asymmetry_learn_options/common.jl:67\n",
      "┌ Warning: Deprecated syntax `parametric method syntax flatten{T}(a::Array{T})` around /Users/neil/GitHubRepo/Projects/PreySelection/v105/models/supplementary/model_asymmetry_learn_options/common.jl:67.\n",
      "│ Use `flatten(a::Array{T}) where T` instead.\n",
      "└ @ ~/GitHubRepo/Projects/PreySelection/v105/models/supplementary/model_asymmetry_learn_options/common.jl:67\n",
      "┌ Warning: Deprecated syntax `any(x -> begin\n",
      "│     # /Users/neil/GitHubRepo/Projects/PreySelection/v105/models/supplementary/model_asymmetry_learn_options/common.jl, line 66\n",
      "│     isa(x, Array)\n",
      "│ end, a)?` at /Users/neil/GitHubRepo/Projects/PreySelection/v105/models/supplementary/model_asymmetry_learn_options/common.jl:66.\n",
      "│ Use `any(x -> begin\n",
      "│     # /Users/neil/GitHubRepo/Projects/PreySelection/v105/models/supplementary/model_asymmetry_learn_options/common.jl, line 66\n",
      "│     isa(x, Array)\n",
      "│ end, a) ?` instead.\n",
      "└ @ ~/GitHubRepo/Projects/PreySelection/v105/models/supplementary/model_asymmetry_learn_options/common.jl:66\n",
      "┌ Warning: Deprecated syntax `any(x -> begin\n",
      "│     # /Users/neil/GitHubRepo/Projects/PreySelection/v105/models/supplementary/model_asymmetry_learn_options/common.jl, line 66\n",
      "│     isa(x, Array)\n",
      "│ end, a) ? flatten(vcat(map(flatten, a)...)):` at /Users/neil/GitHubRepo/Projects/PreySelection/v105/models/supplementary/model_asymmetry_learn_options/common.jl:66.\n",
      "│ Use `any(x -> begin\n",
      "│     # /Users/neil/GitHubRepo/Projects/PreySelection/v105/models/supplementary/model_asymmetry_learn_options/common.jl, line 66\n",
      "│     isa(x, Array)\n",
      "│ end, a) ? flatten(vcat(map(flatten, a)...)) :` instead.\n",
      "└ @ ~/GitHubRepo/Projects/PreySelection/v105/models/supplementary/model_asymmetry_learn_options/common.jl:66\n"
     ]
    },
    {
     "name": "stderr",
     "output_type": "stream",
     "text": [
      "┌ Warning: Deprecated syntax `parametric method syntax flatten{T}(a::Array{T, 1})` around /Users/neil/GitHubRepo/Projects/PreySelection/v105/models/supplementary/model_asymmetry_learn_options/common.jl:66.\n",
      "│ Use `flatten(a::Array{T, 1}) where T` instead.\n",
      "└ @ ~/GitHubRepo/Projects/PreySelection/v105/models/supplementary/model_asymmetry_learn_options/common.jl:66\n",
      "┌ Warning: Deprecated syntax `parametric method syntax flatten{T}(a::Array{T})` around /Users/neil/GitHubRepo/Projects/PreySelection/v105/models/supplementary/model_asymmetry_learn_options/common.jl:67.\n",
      "│ Use `flatten(a::Array{T}) where T` instead.\n",
      "└ @ ~/GitHubRepo/Projects/PreySelection/v105/models/supplementary/model_asymmetry_learn_options/common.jl:67\n",
      "┌ Warning: Deprecated syntax `try without catch or finally` at /Users/neil/GitHubRepo/Projects/PreySelection/v105/models/supplementary/model_asymmetry_learn_options/genVars.jl:17.\n",
      "└ @ nothing /Users/neil/GitHubRepo/Projects/PreySelection/v105/models/supplementary/model_asymmetry_learn_options/genVars.jl:17\n",
      "┌ Warning: Deprecated syntax `try without catch or finally` at /Users/neil/GitHubRepo/Projects/PreySelection/v105/models/supplementary/model_asymmetry_learn_options/genVars.jl:17.\n",
      "└ @ ~/GitHubRepo/Projects/PreySelection/v105/models/supplementary/model_asymmetry_learn_options/genVars.jl:17\n",
      "┌ Warning: Deprecated syntax `try without catch or finally` at /Users/neil/GitHubRepo/Projects/PreySelection/v105/models/supplementary/model_asymmetry_learn_options/genVars.jl:17.\n",
      "└ @ ~/GitHubRepo/Projects/PreySelection/v105/models/supplementary/model_asymmetry_learn_options/genVars.jl:17\n",
      "┌ Warning: Deprecated syntax `try without catch or finally` at /Users/neil/GitHubRepo/Projects/PreySelection/v105/models/supplementary/model_asymmetry_learn_options/genVars.jl:17.\n",
      "└ @ ~/GitHubRepo/Projects/PreySelection/v105/models/supplementary/model_asymmetry_learn_options/genVars.jl:17\n",
      "┌ Warning: Deprecated syntax `try without catch or finally` at /Users/neil/GitHubRepo/Projects/PreySelection/v105/models/supplementary/model_asymmetry_learn_options/genVars.jl:17.\n",
      "└ @ ~/GitHubRepo/Projects/PreySelection/v105/models/supplementary/model_asymmetry_learn_options/genVars.jl:17\n"
     ]
    }
   ],
   "source": [
    "# load required libraries\n",
    "using Distributed\n",
    "\n",
    "# # set everything up\n",
    "parallel = true # Run on multiple CPUs. \n",
    "\n",
    "# this activates the multiprocessing threads\n",
    "if (parallel)\n",
    "\t# only run this once\n",
    "    addprocs(4)\n",
    "end\n",
    "\n",
    "# load required libraries\n",
    "\n",
    "@everywhere using DataFrames\n",
    "#using DataArrays\n",
    "@everywhere using ForwardDiff\n",
    "@everywhere using PyCall\n",
    "@everywhere using Distributions\n",
    "@everywhere using PyPlot\n",
    "@everywhere using CSV\n",
    "@everywhere using SpecialFunctions\n",
    "@everywhere using SharedArrays\n",
    "@everywhere using LinearAlgebra\n",
    "\n",
    "@everywhere PyCall.@pyimport scipy.optimize as so\n",
    "\n",
    "# this is the code for the actual fitting routines\n",
    "@everywhere include(\"em.jl\")\n",
    "@everywhere include(\"common.jl\")\n",
    "@everywhere include(\"likfuns.jl\")\n",
    "\n",
    "# this is generates starting matricies for betas, sigmas etc to feed into model\n",
    "@everywhere include(\"genVars.jl\")"
   ]
  },
  {
   "cell_type": "markdown",
   "metadata": {
    "heading_collapsed": true
   },
   "source": [
    "# Data read and process"
   ]
  },
  {
   "cell_type": "markdown",
   "metadata": {
    "hidden": true
   },
   "source": [
    "### Read in trial by trial data"
   ]
  },
  {
   "cell_type": "code",
   "execution_count": 2,
   "metadata": {
    "hidden": true
   },
   "outputs": [
    {
     "name": "stderr",
     "output_type": "stream",
     "text": [
      "┌ Warning: readtable is deprecated, use CSV.read from the CSV package instead\n",
      "│   caller = top-level scope at In[2]:1\n",
      "└ @ Core In[2]:1\n"
     ]
    },
    {
     "data": {
      "text/html": [
       "<table class=\"data-frame\"><thead><tr><th></th><th>subj</th><th>trial_index_actual</th><th>block</th><th>stimulus</th><th>stim_rank</th><th>reward_percent</th><th>delay_s</th><th>profitability</th><th>stim_left_right</th><th>key_press</th><th>approach_avoid</th><th>rt</th><th>rt_z</th><th>force_trial</th><th>missed</th><th>order_condition</th><th>exclude</th><th>exclude_reason</th></tr><tr><th></th><th>Int64⍰</th><th>Int64⍰</th><th>Int64⍰</th><th>String⍰</th><th>Int64⍰</th><th>Int64⍰</th><th>Int64⍰</th><th>Float64⍰</th><th>String⍰</th><th>Int64⍰</th><th>Float64⍰</th><th>Float64⍰</th><th>Float64⍰</th><th>Int64⍰</th><th>Int64⍰</th><th>Int64⍰</th><th>Int64⍰</th><th>String⍰</th></tr></thead><tbody><tr><th>1</th><td>1</td><td>0</td><td>0</td><td>../static/images/invador1.png</td><td>4</td><td>20</td><td>8</td><td>2.5</td><td>right</td><td>74</td><td>1.0</td><td>1195.0</td><td>1.09567</td><td>1</td><td>0</td><td>1</td><td>0</td><td>do not exclude</td></tr><tr><th>2</th><td>1</td><td>1</td><td>0</td><td>../static/images/invador3.png</td><td>1</td><td>80</td><td>2</td><td>40.0</td><td>right</td><td>74</td><td>1.0</td><td>718.0</td><td>-1.04464</td><td>0</td><td>0</td><td>1</td><td>0</td><td>do not exclude</td></tr><tr><th>3</th><td>1</td><td>2</td><td>0</td><td>../static/images/invador2.png</td><td>2</td><td>20</td><td>2</td><td>10.0</td><td>left</td><td>70</td><td>NaN</td><td>NaN</td><td>NaN</td><td>2</td><td>1</td><td>1</td><td>0</td><td>do not exclude</td></tr><tr><th>4</th><td>1</td><td>3</td><td>0</td><td>../static/images/invador4.png</td><td>3</td><td>80</td><td>8</td><td>10.0</td><td>left</td><td>70</td><td>1.0</td><td>933.0</td><td>-0.0799261</td><td>0</td><td>0</td><td>1</td><td>0</td><td>do not exclude</td></tr><tr><th>5</th><td>1</td><td>4</td><td>0</td><td>../static/images/invador3.png</td><td>1</td><td>80</td><td>2</td><td>40.0</td><td>left</td><td>70</td><td>1.0</td><td>750.0</td><td>-0.901051</td><td>1</td><td>0</td><td>1</td><td>0</td><td>do not exclude</td></tr><tr><th>6</th><td>1</td><td>5</td><td>0</td><td>../static/images/invador3.png</td><td>1</td><td>80</td><td>2</td><td>40.0</td><td>right</td><td>74</td><td>1.0</td><td>628.0</td><td>-1.44847</td><td>0</td><td>0</td><td>1</td><td>0</td><td>do not exclude</td></tr></tbody></table>"
      ],
      "text/latex": [
       "\\begin{tabular}{r|cccccccccccccccccc}\n",
       "\t& subj & trial\\_index\\_actual & block & stimulus & stim\\_rank & reward\\_percent & delay\\_s & profitability & stim\\_left\\_right & key\\_press & approach\\_avoid & rt & rt\\_z & force\\_trial & missed & order\\_condition & exclude & exclude\\_reason\\\\\n",
       "\t\\hline\n",
       "\t1 & 1 & 0 & 0 & ../static/images/invador1.png & 4 & 20 & 8 & 2.5 & right & 74 & 1.0 & 1195.0 & 1.09567 & 1 & 0 & 1 & 0 & do not exclude \\\\\n",
       "\t2 & 1 & 1 & 0 & ../static/images/invador3.png & 1 & 80 & 2 & 40.0 & right & 74 & 1.0 & 718.0 & -1.04464 & 0 & 0 & 1 & 0 & do not exclude \\\\\n",
       "\t3 & 1 & 2 & 0 & ../static/images/invador2.png & 2 & 20 & 2 & 10.0 & left & 70 & NaN & NaN & NaN & 2 & 1 & 1 & 0 & do not exclude \\\\\n",
       "\t4 & 1 & 3 & 0 & ../static/images/invador4.png & 3 & 80 & 8 & 10.0 & left & 70 & 1.0 & 933.0 & -0.0799261 & 0 & 0 & 1 & 0 & do not exclude \\\\\n",
       "\t5 & 1 & 4 & 0 & ../static/images/invador3.png & 1 & 80 & 2 & 40.0 & left & 70 & 1.0 & 750.0 & -0.901051 & 1 & 0 & 1 & 0 & do not exclude \\\\\n",
       "\t6 & 1 & 5 & 0 & ../static/images/invador3.png & 1 & 80 & 2 & 40.0 & right & 74 & 1.0 & 628.0 & -1.44847 & 0 & 0 & 1 & 0 & do not exclude \\\\\n",
       "\\end{tabular}\n"
      ],
      "text/plain": [
       "6×18 DataFrame. Omitted printing of 14 columns\n",
       "│ Row │ subj   │ trial_index_actual │ block  │ stimulus                      │\n",
       "│     │ \u001b[90mInt64⍰\u001b[39m │ \u001b[90mInt64⍰\u001b[39m             │ \u001b[90mInt64⍰\u001b[39m │ \u001b[90mUnion{Missing, String}\u001b[39m        │\n",
       "├─────┼────────┼────────────────────┼────────┼───────────────────────────────┤\n",
       "│ 1   │ 1      │ 0                  │ 0      │ ../static/images/invador1.png │\n",
       "│ 2   │ 1      │ 1                  │ 0      │ ../static/images/invador3.png │\n",
       "│ 3   │ 1      │ 2                  │ 0      │ ../static/images/invador2.png │\n",
       "│ 4   │ 1      │ 3                  │ 0      │ ../static/images/invador4.png │\n",
       "│ 5   │ 1      │ 4                  │ 0      │ ../static/images/invador3.png │\n",
       "│ 6   │ 1      │ 5                  │ 0      │ ../static/images/invador3.png │"
      ]
     },
     "execution_count": 2,
     "metadata": {},
     "output_type": "execute_result"
    }
   ],
   "source": [
    "#read in csv file of the data\n",
    "#trial by trial data: note will include force trials and missed responses\n",
    "df = readtable(\"/Users/neil/GitHubRepo/Projects/PreySelection/v105/data/trialdata_105_processed.csv\")\n",
    "\n",
    "#display header\n",
    "head(df)\n"
   ]
  },
  {
   "cell_type": "markdown",
   "metadata": {
    "hidden": true
   },
   "source": [
    "### Append data with the column \"sub\" \n"
   ]
  },
  {
   "cell_type": "code",
   "execution_count": 3,
   "metadata": {
    "collapsed": true,
    "hidden": true
   },
   "outputs": [],
   "source": [
    "#this is just a replica of the existing column sub_no but think em looks for \"sub\" specifically\n",
    "df[:sub] = df[:subj];\n"
   ]
  },
  {
   "cell_type": "markdown",
   "metadata": {
    "hidden": true
   },
   "source": [
    "### Get rid of excluded subs"
   ]
  },
  {
   "cell_type": "code",
   "execution_count": 4,
   "metadata": {
    "collapsed": true,
    "hidden": true
   },
   "outputs": [],
   "source": [
    "df = df[df[:exclude].==0,:];\n"
   ]
  },
  {
   "cell_type": "markdown",
   "metadata": {
    "hidden": true
   },
   "source": [
    "### Convert approach avoid to 2s and 1s , missed as 0. Then convert to integers (necessary to use as an index)"
   ]
  },
  {
   "cell_type": "code",
   "execution_count": 5,
   "metadata": {
    "hidden": true
   },
   "outputs": [
    {
     "name": "stderr",
     "output_type": "stream",
     "text": [
      "┌ Warning: `find(A::AbstractVector)` is deprecated, use `findall(A)` instead.\n",
      "│   caller = top-level scope at In[5]:4\n",
      "└ @ Core In[5]:4\n"
     ]
    },
    {
     "data": {
      "text/html": [
       "<table class=\"data-frame\"><thead><tr><th></th><th>subj</th><th>trial_index_actual</th><th>block</th><th>stimulus</th><th>stim_rank</th><th>reward_percent</th><th>delay_s</th><th>profitability</th><th>stim_left_right</th><th>key_press</th><th>approach_avoid</th><th>rt</th><th>rt_z</th><th>force_trial</th><th>missed</th><th>order_condition</th><th>exclude</th><th>exclude_reason</th><th>sub</th></tr><tr><th></th><th>Int64⍰</th><th>Int64⍰</th><th>Int64⍰</th><th>String⍰</th><th>Int64⍰</th><th>Int64⍰</th><th>Int64⍰</th><th>Float64⍰</th><th>String⍰</th><th>Int64⍰</th><th>Integer</th><th>Float64⍰</th><th>Float64⍰</th><th>Int64⍰</th><th>Int64⍰</th><th>Int64⍰</th><th>Int64⍰</th><th>String⍰</th><th>Int64⍰</th></tr></thead><tbody><tr><th>1</th><td>1</td><td>0</td><td>0</td><td>../static/images/invador1.png</td><td>4</td><td>20</td><td>8</td><td>2.5</td><td>right</td><td>74</td><td>2</td><td>1195.0</td><td>1.09567</td><td>1</td><td>0</td><td>1</td><td>0</td><td>do not exclude</td><td>1</td></tr><tr><th>2</th><td>1</td><td>1</td><td>0</td><td>../static/images/invador3.png</td><td>1</td><td>80</td><td>2</td><td>40.0</td><td>right</td><td>74</td><td>2</td><td>718.0</td><td>-1.04464</td><td>0</td><td>0</td><td>1</td><td>0</td><td>do not exclude</td><td>1</td></tr><tr><th>3</th><td>1</td><td>2</td><td>0</td><td>../static/images/invador2.png</td><td>2</td><td>20</td><td>2</td><td>10.0</td><td>left</td><td>70</td><td>0</td><td>NaN</td><td>NaN</td><td>2</td><td>1</td><td>1</td><td>0</td><td>do not exclude</td><td>1</td></tr><tr><th>4</th><td>1</td><td>3</td><td>0</td><td>../static/images/invador4.png</td><td>3</td><td>80</td><td>8</td><td>10.0</td><td>left</td><td>70</td><td>2</td><td>933.0</td><td>-0.0799261</td><td>0</td><td>0</td><td>1</td><td>0</td><td>do not exclude</td><td>1</td></tr><tr><th>5</th><td>1</td><td>4</td><td>0</td><td>../static/images/invador3.png</td><td>1</td><td>80</td><td>2</td><td>40.0</td><td>left</td><td>70</td><td>2</td><td>750.0</td><td>-0.901051</td><td>1</td><td>0</td><td>1</td><td>0</td><td>do not exclude</td><td>1</td></tr><tr><th>6</th><td>1</td><td>5</td><td>0</td><td>../static/images/invador3.png</td><td>1</td><td>80</td><td>2</td><td>40.0</td><td>right</td><td>74</td><td>2</td><td>628.0</td><td>-1.44847</td><td>0</td><td>0</td><td>1</td><td>0</td><td>do not exclude</td><td>1</td></tr></tbody></table>"
      ],
      "text/latex": [
       "\\begin{tabular}{r|ccccccccccccccccccc}\n",
       "\t& subj & trial\\_index\\_actual & block & stimulus & stim\\_rank & reward\\_percent & delay\\_s & profitability & stim\\_left\\_right & key\\_press & approach\\_avoid & rt & rt\\_z & force\\_trial & missed & order\\_condition & exclude & exclude\\_reason & sub\\\\\n",
       "\t\\hline\n",
       "\t1 & 1 & 0 & 0 & ../static/images/invador1.png & 4 & 20 & 8 & 2.5 & right & 74 & 2 & 1195.0 & 1.09567 & 1 & 0 & 1 & 0 & do not exclude & 1 \\\\\n",
       "\t2 & 1 & 1 & 0 & ../static/images/invador3.png & 1 & 80 & 2 & 40.0 & right & 74 & 2 & 718.0 & -1.04464 & 0 & 0 & 1 & 0 & do not exclude & 1 \\\\\n",
       "\t3 & 1 & 2 & 0 & ../static/images/invador2.png & 2 & 20 & 2 & 10.0 & left & 70 & 0 & NaN & NaN & 2 & 1 & 1 & 0 & do not exclude & 1 \\\\\n",
       "\t4 & 1 & 3 & 0 & ../static/images/invador4.png & 3 & 80 & 8 & 10.0 & left & 70 & 2 & 933.0 & -0.0799261 & 0 & 0 & 1 & 0 & do not exclude & 1 \\\\\n",
       "\t5 & 1 & 4 & 0 & ../static/images/invador3.png & 1 & 80 & 2 & 40.0 & left & 70 & 2 & 750.0 & -0.901051 & 1 & 0 & 1 & 0 & do not exclude & 1 \\\\\n",
       "\t6 & 1 & 5 & 0 & ../static/images/invador3.png & 1 & 80 & 2 & 40.0 & right & 74 & 2 & 628.0 & -1.44847 & 0 & 0 & 1 & 0 & do not exclude & 1 \\\\\n",
       "\\end{tabular}\n"
      ],
      "text/plain": [
       "6×19 DataFrame. Omitted printing of 15 columns\n",
       "│ Row │ subj   │ trial_index_actual │ block  │ stimulus                      │\n",
       "│     │ \u001b[90mInt64⍰\u001b[39m │ \u001b[90mInt64⍰\u001b[39m             │ \u001b[90mInt64⍰\u001b[39m │ \u001b[90mUnion{Missing, String}\u001b[39m        │\n",
       "├─────┼────────┼────────────────────┼────────┼───────────────────────────────┤\n",
       "│ 1   │ 1      │ 0                  │ 0      │ ../static/images/invador1.png │\n",
       "│ 2   │ 1      │ 1                  │ 0      │ ../static/images/invador3.png │\n",
       "│ 3   │ 1      │ 2                  │ 0      │ ../static/images/invador2.png │\n",
       "│ 4   │ 1      │ 3                  │ 0      │ ../static/images/invador4.png │\n",
       "│ 5   │ 1      │ 4                  │ 0      │ ../static/images/invador3.png │\n",
       "│ 6   │ 1      │ 5                  │ 0      │ ../static/images/invador3.png │"
      ]
     },
     "execution_count": 5,
     "metadata": {},
     "output_type": "execute_result"
    }
   ],
   "source": [
    "#convert approach_avoid to 1s (avoid) and 2s (approach)\n",
    "df[df[:approach_avoid].==1,:approach_avoid] = 2\n",
    "df[df[:approach_avoid].==-1,:approach_avoid] = 1\n",
    "\n",
    "index_NaN = find(isnan.(df[:approach_avoid]))\n",
    "df[index_NaN, :approach_avoid] = 0\n",
    "\n",
    "df[:approach_avoid] = convert(Vector{Integer}, df[:approach_avoid])\n",
    "\n",
    "head(df)\n"
   ]
  },
  {
   "cell_type": "markdown",
   "metadata": {
    "hidden": true
   },
   "source": [
    "### Read in summary stats"
   ]
  },
  {
   "cell_type": "code",
   "execution_count": 6,
   "metadata": {
    "hidden": true
   },
   "outputs": [
    {
     "name": "stderr",
     "output_type": "stream",
     "text": [
      "┌ Warning: readtable is deprecated, use CSV.read from the CSV package instead\n",
      "│   caller = top-level scope at In[6]:1\n",
      "└ @ Core In[6]:1\n"
     ]
    },
    {
     "data": {
      "text/html": [
       "<table class=\"data-frame\"><thead><tr><th></th><th>MturkID</th><th>AssignID</th><th>sub_no</th><th>age</th><th>gender</th><th>n_trials</th><th>n_force_wrong</th><th>n_missed</th><th>bonus_payment</th><th>percent_accept_A1</th><th>percent_accept_A2</th><th>percent_accept_A3</th><th>percent_accept_A4</th><th>percent_accept_A2_A3</th><th>percent_accept_B1</th><th>percent_accept_B2</th><th>percent_accept_B3</th><th>percent_accept_B4</th><th>percent_accept_B2_B3</th><th>percent_accept_B1_min_A1</th><th>percent_accept_B2_min_A2</th><th>percent_accept_B3_min_A3</th><th>percent_accept_B4_min_A4</th><th>percent_accept_B2_B3_min_A2_A3</th><th>percent_accept_AB1</th><th>percent_accept_AB2</th><th>percent_accept_AB3</th><th>percent_accept_AB4</th><th>percent_accept_AB2_AB3</th><th>exclude</th><th>exclude_reason</th><th>order_condition</th><th>comment</th></tr><tr><th></th><th>String⍰</th><th>String⍰</th><th>Int64⍰</th><th>Int64⍰</th><th>String⍰</th><th>Int64⍰</th><th>Int64⍰</th><th>Int64⍰</th><th>Float64⍰</th><th>Float64⍰</th><th>Float64⍰</th><th>Float64⍰</th><th>Float64⍰</th><th>Float64⍰</th><th>Float64⍰</th><th>Float64⍰</th><th>Float64⍰</th><th>Float64⍰</th><th>Float64⍰</th><th>Float64⍰</th><th>Float64⍰</th><th>Float64⍰</th><th>Float64⍰</th><th>Float64⍰</th><th>Float64⍰</th><th>Float64⍰</th><th>Float64⍰</th><th>Float64⍰</th><th>Float64⍰</th><th>Int64⍰</th><th>String⍰</th><th>Int64⍰</th><th>String⍰</th></tr></thead><tbody><tr><th>1</th><td>A3VE8U98QF4FVV</td><td>3RSDURM96AM9RPFMDMRKDJZ2IHMEYS</td><td>1</td><td>30</td><td>m</td><td>284</td><td>1</td><td>1</td><td>2.7</td><td>1.0</td><td>0.0714286</td><td>0.117647</td><td>0.0</td><td>0.0967742</td><td>1.0</td><td>0.857143</td><td>1.0</td><td>0.0227273</td><td>0.9375</td><td>0.0</td><td>0.785714</td><td>0.882353</td><td>0.0227273</td><td>0.840726</td><td>1.0</td><td>0.333333</td><td>0.423077</td><td>0.225</td><td>0.382979</td><td>0</td><td>do not exclude</td><td>1</td><td>Everything went fine and I didn't have any problems and the game was fun.</td></tr><tr><th>2</th><td>A2LI0QVPKA5CG8</td><td>3HQUKB7LNFEZP4GZTNV2CM1CN34HHM</td><td>2</td><td>40</td><td>f</td><td>255</td><td>1</td><td>1</td><td>2.4</td><td>1.0</td><td>0.0</td><td>1.0</td><td>0.111111</td><td>0.45</td><td>0.785714</td><td>0.166667</td><td>1.0</td><td>0.0377358</td><td>0.583333</td><td>-0.214286</td><td>0.166667</td><td>0.0</td><td>-0.0733753</td><td>0.133333</td><td>0.942308</td><td>0.0869565</td><td>1.0</td><td>0.108434</td><td>0.522727</td><td>0</td><td>do not exclude</td><td>2</td><td>A great game that was extremely fun! Thank you!</td></tr><tr><th>3</th><td>AMYZ8WZD19W29</td><td>39ZSFO5CA8W0LWH9HM5M7E6HU3AJUU</td><td>3</td><td>30</td><td>m</td><td>333</td><td>2</td><td>4</td><td>2.8</td><td>1.0</td><td>0.235294</td><td>0.117647</td><td>0.05</td><td>0.176471</td><td>1.0</td><td>0.733333</td><td>0.647059</td><td>0.0</td><td>0.6875</td><td>0.0</td><td>0.498039</td><td>0.529412</td><td>-0.05</td><td>0.511029</td><td>1.0</td><td>0.46875</td><td>0.382353</td><td>0.190476</td><td>0.424242</td><td>0</td><td>do not exclude</td><td>1</td><td>I feel like the red asterisk was there to annoy me.</td></tr><tr><th>4</th><td>AYNWXFK66TKOZ</td><td>3TPWUS5F891Q5M082U312YEJPZCCW8</td><td>4</td><td>29</td><td>f</td><td>350</td><td>5</td><td>8</td><td>2.8</td><td>0.987013</td><td>0.95</td><td>0.0526316</td><td>0.0</td><td>0.512821</td><td>0.933333</td><td>0.944444</td><td>0.8</td><td>0.0166667</td><td>0.878788</td><td>-0.0536797</td><td>-0.00555556</td><td>0.747368</td><td>0.0166667</td><td>0.365967</td><td>0.978261</td><td>0.947368</td><td>0.382353</td><td>0.178218</td><td>0.680556</td><td>0</td><td>do not exclude</td><td>2</td><td>Overall a fun activity, curious about what the study is about. </td></tr><tr><th>5</th><td>A1HKCTDOTL6C9I</td><td>37XITHEISW9LXQJM30TVFZ62XKXCR5</td><td>5</td><td>42</td><td>m</td><td>301</td><td>0</td><td>4</td><td>2.8</td><td>1.0</td><td>0.428571</td><td>0.882353</td><td>0.25</td><td>0.677419</td><td>0.933333</td><td>0.785714</td><td>0.933333</td><td>0.0172414</td><td>0.862069</td><td>-0.0666667</td><td>0.357143</td><td>0.0509804</td><td>-0.232759</td><td>0.18465</td><td>0.986486</td><td>0.607143</td><td>0.90625</td><td>0.244681</td><td>0.766667</td><td>0</td><td>do not exclude</td><td>1</td><td>Thank you.</td></tr><tr><th>6</th><td>A3T9C1USL4V4IJ</td><td>3FUI0JHJPXY51O21ZHHY4YZSLT533V</td><td>6</td><td>36</td><td>male</td><td>321</td><td>2</td><td>12</td><td>2.7</td><td>0.985507</td><td>0.0714286</td><td>0.0</td><td>0.0</td><td>0.03125</td><td>1.0</td><td>0.4</td><td>0.785714</td><td>0.016129</td><td>0.586207</td><td>0.0144928</td><td>0.328571</td><td>0.785714</td><td>0.016129</td><td>0.554957</td><td>0.988095</td><td>0.241379</td><td>0.34375</td><td>0.158416</td><td>0.295082</td><td>0</td><td>do not exclude</td><td>2</td><td>missing</td></tr></tbody></table>"
      ],
      "text/latex": [
       "\\begin{tabular}{r|ccccccccccccccccccccccccccccccccc}\n",
       "\t& MturkID & AssignID & sub\\_no & age & gender & n\\_trials & n\\_force\\_wrong & n\\_missed & bonus\\_payment & percent\\_accept\\_A1 & percent\\_accept\\_A2 & percent\\_accept\\_A3 & percent\\_accept\\_A4 & percent\\_accept\\_A2\\_A3 & percent\\_accept\\_B1 & percent\\_accept\\_B2 & percent\\_accept\\_B3 & percent\\_accept\\_B4 & percent\\_accept\\_B2\\_B3 & percent\\_accept\\_B1\\_min\\_A1 & percent\\_accept\\_B2\\_min\\_A2 & percent\\_accept\\_B3\\_min\\_A3 & percent\\_accept\\_B4\\_min\\_A4 & percent\\_accept\\_B2\\_B3\\_min\\_A2\\_A3 & percent\\_accept\\_AB1 & percent\\_accept\\_AB2 & percent\\_accept\\_AB3 & percent\\_accept\\_AB4 & percent\\_accept\\_AB2\\_AB3 & exclude & exclude\\_reason & order\\_condition & comment\\\\\n",
       "\t\\hline\n",
       "\t1 & A3VE8U98QF4FVV & 3RSDURM96AM9RPFMDMRKDJZ2IHMEYS & 1 & 30 & m & 284 & 1 & 1 & 2.7 & 1.0 & 0.0714286 & 0.117647 & 0.0 & 0.0967742 & 1.0 & 0.857143 & 1.0 & 0.0227273 & 0.9375 & 0.0 & 0.785714 & 0.882353 & 0.0227273 & 0.840726 & 1.0 & 0.333333 & 0.423077 & 0.225 & 0.382979 & 0 & do not exclude & 1 & Everything went fine and I didn't have any problems and the game was fun. \\\\\n",
       "\t2 & A2LI0QVPKA5CG8 & 3HQUKB7LNFEZP4GZTNV2CM1CN34HHM & 2 & 40 & f & 255 & 1 & 1 & 2.4 & 1.0 & 0.0 & 1.0 & 0.111111 & 0.45 & 0.785714 & 0.166667 & 1.0 & 0.0377358 & 0.583333 & -0.214286 & 0.166667 & 0.0 & -0.0733753 & 0.133333 & 0.942308 & 0.0869565 & 1.0 & 0.108434 & 0.522727 & 0 & do not exclude & 2 & A great game that was extremely fun! Thank you! \\\\\n",
       "\t3 & AMYZ8WZD19W29 & 39ZSFO5CA8W0LWH9HM5M7E6HU3AJUU & 3 & 30 & m & 333 & 2 & 4 & 2.8 & 1.0 & 0.235294 & 0.117647 & 0.05 & 0.176471 & 1.0 & 0.733333 & 0.647059 & 0.0 & 0.6875 & 0.0 & 0.498039 & 0.529412 & -0.05 & 0.511029 & 1.0 & 0.46875 & 0.382353 & 0.190476 & 0.424242 & 0 & do not exclude & 1 & I feel like the red asterisk was there to annoy me. \\\\\n",
       "\t4 & AYNWXFK66TKOZ & 3TPWUS5F891Q5M082U312YEJPZCCW8 & 4 & 29 & f & 350 & 5 & 8 & 2.8 & 0.987013 & 0.95 & 0.0526316 & 0.0 & 0.512821 & 0.933333 & 0.944444 & 0.8 & 0.0166667 & 0.878788 & -0.0536797 & -0.00555556 & 0.747368 & 0.0166667 & 0.365967 & 0.978261 & 0.947368 & 0.382353 & 0.178218 & 0.680556 & 0 & do not exclude & 2 & Overall a fun activity, curious about what the study is about.  \\\\\n",
       "\t5 & A1HKCTDOTL6C9I & 37XITHEISW9LXQJM30TVFZ62XKXCR5 & 5 & 42 & m & 301 & 0 & 4 & 2.8 & 1.0 & 0.428571 & 0.882353 & 0.25 & 0.677419 & 0.933333 & 0.785714 & 0.933333 & 0.0172414 & 0.862069 & -0.0666667 & 0.357143 & 0.0509804 & -0.232759 & 0.18465 & 0.986486 & 0.607143 & 0.90625 & 0.244681 & 0.766667 & 0 & do not exclude & 1 & Thank you. \\\\\n",
       "\t6 & A3T9C1USL4V4IJ & 3FUI0JHJPXY51O21ZHHY4YZSLT533V & 6 & 36 & male & 321 & 2 & 12 & 2.7 & 0.985507 & 0.0714286 & 0.0 & 0.0 & 0.03125 & 1.0 & 0.4 & 0.785714 & 0.016129 & 0.586207 & 0.0144928 & 0.328571 & 0.785714 & 0.016129 & 0.554957 & 0.988095 & 0.241379 & 0.34375 & 0.158416 & 0.295082 & 0 & do not exclude & 2 &  \\\\\n",
       "\\end{tabular}\n"
      ],
      "text/plain": [
       "6×33 DataFrame. Omitted printing of 29 columns\n",
       "│ Row │ MturkID        │ AssignID                       │ sub_no │ age    │\n",
       "│     │ \u001b[90mString⍰\u001b[39m        │ \u001b[90mUnion{Missing, String}\u001b[39m         │ \u001b[90mInt64⍰\u001b[39m │ \u001b[90mInt64⍰\u001b[39m │\n",
       "├─────┼────────────────┼────────────────────────────────┼────────┼────────┤\n",
       "│ 1   │ A3VE8U98QF4FVV │ 3RSDURM96AM9RPFMDMRKDJZ2IHMEYS │ 1      │ 30     │\n",
       "│ 2   │ A2LI0QVPKA5CG8 │ 3HQUKB7LNFEZP4GZTNV2CM1CN34HHM │ 2      │ 40     │\n",
       "│ 3   │ AMYZ8WZD19W29  │ 39ZSFO5CA8W0LWH9HM5M7E6HU3AJUU │ 3      │ 30     │\n",
       "│ 4   │ AYNWXFK66TKOZ  │ 3TPWUS5F891Q5M082U312YEJPZCCW8 │ 4      │ 29     │\n",
       "│ 5   │ A1HKCTDOTL6C9I │ 37XITHEISW9LXQJM30TVFZ62XKXCR5 │ 5      │ 42     │\n",
       "│ 6   │ A3T9C1USL4V4IJ │ 3FUI0JHJPXY51O21ZHHY4YZSLT533V │ 6      │ 36     │"
      ]
     },
     "execution_count": 6,
     "metadata": {},
     "output_type": "execute_result"
    }
   ],
   "source": [
    "summary_stats = readtable(\"/Users/neil/GitHubRepo/Projects/PreySelection/v105/data/subdata_105.csv\")\n",
    "head(summary_stats)"
   ]
  },
  {
   "cell_type": "markdown",
   "metadata": {
    "hidden": true
   },
   "source": [
    "### Get rid of excluded subs"
   ]
  },
  {
   "cell_type": "code",
   "execution_count": 7,
   "metadata": {
    "collapsed": true,
    "hidden": true
   },
   "outputs": [],
   "source": [
    "summary_stats = summary_stats[summary_stats[:exclude].==0,:];\n"
   ]
  },
  {
   "cell_type": "markdown",
   "metadata": {
    "hidden": true
   },
   "source": [
    "### Get rid of Mturk ID etc (first 3 columns)"
   ]
  },
  {
   "cell_type": "code",
   "execution_count": 8,
   "metadata": {
    "hidden": true
   },
   "outputs": [
    {
     "name": "stderr",
     "output_type": "stream",
     "text": [
      "┌ Warning: indexing with colon as row will create a copy in the future use df[col_inds] to get the columns without copying\n",
      "│   caller = top-level scope at In[8]:1\n",
      "└ @ Core In[8]:1\n"
     ]
    }
   ],
   "source": [
    "summary_stats = summary_stats[:,4:end];"
   ]
  },
  {
   "cell_type": "markdown",
   "metadata": {
    "heading_collapsed": true
   },
   "source": [
    "# Asymmetry Model Learn Options\n",
    "\n",
    "This model comprises: \n",
    "\n",
    "1. An intercept which reflects degree of bias to reject.\n",
    "\n",
    "2. A beta (termperature parameter) which controls sensitivity to the difference between the options (0 = pick 50/50. Higher it is, the more sensative subs are tothe different options (more step functionesque). <br>\n",
    "\n",
    "3. Two learning rates: one for appetative component (reward), one for aversive (delay) for average reward rate\n",
    "\n",
    "4. Seperate learning rate for learning the value of the options (no longer assume they know this)\n",
    "\n",
    "Uses Q learned average to predict choice\n",
    "\n",
    "Initalise Qaverage in model at the arithmetic average over all subs over both sessions"
   ]
  },
  {
   "cell_type": "code",
   "execution_count": 9,
   "metadata": {
    "collapsed": true,
    "hidden": true
   },
   "outputs": [],
   "source": [
    "@everywhere function model_asymmetry_learn_options(params, data)\n",
    "     \n",
    "    #model parameters\n",
    "    intercept = params[1]\n",
    "    beta = params[2]\n",
    "    lr_environment_reward = 0.5 .+ 0.5.*erf(params[3]/sqrt(2))\n",
    "    lr_environment_delay = 0.5 .+ 0.5.*erf(params[4]/sqrt(2))\n",
    "    lr_options = 0.5 .+ 0.5.*erf(params[5]/sqrt(2))\n",
    "   \n",
    "    \n",
    "    #initalise various variables\n",
    "    delay_sum = zeros(typeof(beta),1)\n",
    "    reward_sum = zeros(typeof(beta),1)\n",
    "    Q_arithmetic = zeros(typeof(beta),1) # stores actual (arithmetic) average reward rate\n",
    "    opp_cost_arithmetic = zeros(typeof(beta),1) # stores actual (arithmetic) opp cost\n",
    "    Q_estimate = zeros(typeof(beta),1) .+ 7.02 # stores estimated global reward rate\n",
    "    opp_cost_estimate = zeros(typeof(beta),1) # stores estimated opp cost\n",
    "    \n",
    "    Qd = zeros(typeof(beta),2) # decision variable; 1st element is the opp cost of accepting (or value of rejecting), 2nd element is just the reward of the option (value of accepting)\n",
    "\n",
    "    # maintains estimate of the reward for each option (options indexed by rank: 1-4). \n",
    "    Q_options_reward = zeros(typeof(beta),4)\n",
    "    Q_options_delay = zeros(typeof(beta),4)\n",
    "    \n",
    "    lik = 0 #likelihood\n",
    "\n",
    "    #these store new trial by trial values (e.g. Q estimate on each trial etc.)\n",
    "    reward_sum_store = [];\n",
    "    delay_sum_store = [];\n",
    "    Q_arithmetic_store = [];\n",
    "    opp_cost_arithmetic_store  = []; \n",
    "    Q_estimate_store = [];\n",
    "    opp_cost_estimate_store = [];\n",
    "\n",
    "    #extract various variables from the dataframe\n",
    "    reward = data[:reward_percent]\n",
    "    delay = data[:delay_s]\n",
    "    force = data[:force_trial]  \n",
    "    missed = data[:missed] #missed responses \n",
    "    c = data[:approach_avoid] #choice\n",
    "    option_rank = data[:stim_rank] #option rank \n",
    "\n",
    "    for i = 1:length(c)\n",
    "        \n",
    "            #option presented in current trial\n",
    "            option_index = option_rank[i]\n",
    "        \n",
    "            # 2 seconds without reward on each trial regadless of accept/reject\n",
    "            delay_sum .+= 2;\n",
    "         \n",
    "            # calculate current (arithmetic) reward per second from number of seconds elapsed and reward accured\n",
    "            Q_arithmetic = reward_sum./delay_sum\n",
    "            opp_cost_arithmetic = Q_arithmetic*delay[i]\n",
    "           \n",
    "            # decrease estimate of global reward rate for encounter time (2seconds)\n",
    "            Q_estimate = (1-lr_environment_delay) * Q_estimate .+ 0\n",
    "            Q_estimate = (1-lr_environment_delay) * Q_estimate .+ 0\n",
    "        \n",
    "            #calculate estimate of opportunity cost given estimate of reward rate and delay incurred by option \n",
    "            opp_cost_estimate = Q_estimate*Q_options_delay[option_index]\n",
    "        \n",
    "            #add trial by trial values \n",
    "            append!(reward_sum_store, reward_sum)\n",
    "            append!(delay_sum_store, delay_sum)\n",
    "            append!(Q_arithmetic_store, Q_arithmetic)\n",
    "            append!(opp_cost_arithmetic_store, opp_cost_arithmetic)\n",
    "            append!(Q_estimate_store, Q_estimate)\n",
    "            append!(opp_cost_estimate_store, opp_cost_estimate)\n",
    "        \n",
    "            # if not a force trial predict choice based on current values\n",
    "            if ((force[i]<1) & (missed[i]<1))\n",
    "                        \n",
    "                # decision variable - the estimate of opportunity cost (\"reward\" of rejecting) versus \n",
    "                # reward of the current option (if accepted)\n",
    "                Qd = [intercept, 0] .+ [beta.*opp_cost_estimate[1], beta.*Q_options_reward[option_index]]\n",
    "\n",
    "                # increment likelihood\n",
    "                lik += Qd[c[i]] - log(sum(exp.(Qd)))\n",
    "            \n",
    "            end\n",
    "            \n",
    "            #incur 8second time out for missed response\n",
    "            if (missed[i]==1)\n",
    "                \n",
    "                delay_sum .+= 8\n",
    "            \n",
    "                for j = 1:8\n",
    "                \n",
    "                     Q_estimate = (1-lr_environment_delay) * Q_estimate .+ 0\n",
    "\n",
    "                end\n",
    "            \n",
    "            end\n",
    "        \n",
    "            # regardless of whether a force trial or not, \n",
    "            # if accept the option, Q_estimate updates and there is a delay incurred\n",
    "            if ((c[i] == 2) & (missed[i]==0))\n",
    "                \n",
    "                delay_sum .+= delay[i]\n",
    "                reward_sum .+= reward[i]\n",
    "            \n",
    "                for j = 1:delay[i]\n",
    "                \n",
    "                    Q_estimate = (1-lr_environment_delay) * Q_estimate .+ 0\n",
    "                \n",
    "                end\n",
    "            \n",
    "                    Q_estimate = (1-lr_environment_reward) * Q_estimate .+ lr_environment_reward*reward[i]\n",
    "            \n",
    "                Q_options_reward[option_index] = (1-lr_options)*Q_options_reward[option_index] .+ lr_options*reward[i]\n",
    "                Q_options_delay[option_index] = (1-lr_options)*Q_options_delay[option_index] .+ lr_options*delay[i]\n",
    "                \n",
    "            end\n",
    "    \n",
    "    end\n",
    "    \n",
    "    # compile trial by trial values here\n",
    "    trial_data = DataFrame(reward_sum = reward_sum_store,\n",
    "            delay_sum = delay_sum_store,\n",
    "            Q_arithmetic = Q_arithmetic_store,\n",
    "            opp_cost_arithmetic = opp_cost_arithmetic_store,\n",
    "            Q_estimate = Q_estimate_store,\n",
    "            opp_cost_estimate = opp_cost_estimate_store)\n",
    "    \n",
    "    # here if running em you can only return the likelihood\n",
    "    return -lik\n",
    "    \n",
    "    # but if you run in order to extract trials, subs etc then want to return this\n",
    "    #return (-lik, trial_data)\n",
    "    \n",
    "end\n"
   ]
  },
  {
   "cell_type": "markdown",
   "metadata": {
    "heading_collapsed": true
   },
   "source": [
    "# Parameter optimisiation"
   ]
  },
  {
   "cell_type": "markdown",
   "metadata": {
    "hidden": true
   },
   "source": [
    "### Run model for one subject\n",
    "\n",
    "aids debugging"
   ]
  },
  {
   "cell_type": "code",
   "execution_count": 10,
   "metadata": {
    "hidden": true
   },
   "outputs": [
    {
     "data": {
      "text/plain": [
       "140.0157304731092"
      ]
     },
     "execution_count": 10,
     "metadata": {},
     "output_type": "execute_result"
    }
   ],
   "source": [
    "# initialize parameter structures\n",
    "(df, subs, X, betas, sigma) = genVars(df, 5);\n",
    "\n",
    "# run model for sub 1\n",
    "model_asymmetry_learn_options(betas,df[df[:sub].==subs[1],:])\n"
   ]
  },
  {
   "cell_type": "markdown",
   "metadata": {
    "hidden": true
   },
   "source": [
    "### Run em to get best fit parameters for each subject"
   ]
  },
  {
   "cell_type": "code",
   "execution_count": 11,
   "metadata": {
    "hidden": true
   },
   "outputs": [
    {
     "name": "stdout",
     "output_type": "stream",
     "text": [
      "\n",
      "iter: 26\n",
      "betas: [-1.11, 0.11, -1.9, -2.16, -0.35]\n",
      "sigma: [1.71 0.02 -0.08 0.05 -0.78; 0.02 0.0 -0.02 -0.0 -0.03; -0.08 -0.02 0.23 0.15 0.03; 0.05 -0.0 0.15 0.12 -0.06; -0.78 -0.03 0.03 -0.06 1.3]\n",
      "change: [-1.0e-5, 0.000108, -4.0e-6, -5.0e-6, -8.7e-5, 2.2e-5, 0.000565, -0.000529, 1.6e-5, -1.4e-5, 0.000623, -0.000258, -0.000688, -0.000468, 0.000101, 1.2e-5, 0.000828, 2.6e-5, -0.000136, 3.3e-5]\n",
      "max: 0.000828\n",
      "509.645344 seconds (34.03 M allocations: 1.408 GiB, 0.80% gc time)\n"
     ]
    }
   ],
   "source": [
    "# initialized parameter structures (again)\n",
    "# note that some of the variables (e.g. betas, sigma) are entered and returned by em function \n",
    "(df, subs, X, betas, sigma) = genVars(df, 5);\n",
    "\n",
    "# run for full learner\n",
    "# x contains the parameters for each subject (note not the same as variable X)\n",
    "# l and h are per-subject likelihood and hessians\n",
    "@time (betas, sigma, x, l, h) = em(df, subs, X, betas, sigma, model_asymmetry_learn_options; emtol=1e-3, parallel=true, full=true, quiet=false);\n"
   ]
  },
  {
   "cell_type": "markdown",
   "metadata": {
    "hidden": true
   },
   "source": [
    "### Generate Model Statistics \n",
    "(IAIC, IBIC, LOOCV)"
   ]
  },
  {
   "cell_type": "code",
   "execution_count": 12,
   "metadata": {
    "hidden": true
   },
   "outputs": [
    {
     "name": "stdout",
     "output_type": "stream",
     "text": [
      "Subject: 1..2..3..4..5..6..7..8..9..10..11..12..13..14..15..16..17..18..19..20..21..22..23..24..25..26..27..28..29..30..31..32..33..34..35..36..37..38.."
     ]
    },
    {
     "data": {
      "text/plain": [
       "38-element Array{Float64,1}:\n",
       "  51.21893308175918 \n",
       "  50.66383298790231 \n",
       "  75.70843830954732 \n",
       "  77.00629834988882 \n",
       "  78.03758213383429 \n",
       "  57.46546909509559 \n",
       "  52.95946281272385 \n",
       "  62.26435177504174 \n",
       "  55.1347701154933  \n",
       "  71.13279734510759 \n",
       "  92.18591644137258 \n",
       "  65.76618227064941 \n",
       "  92.84358742697921 \n",
       "   ⋮                \n",
       "  64.60293210154595 \n",
       "  63.88706340867602 \n",
       "  58.925044765019344\n",
       "  83.78599581890849 \n",
       "  49.818727077695954\n",
       " 111.70459208158415 \n",
       "  58.417073263058256\n",
       "  65.68252984545781 \n",
       "  50.08338764454784 \n",
       "  24.420226083993207\n",
       "  84.36332067667854 \n",
       "  89.19240094665697 "
      ]
     },
     "execution_count": 12,
     "metadata": {},
     "output_type": "execute_result"
    }
   ],
   "source": [
    "## model selection/comparison/scoring\n",
    "\n",
    "# laplace approximation to the aggregate log marginal likelihood of the whole dataset\n",
    "# marginalized over the individual params\n",
    "\n",
    "aggll = lml(x,l,h)\n",
    "\n",
    "# to compare this between models you need to correct for the group-level free parameters\n",
    "# either aic or bic\n",
    "\n",
    "aggll_ibic = ibic(x,l,h,betas,sigma,nrow(df))\n",
    "aggll_iaic = iaic(x,l,h,betas,sigma)\n",
    "\n",
    "# or you can compute unbiased per subject marginal likelihoods via subject-level cross validation\n",
    "# you can do paired t tests on these between models\n",
    "# these are also appropriate for SPM_BMS etc\n",
    "\n",
    "# takes ages so comment in when want to run, otherwise just use IAIC above\n",
    "liks = loocv(df, subs, x, X, betas, sigma, model_asymmetry_learn_options; emtol=1e-3, parallel=true, full=true)\n",
    "#aggll_loo = sum(liks)\n",
    "\n",
    "#println(\"\\n\\nraw nll:  $aggll\\nibic nll: $aggll_ibic\\niaic nll: $aggll_iaic\\nloo nll:  $aggll_loo\")\n",
    "#println(\"\\n\\nraw nll:  $aggll\\nibic nll: $aggll_ibic\\niaic nll:\")\n",
    "#print(aggll_iaic)\n"
   ]
  },
  {
   "cell_type": "markdown",
   "metadata": {
    "hidden": true
   },
   "source": [
    "### Write loocv scores to csv file\n",
    "\n",
    "(if you have run loocv above)"
   ]
  },
  {
   "cell_type": "code",
   "execution_count": 13,
   "metadata": {
    "collapsed": true,
    "hidden": true,
    "scrolled": true
   },
   "outputs": [],
   "source": [
    "# put loocv scores into dataframe\n",
    "loocv_scores = DataFrame(sub = subs,\n",
    "liks = vec(liks));\n"
   ]
  },
  {
   "cell_type": "markdown",
   "metadata": {
    "hidden": true
   },
   "source": [
    "#### save LOOCV to csv file\n"
   ]
  },
  {
   "cell_type": "code",
   "execution_count": 14,
   "metadata": {
    "hidden": true
   },
   "outputs": [
    {
     "name": "stderr",
     "output_type": "stream",
     "text": [
      "┌ Warning: In the future DataFrame constructor called with a `DataFrame` argument will return a copy. Use `convert(DataFrame, df)` to avoid copying if `df` is a `DataFrame`.\n",
      "│   caller = top-level scope at In[14]:1\n",
      "└ @ Core In[14]:1\n"
     ]
    },
    {
     "data": {
      "text/plain": [
       "\"loocv_scores.csv\""
      ]
     },
     "execution_count": 14,
     "metadata": {},
     "output_type": "execute_result"
    }
   ],
   "source": [
    "CSV.write(\"loocv_scores.csv\", DataFrame(loocv_scores))\n"
   ]
  },
  {
   "cell_type": "markdown",
   "metadata": {
    "hidden": true
   },
   "source": [
    "#### add to summary stats to LOOCV as well"
   ]
  },
  {
   "cell_type": "code",
   "execution_count": 15,
   "metadata": {
    "collapsed": true,
    "hidden": true
   },
   "outputs": [],
   "source": [
    "summary_stats = [summary_stats loocv_scores];"
   ]
  },
  {
   "cell_type": "markdown",
   "metadata": {
    "hidden": true
   },
   "source": [
    "### Calculate and write p values, std error and covariance"
   ]
  },
  {
   "cell_type": "code",
   "execution_count": 16,
   "metadata": {
    "hidden": true
   },
   "outputs": [
    {
     "name": "stderr",
     "output_type": "stream",
     "text": [
      "WARNING: LinearAlgebra.trace is deprecated, use tr instead.\n",
      "  likely near /Users/neil/.julia/packages/IJulia/DL02A/src/kernel.jl:41\n",
      "WARNING: LinearAlgebra.trace is deprecated, use tr instead.\n",
      "  likely near /Users/neil/.julia/packages/IJulia/DL02A/src/kernel.jl:41\n",
      "WARNING: LinearAlgebra.trace is deprecated, use tr instead.\n",
      "  likely near /Users/neil/.julia/packages/IJulia/DL02A/src/kernel.jl:41\n",
      "in #53 at none\n",
      "WARNING: LinearAlgebra.trace is deprecated, use tr instead.\n",
      "  likely near /Users/neil/.julia/packages/IJulia/DL02A/src/kernel.jl:41\n",
      "WARNING: LinearAlgebra.trace is deprecated, use tr instead.\n",
      "  likely near /Users/neil/.julia/packages/IJulia/DL02A/src/kernel.jl:41\n",
      "WARNING: LinearAlgebra.trace is deprecated, use tr instead.\n",
      "  likely near /Users/neil/.julia/packages/IJulia/DL02A/src/kernel.jl:41\n",
      "in #53 at none\n",
      "┌ Warning: `ccdf(d::UnivariateDistribution, X::AbstractArray)` is deprecated, use `ccdf.(d, X)` instead.\n",
      "│   caller = emerrors(::DataFrame, ::Array{Union{Missing, Int64},1}, ::SharedArray{Float64,2}, ::Array{Float64,3}, ::SharedArray{Float64,3}, ::Array{Float64,1}, ::Array{Float64,2}, ::Function) at em.jl:300\n",
      "└ @ Main /Users/neil/GitHubRepo/Projects/PreySelection/v105/models/supplementary/model_asymmetry_learn_options/em.jl:300\n"
     ]
    }
   ],
   "source": [
    "# standard errors on the subject-level means, based on an asymptotic Gaussian approx \n",
    "# (these may be inflated esp for small n)\n",
    "(standarderrors, pvalues, covmtx) = emerrors(df,subs,x,X,h,betas,sigma,model_asymmetry_learn_options);\n"
   ]
  },
  {
   "cell_type": "code",
   "execution_count": 17,
   "metadata": {
    "hidden": true
   },
   "outputs": [
    {
     "name": "stderr",
     "output_type": "stream",
     "text": [
      "┌ Warning: In the future DataFrame constructor called with a `DataFrame` argument will return a copy. Use `convert(DataFrame, df)` to avoid copying if `df` is a `DataFrame`.\n",
      "│   caller = top-level scope at In[17]:8\n",
      "└ @ Core In[17]:8\n"
     ]
    }
   ],
   "source": [
    "model_stats = DataFrame(stderror = vec(standarderrors),\n",
    "pvalues = vec(pvalues),\n",
    "covmtx_1 = vec(covmtx[:,1]),\n",
    "covmtx_2 = vec(covmtx[:,2]),\n",
    "covmtx_3 = vec(covmtx[:,3]),\n",
    "covmtx_4 = vec(covmtx[:,4]),\n",
    "covmtx_5 = vec(covmtx[:,5]));\n",
    "\n",
    "# save model stats to csv file\n",
    "CSV.write(\"model_stats.csv\", DataFrame(model_stats));"
   ]
  },
  {
   "cell_type": "code",
   "execution_count": 18,
   "metadata": {
    "hidden": true
   },
   "outputs": [
    {
     "name": "stdout",
     "output_type": "stream",
     "text": [
      "[0.22929, 0.0117962, 0.0832166, 0.0607643, 0.215676]"
     ]
    }
   ],
   "source": [
    "print(standarderrors)\n"
   ]
  },
  {
   "cell_type": "code",
   "execution_count": 19,
   "metadata": {
    "hidden": true
   },
   "outputs": [
    {
     "name": "stdout",
     "output_type": "stream",
     "text": [
      "[1.28344e-6, 3.92819e-22, 1.94405e-115, 3.98613e-277, 0.100085]"
     ]
    }
   ],
   "source": [
    "print(pvalues)\n"
   ]
  },
  {
   "cell_type": "code",
   "execution_count": 20,
   "metadata": {
    "hidden": true,
    "scrolled": true
   },
   "outputs": [
    {
     "name": "stdout",
     "output_type": "stream",
     "text": [
      "[0.0525741 0.000490229 -0.00248223 0.00184922 -0.0221954; 0.000490229 0.00013915 -0.000422107 -9.46809e-5 -0.000873012; -0.00248223 -0.000422107 0.00692499 0.00439718 0.000554506; 0.00184922 -9.46809e-5 0.00439718 0.00369229 -0.00182847; -0.0221954 -0.000873012 0.000554506 -0.00182847 0.046516]"
     ]
    }
   ],
   "source": [
    "print(covmtx)\n"
   ]
  },
  {
   "cell_type": "markdown",
   "metadata": {
    "hidden": true
   },
   "source": [
    "### Write per subject model parameters to csv files"
   ]
  },
  {
   "cell_type": "code",
   "execution_count": 21,
   "metadata": {
    "collapsed": true,
    "hidden": true
   },
   "outputs": [],
   "source": [
    "# put parameters into variable d\n",
    "d=x';\n",
    "\n",
    "# now put parameters into dataframe\n",
    "params = DataFrame(sub = subs,\n",
    "intercept = vec(d[:,1]), \n",
    "beta = vec(d[:,2]),\n",
    "learning_rate_environment_reward_raw = vec(d[:,3]),\n",
    "learning_rate_environment_reward_transformed = vec(0.5 .+ 0.5*erf.(d[:,3]/sqrt(2))),\n",
    "learning_rate_environment_delay_raw = vec(d[:,4]),\n",
    "learning_rate_environment_delay_transformed = vec(0.5 .+ 0.5*erf.(d[:,4]/sqrt(2))),\n",
    "learning_rate_options_raw = vec(d[:,5]),\n",
    "learning_rate_options_transformed = vec(0.5 .+ 0.5*erf.(d[:,5]/sqrt(2))));"
   ]
  },
  {
   "cell_type": "code",
   "execution_count": 22,
   "metadata": {
    "hidden": true
   },
   "outputs": [
    {
     "name": "stderr",
     "output_type": "stream",
     "text": [
      "┌ Warning: In the future DataFrame constructor called with a `DataFrame` argument will return a copy. Use `convert(DataFrame, df)` to avoid copying if `df` is a `DataFrame`.\n",
      "│   caller = top-level scope at In[22]:1\n",
      "└ @ Core In[22]:1\n"
     ]
    },
    {
     "data": {
      "text/plain": [
       "\"subject_params.csv\""
      ]
     },
     "execution_count": 22,
     "metadata": {},
     "output_type": "execute_result"
    }
   ],
   "source": [
    "CSV.write(\"subject_params.csv\", DataFrame(params))\n"
   ]
  },
  {
   "cell_type": "markdown",
   "metadata": {
    "hidden": true
   },
   "source": [
    "### Test difference in learning rates"
   ]
  },
  {
   "cell_type": "code",
   "execution_count": 3,
   "metadata": {
    "hidden": true
   },
   "outputs": [
    {
     "data": {
      "text/html": [
       "<table class=\"data-frame\"><thead><tr><th></th><th>sub</th><th>intercept</th><th>beta</th><th>learning_rate_environment_reward_raw</th><th>learning_rate_environment_reward_transformed</th><th>learning_rate_environment_delay_raw</th><th>learning_rate_environment_delay_transformed</th><th>learning_rate_options_raw</th><th>learning_rate_options_transformed</th></tr><tr><th></th><th>Int64⍰</th><th>Float64⍰</th><th>Float64⍰</th><th>Float64⍰</th><th>Float64⍰</th><th>Float64⍰</th><th>Float64⍰</th><th>Float64⍰</th><th>Float64⍰</th></tr></thead><tbody><tr><th>1</th><td>1</td><td>-0.843775</td><td>0.0970315</td><td>-1.61957</td><td>0.0526628</td><td>-1.8069</td><td>0.0353888</td><td>0.611087</td><td>0.729429</td></tr><tr><th>2</th><td>2</td><td>1.58458</td><td>0.203602</td><td>-2.38993</td><td>0.00842582</td><td>-2.25748</td><td>0.011989</td><td>-1.33931</td><td>0.0902343</td></tr><tr><th>3</th><td>3</td><td>-0.277949</td><td>0.140603</td><td>-1.55712</td><td>0.0597204</td><td>-1.80323</td><td>0.0356758</td><td>-1.42979</td><td>0.076388</td></tr><tr><th>4</th><td>4</td><td>-2.75705</td><td>0.053971</td><td>-1.53217</td><td>0.0627405</td><td>-2.14326</td><td>0.016046</td><td>1.65204</td><td>0.950736</td></tr><tr><th>5</th><td>5</td><td>-1.06676</td><td>0.132835</td><td>-1.68282</td><td>0.046205</td><td>-1.84297</td><td>0.0326669</td><td>-1.6839</td><td>0.0461003</td></tr><tr><th>6</th><td>6</td><td>-0.71595</td><td>0.0953319</td><td>-1.62975</td><td>0.0515776</td><td>-1.98788</td><td>0.0234123</td><td>0.702554</td><td>0.758833</td></tr><tr><th>7</th><td>9</td><td>-1.34975</td><td>0.102102</td><td>-1.89628</td><td>0.0289616</td><td>-2.17589</td><td>0.0147819</td><td>0.165143</td><td>0.565584</td></tr><tr><th>8</th><td>11</td><td>0.892613</td><td>0.0965722</td><td>-1.86228</td><td>0.0312817</td><td>-2.04327</td><td>0.0205129</td><td>-0.422931</td><td>0.336173</td></tr><tr><th>9</th><td>12</td><td>-1.71839</td><td>0.0993371</td><td>-2.14707</td><td>0.0158937</td><td>-2.37696</td><td>0.008728</td><td>-0.0511307</td><td>0.479611</td></tr><tr><th>10</th><td>13</td><td>-2.64124</td><td>0.0571138</td><td>-1.61125</td><td>0.0535628</td><td>-2.21776</td><td>0.0132855</td><td>0.664977</td><td>0.746967</td></tr><tr><th>11</th><td>14</td><td>-0.495492</td><td>0.111785</td><td>-1.26012</td><td>0.103813</td><td>-1.72767</td><td>0.0420235</td><td>-1.50538</td><td>0.0661137</td></tr><tr><th>12</th><td>17</td><td>-1.96794</td><td>0.0692289</td><td>-1.48912</td><td>0.0682276</td><td>-1.96096</td><td>0.024942</td><td>-0.593029</td><td>0.276581</td></tr><tr><th>13</th><td>18</td><td>0.268748</td><td>0.176206</td><td>-1.97355</td><td>0.0242164</td><td>-2.0315</td><td>0.0211021</td><td>-1.99376</td><td>0.0230891</td></tr><tr><th>14</th><td>19</td><td>-1.56558</td><td>0.13849</td><td>-1.49619</td><td>0.0673024</td><td>-1.72803</td><td>0.0419914</td><td>-1.07018</td><td>0.14227</td></tr><tr><th>15</th><td>20</td><td>-1.65729</td><td>0.0539421</td><td>-1.08216</td><td>0.13959</td><td>-1.84482</td><td>0.032532</td><td>-0.156106</td><td>0.437975</td></tr><tr><th>16</th><td>21</td><td>0.0383189</td><td>0.223805</td><td>-2.86694</td><td>0.0020723</td><td>-2.68325</td><td>0.00364555</td><td>-1.27253</td><td>0.101593</td></tr><tr><th>17</th><td>22</td><td>-2.53781</td><td>0.134387</td><td>-1.52297</td><td>0.0638832</td><td>-1.92951</td><td>0.0268335</td><td>-1.97896</td><td>0.02391</td></tr><tr><th>18</th><td>24</td><td>-0.825148</td><td>0.0716252</td><td>-2.25409</td><td>0.0120951</td><td>-2.55788</td><td>0.00526569</td><td>-0.272405</td><td>0.392655</td></tr><tr><th>19</th><td>28</td><td>-1.96549</td><td>0.126957</td><td>-2.41558</td><td>0.00785507</td><td>-2.63698</td><td>0.00418236</td><td>0.424203</td><td>0.664291</td></tr><tr><th>20</th><td>29</td><td>-0.4297</td><td>0.0329259</td><td>-1.55326</td><td>0.0601808</td><td>-1.83784</td><td>0.0330428</td><td>-0.959549</td><td>0.168641</td></tr><tr><th>21</th><td>31</td><td>-2.20605</td><td>0.0995838</td><td>-1.82917</td><td>0.0336869</td><td>-2.05126</td><td>0.0201206</td><td>0.0316378</td><td>0.51262</td></tr><tr><th>22</th><td>32</td><td>0.129809</td><td>0.123092</td><td>-1.5726</td><td>0.0579058</td><td>-1.94175</td><td>0.0260834</td><td>-1.78929</td><td>0.0367842</td></tr><tr><th>23</th><td>34</td><td>-1.80711</td><td>0.158437</td><td>-1.75429</td><td>0.0396907</td><td>-1.97824</td><td>0.0239509</td><td>0.439799</td><td>0.669959</td></tr><tr><th>24</th><td>37</td><td>-2.94476</td><td>0.0783338</td><td>-2.65171</td><td>0.00400432</td><td>-2.98451</td><td>0.00142018</td><td>0.802753</td><td>0.788941</td></tr><tr><th>25</th><td>42</td><td>-1.88392</td><td>0.150787</td><td>-2.28868</td><td>0.011049</td><td>-2.27174</td><td>0.0115512</td><td>-1.12111</td><td>0.131121</td></tr><tr><th>26</th><td>43</td><td>-2.83649</td><td>0.218396</td><td>-2.24247</td><td>0.0124653</td><td>-2.27971</td><td>0.0113125</td><td>0.429118</td><td>0.666081</td></tr><tr><th>27</th><td>44</td><td>0.302856</td><td>0.101483</td><td>-1.68173</td><td>0.0463104</td><td>-1.81414</td><td>0.034828</td><td>0.00159433</td><td>0.500636</td></tr><tr><th>28</th><td>45</td><td>-2.54353</td><td>0.0159037</td><td>-1.72233</td><td>0.0425052</td><td>-2.20955</td><td>0.0135682</td><td>0.629792</td><td>0.735585</td></tr><tr><th>29</th><td>46</td><td>-0.364179</td><td>0.112005</td><td>-2.61237</td><td>0.00449582</td><td>-2.70462</td><td>0.00341909</td><td>-0.179539</td><td>0.428757</td></tr><tr><th>30</th><td>47</td><td>0.923015</td><td>0.104288</td><td>-1.5543</td><td>0.0600559</td><td>-1.89151</td><td>0.0292779</td><td>-1.67448</td><td>0.0470186</td></tr><tr><th>&vellip;</th><td>&vellip;</td><td>&vellip;</td><td>&vellip;</td><td>&vellip;</td><td>&vellip;</td><td>&vellip;</td><td>&vellip;</td><td>&vellip;</td><td>&vellip;</td></tr></tbody></table>"
      ],
      "text/latex": [
       "\\begin{tabular}{r|ccccccccc}\n",
       "\t& sub & intercept & beta & learning\\_rate\\_environment\\_reward\\_raw & learning\\_rate\\_environment\\_reward\\_transformed & learning\\_rate\\_environment\\_delay\\_raw & learning\\_rate\\_environment\\_delay\\_transformed & learning\\_rate\\_options\\_raw & learning\\_rate\\_options\\_transformed\\\\\n",
       "\t\\hline\n",
       "\t1 & 1 & -0.843775 & 0.0970315 & -1.61957 & 0.0526628 & -1.8069 & 0.0353888 & 0.611087 & 0.729429 \\\\\n",
       "\t2 & 2 & 1.58458 & 0.203602 & -2.38993 & 0.00842582 & -2.25748 & 0.011989 & -1.33931 & 0.0902343 \\\\\n",
       "\t3 & 3 & -0.277949 & 0.140603 & -1.55712 & 0.0597204 & -1.80323 & 0.0356758 & -1.42979 & 0.076388 \\\\\n",
       "\t4 & 4 & -2.75705 & 0.053971 & -1.53217 & 0.0627405 & -2.14326 & 0.016046 & 1.65204 & 0.950736 \\\\\n",
       "\t5 & 5 & -1.06676 & 0.132835 & -1.68282 & 0.046205 & -1.84297 & 0.0326669 & -1.6839 & 0.0461003 \\\\\n",
       "\t6 & 6 & -0.71595 & 0.0953319 & -1.62975 & 0.0515776 & -1.98788 & 0.0234123 & 0.702554 & 0.758833 \\\\\n",
       "\t7 & 9 & -1.34975 & 0.102102 & -1.89628 & 0.0289616 & -2.17589 & 0.0147819 & 0.165143 & 0.565584 \\\\\n",
       "\t8 & 11 & 0.892613 & 0.0965722 & -1.86228 & 0.0312817 & -2.04327 & 0.0205129 & -0.422931 & 0.336173 \\\\\n",
       "\t9 & 12 & -1.71839 & 0.0993371 & -2.14707 & 0.0158937 & -2.37696 & 0.008728 & -0.0511307 & 0.479611 \\\\\n",
       "\t10 & 13 & -2.64124 & 0.0571138 & -1.61125 & 0.0535628 & -2.21776 & 0.0132855 & 0.664977 & 0.746967 \\\\\n",
       "\t11 & 14 & -0.495492 & 0.111785 & -1.26012 & 0.103813 & -1.72767 & 0.0420235 & -1.50538 & 0.0661137 \\\\\n",
       "\t12 & 17 & -1.96794 & 0.0692289 & -1.48912 & 0.0682276 & -1.96096 & 0.024942 & -0.593029 & 0.276581 \\\\\n",
       "\t13 & 18 & 0.268748 & 0.176206 & -1.97355 & 0.0242164 & -2.0315 & 0.0211021 & -1.99376 & 0.0230891 \\\\\n",
       "\t14 & 19 & -1.56558 & 0.13849 & -1.49619 & 0.0673024 & -1.72803 & 0.0419914 & -1.07018 & 0.14227 \\\\\n",
       "\t15 & 20 & -1.65729 & 0.0539421 & -1.08216 & 0.13959 & -1.84482 & 0.032532 & -0.156106 & 0.437975 \\\\\n",
       "\t16 & 21 & 0.0383189 & 0.223805 & -2.86694 & 0.0020723 & -2.68325 & 0.00364555 & -1.27253 & 0.101593 \\\\\n",
       "\t17 & 22 & -2.53781 & 0.134387 & -1.52297 & 0.0638832 & -1.92951 & 0.0268335 & -1.97896 & 0.02391 \\\\\n",
       "\t18 & 24 & -0.825148 & 0.0716252 & -2.25409 & 0.0120951 & -2.55788 & 0.00526569 & -0.272405 & 0.392655 \\\\\n",
       "\t19 & 28 & -1.96549 & 0.126957 & -2.41558 & 0.00785507 & -2.63698 & 0.00418236 & 0.424203 & 0.664291 \\\\\n",
       "\t20 & 29 & -0.4297 & 0.0329259 & -1.55326 & 0.0601808 & -1.83784 & 0.0330428 & -0.959549 & 0.168641 \\\\\n",
       "\t21 & 31 & -2.20605 & 0.0995838 & -1.82917 & 0.0336869 & -2.05126 & 0.0201206 & 0.0316378 & 0.51262 \\\\\n",
       "\t22 & 32 & 0.129809 & 0.123092 & -1.5726 & 0.0579058 & -1.94175 & 0.0260834 & -1.78929 & 0.0367842 \\\\\n",
       "\t23 & 34 & -1.80711 & 0.158437 & -1.75429 & 0.0396907 & -1.97824 & 0.0239509 & 0.439799 & 0.669959 \\\\\n",
       "\t24 & 37 & -2.94476 & 0.0783338 & -2.65171 & 0.00400432 & -2.98451 & 0.00142018 & 0.802753 & 0.788941 \\\\\n",
       "\t25 & 42 & -1.88392 & 0.150787 & -2.28868 & 0.011049 & -2.27174 & 0.0115512 & -1.12111 & 0.131121 \\\\\n",
       "\t26 & 43 & -2.83649 & 0.218396 & -2.24247 & 0.0124653 & -2.27971 & 0.0113125 & 0.429118 & 0.666081 \\\\\n",
       "\t27 & 44 & 0.302856 & 0.101483 & -1.68173 & 0.0463104 & -1.81414 & 0.034828 & 0.00159433 & 0.500636 \\\\\n",
       "\t28 & 45 & -2.54353 & 0.0159037 & -1.72233 & 0.0425052 & -2.20955 & 0.0135682 & 0.629792 & 0.735585 \\\\\n",
       "\t29 & 46 & -0.364179 & 0.112005 & -2.61237 & 0.00449582 & -2.70462 & 0.00341909 & -0.179539 & 0.428757 \\\\\n",
       "\t30 & 47 & 0.923015 & 0.104288 & -1.5543 & 0.0600559 & -1.89151 & 0.0292779 & -1.67448 & 0.0470186 \\\\\n",
       "\t31 & 48 & -2.46743 & 0.00482775 & -1.37354 & 0.0847916 & -1.99248 & 0.0231594 & 0.803419 & 0.789134 \\\\\n",
       "\t32 & 49 & 0.418653 & 0.230039 & -3.3076 & 0.000470489 & -2.99874 & 0.00135549 & -2.43204 & 0.00750702 \\\\\n",
       "\t33 & 50 & -1.22868 & 0.102452 & -2.03456 & 0.0209474 & -2.18726 & 0.0143618 & 0.391248 & 0.652193 \\\\\n",
       "\t34 & 51 & 0.152016 & 0.0745108 & -1.83109 & 0.0335433 & -2.26376 & 0.0117944 & -0.0417065 & 0.483366 \\\\\n",
       "\t35 & 52 & -0.717941 & 0.165003 & -1.81278 & 0.0349329 & -1.92044 & 0.0274009 & -0.131307 & 0.447766 \\\\\n",
       "\t36 & 57 & -3.48658 & 0.221741 & -2.28187 & 0.0112486 & -2.39379 & 0.00833754 & 0.929797 & 0.823762 \\\\\n",
       "\t37 & 58 & -0.586487 & 0.0967404 & -1.75696 & 0.0394624 & -2.29075 & 0.0109888 & -1.28997 & 0.0985309 \\\\\n",
       "\t38 & 59 & -1.01327 & 0.0604822 & -2.06722 & 0.0193567 & -2.36576 & 0.00899645 & 1.23192 & 0.891011 \\\\\n",
       "\\end{tabular}\n"
      ],
      "text/plain": [
       "38×9 DataFrame. Omitted printing of 5 columns\n",
       "│ Row │ sub    │ intercept │ beta       │ learning_rate_environment_reward_raw │\n",
       "│     │ \u001b[90mInt64⍰\u001b[39m │ \u001b[90mFloat64⍰\u001b[39m  │ \u001b[90mFloat64⍰\u001b[39m   │ \u001b[90mUnion{Missing, Float64}\u001b[39m              │\n",
       "├─────┼────────┼───────────┼────────────┼──────────────────────────────────────┤\n",
       "│ 1   │ 1      │ -0.843775 │ 0.0970315  │ -1.61957                             │\n",
       "│ 2   │ 2      │ 1.58458   │ 0.203602   │ -2.38993                             │\n",
       "│ 3   │ 3      │ -0.277949 │ 0.140603   │ -1.55712                             │\n",
       "│ 4   │ 4      │ -2.75705  │ 0.053971   │ -1.53217                             │\n",
       "│ 5   │ 5      │ -1.06676  │ 0.132835   │ -1.68282                             │\n",
       "│ 6   │ 6      │ -0.71595  │ 0.0953319  │ -1.62975                             │\n",
       "│ 7   │ 9      │ -1.34975  │ 0.102102   │ -1.89628                             │\n",
       "│ 8   │ 11     │ 0.892613  │ 0.0965722  │ -1.86228                             │\n",
       "│ 9   │ 12     │ -1.71839  │ 0.0993371  │ -2.14707                             │\n",
       "│ 10  │ 13     │ -2.64124  │ 0.0571138  │ -1.61125                             │\n",
       "⋮\n",
       "│ 28  │ 45     │ -2.54353  │ 0.0159037  │ -1.72233                             │\n",
       "│ 29  │ 46     │ -0.364179 │ 0.112005   │ -2.61237                             │\n",
       "│ 30  │ 47     │ 0.923015  │ 0.104288   │ -1.5543                              │\n",
       "│ 31  │ 48     │ -2.46743  │ 0.00482775 │ -1.37354                             │\n",
       "│ 32  │ 49     │ 0.418653  │ 0.230039   │ -3.3076                              │\n",
       "│ 33  │ 50     │ -1.22868  │ 0.102452   │ -2.03456                             │\n",
       "│ 34  │ 51     │ 0.152016  │ 0.0745108  │ -1.83109                             │\n",
       "│ 35  │ 52     │ -0.717941 │ 0.165003   │ -1.81278                             │\n",
       "│ 36  │ 57     │ -3.48658  │ 0.221741   │ -2.28187                             │\n",
       "│ 37  │ 58     │ -0.586487 │ 0.0967404  │ -1.75696                             │\n",
       "│ 38  │ 59     │ -1.01327  │ 0.0604822  │ -2.06722                             │"
      ]
     },
     "execution_count": 3,
     "metadata": {},
     "output_type": "execute_result"
    }
   ],
   "source": [
    "# if you already have best fit parameters saved, can read in here (rather than running model to find)\n",
    "params = CSV.read(\"subject_params.csv\")"
   ]
  },
  {
   "cell_type": "code",
   "execution_count": 4,
   "metadata": {
    "hidden": true
   },
   "outputs": [
    {
     "data": {
      "text/html": [
       "<table class=\"data-frame\"><thead><tr><th></th><th>stderror</th><th>pvalues</th><th>covmtx_1</th><th>covmtx_2</th><th>covmtx_3</th><th>covmtx_4</th><th>covmtx_5</th></tr><tr><th></th><th>Float64⍰</th><th>Float64⍰</th><th>Float64⍰</th><th>Float64⍰</th><th>Float64⍰</th><th>Float64⍰</th><th>Float64⍰</th></tr></thead><tbody><tr><th>1</th><td>0.22929</td><td>1.28344e-6</td><td>0.0525741</td><td>0.000490229</td><td>-0.00248223</td><td>0.00184922</td><td>-0.0221954</td></tr><tr><th>2</th><td>0.0117962</td><td>3.92819e-22</td><td>0.000490229</td><td>0.00013915</td><td>-0.000422107</td><td>-9.46809e-5</td><td>-0.000873012</td></tr><tr><th>3</th><td>0.0832166</td><td>1.94405e-115</td><td>-0.00248223</td><td>-0.000422107</td><td>0.00692499</td><td>0.00439718</td><td>0.000554506</td></tr><tr><th>4</th><td>0.0607643</td><td>3.98613e-277</td><td>0.00184922</td><td>-9.46809e-5</td><td>0.00439718</td><td>0.00369229</td><td>-0.00182847</td></tr><tr><th>5</th><td>0.215676</td><td>0.100085</td><td>-0.0221954</td><td>-0.000873012</td><td>0.000554506</td><td>-0.00182847</td><td>0.046516</td></tr></tbody></table>"
      ],
      "text/latex": [
       "\\begin{tabular}{r|ccccccc}\n",
       "\t& stderror & pvalues & covmtx\\_1 & covmtx\\_2 & covmtx\\_3 & covmtx\\_4 & covmtx\\_5\\\\\n",
       "\t\\hline\n",
       "\t1 & 0.22929 & 1.28344e-6 & 0.0525741 & 0.000490229 & -0.00248223 & 0.00184922 & -0.0221954 \\\\\n",
       "\t2 & 0.0117962 & 3.92819e-22 & 0.000490229 & 0.00013915 & -0.000422107 & -9.46809e-5 & -0.000873012 \\\\\n",
       "\t3 & 0.0832166 & 1.94405e-115 & -0.00248223 & -0.000422107 & 0.00692499 & 0.00439718 & 0.000554506 \\\\\n",
       "\t4 & 0.0607643 & 3.98613e-277 & 0.00184922 & -9.46809e-5 & 0.00439718 & 0.00369229 & -0.00182847 \\\\\n",
       "\t5 & 0.215676 & 0.100085 & -0.0221954 & -0.000873012 & 0.000554506 & -0.00182847 & 0.046516 \\\\\n",
       "\\end{tabular}\n"
      ],
      "text/plain": [
       "5×7 DataFrame. Omitted printing of 2 columns\n",
       "│ Row │ stderror  │ pvalues      │ covmtx_1    │ covmtx_2     │ covmtx_3     │\n",
       "│     │ \u001b[90mFloat64⍰\u001b[39m  │ \u001b[90mFloat64⍰\u001b[39m     │ \u001b[90mFloat64⍰\u001b[39m    │ \u001b[90mFloat64⍰\u001b[39m     │ \u001b[90mFloat64⍰\u001b[39m     │\n",
       "├─────┼───────────┼──────────────┼─────────────┼──────────────┼──────────────┤\n",
       "│ 1   │ 0.22929   │ 1.28344e-6   │ 0.0525741   │ 0.000490229  │ -0.00248223  │\n",
       "│ 2   │ 0.0117962 │ 3.92819e-22  │ 0.000490229 │ 0.00013915   │ -0.000422107 │\n",
       "│ 3   │ 0.0832166 │ 1.94405e-115 │ -0.00248223 │ -0.000422107 │ 0.00692499   │\n",
       "│ 4   │ 0.0607643 │ 3.98613e-277 │ 0.00184922  │ -9.46809e-5  │ 0.00439718   │\n",
       "│ 5   │ 0.215676  │ 0.100085     │ -0.0221954  │ -0.000873012 │ 0.000554506  │"
      ]
     },
     "execution_count": 4,
     "metadata": {},
     "output_type": "execute_result"
    }
   ],
   "source": [
    "# if you already have best fit parameters saved, can read in here (rather than running model to find)\n",
    "model_stats = CSV.read(\"model_stats.csv\")"
   ]
  },
  {
   "cell_type": "code",
   "execution_count": 5,
   "metadata": {
    "hidden": true
   },
   "outputs": [
    {
     "name": "stderr",
     "output_type": "stream",
     "text": [
      "┌ Warning: indexing with colon as row will create a copy in the future use df[col_inds] to get the columns without copying\n",
      "│   caller = top-level scope at In[5]:1\n",
      "└ @ Core In[5]:1\n"
     ]
    },
    {
     "data": {
      "text/plain": [
       "5×5 Array{Union{Missing, Float64},2}:\n",
       "  0.0525741     0.000490229  -0.00248223    0.00184922  -0.0221954  \n",
       "  0.000490229   0.00013915   -0.000422107  -9.46809e-5  -0.000873012\n",
       " -0.00248223   -0.000422107   0.00692499    0.00439718   0.000554506\n",
       "  0.00184922   -9.46809e-5    0.00439718    0.00369229  -0.00182847 \n",
       " -0.0221954    -0.000873012   0.000554506  -0.00182847   0.046516   "
      ]
     },
     "execution_count": 5,
     "metadata": {},
     "output_type": "execute_result"
    }
   ],
   "source": [
    "covmtx = convert(Array, model_stats[:,3:7])"
   ]
  },
  {
   "cell_type": "code",
   "execution_count": 6,
   "metadata": {
    "hidden": true
   },
   "outputs": [
    {
     "name": "stdout",
     "output_type": "stream",
     "text": [
      "learning_parm_diff: 0.2609627749713581\n",
      "std_error: 0.04269586689312197\n",
      "zstat: 6.112132015602604\n"
     ]
    }
   ],
   "source": [
    "# require contrast vector to test the difference in the learning parameters (from the covariance matrix)\n",
    "con_vec = [0, 0, 1, -1, 0]\n",
    "\n",
    "#calculate standard error\n",
    "std_error = sqrt(con_vec'*covmtx*con_vec)\n",
    "\n",
    "#difference in (raw) learning rates\n",
    "learning_parm_diff = mean(params[:learning_rate_environment_reward_raw]) - mean(params[:learning_rate_environment_delay_raw])\n",
    "\n",
    "#now can derive tstatistic\n",
    "z_stat = learning_parm_diff/std_error\n",
    "\n",
    "#print these to output\n",
    "println(\"learning_parm_diff: \", learning_parm_diff);\n",
    "println(\"std_error: \", std_error);\n",
    "println(\"zstat: \", z_stat);"
   ]
  }
 ],
 "metadata": {
  "kernelspec": {
   "display_name": "Julia 0.7.0",
   "language": "julia",
   "name": "julia-0.7"
  },
  "language_info": {
   "file_extension": ".jl",
   "mimetype": "application/julia",
   "name": "julia",
   "version": "0.7.0"
  },
  "toc": {
   "base_numbering": 1,
   "nav_menu": {},
   "number_sections": true,
   "sideBar": true,
   "skip_h1_title": false,
   "title_cell": "Table of Contents",
   "title_sidebar": "Contents",
   "toc_cell": false,
   "toc_position": {},
   "toc_section_display": true,
   "toc_window_display": false
  }
 },
 "nbformat": 4,
 "nbformat_minor": 1
}
