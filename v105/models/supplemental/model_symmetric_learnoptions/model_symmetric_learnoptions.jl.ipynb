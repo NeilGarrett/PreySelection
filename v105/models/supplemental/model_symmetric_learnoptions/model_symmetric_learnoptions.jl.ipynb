{
 "cells": [
  {
   "cell_type": "markdown",
   "metadata": {},
   "source": [
    "** Neil Garrett, June 2018 **\n",
    "uses julia EM model fitting by Nathaniel Daw\n"
   ]
  },
  {
   "cell_type": "markdown",
   "metadata": {},
   "source": [
    "# Start up commands/load relevant functions"
   ]
  },
  {
   "cell_type": "code",
   "execution_count": 1,
   "metadata": {},
   "outputs": [
    {
     "name": "stderr",
     "output_type": "stream",
     "text": [
      "┌ Info: Recompiling stale cache file /Users/neil/.julia/compiled/v0.7/Distributions/xILW0.ji for Distributions [31c24e10-a181-5473-b8eb-7969acd0382f]\n",
      "└ @ Base loading.jl:1185\n"
     ]
    },
    {
     "name": "stdout",
     "output_type": "stream",
     "text": [
      "      From worker 2:\t┌ Warning: The call to compilecache failed to create a usable precompiled cache file for PDMats [90014a1f-27ba-587c-ab20-58faa44d9150]\n",
      "      From worker 2:\t│   exception = Required dependency Arpack [7d9fca2a-8960-54d3-9f78-7d1dccf2cb97] failed to load from a cache file.\n",
      "      From worker 2:\t└ @ Base loading.jl:963\n",
      "      From worker 5:\t┌ Warning: The call to compilecache failed to create a usable precompiled cache file for PDMats [90014a1f-27ba-587c-ab20-58faa44d9150]\n",
      "      From worker 5:\t│   exception = Required dependency Arpack [7d9fca2a-8960-54d3-9f78-7d1dccf2cb97] failed to load from a cache file.\n",
      "      From worker 5:\t└ @ Base loading.jl:963\n",
      "      From worker 3:\t┌ Warning: The call to compilecache failed to create a usable precompiled cache file for PDMats [90014a1f-27ba-587c-ab20-58faa44d9150]\n",
      "      From worker 3:\t│   exception = Required dependency Arpack [7d9fca2a-8960-54d3-9f78-7d1dccf2cb97] failed to load from a cache file.\n",
      "      From worker 3:\t└ @ Base loading.jl:963\n",
      "      From worker 4:\t┌ Warning: The call to compilecache failed to create a usable precompiled cache file for PDMats [90014a1f-27ba-587c-ab20-58faa44d9150]\n",
      "      From worker 4:\t│   exception = Required dependency Arpack [7d9fca2a-8960-54d3-9f78-7d1dccf2cb97] failed to load from a cache file.\n",
      "      From worker 4:\t└ @ Base loading.jl:963\n"
     ]
    },
    {
     "name": "stderr",
     "output_type": "stream",
     "text": [
      "┌ Warning: The call to compilecache failed to create a usable precompiled cache file for Distributions [31c24e10-a181-5473-b8eb-7969acd0382f]\n",
      "│   exception = ErrorException(\"Required dependency QuadGK [1fd47b50-473d-5c70-9696-f719f8f3bcdc] failed to load from a cache file.\")\n",
      "└ @ Base loading.jl:963\n",
      "┌ Info: Recompiling stale cache file /Users/neil/.julia/compiled/v0.7/GLM/6OREG.ji for GLM [38e38edf-8417-5370-95a0-9cbb8c7f171a]\n",
      "└ @ Base loading.jl:1185\n",
      "┌ Warning: Module Distributions with build ID 23342856126445 is missing from the cache.\n",
      "│ This may mean Distributions [31c24e10-a181-5473-b8eb-7969acd0382f] does not support precompilation but is imported by a module that does.\n",
      "└ @ Base loading.jl:941\n"
     ]
    },
    {
     "name": "stdout",
     "output_type": "stream",
     "text": [
      "      From worker 2:\t┌ Warning: The call to compilecache failed to create a usable precompiled cache file for StatsModels [3eaba693-59b7-5ba5-a881-562e759f1c8d]\n",
      "      From worker 2:\t│   exception = Required dependency CodecZlib [944b1d66-785c-5afd-91f1-9de20f533193] failed to load from a cache file.\n",
      "      From worker 2:\t└ @ Base loading.jl:963\n",
      "      From worker 4:\t┌ Warning: The call to compilecache failed to create a usable precompiled cache file for StatsModels [3eaba693-59b7-5ba5-a881-562e759f1c8d]\n",
      "      From worker 4:\t│   exception = Required dependency CodecZlib [944b1d66-785c-5afd-91f1-9de20f533193] failed to load from a cache file.\n",
      "      From worker 4:\t└ @ Base loading.jl:963\n",
      "      From worker 5:\t┌ Warning: The call to compilecache failed to create a usable precompiled cache file for StatsModels [3eaba693-59b7-5ba5-a881-562e759f1c8d]\n",
      "      From worker 5:\t│   exception = Required dependency CodecZlib [944b1d66-785c-5afd-91f1-9de20f533193] failed to load from a cache file.\n",
      "      From worker 5:\t└ @ Base loading.jl:963\n",
      "      From worker 3:\t┌ Warning: The call to compilecache failed to create a usable precompiled cache file for StatsModels [3eaba693-59b7-5ba5-a881-562e759f1c8d]\n",
      "      From worker 3:\t│   exception = Required dependency CodecZlib [944b1d66-785c-5afd-91f1-9de20f533193] failed to load from a cache file.\n",
      "      From worker 3:\t└ @ Base loading.jl:963\n"
     ]
    }
   ],
   "source": [
    "\n",
    "parallel = true # Run on multiple CPUs. If you are having trouble, set parallel = false: easier to debug\n",
    "full = false    # Maintain full covariance matrix (vs a diagional one) at the group level\n",
    "emtol = 1e-3    # stopping condition (relative change) for EM\n",
    "\n",
    "using Distributed\n",
    "if (parallel)\n",
    "\t# only run this once\n",
    "\taddprocs()\n",
    "end\n",
    "\n",
    "# this loads the packages needed -- the @everywhere makes sure they \n",
    "# available on all CPUs \n",
    "\n",
    "@everywhere using DataFrames\n",
    "@everywhere using SharedArrays\n",
    "@everywhere using ForwardDiff\n",
    "@everywhere using Optim\n",
    "@everywhere using LinearAlgebra       # for tr, diagonal\n",
    "@everywhere using StatsFuns           # logsumexp\n",
    "@everywhere using SpecialFunctions    # for erf\n",
    "@everywhere using Statistics          # for mean\n",
    "@everywhere using Distributions\n",
    "@everywhere using GLM\n",
    "@everywhere using CSV #for reading/writing csv files\n",
    "\n",
    "# change this to where you keep the Daw's latest em code\n",
    "@everywhere directory = \"/Users/neil/GitHubRepo/Projects/PreySelection/em\"\n",
    "\n",
    "#load in functions including em\n",
    "@everywhere include(\"$directory/em.jl\");\n",
    "@everywhere include(\"$directory/common.jl\");\n",
    "@everywhere include(\"$directory/likfuns.jl\")\n"
   ]
  },
  {
   "cell_type": "markdown",
   "metadata": {},
   "source": [
    "# Data read and process"
   ]
  },
  {
   "cell_type": "markdown",
   "metadata": {},
   "source": [
    "### Read in trial by trial data"
   ]
  },
  {
   "cell_type": "code",
   "execution_count": 2,
   "metadata": {},
   "outputs": [],
   "source": [
    "\n",
    "#read in csv file of the data\n",
    "#trial by trial data: note will include force trials and missed responses\n",
    "df = CSV.read(\"/Users/neil/GitHubRepo/Projects/PreySelection/v105/data/trialdata_105_processed.csv\");\n"
   ]
  },
  {
   "cell_type": "markdown",
   "metadata": {},
   "source": [
    "### Get rid of excluded subs"
   ]
  },
  {
   "cell_type": "code",
   "execution_count": 3,
   "metadata": {},
   "outputs": [],
   "source": [
    "\n",
    "df = df[df[:exclude].==0,:];\n"
   ]
  },
  {
   "cell_type": "markdown",
   "metadata": {},
   "source": [
    "### Convert approach avoid to 2s and 1s , missed as 0. Then convert to integers (necessary to use as an index)"
   ]
  },
  {
   "cell_type": "code",
   "execution_count": 4,
   "metadata": {},
   "outputs": [
    {
     "data": {
      "text/html": [
       "<table class=\"data-frame\"><thead><tr><th></th><th>subj</th><th>trial_index_actual</th><th>block</th><th>stimulus</th><th>stim_rank</th><th>reward_percent</th><th>delay_s</th><th>profitability</th><th>stim_left_right</th><th>key_press</th><th>approach_avoid</th><th>rt</th><th>rt_z</th><th>force_trial</th><th>missed</th><th>order_condition</th><th>exclude</th><th>exclude_reason</th></tr><tr><th></th><th>Int64⍰</th><th>Int64⍰</th><th>Int64⍰</th><th>String⍰</th><th>Int64⍰</th><th>Int64⍰</th><th>Int64⍰</th><th>Float64⍰</th><th>String⍰</th><th>Int64⍰</th><th>Integer</th><th>Float64⍰</th><th>Float64⍰</th><th>Int64⍰</th><th>Int64⍰</th><th>Int64⍰</th><th>Int64⍰</th><th>String⍰</th></tr></thead><tbody><p>6 rows × 18 columns</p><tr><th>1</th><td>1</td><td>0</td><td>0</td><td>../static/images/invador1.png</td><td>4</td><td>20</td><td>8</td><td>2.5</td><td>right</td><td>74</td><td>2</td><td>1195.0</td><td>1.09567</td><td>1</td><td>0</td><td>1</td><td>0</td><td>do not exclude</td></tr><tr><th>2</th><td>1</td><td>1</td><td>0</td><td>../static/images/invador3.png</td><td>1</td><td>80</td><td>2</td><td>40.0</td><td>right</td><td>74</td><td>2</td><td>718.0</td><td>-1.04464</td><td>0</td><td>0</td><td>1</td><td>0</td><td>do not exclude</td></tr><tr><th>3</th><td>1</td><td>2</td><td>0</td><td>../static/images/invador2.png</td><td>2</td><td>20</td><td>2</td><td>10.0</td><td>left</td><td>70</td><td>0</td><td>NaN</td><td>NaN</td><td>2</td><td>1</td><td>1</td><td>0</td><td>do not exclude</td></tr><tr><th>4</th><td>1</td><td>3</td><td>0</td><td>../static/images/invador4.png</td><td>3</td><td>80</td><td>8</td><td>10.0</td><td>left</td><td>70</td><td>2</td><td>933.0</td><td>-0.0799261</td><td>0</td><td>0</td><td>1</td><td>0</td><td>do not exclude</td></tr><tr><th>5</th><td>1</td><td>4</td><td>0</td><td>../static/images/invador3.png</td><td>1</td><td>80</td><td>2</td><td>40.0</td><td>left</td><td>70</td><td>2</td><td>750.0</td><td>-0.901051</td><td>1</td><td>0</td><td>1</td><td>0</td><td>do not exclude</td></tr><tr><th>6</th><td>1</td><td>5</td><td>0</td><td>../static/images/invador3.png</td><td>1</td><td>80</td><td>2</td><td>40.0</td><td>right</td><td>74</td><td>2</td><td>628.0</td><td>-1.44847</td><td>0</td><td>0</td><td>1</td><td>0</td><td>do not exclude</td></tr></tbody></table>"
      ],
      "text/latex": [
       "\\begin{tabular}{r|cccccccccccccccccc}\n",
       "\t& subj & trial\\_index\\_actual & block & stimulus & stim\\_rank & reward\\_percent & delay\\_s & profitability & stim\\_left\\_right & key\\_press & approach\\_avoid & rt & rt\\_z & force\\_trial & missed & order\\_condition & exclude & exclude\\_reason\\\\\n",
       "\t\\hline\n",
       "\t& Int64⍰ & Int64⍰ & Int64⍰ & String⍰ & Int64⍰ & Int64⍰ & Int64⍰ & Float64⍰ & String⍰ & Int64⍰ & Integer & Float64⍰ & Float64⍰ & Int64⍰ & Int64⍰ & Int64⍰ & Int64⍰ & String⍰\\\\\n",
       "\t\\hline\n",
       "\t1 & 1 & 0 & 0 & ../static/images/invador1.png & 4 & 20 & 8 & 2.5 & right & 74 & 2 & 1195.0 & 1.09567 & 1 & 0 & 1 & 0 & do not exclude \\\\\n",
       "\t2 & 1 & 1 & 0 & ../static/images/invador3.png & 1 & 80 & 2 & 40.0 & right & 74 & 2 & 718.0 & -1.04464 & 0 & 0 & 1 & 0 & do not exclude \\\\\n",
       "\t3 & 1 & 2 & 0 & ../static/images/invador2.png & 2 & 20 & 2 & 10.0 & left & 70 & 0 & NaN & NaN & 2 & 1 & 1 & 0 & do not exclude \\\\\n",
       "\t4 & 1 & 3 & 0 & ../static/images/invador4.png & 3 & 80 & 8 & 10.0 & left & 70 & 2 & 933.0 & -0.0799261 & 0 & 0 & 1 & 0 & do not exclude \\\\\n",
       "\t5 & 1 & 4 & 0 & ../static/images/invador3.png & 1 & 80 & 2 & 40.0 & left & 70 & 2 & 750.0 & -0.901051 & 1 & 0 & 1 & 0 & do not exclude \\\\\n",
       "\t6 & 1 & 5 & 0 & ../static/images/invador3.png & 1 & 80 & 2 & 40.0 & right & 74 & 2 & 628.0 & -1.44847 & 0 & 0 & 1 & 0 & do not exclude \\\\\n",
       "\\end{tabular}\n"
      ],
      "text/plain": [
       "6×18 DataFrame. Omitted printing of 14 columns\n",
       "│ Row │ subj   │ trial_index_actual │ block  │ stimulus                      │\n",
       "│     │ \u001b[90mInt64⍰\u001b[39m │ \u001b[90mInt64⍰\u001b[39m             │ \u001b[90mInt64⍰\u001b[39m │ \u001b[90mUnion{Missing, String}\u001b[39m        │\n",
       "├─────┼────────┼────────────────────┼────────┼───────────────────────────────┤\n",
       "│ 1   │ 1      │ 0                  │ 0      │ ../static/images/invador1.png │\n",
       "│ 2   │ 1      │ 1                  │ 0      │ ../static/images/invador3.png │\n",
       "│ 3   │ 1      │ 2                  │ 0      │ ../static/images/invador2.png │\n",
       "│ 4   │ 1      │ 3                  │ 0      │ ../static/images/invador4.png │\n",
       "│ 5   │ 1      │ 4                  │ 0      │ ../static/images/invador3.png │\n",
       "│ 6   │ 1      │ 5                  │ 0      │ ../static/images/invador3.png │"
      ]
     },
     "execution_count": 4,
     "metadata": {},
     "output_type": "execute_result"
    }
   ],
   "source": [
    "\n",
    "# convert approach_avoid to 1s (avoid) and 2s (approach)\n",
    "df[df[:approach_avoid].==1,:approach_avoid] = 2\n",
    "df[df[:approach_avoid].==-1,:approach_avoid] = 1\n",
    "\n",
    "# put 0 for missed responses\n",
    "index_NaN = findall(isnan.(df[:approach_avoid]))\n",
    "df[index_NaN, :approach_avoid] = 0\n",
    "\n",
    "df[:approach_avoid] = convert(Vector{Integer}, df[:approach_avoid])\n",
    "\n",
    "first(df, 6)\n"
   ]
  },
  {
   "cell_type": "markdown",
   "metadata": {},
   "source": [
    "# Symmetric Model\n",
    "\n",
    "This model comprises: \n",
    "\n",
    "1. An intercept which reflects degree of bias to reject.\n",
    "\n",
    "2. A beta (termperature parameter) which controls sensitivity to the difference between the options (0 = pick 50/50. Higher it is, the more sensative subs are tothe different options (more step functionesque). <br>\n",
    "\n",
    "3. One learning rate\n",
    "\n",
    "Uses Q learned average to predict choice\n",
    "\n",
    "Initalise Qaverage in model at the arithmetic average over all subs over both sessions"
   ]
  },
  {
   "cell_type": "code",
   "execution_count": 5,
   "metadata": {},
   "outputs": [],
   "source": [
    "\n",
    "@everywhere function model_symmetric(params, data)\n",
    "    \n",
    "   #model parameters\n",
    "    intercept = params[1]\n",
    "    beta = params[2]\n",
    "    lr_environment = 0.5 .+ 0.5.*erf(params[3]/sqrt(2))\n",
    "    lr_options = 0.5 .+ 0.5.*erf(params[4]/sqrt(2))\n",
    "   \n",
    "    #initalise various variables\n",
    "    Q_estimate = zeros(typeof(beta),1) .+ 7.02 # stores estimated global reward rate\n",
    "    opp_cost_estimate = zeros(typeof(beta),1) # stores estimated opp cost\n",
    "    \n",
    "    Qd = zeros(typeof(beta),2) # decision variable; 1st element is the opp cost of accepting (or value of rejecting), 2nd element is just the reward of the option (value of accepting)\n",
    "\n",
    "    # maintains estimate of the reward for each option (options indexed by rank: 1-4). \n",
    "    Q_options_reward = zeros(typeof(beta),4)\n",
    "    Q_options_delay = zeros(typeof(beta),4)\n",
    "    \n",
    "    lik = 0 #likelihood\n",
    "\n",
    "    #extract various variables from the dataframe\n",
    "    reward = data[:reward_percent]\n",
    "    delay = data[:delay_s]\n",
    "    force = data[:force_trial]  \n",
    "    missed = data[:missed] #missed responses \n",
    "    c = data[:approach_avoid] #choice\n",
    "    option_rank = data[:stim_rank] #option rank \n",
    "\n",
    "    for i = 1:length(c)\n",
    "        \n",
    "            #option presented in current trial\n",
    "            option_index = option_rank[i]\n",
    "           \n",
    "            # decrease estimate of global reward rate for encounter time (2seconds)\n",
    "            Q_estimate = (1-lr_environment) * Q_estimate .+ 0\n",
    "            Q_estimate = (1-lr_environment) * Q_estimate .+ 0\n",
    "        \n",
    "            #calculate estimate of opportunity cost given estimate of reward rate and delay incurred by option \n",
    "            opp_cost_estimate = Q_estimate*Q_options_delay[option_index]\n",
    "        \n",
    "            # if not a force trial predict choice based on current values\n",
    "            if ((force[i]<1) & (missed[i]<1))\n",
    "                        \n",
    "                # decision variable - the estimate of opportunity cost (\"reward\" of rejecting) versus \n",
    "                # reward of the current option (if accepted)\n",
    "                Qd = [intercept, 0] .+ [beta.*opp_cost_estimate[1], beta.*Q_options_reward[option_index]]\n",
    "\n",
    "                # increment likelihood\n",
    "                lik += Qd[c[i]] - log(sum(exp.(Qd)))\n",
    "            \n",
    "            end\n",
    "            \n",
    "            #incur 8second time out for missed response\n",
    "            if (missed[i]==1)\n",
    "                            \n",
    "                for j = 1:8\n",
    "                \n",
    "                     Q_estimate = (1-lr_environment) * Q_estimate .+ 0\n",
    "\n",
    "                end\n",
    "            \n",
    "            end\n",
    "        \n",
    "            # regardless of whether a force trial or not, \n",
    "            # if accept the option, Q_estimate updates and there is a delay incurred\n",
    "            if ((c[i] == 2) & (missed[i]==0))\n",
    "            \n",
    "                for j = 1:delay[i]\n",
    "                \n",
    "                    Q_estimate = (1-lr_environment) * Q_estimate .+ 0\n",
    "                \n",
    "                end\n",
    "            \n",
    "                Q_estimate = (1-lr_environment) * Q_estimate .+ lr_environment*reward[i]\n",
    "            \n",
    "                Q_options_reward[option_index] = (1-lr_options)*Q_options_reward[option_index] .+ lr_options*reward[i]\n",
    "                Q_options_delay[option_index] = (1-lr_options)*Q_options_delay[option_index] .+ lr_options*delay[i]\n",
    "                \n",
    "            end\n",
    "    \n",
    "    end\n",
    "            \n",
    "    # here if running em you can only return the likelihood\n",
    "    return -lik\n",
    "    \n",
    "    \n",
    "end\n"
   ]
  },
  {
   "cell_type": "markdown",
   "metadata": {},
   "source": [
    "# Parameter optimisiation"
   ]
  },
  {
   "cell_type": "markdown",
   "metadata": {},
   "source": [
    "### setup variables for em"
   ]
  },
  {
   "cell_type": "code",
   "execution_count": 6,
   "metadata": {},
   "outputs": [],
   "source": [
    "\n",
    "#store list of actual subject numbers (in subj)\n",
    "subs = unique(df[:subj])\n",
    "\n",
    "#put in a new column called \"sub\" which is identical to subj - em looks for this\n",
    "df[:sub] = df[:subj];\n",
    "\n",
    "NS = length(subs)\n",
    "X = ones(NS)\n",
    "betas = [0. 0. 0. 0.]\n",
    "sigma = [1., 1., 1., 1.];\n"
   ]
  },
  {
   "cell_type": "markdown",
   "metadata": {},
   "source": [
    "### Run em to get best fit parameters for each subject"
   ]
  },
  {
   "cell_type": "code",
   "execution_count": 7,
   "metadata": {},
   "outputs": [
    {
     "data": {
      "text/plain": [
       "140.0157304731092"
      ]
     },
     "execution_count": 7,
     "metadata": {},
     "output_type": "execute_result"
    }
   ],
   "source": [
    "model_symmetric(betas,df[df[:sub].==subs[1],:])"
   ]
  },
  {
   "cell_type": "code",
   "execution_count": 8,
   "metadata": {},
   "outputs": [
    {
     "ename": "CompositeException",
     "evalue": "On worker 3:\nAssertionError(\"isfinite(phi_c) && isfinite(dphi_c)\")\nerror at ./error.jl:42\nmacro expansion at /Users/neil/GitHubRepo/Projects/PreySelection/em/em.jl:92 [inlined]\n#6 at /Users/osx/buildbot/slave/package_osx64/build/usr/share/julia/stdlib/v0.7/Distributed/src/macros.jl:291\n#170 at /Users/osx/buildbot/slave/package_osx64/build/usr/share/julia/stdlib/v0.7/Distributed/src/macros.jl:43\n#109 at /Users/osx/buildbot/slave/package_osx64/build/usr/share/julia/stdlib/v0.7/Distributed/src/process_messages.jl:265\nrun_work_thunk at /Users/osx/buildbot/slave/package_osx64/build/usr/share/julia/stdlib/v0.7/Distributed/src/process_messages.jl:56\nrun_work_thunk at /Users/osx/buildbot/slave/package_osx64/build/usr/share/julia/stdlib/v0.7/Distributed/src/process_messages.jl:65\n#102 at ./task.jl:262\n#remotecall_fetch#149(::Base.Iterators.Pairs{Union{},Union{},Tuple{},NamedTuple{(),Tuple{}}}, ::Function, ::Function, ::Distributed.Worker, ::Distributed.RRID, ::Vararg{Any,N} where N) at /Users/osx/buildbot/slave/package_osx64/build/usr/share/julia/stdlib/v0.7/Distributed/src/remotecall.jl:379\nremotecall_fetch(::Function, ::Distributed.Worker, ::Distributed.RRID, ::Vararg{Any,N} where N) at /Users/osx/buildbot/slave/package_osx64/build/usr/share/julia/stdlib/v0.7/Distributed/src/remotecall.jl:371\n#remotecall_fetch#152(::Base.Iterators.Pairs{Union{},Union{},Tuple{},NamedTuple{(),Tuple{}}}, ::Function, ::Function, ::Int64, ::Distributed.RRID, ::Vararg{Any,N} where N) at /Users/osx/buildbot/slave/package_osx64/build/usr/share/julia/stdlib/v0.7/Distributed/src/remotecall.jl:392\nremotecall_fetch at /Users/osx/buildbot/slave/package_osx64/build/usr/share/julia/stdlib/v0.7/Distributed/src/remotecall.jl:392 [inlined]\ncall_on_owner at /Users/osx/buildbot/slave/package_osx64/build/usr/share/julia/stdlib/v0.7/Distributed/src/remotecall.jl:465 [inlined]\nwait at /Users/osx/buildbot/slave/package_osx64/build/usr/share/julia/stdlib/v0.7/Distributed/src/remotecall.jl:486 [inlined]\n_wait(::Future) at ./task.jl:196\nsync_end(::Array{Any,1}) at ./task.jl:216\nmacro expansion at /Users/osx/buildbot/slave/package_osx64/build/usr/share/julia/stdlib/v0.7/Distributed/src/macros.jl:268 [inlined]\n(::getfield(Distributed, Symbol(\"##169#171\")){getfield(Main, Symbol(\"##6#13\")){DataFrame,Array{Union{Missing, Int64},1},SharedArray{Float64,2},SharedArray{Float64,2},SharedArray{Float64,1},SharedArray{Float64,3},Diagonal{Float64,Array{Float64,1}},typeof(model_symmetric),Array{Float64,2}},UnitRange{Int64}})() at ./task.jl:247",
     "output_type": "error",
     "traceback": [
      "On worker 3:\nAssertionError(\"isfinite(phi_c) && isfinite(dphi_c)\")\nerror at ./error.jl:42\nmacro expansion at /Users/neil/GitHubRepo/Projects/PreySelection/em/em.jl:92 [inlined]\n#6 at /Users/osx/buildbot/slave/package_osx64/build/usr/share/julia/stdlib/v0.7/Distributed/src/macros.jl:291\n#170 at /Users/osx/buildbot/slave/package_osx64/build/usr/share/julia/stdlib/v0.7/Distributed/src/macros.jl:43\n#109 at /Users/osx/buildbot/slave/package_osx64/build/usr/share/julia/stdlib/v0.7/Distributed/src/process_messages.jl:265\nrun_work_thunk at /Users/osx/buildbot/slave/package_osx64/build/usr/share/julia/stdlib/v0.7/Distributed/src/process_messages.jl:56\nrun_work_thunk at /Users/osx/buildbot/slave/package_osx64/build/usr/share/julia/stdlib/v0.7/Distributed/src/process_messages.jl:65\n#102 at ./task.jl:262\n#remotecall_fetch#149(::Base.Iterators.Pairs{Union{},Union{},Tuple{},NamedTuple{(),Tuple{}}}, ::Function, ::Function, ::Distributed.Worker, ::Distributed.RRID, ::Vararg{Any,N} where N) at /Users/osx/buildbot/slave/package_osx64/build/usr/share/julia/stdlib/v0.7/Distributed/src/remotecall.jl:379\nremotecall_fetch(::Function, ::Distributed.Worker, ::Distributed.RRID, ::Vararg{Any,N} where N) at /Users/osx/buildbot/slave/package_osx64/build/usr/share/julia/stdlib/v0.7/Distributed/src/remotecall.jl:371\n#remotecall_fetch#152(::Base.Iterators.Pairs{Union{},Union{},Tuple{},NamedTuple{(),Tuple{}}}, ::Function, ::Function, ::Int64, ::Distributed.RRID, ::Vararg{Any,N} where N) at /Users/osx/buildbot/slave/package_osx64/build/usr/share/julia/stdlib/v0.7/Distributed/src/remotecall.jl:392\nremotecall_fetch at /Users/osx/buildbot/slave/package_osx64/build/usr/share/julia/stdlib/v0.7/Distributed/src/remotecall.jl:392 [inlined]\ncall_on_owner at /Users/osx/buildbot/slave/package_osx64/build/usr/share/julia/stdlib/v0.7/Distributed/src/remotecall.jl:465 [inlined]\nwait at /Users/osx/buildbot/slave/package_osx64/build/usr/share/julia/stdlib/v0.7/Distributed/src/remotecall.jl:486 [inlined]\n_wait(::Future) at ./task.jl:196\nsync_end(::Array{Any,1}) at ./task.jl:216\nmacro expansion at /Users/osx/buildbot/slave/package_osx64/build/usr/share/julia/stdlib/v0.7/Distributed/src/macros.jl:268 [inlined]\n(::getfield(Distributed, Symbol(\"##169#171\")){getfield(Main, Symbol(\"##6#13\")){DataFrame,Array{Union{Missing, Int64},1},SharedArray{Float64,2},SharedArray{Float64,2},SharedArray{Float64,1},SharedArray{Float64,3},Diagonal{Float64,Array{Float64,1}},typeof(model_symmetric),Array{Float64,2}},UnitRange{Int64}})() at ./task.jl:247",
      "",
      "Stacktrace:",
      " [1] sync_end(::Array{Any,1}) at ./task.jl:229",
      " [2] macro expansion at /Users/osx/buildbot/slave/package_osx64/build/usr/share/julia/stdlib/v0.7/Distributed/src/macros.jl:337 [inlined]",
      " [3] macro expansion at ./task.jl:247 [inlined]",
      " [4] #estep#5(::Bool, ::Function, ::DataFrame, ::Array{Union{Missing, Int64},1}, ::SharedArray{Float64,2}, ::SharedArray{Float64,2}, ::SharedArray{Float64,1}, ::SharedArray{Float64,3}, ::Array{Float64,1}, ::Array{Float64,2}, ::Diagonal{Float64,Array{Float64,1}}, ::typeof(model_symmetric)) at /Users/neil/GitHubRepo/Projects/PreySelection/em/em.jl:83",
      " [5] (::getfield(Main, Symbol(\"#kw##estep\")))(::NamedTuple{(:parallel,),Tuple{Bool}}, ::typeof(estep), ::DataFrame, ::Array{Union{Missing, Int64},1}, ::SharedArray{Float64,2}, ::SharedArray{Float64,2}, ::SharedArray{Float64,1}, ::SharedArray{Float64,3}, ::Array{Float64,1}, ::Array{Float64,2}, ::Diagonal{Float64,Array{Float64,1}}, ::typeof(model_symmetric)) at ./none:0",
      " [6] #em#4(::Float64, ::Bool, ::Array{Any,1}, ::Int64, ::Bool, ::Bool, ::Function, ::DataFrame, ::Array{Union{Missing, Int64},1}, ::Array{Float64,1}, ::Array{Float64,2}, ::Diagonal{Float64,Array{Float64,1}}, ::typeof(model_symmetric)) at /Users/neil/GitHubRepo/Projects/PreySelection/em/em.jl:43",
      " [7] (::getfield(Main, Symbol(\"#kw##em\")))(::NamedTuple{(:emtol, :parallel, :startx, :maxiter, :full, :quiet),Tuple{Float64,Bool,Array{Any,1},Int64,Bool,Bool}}, ::typeof(em), ::DataFrame, ::Array{Union{Missing, Int64},1}, ::Array{Float64,1}, ::Array{Float64,2}, ::Diagonal{Float64,Array{Float64,1}}, ::Function) at ./none:0",
      " [8] (::getfield(Main, Symbol(\"#kw##em\")))(::NamedTuple{(:emtol, :parallel, :full),Tuple{Float64,Bool,Bool}}, ::typeof(em), ::DataFrame, ::Array{Union{Missing, Int64},1}, ::Array{Float64,1}, ::Array{Float64,2}, ::Array{Float64,1}, ::Function) at /Users/neil/GitHubRepo/Projects/PreySelection/em/em.jl:9",
      " [9] top-level scope at In[8]:1"
     ]
    }
   ],
   "source": [
    "\n",
    "# run em\n",
    "# x contains the parameters for each subject (note not the same as variable X)\n",
    "# l and h are per-subject likelihood and hessians\n",
    "(betas, sigma, x, l, h) = em(df, subs, X, betas, sigma, model_symmetric; emtol=emtol, parallel=parallel, full=full);\n"
   ]
  },
  {
   "cell_type": "markdown",
   "metadata": {},
   "source": [
    "### Generate Model Statistics \n",
    "(LOOCV)"
   ]
  },
  {
   "cell_type": "code",
   "execution_count": null,
   "metadata": {},
   "outputs": [],
   "source": [
    "\n",
    "#compute unbiased per subject marginal likelihoods via cross validation.\n",
    "liks = loocv(df, subs, x, X, betas, sigma, model_symmetric; emtol=emtol, parallel=parallel, full=full)\n",
    "\n",
    "print(sum(liks))\n"
   ]
  },
  {
   "cell_type": "markdown",
   "metadata": {},
   "source": [
    "### Write loocv scores to csv file and save\n",
    "\n",
    "(if you have run loocv above)"
   ]
  },
  {
   "cell_type": "code",
   "execution_count": null,
   "metadata": {
    "scrolled": true
   },
   "outputs": [],
   "source": [
    "\n",
    "#put loocv scores into dataframe\n",
    "loocv_scores = DataFrame(sub = subs,\n",
    "liks = vec(liks));\n",
    "\n",
    "CSV.write(\"loocv_scores.csv\", DataFrame(loocv_scores))\n"
   ]
  },
  {
   "cell_type": "markdown",
   "metadata": {},
   "source": [
    "### Calculate and write p values, std error and covariance"
   ]
  },
  {
   "cell_type": "code",
   "execution_count": null,
   "metadata": {},
   "outputs": [],
   "source": [
    "\n",
    "# standard errors on the subject-level means, based on an asymptotic Gaussian approx \n",
    "# (these may be inflated esp for small n)\n",
    "(standarderrors, pvalues, covmtx) = emerrors(df, subs, x, X, h, betas, sigma, model_symmetric);\n"
   ]
  },
  {
   "cell_type": "code",
   "execution_count": null,
   "metadata": {},
   "outputs": [],
   "source": [
    "\n",
    "model_stats = DataFrame(stderror = vec(standarderrors),\n",
    "pvalues = vec(pvalues),\n",
    "covmtx_1 = vec(covmtx[:,1]),\n",
    "covmtx_2 = vec(covmtx[:,2]),\n",
    "covmtx_3 = vec(covmtx[:,3]),\n",
    "covmtx_4 = vec(covmtx[:,4]));\n",
    "\n",
    "# save model stats to csv file\n",
    "CSV.write(\"model_stats.csv\", DataFrame(model_stats));\n"
   ]
  },
  {
   "cell_type": "markdown",
   "metadata": {},
   "source": [
    "### Write per subject model parameters to csv files and save"
   ]
  },
  {
   "cell_type": "code",
   "execution_count": null,
   "metadata": {},
   "outputs": [],
   "source": [
    "\n",
    "# put parameters into variable d\n",
    "d=x;\n",
    "\n",
    "# now put parameters into dataframe\n",
    "params = DataFrame(sub = subs,\n",
    "intercept = vec(d[:,1]), \n",
    "beta = vec(d[:,2]),\n",
    "learning_rate_environment_raw = vec(d[:,3]),\n",
    "lr_options_raw = vec(d[:,4]));\n",
    "\n",
    "CSV.write(\"subject_params.csv\", DataFrame(params))\n"
   ]
  }
 ],
 "metadata": {
  "kernelspec": {
   "display_name": "Julia 0.7.0",
   "language": "julia",
   "name": "julia-0.7"
  },
  "language_info": {
   "file_extension": ".jl",
   "mimetype": "application/julia",
   "name": "julia",
   "version": "0.7.0"
  },
  "toc": {
   "base_numbering": 1,
   "nav_menu": {},
   "number_sections": true,
   "sideBar": true,
   "skip_h1_title": false,
   "title_cell": "Table of Contents",
   "title_sidebar": "Contents",
   "toc_cell": false,
   "toc_position": {},
   "toc_section_display": true,
   "toc_window_display": false
  }
 },
 "nbformat": 4,
 "nbformat_minor": 1
}
