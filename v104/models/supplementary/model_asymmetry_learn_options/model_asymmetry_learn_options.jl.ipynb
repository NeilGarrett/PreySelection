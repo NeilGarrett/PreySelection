{
 "cells": [
  {
   "cell_type": "markdown",
   "metadata": {},
   "source": [
    "** Neil Garrett, June 2018 **"
   ]
  },
  {
   "cell_type": "markdown",
   "metadata": {
    "heading_collapsed": true
   },
   "source": [
    "# Start up commands/load relevant functions"
   ]
  },
  {
   "cell_type": "code",
   "execution_count": 1,
   "metadata": {
    "hidden": true
   },
   "outputs": [
    {
     "name": "stderr",
     "output_type": "stream",
     "text": [
      "┌ Warning: Deprecated syntax `(covvar < 0) ? NaN:` at /Users/neil/GitHubRepo/Projects/PreySelection/v104/models/supplementary/model_asymmetry_learn_options/em.jl:288.\n",
      "│ Use `(covvar < 0) ? NaN :` instead.\n",
      "└ @ nothing /Users/neil/GitHubRepo/Projects/PreySelection/v104/models/supplementary/model_asymmetry_learn_options/em.jl:288\n",
      "┌ Warning: Deprecated syntax `(covvar < 0) ? NaN :sqrt` at /Users/neil/GitHubRepo/Projects/PreySelection/v104/models/supplementary/model_asymmetry_learn_options/em.jl:288.\n",
      "│ Use `(covvar < 0) ? NaN : sqrt` instead.\n",
      "└ @ nothing /Users/neil/GitHubRepo/Projects/PreySelection/v104/models/supplementary/model_asymmetry_learn_options/em.jl:288\n",
      "┌ Warning: Deprecated syntax `(diag(covmtx)[i] .< 0) ? NaN:` at /Users/neil/GitHubRepo/Projects/PreySelection/v104/models/supplementary/model_asymmetry_learn_options/em.jl:299.\n",
      "│ Use `(diag(covmtx)[i] .< 0) ? NaN :` instead.\n",
      "└ @ nothing /Users/neil/GitHubRepo/Projects/PreySelection/v104/models/supplementary/model_asymmetry_learn_options/em.jl:299\n",
      "┌ Warning: Deprecated syntax `(diag(covmtx)[i] .< 0) ? NaN :diag` at /Users/neil/GitHubRepo/Projects/PreySelection/v104/models/supplementary/model_asymmetry_learn_options/em.jl:299.\n",
      "│ Use `(diag(covmtx)[i] .< 0) ? NaN : diag` instead.\n",
      "└ @ nothing /Users/neil/GitHubRepo/Projects/PreySelection/v104/models/supplementary/model_asymmetry_learn_options/em.jl:299\n",
      "┌ Warning: Deprecated syntax `(covvar < 0) ? NaN:` at /Users/neil/GitHubRepo/Projects/PreySelection/v104/models/supplementary/model_asymmetry_learn_options/em.jl:288.\n",
      "│ Use `(covvar < 0) ? NaN :` instead.\n",
      "└ @ ~/GitHubRepo/Projects/PreySelection/v104/models/supplementary/model_asymmetry_learn_options/em.jl:288\n",
      "┌ Warning: Deprecated syntax `(covvar < 0) ? NaN :sqrt` at /Users/neil/GitHubRepo/Projects/PreySelection/v104/models/supplementary/model_asymmetry_learn_options/em.jl:288.\n",
      "│ Use `(covvar < 0) ? NaN : sqrt` instead.\n",
      "└ @ ~/GitHubRepo/Projects/PreySelection/v104/models/supplementary/model_asymmetry_learn_options/em.jl:288\n",
      "┌ Warning: Deprecated syntax `(diag(covmtx)[i] .< 0) ? NaN:` at /Users/neil/GitHubRepo/Projects/PreySelection/v104/models/supplementary/model_asymmetry_learn_options/em.jl:299.\n",
      "│ Use `(diag(covmtx)[i] .< 0) ? NaN :` instead.\n",
      "└ @ ~/GitHubRepo/Projects/PreySelection/v104/models/supplementary/model_asymmetry_learn_options/em.jl:299\n",
      "┌ Warning: Deprecated syntax `(diag(covmtx)[i] .< 0) ? NaN :diag` at /Users/neil/GitHubRepo/Projects/PreySelection/v104/models/supplementary/model_asymmetry_learn_options/em.jl:299.\n",
      "│ Use `(diag(covmtx)[i] .< 0) ? NaN : diag` instead.\n",
      "└ @ ~/GitHubRepo/Projects/PreySelection/v104/models/supplementary/model_asymmetry_learn_options/em.jl:299\n",
      "┌ Warning: Deprecated syntax `(covvar < 0) ? NaN:` at /Users/neil/GitHubRepo/Projects/PreySelection/v104/models/supplementary/model_asymmetry_learn_options/em.jl:288.\n",
      "│ Use `(covvar < 0) ? NaN :` instead.\n",
      "└ @ ~/GitHubRepo/Projects/PreySelection/v104/models/supplementary/model_asymmetry_learn_options/em.jl:288\n",
      "┌ Warning: Deprecated syntax `(covvar < 0) ? NaN :sqrt` at /Users/neil/GitHubRepo/Projects/PreySelection/v104/models/supplementary/model_asymmetry_learn_options/em.jl:288.\n",
      "│ Use `(covvar < 0) ? NaN : sqrt` instead.\n",
      "└ @ ~/GitHubRepo/Projects/PreySelection/v104/models/supplementary/model_asymmetry_learn_options/em.jl:288\n",
      "┌ Warning: Deprecated syntax `(covvar < 0) ? NaN:` at /Users/neil/GitHubRepo/Projects/PreySelection/v104/models/supplementary/model_asymmetry_learn_options/em.jl:288.\n",
      "│ Use `(covvar < 0) ? NaN :` instead.\n",
      "└ @ ~/GitHubRepo/Projects/PreySelection/v104/models/supplementary/model_asymmetry_learn_options/em.jl:288\n",
      "┌ Warning: Deprecated syntax `(covvar < 0) ? NaN :sqrt` at /Users/neil/GitHubRepo/Projects/PreySelection/v104/models/supplementary/model_asymmetry_learn_options/em.jl:288.\n",
      "│ Use `(covvar < 0) ? NaN : sqrt` instead.\n",
      "└ @ ~/GitHubRepo/Projects/PreySelection/v104/models/supplementary/model_asymmetry_learn_options/em.jl:288\n",
      "┌ Warning: Deprecated syntax `(diag(covmtx)[i] .< 0) ? NaN:` at /Users/neil/GitHubRepo/Projects/PreySelection/v104/models/supplementary/model_asymmetry_learn_options/em.jl:299.\n",
      "│ Use `(diag(covmtx)[i] .< 0) ? NaN :` instead.\n",
      "└ @ ~/GitHubRepo/Projects/PreySelection/v104/models/supplementary/model_asymmetry_learn_options/em.jl:299\n",
      "┌ Warning: Deprecated syntax `(diag(covmtx)[i] .< 0) ? NaN:` at /Users/neil/GitHubRepo/Projects/PreySelection/v104/models/supplementary/model_asymmetry_learn_options/em.jl:299.\n",
      "│ Use `(diag(covmtx)[i] .< 0) ? NaN :` instead.\n",
      "└ @ ~/GitHubRepo/Projects/PreySelection/v104/models/supplementary/model_asymmetry_learn_options/em.jl:299\n",
      "┌ Warning: Deprecated syntax `(diag(covmtx)[i] .< 0) ? NaN :diag` at /Users/neil/GitHubRepo/Projects/PreySelection/v104/models/supplementary/model_asymmetry_learn_options/em.jl:299.\n",
      "│ Use `(diag(covmtx)[i] .< 0) ? NaN : diag` instead.\n",
      "└ @ ~/GitHubRepo/Projects/PreySelection/v104/models/supplementary/model_asymmetry_learn_options/em.jl:299\n",
      "┌ Warning: Deprecated syntax `(diag(covmtx)[i] .< 0) ? NaN :diag` at /Users/neil/GitHubRepo/Projects/PreySelection/v104/models/supplementary/model_asymmetry_learn_options/em.jl:299.\n",
      "│ Use `(diag(covmtx)[i] .< 0) ? NaN : diag` instead.\n",
      "└ @ ~/GitHubRepo/Projects/PreySelection/v104/models/supplementary/model_asymmetry_learn_options/em.jl:299\n",
      "┌ Warning: Deprecated syntax `(covvar < 0) ? NaN:` at /Users/neil/GitHubRepo/Projects/PreySelection/v104/models/supplementary/model_asymmetry_learn_options/em.jl:288.\n",
      "│ Use `(covvar < 0) ? NaN :` instead.\n",
      "└ @ ~/GitHubRepo/Projects/PreySelection/v104/models/supplementary/model_asymmetry_learn_options/em.jl:288\n",
      "┌ Warning: Deprecated syntax `(covvar < 0) ? NaN :sqrt` at /Users/neil/GitHubRepo/Projects/PreySelection/v104/models/supplementary/model_asymmetry_learn_options/em.jl:288.\n",
      "│ Use `(covvar < 0) ? NaN : sqrt` instead.\n",
      "└ @ ~/GitHubRepo/Projects/PreySelection/v104/models/supplementary/model_asymmetry_learn_options/em.jl:288\n",
      "┌ Warning: Deprecated syntax `(diag(covmtx)[i] .< 0) ? NaN:` at /Users/neil/GitHubRepo/Projects/PreySelection/v104/models/supplementary/model_asymmetry_learn_options/em.jl:299.\n",
      "│ Use `(diag(covmtx)[i] .< 0) ? NaN :` instead.\n",
      "└ @ ~/GitHubRepo/Projects/PreySelection/v104/models/supplementary/model_asymmetry_learn_options/em.jl:299\n",
      "┌ Warning: Deprecated syntax `(diag(covmtx)[i] .< 0) ? NaN :diag` at /Users/neil/GitHubRepo/Projects/PreySelection/v104/models/supplementary/model_asymmetry_learn_options/em.jl:299.\n",
      "│ Use `(diag(covmtx)[i] .< 0) ? NaN : diag` instead.\n",
      "└ @ ~/GitHubRepo/Projects/PreySelection/v104/models/supplementary/model_asymmetry_learn_options/em.jl:299\n",
      "┌ Warning: `@parallel` is deprecated, use `@distributed` instead.\n",
      "│   caller = include at boot.jl:317 [inlined]\n",
      "└ @ Core ./boot.jl:317\n",
      "┌ Warning: `@parallel` is deprecated, use `@distributed` instead.\n",
      "│   caller = include at boot.jl:317 [inlined]\n",
      "└ @ Core ./boot.jl:317\n",
      "┌ Warning: `@parallel` is deprecated, use `@distributed` instead.\n",
      "│   caller = include at boot.jl:317 [inlined]\n",
      "└ @ Core ./boot.jl:317\n",
      "┌ Warning: `@parallel` is deprecated, use `@distributed` instead.\n",
      "│   caller = include at boot.jl:317 [inlined]\n",
      "└ @ Core ./boot.jl:317\n",
      "┌ Warning: `@parallel` is deprecated, use `@distributed` instead.\n",
      "│   caller = include at boot.jl:317 [inlined]\n",
      "└ @ Core ./boot.jl:317\n",
      "┌ Warning: Deprecated syntax `any(x -> begin\n",
      "│     # /Users/neil/GitHubRepo/Projects/PreySelection/v104/models/supplementary/model_asymmetry_learn_options/common.jl, line 66\n",
      "│     isa(x, Array)\n",
      "│ end, a)?` at /Users/neil/GitHubRepo/Projects/PreySelection/v104/models/supplementary/model_asymmetry_learn_options/common.jl:66.\n",
      "│ Use `any(x -> begin\n",
      "│     # /Users/neil/GitHubRepo/Projects/PreySelection/v104/models/supplementary/model_asymmetry_learn_options/common.jl, line 66\n",
      "│     isa(x, Array)\n",
      "│ end, a) ?` instead.\n",
      "└ @ nothing /Users/neil/GitHubRepo/Projects/PreySelection/v104/models/supplementary/model_asymmetry_learn_options/common.jl:66\n",
      "┌ Warning: Deprecated syntax `any(x -> begin\n",
      "│     # /Users/neil/GitHubRepo/Projects/PreySelection/v104/models/supplementary/model_asymmetry_learn_options/common.jl, line 66\n",
      "│     isa(x, Array)\n",
      "│ end, a)?` at /Users/neil/GitHubRepo/Projects/PreySelection/v104/models/supplementary/model_asymmetry_learn_options/common.jl:66.\n",
      "│ Use `any(x -> begin\n",
      "│     # /Users/neil/GitHubRepo/Projects/PreySelection/v104/models/supplementary/model_asymmetry_learn_options/common.jl, line 66\n",
      "│     isa(x, Array)\n",
      "│ end, a) ?` instead.\n",
      "└ @ ~/GitHubRepo/Projects/PreySelection/v104/models/supplementary/model_asymmetry_learn_options/common.jl:66\n",
      "┌ Warning: Deprecated syntax `any(x -> begin\n",
      "│     # /Users/neil/GitHubRepo/Projects/PreySelection/v104/models/supplementary/model_asymmetry_learn_options/common.jl, line 66\n",
      "│     isa(x, Array)\n",
      "│ end, a)?` at /Users/neil/GitHubRepo/Projects/PreySelection/v104/models/supplementary/model_asymmetry_learn_options/common.jl:66.\n",
      "│ Use `any(x -> begin\n",
      "│     # /Users/neil/GitHubRepo/Projects/PreySelection/v104/models/supplementary/model_asymmetry_learn_options/common.jl, line 66\n",
      "│     isa(x, Array)\n",
      "│ end, a) ?` instead.\n",
      "└ @ ~/GitHubRepo/Projects/PreySelection/v104/models/supplementary/model_asymmetry_learn_options/common.jl:66\n",
      "┌ Warning: Deprecated syntax `any(x -> begin\n",
      "│     # /Users/neil/GitHubRepo/Projects/PreySelection/v104/models/supplementary/model_asymmetry_learn_options/common.jl, line 66\n",
      "│     isa(x, Array)\n",
      "│ end, a) ? flatten(vcat(map(flatten, a)...)):` at /Users/neil/GitHubRepo/Projects/PreySelection/v104/models/supplementary/model_asymmetry_learn_options/common.jl:66.\n",
      "│ Use `any(x -> begin\n",
      "│     # /Users/neil/GitHubRepo/Projects/PreySelection/v104/models/supplementary/model_asymmetry_learn_options/common.jl, line 66\n",
      "│     isa(x, Array)\n",
      "│ end, a) ? flatten(vcat(map(flatten, a)...)) :` instead.\n",
      "└ @ nothing /Users/neil/GitHubRepo/Projects/PreySelection/v104/models/supplementary/model_asymmetry_learn_options/common.jl:66\n",
      "┌ Warning: Deprecated syntax `any(x -> begin\n",
      "│     # /Users/neil/GitHubRepo/Projects/PreySelection/v104/models/supplementary/model_asymmetry_learn_options/common.jl, line 66\n",
      "│     isa(x, Array)\n",
      "│ end, a) ? flatten(vcat(map(flatten, a)...)):` at /Users/neil/GitHubRepo/Projects/PreySelection/v104/models/supplementary/model_asymmetry_learn_options/common.jl:66.\n",
      "│ Use `any(x -> begin\n",
      "│     # /Users/neil/GitHubRepo/Projects/PreySelection/v104/models/supplementary/model_asymmetry_learn_options/common.jl, line 66\n",
      "│     isa(x, Array)\n",
      "│ end, a) ? flatten(vcat(map(flatten, a)...)) :` instead.\n",
      "└ @ ~/GitHubRepo/Projects/PreySelection/v104/models/supplementary/model_asymmetry_learn_options/common.jl:66\n",
      "┌ Warning: Deprecated syntax `any(x -> begin\n",
      "│     # /Users/neil/GitHubRepo/Projects/PreySelection/v104/models/supplementary/model_asymmetry_learn_options/common.jl, line 66\n",
      "│     isa(x, Array)\n",
      "│ end, a) ? flatten(vcat(map(flatten, a)...)):` at /Users/neil/GitHubRepo/Projects/PreySelection/v104/models/supplementary/model_asymmetry_learn_options/common.jl:66.\n",
      "│ Use `any(x -> begin\n",
      "│     # /Users/neil/GitHubRepo/Projects/PreySelection/v104/models/supplementary/model_asymmetry_learn_options/common.jl, line 66\n",
      "│     isa(x, Array)\n",
      "│ end, a) ? flatten(vcat(map(flatten, a)...)) :` instead.\n",
      "└ @ ~/GitHubRepo/Projects/PreySelection/v104/models/supplementary/model_asymmetry_learn_options/common.jl:66\n",
      "┌ Warning: Deprecated syntax `any(x -> begin\n",
      "│     # /Users/neil/GitHubRepo/Projects/PreySelection/v104/models/supplementary/model_asymmetry_learn_options/common.jl, line 66\n",
      "│     isa(x, Array)\n",
      "│ end, a)?` at /Users/neil/GitHubRepo/Projects/PreySelection/v104/models/supplementary/model_asymmetry_learn_options/common.jl:66.\n",
      "│ Use `any(x -> begin\n",
      "│     # /Users/neil/GitHubRepo/Projects/PreySelection/v104/models/supplementary/model_asymmetry_learn_options/common.jl, line 66\n",
      "│     isa(x, Array)\n",
      "│ end, a) ?` instead.\n",
      "└ @ ~/GitHubRepo/Projects/PreySelection/v104/models/supplementary/model_asymmetry_learn_options/common.jl:66\n",
      "┌ Warning: Deprecated syntax `any(x -> begin\n",
      "│     # /Users/neil/GitHubRepo/Projects/PreySelection/v104/models/supplementary/model_asymmetry_learn_options/common.jl, line 66\n",
      "│     isa(x, Array)\n",
      "│ end, a) ? flatten(vcat(map(flatten, a)...)):` at /Users/neil/GitHubRepo/Projects/PreySelection/v104/models/supplementary/model_asymmetry_learn_options/common.jl:66.\n",
      "│ Use `any(x -> begin\n",
      "│     # /Users/neil/GitHubRepo/Projects/PreySelection/v104/models/supplementary/model_asymmetry_learn_options/common.jl, line 66\n",
      "│     isa(x, Array)\n",
      "│ end, a) ? flatten(vcat(map(flatten, a)...)) :` instead.\n",
      "└ @ ~/GitHubRepo/Projects/PreySelection/v104/models/supplementary/model_asymmetry_learn_options/common.jl:66\n",
      "┌ Warning: Deprecated syntax `parametric method syntax flatten{T}(a::Array{T, 1})` around /Users/neil/GitHubRepo/Projects/PreySelection/v104/models/supplementary/model_asymmetry_learn_options/common.jl:66.\n",
      "│ Use `flatten(a::Array{T, 1}) where T` instead.\n",
      "└ @ nothing /Users/neil/GitHubRepo/Projects/PreySelection/v104/models/supplementary/model_asymmetry_learn_options/common.jl:66\n",
      "┌ Warning: Deprecated syntax `parametric method syntax flatten{T}(a::Array{T, 1})` around /Users/neil/GitHubRepo/Projects/PreySelection/v104/models/supplementary/model_asymmetry_learn_options/common.jl:66.\n",
      "│ Use `flatten(a::Array{T, 1}) where T` instead.\n",
      "└ @ ~/GitHubRepo/Projects/PreySelection/v104/models/supplementary/model_asymmetry_learn_options/common.jl:66\n",
      "┌ Warning: Deprecated syntax `parametric method syntax flatten{T}(a::Array{T})` around /Users/neil/GitHubRepo/Projects/PreySelection/v104/models/supplementary/model_asymmetry_learn_options/common.jl:67.\n",
      "│ Use `flatten(a::Array{T}) where T` instead.\n",
      "└ @ nothing /Users/neil/GitHubRepo/Projects/PreySelection/v104/models/supplementary/model_asymmetry_learn_options/common.jl:67\n",
      "┌ Warning: Deprecated syntax `parametric method syntax flatten{T}(a::Array{T, 1})` around /Users/neil/GitHubRepo/Projects/PreySelection/v104/models/supplementary/model_asymmetry_learn_options/common.jl:66.\n",
      "│ Use `flatten(a::Array{T, 1}) where T` instead.\n",
      "└ @ ~/GitHubRepo/Projects/PreySelection/v104/models/supplementary/model_asymmetry_learn_options/common.jl:66\n",
      "┌ Warning: Deprecated syntax `parametric method syntax flatten{T}(a::Array{T})` around /Users/neil/GitHubRepo/Projects/PreySelection/v104/models/supplementary/model_asymmetry_learn_options/common.jl:67.\n",
      "│ Use `flatten(a::Array{T}) where T` instead.\n",
      "└ @ ~/GitHubRepo/Projects/PreySelection/v104/models/supplementary/model_asymmetry_learn_options/common.jl:67\n",
      "┌ Warning: Deprecated syntax `parametric method syntax flatten{T}(a::Array{T})` around /Users/neil/GitHubRepo/Projects/PreySelection/v104/models/supplementary/model_asymmetry_learn_options/common.jl:67.\n",
      "│ Use `flatten(a::Array{T}) where T` instead.\n",
      "└ @ ~/GitHubRepo/Projects/PreySelection/v104/models/supplementary/model_asymmetry_learn_options/common.jl:67\n",
      "┌ Warning: Deprecated syntax `parametric method syntax flatten{T}(a::Array{T, 1})` around /Users/neil/GitHubRepo/Projects/PreySelection/v104/models/supplementary/model_asymmetry_learn_options/common.jl:66.\n",
      "│ Use `flatten(a::Array{T, 1}) where T` instead.\n",
      "└ @ ~/GitHubRepo/Projects/PreySelection/v104/models/supplementary/model_asymmetry_learn_options/common.jl:66\n",
      "┌ Warning: Deprecated syntax `parametric method syntax flatten{T}(a::Array{T})` around /Users/neil/GitHubRepo/Projects/PreySelection/v104/models/supplementary/model_asymmetry_learn_options/common.jl:67.\n",
      "│ Use `flatten(a::Array{T}) where T` instead.\n",
      "└ @ ~/GitHubRepo/Projects/PreySelection/v104/models/supplementary/model_asymmetry_learn_options/common.jl:67\n",
      "┌ Warning: Deprecated syntax `any(x -> begin\n",
      "│     # /Users/neil/GitHubRepo/Projects/PreySelection/v104/models/supplementary/model_asymmetry_learn_options/common.jl, line 66\n",
      "│     isa(x, Array)\n",
      "│ end, a)?` at /Users/neil/GitHubRepo/Projects/PreySelection/v104/models/supplementary/model_asymmetry_learn_options/common.jl:66.\n",
      "│ Use `any(x -> begin\n",
      "│     # /Users/neil/GitHubRepo/Projects/PreySelection/v104/models/supplementary/model_asymmetry_learn_options/common.jl, line 66\n",
      "│     isa(x, Array)\n",
      "│ end, a) ?` instead.\n",
      "└ @ ~/GitHubRepo/Projects/PreySelection/v104/models/supplementary/model_asymmetry_learn_options/common.jl:66\n",
      "┌ Warning: Deprecated syntax `any(x -> begin\n",
      "│     # /Users/neil/GitHubRepo/Projects/PreySelection/v104/models/supplementary/model_asymmetry_learn_options/common.jl, line 66\n",
      "│     isa(x, Array)\n",
      "│ end, a) ? flatten(vcat(map(flatten, a)...)):` at /Users/neil/GitHubRepo/Projects/PreySelection/v104/models/supplementary/model_asymmetry_learn_options/common.jl:66.\n",
      "│ Use `any(x -> begin\n",
      "│     # /Users/neil/GitHubRepo/Projects/PreySelection/v104/models/supplementary/model_asymmetry_learn_options/common.jl, line 66\n",
      "│     isa(x, Array)\n",
      "│ end, a) ? flatten(vcat(map(flatten, a)...)) :` instead.\n",
      "└ @ ~/GitHubRepo/Projects/PreySelection/v104/models/supplementary/model_asymmetry_learn_options/common.jl:66\n",
      "┌ Warning: Deprecated syntax `parametric method syntax flatten{T}(a::Array{T, 1})` around /Users/neil/GitHubRepo/Projects/PreySelection/v104/models/supplementary/model_asymmetry_learn_options/common.jl:66.\n",
      "│ Use `flatten(a::Array{T, 1}) where T` instead.\n",
      "└ @ ~/GitHubRepo/Projects/PreySelection/v104/models/supplementary/model_asymmetry_learn_options/common.jl:66\n",
      "┌ Warning: Deprecated syntax `parametric method syntax flatten{T}(a::Array{T})` around /Users/neil/GitHubRepo/Projects/PreySelection/v104/models/supplementary/model_asymmetry_learn_options/common.jl:67.\n",
      "│ Use `flatten(a::Array{T}) where T` instead.\n",
      "└ @ ~/GitHubRepo/Projects/PreySelection/v104/models/supplementary/model_asymmetry_learn_options/common.jl:67\n"
     ]
    },
    {
     "name": "stderr",
     "output_type": "stream",
     "text": [
      "┌ Warning: Deprecated syntax `try without catch or finally` at /Users/neil/GitHubRepo/Projects/PreySelection/v104/models/supplementary/model_asymmetry_learn_options/genVars.jl:17.\n",
      "└ @ ~/GitHubRepo/Projects/PreySelection/v104/models/supplementary/model_asymmetry_learn_options/genVars.jl:17\n",
      "┌ Warning: Deprecated syntax `try without catch or finally` at /Users/neil/GitHubRepo/Projects/PreySelection/v104/models/supplementary/model_asymmetry_learn_options/genVars.jl:17.\n",
      "└ @ ~/GitHubRepo/Projects/PreySelection/v104/models/supplementary/model_asymmetry_learn_options/genVars.jl:17\n",
      "┌ Warning: Deprecated syntax `try without catch or finally` at /Users/neil/GitHubRepo/Projects/PreySelection/v104/models/supplementary/model_asymmetry_learn_options/genVars.jl:17.\n",
      "└ @ ~/GitHubRepo/Projects/PreySelection/v104/models/supplementary/model_asymmetry_learn_options/genVars.jl:17\n",
      "┌ Warning: Deprecated syntax `try without catch or finally` at /Users/neil/GitHubRepo/Projects/PreySelection/v104/models/supplementary/model_asymmetry_learn_options/genVars.jl:17.\n",
      "└ @ nothing /Users/neil/GitHubRepo/Projects/PreySelection/v104/models/supplementary/model_asymmetry_learn_options/genVars.jl:17\n",
      "┌ Warning: Deprecated syntax `try without catch or finally` at /Users/neil/GitHubRepo/Projects/PreySelection/v104/models/supplementary/model_asymmetry_learn_options/genVars.jl:17.\n",
      "└ @ ~/GitHubRepo/Projects/PreySelection/v104/models/supplementary/model_asymmetry_learn_options/genVars.jl:17\n"
     ]
    }
   ],
   "source": [
    "# load required libraries\n",
    "using Distributed\n",
    "\n",
    "# # set everything up\n",
    "parallel = true # Run on multiple CPUs. \n",
    "\n",
    "# this activates the multiprocessing threads\n",
    "if (parallel)\n",
    "\t# only run this once\n",
    "    addprocs(4)\n",
    "end\n",
    "\n",
    "# load required libraries\n",
    "\n",
    "@everywhere using DataFrames\n",
    "#using DataArrays\n",
    "@everywhere using ForwardDiff\n",
    "@everywhere using PyCall\n",
    "@everywhere using Distributions\n",
    "@everywhere using PyPlot\n",
    "@everywhere using CSV\n",
    "@everywhere using SpecialFunctions\n",
    "@everywhere using SharedArrays\n",
    "@everywhere using LinearAlgebra\n",
    "\n",
    "@everywhere PyCall.@pyimport scipy.optimize as so\n",
    "\n",
    "# this is the code for the actual fitting routines\n",
    "@everywhere include(\"em.jl\")\n",
    "@everywhere include(\"common.jl\")\n",
    "@everywhere include(\"likfuns.jl\")\n",
    "\n",
    "# this is generates starting matricies for betas, sigmas etc to feed into model\n",
    "@everywhere include(\"genVars.jl\")"
   ]
  },
  {
   "cell_type": "markdown",
   "metadata": {
    "heading_collapsed": true
   },
   "source": [
    "# Data read and process"
   ]
  },
  {
   "cell_type": "markdown",
   "metadata": {
    "hidden": true
   },
   "source": [
    "### Read in trial by trial data"
   ]
  },
  {
   "cell_type": "code",
   "execution_count": 2,
   "metadata": {
    "hidden": true
   },
   "outputs": [
    {
     "name": "stderr",
     "output_type": "stream",
     "text": [
      "┌ Warning: readtable is deprecated, use CSV.read from the CSV package instead\n",
      "│   caller = top-level scope at In[2]:1\n",
      "└ @ Core In[2]:1\n"
     ]
    },
    {
     "data": {
      "text/html": [
       "<table class=\"data-frame\"><thead><tr><th></th><th>subj</th><th>trial_index_actual</th><th>block</th><th>stimulus</th><th>stim_rank</th><th>reward_percent</th><th>delay_s</th><th>profitability</th><th>stim_left_right</th><th>key_press</th><th>approach_avoid</th><th>rt</th><th>rt_z</th><th>force_trial</th><th>missed</th><th>order_condition</th><th>exclude</th><th>exclude_reason</th></tr><tr><th></th><th>Int64⍰</th><th>Int64⍰</th><th>Int64⍰</th><th>String⍰</th><th>Int64⍰</th><th>Int64⍰</th><th>Int64⍰</th><th>Float64⍰</th><th>String⍰</th><th>Int64⍰</th><th>Float64⍰</th><th>Float64⍰</th><th>Float64⍰</th><th>Int64⍰</th><th>Int64⍰</th><th>Int64⍰</th><th>Int64⍰</th><th>String⍰</th></tr></thead><tbody><tr><th>1</th><td>1</td><td>0</td><td>0</td><td>../static/images/invador3.png</td><td>3</td><td>80</td><td>8</td><td>10.0</td><td>right</td><td>70</td><td>-1.0</td><td>1299.0</td><td>2.41977</td><td>2</td><td>0</td><td>1</td><td>1</td><td>poor behaviour</td></tr><tr><th>2</th><td>1</td><td>1</td><td>0</td><td>../static/images/invador1.png</td><td>1</td><td>80</td><td>2</td><td>40.0</td><td>left</td><td>70</td><td>1.0</td><td>1256.0</td><td>2.13807</td><td>0</td><td>0</td><td>1</td><td>1</td><td>poor behaviour</td></tr><tr><th>3</th><td>1</td><td>2</td><td>0</td><td>../static/images/invador1.png</td><td>1</td><td>80</td><td>2</td><td>40.0</td><td>right</td><td>74</td><td>1.0</td><td>923.0</td><td>-0.0434644</td><td>0</td><td>0</td><td>1</td><td>1</td><td>poor behaviour</td></tr><tr><th>4</th><td>1</td><td>3</td><td>0</td><td>../static/images/invador1.png</td><td>1</td><td>80</td><td>2</td><td>40.0</td><td>right</td><td>74</td><td>1.0</td><td>1005.0</td><td>0.49373</td><td>0</td><td>0</td><td>1</td><td>1</td><td>poor behaviour</td></tr><tr><th>5</th><td>1</td><td>4</td><td>0</td><td>../static/images/invador1.png</td><td>1</td><td>80</td><td>2</td><td>40.0</td><td>right</td><td>74</td><td>1.0</td><td>914.0</td><td>-0.102425</td><td>1</td><td>0</td><td>1</td><td>1</td><td>poor behaviour</td></tr><tr><th>6</th><td>1</td><td>5</td><td>0</td><td>../static/images/invador2.png</td><td>2</td><td>20</td><td>2</td><td>10.0</td><td>left</td><td>74</td><td>-1.0</td><td>969.0</td><td>0.257889</td><td>2</td><td>0</td><td>1</td><td>1</td><td>poor behaviour</td></tr></tbody></table>"
      ],
      "text/latex": [
       "\\begin{tabular}{r|cccccccccccccccccc}\n",
       "\t& subj & trial\\_index\\_actual & block & stimulus & stim\\_rank & reward\\_percent & delay\\_s & profitability & stim\\_left\\_right & key\\_press & approach\\_avoid & rt & rt\\_z & force\\_trial & missed & order\\_condition & exclude & exclude\\_reason\\\\\n",
       "\t\\hline\n",
       "\t1 & 1 & 0 & 0 & ../static/images/invador3.png & 3 & 80 & 8 & 10.0 & right & 70 & -1.0 & 1299.0 & 2.41977 & 2 & 0 & 1 & 1 & poor behaviour \\\\\n",
       "\t2 & 1 & 1 & 0 & ../static/images/invador1.png & 1 & 80 & 2 & 40.0 & left & 70 & 1.0 & 1256.0 & 2.13807 & 0 & 0 & 1 & 1 & poor behaviour \\\\\n",
       "\t3 & 1 & 2 & 0 & ../static/images/invador1.png & 1 & 80 & 2 & 40.0 & right & 74 & 1.0 & 923.0 & -0.0434644 & 0 & 0 & 1 & 1 & poor behaviour \\\\\n",
       "\t4 & 1 & 3 & 0 & ../static/images/invador1.png & 1 & 80 & 2 & 40.0 & right & 74 & 1.0 & 1005.0 & 0.49373 & 0 & 0 & 1 & 1 & poor behaviour \\\\\n",
       "\t5 & 1 & 4 & 0 & ../static/images/invador1.png & 1 & 80 & 2 & 40.0 & right & 74 & 1.0 & 914.0 & -0.102425 & 1 & 0 & 1 & 1 & poor behaviour \\\\\n",
       "\t6 & 1 & 5 & 0 & ../static/images/invador2.png & 2 & 20 & 2 & 10.0 & left & 74 & -1.0 & 969.0 & 0.257889 & 2 & 0 & 1 & 1 & poor behaviour \\\\\n",
       "\\end{tabular}\n"
      ],
      "text/plain": [
       "6×18 DataFrame. Omitted printing of 14 columns\n",
       "│ Row │ subj   │ trial_index_actual │ block  │ stimulus                      │\n",
       "│     │ \u001b[90mInt64⍰\u001b[39m │ \u001b[90mInt64⍰\u001b[39m             │ \u001b[90mInt64⍰\u001b[39m │ \u001b[90mUnion{Missing, String}\u001b[39m        │\n",
       "├─────┼────────┼────────────────────┼────────┼───────────────────────────────┤\n",
       "│ 1   │ 1      │ 0                  │ 0      │ ../static/images/invador3.png │\n",
       "│ 2   │ 1      │ 1                  │ 0      │ ../static/images/invador1.png │\n",
       "│ 3   │ 1      │ 2                  │ 0      │ ../static/images/invador1.png │\n",
       "│ 4   │ 1      │ 3                  │ 0      │ ../static/images/invador1.png │\n",
       "│ 5   │ 1      │ 4                  │ 0      │ ../static/images/invador1.png │\n",
       "│ 6   │ 1      │ 5                  │ 0      │ ../static/images/invador2.png │"
      ]
     },
     "execution_count": 2,
     "metadata": {},
     "output_type": "execute_result"
    }
   ],
   "source": [
    "#read in csv file of the data\n",
    "#trial by trial data: note will include force trials and missed responses\n",
    "df = readtable(\"/Users/neil/GitHubRepo/Projects/PreySelection/v104/data/trialdata_104_processed.csv\")\n",
    "\n",
    "#display header\n",
    "head(df)\n"
   ]
  },
  {
   "cell_type": "markdown",
   "metadata": {
    "hidden": true
   },
   "source": [
    "### Append data with the column \"sub\" \n"
   ]
  },
  {
   "cell_type": "code",
   "execution_count": 3,
   "metadata": {
    "collapsed": true,
    "hidden": true
   },
   "outputs": [],
   "source": [
    "#this is just a replica of the existing column sub_no but think em looks for \"sub\" specifically\n",
    "df[:sub] = df[:subj];\n"
   ]
  },
  {
   "cell_type": "markdown",
   "metadata": {
    "hidden": true
   },
   "source": [
    "### Get rid of excluded subs"
   ]
  },
  {
   "cell_type": "code",
   "execution_count": 4,
   "metadata": {
    "collapsed": true,
    "hidden": true
   },
   "outputs": [],
   "source": [
    "df = df[df[:exclude].==0,:];\n"
   ]
  },
  {
   "cell_type": "markdown",
   "metadata": {
    "hidden": true
   },
   "source": [
    "### Convert approach avoid to 2s and 1s , missed as 0. Then convert to integers (necessary to use as an index)"
   ]
  },
  {
   "cell_type": "code",
   "execution_count": 5,
   "metadata": {
    "hidden": true
   },
   "outputs": [
    {
     "name": "stderr",
     "output_type": "stream",
     "text": [
      "┌ Warning: `find(A::AbstractVector)` is deprecated, use `findall(A)` instead.\n",
      "│   caller = top-level scope at In[5]:4\n",
      "└ @ Core In[5]:4\n"
     ]
    },
    {
     "data": {
      "text/html": [
       "<table class=\"data-frame\"><thead><tr><th></th><th>subj</th><th>trial_index_actual</th><th>block</th><th>stimulus</th><th>stim_rank</th><th>reward_percent</th><th>delay_s</th><th>profitability</th><th>stim_left_right</th><th>key_press</th><th>approach_avoid</th><th>rt</th><th>rt_z</th><th>force_trial</th><th>missed</th><th>order_condition</th><th>exclude</th><th>exclude_reason</th><th>sub</th></tr><tr><th></th><th>Int64⍰</th><th>Int64⍰</th><th>Int64⍰</th><th>String⍰</th><th>Int64⍰</th><th>Int64⍰</th><th>Int64⍰</th><th>Float64⍰</th><th>String⍰</th><th>Int64⍰</th><th>Integer</th><th>Float64⍰</th><th>Float64⍰</th><th>Int64⍰</th><th>Int64⍰</th><th>Int64⍰</th><th>Int64⍰</th><th>String⍰</th><th>Int64⍰</th></tr></thead><tbody><tr><th>1</th><td>2</td><td>0</td><td>1</td><td>../static/images/invador1.png</td><td>4</td><td>20</td><td>8</td><td>2.5</td><td>right</td><td>74</td><td>2</td><td>1253.0</td><td>1.13279</td><td>0</td><td>0</td><td>2</td><td>0</td><td>do not exclude</td><td>2</td></tr><tr><th>2</th><td>2</td><td>1</td><td>1</td><td>../static/images/invador1.png</td><td>4</td><td>20</td><td>8</td><td>2.5</td><td>right</td><td>-1</td><td>0</td><td>NaN</td><td>NaN</td><td>0</td><td>1</td><td>2</td><td>0</td><td>do not exclude</td><td>2</td></tr><tr><th>3</th><td>2</td><td>2</td><td>1</td><td>../static/images/invador3.png</td><td>2</td><td>20</td><td>2</td><td>10.0</td><td>right</td><td>74</td><td>2</td><td>1185.0</td><td>0.859417</td><td>0</td><td>0</td><td>2</td><td>0</td><td>do not exclude</td><td>2</td></tr><tr><th>4</th><td>2</td><td>3</td><td>1</td><td>../static/images/invador4.png</td><td>1</td><td>80</td><td>2</td><td>40.0</td><td>left</td><td>70</td><td>2</td><td>1148.0</td><td>0.710668</td><td>0</td><td>0</td><td>2</td><td>0</td><td>do not exclude</td><td>2</td></tr><tr><th>5</th><td>2</td><td>4</td><td>1</td><td>../static/images/invador1.png</td><td>4</td><td>20</td><td>8</td><td>2.5</td><td>right</td><td>70</td><td>1</td><td>1156.0</td><td>0.74283</td><td>2</td><td>0</td><td>2</td><td>0</td><td>do not exclude</td><td>2</td></tr><tr><th>6</th><td>2</td><td>5</td><td>1</td><td>../static/images/invador1.png</td><td>4</td><td>20</td><td>8</td><td>2.5</td><td>left</td><td>70</td><td>0</td><td>NaN</td><td>NaN</td><td>0</td><td>1</td><td>2</td><td>0</td><td>do not exclude</td><td>2</td></tr></tbody></table>"
      ],
      "text/latex": [
       "\\begin{tabular}{r|ccccccccccccccccccc}\n",
       "\t& subj & trial\\_index\\_actual & block & stimulus & stim\\_rank & reward\\_percent & delay\\_s & profitability & stim\\_left\\_right & key\\_press & approach\\_avoid & rt & rt\\_z & force\\_trial & missed & order\\_condition & exclude & exclude\\_reason & sub\\\\\n",
       "\t\\hline\n",
       "\t1 & 2 & 0 & 1 & ../static/images/invador1.png & 4 & 20 & 8 & 2.5 & right & 74 & 2 & 1253.0 & 1.13279 & 0 & 0 & 2 & 0 & do not exclude & 2 \\\\\n",
       "\t2 & 2 & 1 & 1 & ../static/images/invador1.png & 4 & 20 & 8 & 2.5 & right & -1 & 0 & NaN & NaN & 0 & 1 & 2 & 0 & do not exclude & 2 \\\\\n",
       "\t3 & 2 & 2 & 1 & ../static/images/invador3.png & 2 & 20 & 2 & 10.0 & right & 74 & 2 & 1185.0 & 0.859417 & 0 & 0 & 2 & 0 & do not exclude & 2 \\\\\n",
       "\t4 & 2 & 3 & 1 & ../static/images/invador4.png & 1 & 80 & 2 & 40.0 & left & 70 & 2 & 1148.0 & 0.710668 & 0 & 0 & 2 & 0 & do not exclude & 2 \\\\\n",
       "\t5 & 2 & 4 & 1 & ../static/images/invador1.png & 4 & 20 & 8 & 2.5 & right & 70 & 1 & 1156.0 & 0.74283 & 2 & 0 & 2 & 0 & do not exclude & 2 \\\\\n",
       "\t6 & 2 & 5 & 1 & ../static/images/invador1.png & 4 & 20 & 8 & 2.5 & left & 70 & 0 & NaN & NaN & 0 & 1 & 2 & 0 & do not exclude & 2 \\\\\n",
       "\\end{tabular}\n"
      ],
      "text/plain": [
       "6×19 DataFrame. Omitted printing of 15 columns\n",
       "│ Row │ subj   │ trial_index_actual │ block  │ stimulus                      │\n",
       "│     │ \u001b[90mInt64⍰\u001b[39m │ \u001b[90mInt64⍰\u001b[39m             │ \u001b[90mInt64⍰\u001b[39m │ \u001b[90mUnion{Missing, String}\u001b[39m        │\n",
       "├─────┼────────┼────────────────────┼────────┼───────────────────────────────┤\n",
       "│ 1   │ 2      │ 0                  │ 1      │ ../static/images/invador1.png │\n",
       "│ 2   │ 2      │ 1                  │ 1      │ ../static/images/invador1.png │\n",
       "│ 3   │ 2      │ 2                  │ 1      │ ../static/images/invador3.png │\n",
       "│ 4   │ 2      │ 3                  │ 1      │ ../static/images/invador4.png │\n",
       "│ 5   │ 2      │ 4                  │ 1      │ ../static/images/invador1.png │\n",
       "│ 6   │ 2      │ 5                  │ 1      │ ../static/images/invador1.png │"
      ]
     },
     "execution_count": 5,
     "metadata": {},
     "output_type": "execute_result"
    }
   ],
   "source": [
    "#convert approach_avoid to 1s (avoid) and 2s (approach)\n",
    "df[df[:approach_avoid].==1,:approach_avoid] = 2\n",
    "df[df[:approach_avoid].==-1,:approach_avoid] = 1\n",
    "\n",
    "index_NaN = find(isnan.(df[:approach_avoid]))\n",
    "df[index_NaN, :approach_avoid] = 0\n",
    "\n",
    "df[:approach_avoid] = convert(Vector{Integer}, df[:approach_avoid])\n",
    "\n",
    "head(df)\n"
   ]
  },
  {
   "cell_type": "markdown",
   "metadata": {
    "hidden": true
   },
   "source": [
    "### Read in summary stats"
   ]
  },
  {
   "cell_type": "code",
   "execution_count": 6,
   "metadata": {
    "hidden": true
   },
   "outputs": [
    {
     "name": "stderr",
     "output_type": "stream",
     "text": [
      "┌ Warning: readtable is deprecated, use CSV.read from the CSV package instead\n",
      "│   caller = top-level scope at In[6]:1\n",
      "└ @ Core In[6]:1\n"
     ]
    },
    {
     "data": {
      "text/html": [
       "<table class=\"data-frame\"><thead><tr><th></th><th>MturkID</th><th>AssignID</th><th>sub_no</th><th>age</th><th>gender</th><th>n_trials</th><th>n_force_wrong</th><th>n_missed</th><th>bonus_payment</th><th>percent_accept_A1</th><th>percent_accept_A2</th><th>percent_accept_A3</th><th>percent_accept_A4</th><th>percent_accept_A2_A3</th><th>percent_accept_B1</th><th>percent_accept_B2</th><th>percent_accept_B3</th><th>percent_accept_B4</th><th>percent_accept_B2_B3</th><th>percent_accept_B1_min_A1</th><th>percent_accept_B2_min_A2</th><th>percent_accept_B3_min_A3</th><th>percent_accept_B4_min_A4</th><th>percent_accept_B2_B3_min_A2_A3</th><th>percent_accept_AB1</th><th>percent_accept_AB2</th><th>percent_accept_AB3</th><th>percent_accept_AB4</th><th>percent_accept_AB2_AB3</th><th>exclude</th><th>exclude_reason</th><th>order_condition</th><th>comment</th></tr><tr><th></th><th>String⍰</th><th>String⍰</th><th>Int64⍰</th><th>Int64⍰</th><th>String⍰</th><th>Int64⍰</th><th>Int64⍰</th><th>Int64⍰</th><th>Float64⍰</th><th>Float64⍰</th><th>Float64⍰</th><th>Float64⍰</th><th>Float64⍰</th><th>Float64⍰</th><th>Float64⍰</th><th>Float64⍰</th><th>Float64⍰</th><th>Float64⍰</th><th>Float64⍰</th><th>Float64⍰</th><th>Float64⍰</th><th>Float64⍰</th><th>Float64⍰</th><th>Float64⍰</th><th>Float64⍰</th><th>Float64⍰</th><th>Float64⍰</th><th>Float64⍰</th><th>Float64⍰</th><th>Int64⍰</th><th>String⍰</th><th>Int64⍰</th><th>String⍰</th></tr></thead><tbody><tr><th>1</th><td>AA4KKLIU4C3NY</td><td>3YDGXNSEOZUCKHRBBCHD5KZ8AU0483</td><td>1</td><td>42</td><td>male</td><td>170</td><td>6</td><td>14</td><td>2.4</td><td>0.977273</td><td>1.0</td><td>1.0</td><td>1.0</td><td>1.0</td><td>1.0</td><td>1.0</td><td>1.0</td><td>1.0</td><td>1.0</td><td>0.0227273</td><td>0.0</td><td>0.0</td><td>0.0</td><td>0.0</td><td>0.98</td><td>1.0</td><td>1.0</td><td>1.0</td><td>1.0</td><td>1</td><td>poor behaviour</td><td>1</td><td>It was fun and interesting.  Thank you!</td></tr><tr><th>2</th><td>ASPRULQHB8B1F</td><td>3YW4XOSQKQLTQF15RXZG3EAUV1HU1V</td><td>2</td><td>32</td><td>Male</td><td>318</td><td>3</td><td>5</td><td>2.8</td><td>1.0</td><td>0.0</td><td>0.0833333</td><td>0.0</td><td>0.037037</td><td>1.0</td><td>0.0588235</td><td>0.8</td><td>0.0166667</td><td>0.40625</td><td>0.0</td><td>0.0588235</td><td>0.716667</td><td>0.0166667</td><td>0.369213</td><td>1.0</td><td>0.03125</td><td>0.481481</td><td>0.0126582</td><td>0.237288</td><td>0</td><td>do not exclude</td><td>2</td><td></td></tr><tr><th>3</th><td>A1W8B7P1WVD7TX</td><td>3L6L49WXW0XTXZ89DEAAT0PH84Z451</td><td>3</td><td>20</td><td>p</td><td>308</td><td>4</td><td>11</td><td>2.6</td><td>1.0</td><td>0.533333</td><td>0.214286</td><td>0.142857</td><td>0.37931</td><td>1.0</td><td>1.0</td><td>0.0625</td><td>0.0133333</td><td>0.516129</td><td>0.0</td><td>0.466667</td><td>-0.151786</td><td>-0.129524</td><td>0.136819</td><td>1.0</td><td>0.766667</td><td>0.133333</td><td>0.0337079</td><td>0.45</td><td>0</td><td>do not exclude</td><td>1</td><td></td></tr><tr><th>4</th><td>A1XA3QOXDTGCDL</td><td>3VSOLARPKB9RGQRHGQI8VB2DG0693W</td><td>4</td><td>27</td><td>f</td><td>276</td><td>0</td><td>0</td><td>2.7</td><td>1.0</td><td>1.0</td><td>0.0</td><td>0.0</td><td>0.5</td><td>1.0</td><td>1.0</td><td>0.933333</td><td>0.037037</td><td>0.961538</td><td>0.0</td><td>0.0</td><td>0.933333</td><td>0.037037</td><td>0.461538</td><td>1.0</td><td>1.0</td><td>0.466667</td><td>0.0294118</td><td>0.714286</td><td>0</td><td>do not exclude</td><td>2</td><td>this was a lot of fun!!!!</td></tr><tr><th>5</th><td>A10QZA83T80YA3</td><td>3UXUOQ9OKEXNMS29A8ZY4NPDRK37A7</td><td>5</td><td>29</td><td>f</td><td>266</td><td>1</td><td>2</td><td>2.7</td><td>1.0</td><td>1.0</td><td>0.5</td><td>0.181818</td><td>0.777778</td><td>0.866667</td><td>1.0</td><td>1.0</td><td>0.157895</td><td>1.0</td><td>-0.133333</td><td>0.0</td><td>0.5</td><td>-0.0239234</td><td>0.222222</td><td>0.969697</td><td>1.0</td><td>0.76</td><td>0.161765</td><td>0.896552</td><td>0</td><td>do not exclude</td><td>2</td><td></td></tr><tr><th>6</th><td>A3RQN5RZD1N2KP</td><td>3M23Y66PO278IOAY8YGXJ9JNJLCS6O</td><td>6</td><td>45</td><td>f</td><td>291</td><td>0</td><td>1</td><td>2.8</td><td>1.0</td><td>0.0588235</td><td>0.1</td><td>0.1875</td><td>0.0810811</td><td>1.0</td><td>1.0</td><td>1.0</td><td>0.0181818</td><td>1.0</td><td>0.0</td><td>0.941176</td><td>0.9</td><td>-0.169318</td><td>0.918919</td><td>1.0</td><td>0.466667</td><td>0.485714</td><td>0.056338</td><td>0.476923</td><td>0</td><td>do not exclude</td><td>1</td><td>It was a lot of fun and I'd love to do more like this.</td></tr></tbody></table>"
      ],
      "text/latex": [
       "\\begin{tabular}{r|ccccccccccccccccccccccccccccccccc}\n",
       "\t& MturkID & AssignID & sub\\_no & age & gender & n\\_trials & n\\_force\\_wrong & n\\_missed & bonus\\_payment & percent\\_accept\\_A1 & percent\\_accept\\_A2 & percent\\_accept\\_A3 & percent\\_accept\\_A4 & percent\\_accept\\_A2\\_A3 & percent\\_accept\\_B1 & percent\\_accept\\_B2 & percent\\_accept\\_B3 & percent\\_accept\\_B4 & percent\\_accept\\_B2\\_B3 & percent\\_accept\\_B1\\_min\\_A1 & percent\\_accept\\_B2\\_min\\_A2 & percent\\_accept\\_B3\\_min\\_A3 & percent\\_accept\\_B4\\_min\\_A4 & percent\\_accept\\_B2\\_B3\\_min\\_A2\\_A3 & percent\\_accept\\_AB1 & percent\\_accept\\_AB2 & percent\\_accept\\_AB3 & percent\\_accept\\_AB4 & percent\\_accept\\_AB2\\_AB3 & exclude & exclude\\_reason & order\\_condition & comment\\\\\n",
       "\t\\hline\n",
       "\t1 & AA4KKLIU4C3NY & 3YDGXNSEOZUCKHRBBCHD5KZ8AU0483 & 1 & 42 & male & 170 & 6 & 14 & 2.4 & 0.977273 & 1.0 & 1.0 & 1.0 & 1.0 & 1.0 & 1.0 & 1.0 & 1.0 & 1.0 & 0.0227273 & 0.0 & 0.0 & 0.0 & 0.0 & 0.98 & 1.0 & 1.0 & 1.0 & 1.0 & 1 & poor behaviour & 1 & It was fun and interesting.  Thank you! \\\\\n",
       "\t2 & ASPRULQHB8B1F & 3YW4XOSQKQLTQF15RXZG3EAUV1HU1V & 2 & 32 & Male & 318 & 3 & 5 & 2.8 & 1.0 & 0.0 & 0.0833333 & 0.0 & 0.037037 & 1.0 & 0.0588235 & 0.8 & 0.0166667 & 0.40625 & 0.0 & 0.0588235 & 0.716667 & 0.0166667 & 0.369213 & 1.0 & 0.03125 & 0.481481 & 0.0126582 & 0.237288 & 0 & do not exclude & 2 &  \\\\\n",
       "\t3 & A1W8B7P1WVD7TX & 3L6L49WXW0XTXZ89DEAAT0PH84Z451 & 3 & 20 & p & 308 & 4 & 11 & 2.6 & 1.0 & 0.533333 & 0.214286 & 0.142857 & 0.37931 & 1.0 & 1.0 & 0.0625 & 0.0133333 & 0.516129 & 0.0 & 0.466667 & -0.151786 & -0.129524 & 0.136819 & 1.0 & 0.766667 & 0.133333 & 0.0337079 & 0.45 & 0 & do not exclude & 1 &  \\\\\n",
       "\t4 & A1XA3QOXDTGCDL & 3VSOLARPKB9RGQRHGQI8VB2DG0693W & 4 & 27 & f & 276 & 0 & 0 & 2.7 & 1.0 & 1.0 & 0.0 & 0.0 & 0.5 & 1.0 & 1.0 & 0.933333 & 0.037037 & 0.961538 & 0.0 & 0.0 & 0.933333 & 0.037037 & 0.461538 & 1.0 & 1.0 & 0.466667 & 0.0294118 & 0.714286 & 0 & do not exclude & 2 & this was a lot of fun!!!! \\\\\n",
       "\t5 & A10QZA83T80YA3 & 3UXUOQ9OKEXNMS29A8ZY4NPDRK37A7 & 5 & 29 & f & 266 & 1 & 2 & 2.7 & 1.0 & 1.0 & 0.5 & 0.181818 & 0.777778 & 0.866667 & 1.0 & 1.0 & 0.157895 & 1.0 & -0.133333 & 0.0 & 0.5 & -0.0239234 & 0.222222 & 0.969697 & 1.0 & 0.76 & 0.161765 & 0.896552 & 0 & do not exclude & 2 &  \\\\\n",
       "\t6 & A3RQN5RZD1N2KP & 3M23Y66PO278IOAY8YGXJ9JNJLCS6O & 6 & 45 & f & 291 & 0 & 1 & 2.8 & 1.0 & 0.0588235 & 0.1 & 0.1875 & 0.0810811 & 1.0 & 1.0 & 1.0 & 0.0181818 & 1.0 & 0.0 & 0.941176 & 0.9 & -0.169318 & 0.918919 & 1.0 & 0.466667 & 0.485714 & 0.056338 & 0.476923 & 0 & do not exclude & 1 & It was a lot of fun and I'd love to do more like this. \\\\\n",
       "\\end{tabular}\n"
      ],
      "text/plain": [
       "6×33 DataFrame. Omitted printing of 29 columns\n",
       "│ Row │ MturkID        │ AssignID                       │ sub_no │ age    │\n",
       "│     │ \u001b[90mString⍰\u001b[39m        │ \u001b[90mUnion{Missing, String}\u001b[39m         │ \u001b[90mInt64⍰\u001b[39m │ \u001b[90mInt64⍰\u001b[39m │\n",
       "├─────┼────────────────┼────────────────────────────────┼────────┼────────┤\n",
       "│ 1   │ AA4KKLIU4C3NY  │ 3YDGXNSEOZUCKHRBBCHD5KZ8AU0483 │ 1      │ 42     │\n",
       "│ 2   │ ASPRULQHB8B1F  │ 3YW4XOSQKQLTQF15RXZG3EAUV1HU1V │ 2      │ 32     │\n",
       "│ 3   │ A1W8B7P1WVD7TX │ 3L6L49WXW0XTXZ89DEAAT0PH84Z451 │ 3      │ 20     │\n",
       "│ 4   │ A1XA3QOXDTGCDL │ 3VSOLARPKB9RGQRHGQI8VB2DG0693W │ 4      │ 27     │\n",
       "│ 5   │ A10QZA83T80YA3 │ 3UXUOQ9OKEXNMS29A8ZY4NPDRK37A7 │ 5      │ 29     │\n",
       "│ 6   │ A3RQN5RZD1N2KP │ 3M23Y66PO278IOAY8YGXJ9JNJLCS6O │ 6      │ 45     │"
      ]
     },
     "execution_count": 6,
     "metadata": {},
     "output_type": "execute_result"
    }
   ],
   "source": [
    "summary_stats = readtable(\"/Users/neil/GitHubRepo/Projects/PreySelection/v104/data/subdata_104.csv\")\n",
    "head(summary_stats)"
   ]
  },
  {
   "cell_type": "markdown",
   "metadata": {
    "hidden": true
   },
   "source": [
    "### Get rid of excluded subs"
   ]
  },
  {
   "cell_type": "code",
   "execution_count": 7,
   "metadata": {
    "collapsed": true,
    "hidden": true
   },
   "outputs": [],
   "source": [
    "summary_stats = summary_stats[summary_stats[:exclude].==0,:];\n"
   ]
  },
  {
   "cell_type": "markdown",
   "metadata": {
    "hidden": true
   },
   "source": [
    "### Get rid of Mturk ID etc (first 3 columns)"
   ]
  },
  {
   "cell_type": "code",
   "execution_count": 8,
   "metadata": {
    "hidden": true
   },
   "outputs": [
    {
     "name": "stderr",
     "output_type": "stream",
     "text": [
      "┌ Warning: indexing with colon as row will create a copy in the future use df[col_inds] to get the columns without copying\n",
      "│   caller = top-level scope at In[8]:1\n",
      "└ @ Core In[8]:1\n"
     ]
    }
   ],
   "source": [
    "summary_stats = summary_stats[:,4:end];"
   ]
  },
  {
   "cell_type": "markdown",
   "metadata": {
    "heading_collapsed": true
   },
   "source": [
    "# Asymmetry Model Learn Options\n",
    "\n",
    "This model comprises: \n",
    "\n",
    "1. An intercept which reflects degree of bias to reject.\n",
    "\n",
    "2. A beta (termperature parameter) which controls sensitivity to the difference between the options (0 = pick 50/50. Higher it is, the more sensative subs are tothe different options (more step functionesque). <br>\n",
    "\n",
    "3. Two learning rates: one for appetative component (reward), one for aversive (delay) for average reward rate\n",
    "\n",
    "4. Seperate learning rate for learning the value of the options (no longer assume they know this)\n",
    "\n",
    "Uses Q learned average to predict choice\n",
    "\n",
    "Initalise Qaverage in model at the arithmetic average over all subs over both sessions"
   ]
  },
  {
   "cell_type": "code",
   "execution_count": 9,
   "metadata": {
    "collapsed": true,
    "hidden": true
   },
   "outputs": [],
   "source": [
    "@everywhere function model_asymmetry_learn_options(params, data)\n",
    "     \n",
    "    #model parameters\n",
    "    intercept = params[1]\n",
    "    beta = params[2]\n",
    "    lr_environment_reward = 0.5 .+ 0.5.*erf(params[3]/sqrt(2))\n",
    "    lr_environment_delay = 0.5 .+ 0.5.*erf(params[4]/sqrt(2))\n",
    "    lr_options = 0.5 .+ 0.5.*erf(params[5]/sqrt(2))\n",
    "   \n",
    "    \n",
    "    #initalise various variables\n",
    "    delay_sum = zeros(typeof(beta),1)\n",
    "    reward_sum = zeros(typeof(beta),1)\n",
    "    Q_arithmetic = zeros(typeof(beta),1) # stores actual (arithmetic) average reward rate\n",
    "    opp_cost_arithmetic = zeros(typeof(beta),1) # stores actual (arithmetic) opp cost\n",
    "    Q_estimate = zeros(typeof(beta),1) .+ 7.77 # stores estimated global reward rate\n",
    "    opp_cost_estimate = zeros(typeof(beta),1) # stores estimated opp cost\n",
    "    \n",
    "    Qd = zeros(typeof(beta),2) # decision variable; 1st element is the opp cost of accepting (or value of rejecting), 2nd element is just the reward of the option (value of accepting)\n",
    "\n",
    "    # maintains estimate of the reward for each option (options indexed by rank: 1-4). \n",
    "    Q_options_reward = zeros(typeof(beta),4)\n",
    "    Q_options_delay = zeros(typeof(beta),4)\n",
    "    \n",
    "    lik = 0 #likelihood\n",
    "\n",
    "    #these store new trial by trial values (e.g. Q estimate on each trial etc.)\n",
    "    reward_sum_store = [];\n",
    "    delay_sum_store = [];\n",
    "    Q_arithmetic_store = [];\n",
    "    opp_cost_arithmetic_store  = []; \n",
    "    Q_estimate_store = [];\n",
    "    opp_cost_estimate_store = [];\n",
    "\n",
    "    #extract various variables from the dataframe\n",
    "    reward = data[:reward_percent]\n",
    "    delay = data[:delay_s]\n",
    "    force = data[:force_trial]  \n",
    "    missed = data[:missed] #missed responses \n",
    "    c = data[:approach_avoid] #choice\n",
    "    option_rank = data[:stim_rank] #option rank \n",
    "\n",
    "    for i = 1:length(c)\n",
    "        \n",
    "            #option presented in current trial\n",
    "            option_index = option_rank[i]\n",
    "        \n",
    "            # 2 seconds without reward on each trial regadless of accept/reject\n",
    "            delay_sum .+= 2;\n",
    "         \n",
    "            # calculate current (arithmetic) reward per second from number of seconds elapsed and reward accured\n",
    "            Q_arithmetic = reward_sum./delay_sum\n",
    "            opp_cost_arithmetic = Q_arithmetic*delay[i]\n",
    "           \n",
    "            # decrease estimate of global reward rate for encounter time (2seconds)\n",
    "            Q_estimate = (1-lr_environment_delay) * Q_estimate .+ 0\n",
    "            Q_estimate = (1-lr_environment_delay) * Q_estimate .+ 0\n",
    "        \n",
    "            #calculate estimate of opportunity cost given estimate of reward rate and delay incurred by option \n",
    "            opp_cost_estimate = Q_estimate*Q_options_delay[option_index]\n",
    "        \n",
    "            #add trial by trial values \n",
    "            append!(reward_sum_store, reward_sum)\n",
    "            append!(delay_sum_store, delay_sum)\n",
    "            append!(Q_arithmetic_store, Q_arithmetic)\n",
    "            append!(opp_cost_arithmetic_store, opp_cost_arithmetic)\n",
    "            append!(Q_estimate_store, Q_estimate)\n",
    "            append!(opp_cost_estimate_store, opp_cost_estimate)\n",
    "        \n",
    "            # if not a force trial predict choice based on current values\n",
    "            if ((force[i]<1) & (missed[i]<1))\n",
    "                        \n",
    "                # decision variable - the estimate of opportunity cost (\"reward\" of rejecting) versus \n",
    "                # reward of the current option (if accepted)\n",
    "                Qd = [intercept, 0] .+ [beta.*opp_cost_estimate[1], beta.*Q_options_reward[option_index]]\n",
    "\n",
    "                # increment likelihood\n",
    "                lik += Qd[c[i]] - log(sum(exp.(Qd)))\n",
    "            \n",
    "            end\n",
    "            \n",
    "            #incur 8second time out for missed response\n",
    "            if (missed[i]==1)\n",
    "                \n",
    "                delay_sum .+= 8\n",
    "            \n",
    "                for j = 1:8\n",
    "                \n",
    "                     Q_estimate = (1-lr_environment_delay) * Q_estimate .+ 0\n",
    "\n",
    "                end\n",
    "            \n",
    "            end\n",
    "        \n",
    "            # regardless of whether a force trial or not, \n",
    "            # if accept the option, Q_estimate updates and there is a delay incurred\n",
    "            if ((c[i] == 2) & (missed[i]==0))\n",
    "                \n",
    "                delay_sum .+= delay[i]\n",
    "                reward_sum .+= reward[i]\n",
    "            \n",
    "                for j = 1:delay[i]\n",
    "                \n",
    "                    Q_estimate = (1-lr_environment_delay) * Q_estimate .+ 0\n",
    "                \n",
    "                end\n",
    "            \n",
    "                    Q_estimate = (1-lr_environment_reward) * Q_estimate .+ lr_environment_reward*reward[i]\n",
    "            \n",
    "                Q_options_reward[option_index] = (1-lr_options)*Q_options_reward[option_index] .+ lr_options*reward[i]\n",
    "                Q_options_delay[option_index] = (1-lr_options)*Q_options_delay[option_index] .+ lr_options*delay[i]\n",
    "                \n",
    "            end\n",
    "    \n",
    "    end\n",
    "    \n",
    "    # compile trial by trial values here\n",
    "    trial_data = DataFrame(reward_sum = reward_sum_store,\n",
    "            delay_sum = delay_sum_store,\n",
    "            Q_arithmetic = Q_arithmetic_store,\n",
    "            opp_cost_arithmetic = opp_cost_arithmetic_store,\n",
    "            Q_estimate = Q_estimate_store,\n",
    "            opp_cost_estimate = opp_cost_estimate_store)\n",
    "    \n",
    "    # here if running em you can only return the likelihood\n",
    "    return -lik\n",
    "    \n",
    "    # but if you run in order to extract trials, subs etc then want to return this\n",
    "    #return (-lik, trial_data)\n",
    "    \n",
    "end\n"
   ]
  },
  {
   "cell_type": "markdown",
   "metadata": {
    "heading_collapsed": true
   },
   "source": [
    "# Parameter optimisiation"
   ]
  },
  {
   "cell_type": "markdown",
   "metadata": {
    "hidden": true
   },
   "source": [
    "### Run model for one subject\n",
    "\n",
    "aids debugging"
   ]
  },
  {
   "cell_type": "code",
   "execution_count": 10,
   "metadata": {
    "hidden": true
   },
   "outputs": [
    {
     "data": {
      "text/plain": [
       "155.26496844542802"
      ]
     },
     "execution_count": 10,
     "metadata": {},
     "output_type": "execute_result"
    }
   ],
   "source": [
    "# initialize parameter structures\n",
    "(df, subs, X, betas, sigma) = genVars(df, 5);\n",
    "\n",
    "# run model for sub 1\n",
    "model_asymmetry_learn_options(betas,df[df[:sub].==subs[1],:])\n"
   ]
  },
  {
   "cell_type": "markdown",
   "metadata": {
    "hidden": true
   },
   "source": [
    "### Run em to get best fit parameters for each subject"
   ]
  },
  {
   "cell_type": "code",
   "execution_count": 11,
   "metadata": {
    "hidden": true
   },
   "outputs": [
    {
     "name": "stdout",
     "output_type": "stream",
     "text": [
      "\n",
      "iter: 46\n",
      "betas: [-1.47, 0.12, -2.6, -2.95, -0.4]\n",
      "sigma: [3.83 -0.01 -0.08 0.35 -0.68; -0.01 0.0 -0.0 -0.0 -0.03; -0.08 -0.0 0.28 0.25 0.13; 0.35 -0.0 0.25 0.3 -0.03; -0.68 -0.03 0.13 -0.03 0.79]\n",
      "change: [-1.6e-5, 7.0e-6, -1.5e-5, -5.1e-5, -0.000167, 8.0e-6, -0.000264, -7.9e-5, 0.000515, -9.0e-5, 0.000105, -0.000296, -0.001501, -4.6e-5, 0.000393, 0.000658, 0.000297, 0.000931, -0.000821, 0.000116]\n",
      "max: 0.000931\n",
      "632.080968 seconds (41.73 M allocations: 1.624 GiB, 0.57% gc time)\n"
     ]
    }
   ],
   "source": [
    "# initialized parameter structures (again)\n",
    "# note that some of the variables (e.g. betas, sigma) are entered and returned by em function \n",
    "(df, subs, X, betas, sigma) = genVars(df, 5);\n",
    "\n",
    "# run for full learner\n",
    "# x contains the parameters for each subject (note not the same as variable X)\n",
    "# l and h are per-subject likelihood and hessians\n",
    "@time (betas, sigma, x, l, h) = em(df, subs, X, betas, sigma, model_asymmetry_learn_options; emtol=1e-3, parallel=true, full=true, quiet=false);\n"
   ]
  },
  {
   "cell_type": "markdown",
   "metadata": {
    "hidden": true
   },
   "source": [
    "### Generate Model Statistics \n",
    "(IAIC, IBIC, LOOCV)"
   ]
  },
  {
   "cell_type": "code",
   "execution_count": 12,
   "metadata": {
    "hidden": true
   },
   "outputs": [
    {
     "name": "stdout",
     "output_type": "stream",
     "text": [
      "Subject: 1..2..3..4..5..6..7..8..9..10..11..12..13..14..15..16..17..18..19..20..21..22..Warning: sigma has negative determinant\n",
      "23..24..25..26..27..28..29..30..31..32..33..34..35..36..37..38.."
     ]
    },
    {
     "data": {
      "text/plain": [
       "38-element Array{Float64,1}:\n",
       " 30.214057457921687\n",
       " 49.240552855091636\n",
       " 15.425420747178501\n",
       " 61.05713233303091 \n",
       " 51.781916174383085\n",
       " 41.84439221406264 \n",
       " 64.01454024444129 \n",
       " 54.022498838202296\n",
       " 51.68156972129242 \n",
       " 31.616149411579393\n",
       " 62.29077016348722 \n",
       " 15.974583016061123\n",
       " 49.08373645232666 \n",
       "  ⋮                \n",
       " 84.82846095151749 \n",
       " 70.72353917788526 \n",
       " 66.22156971587395 \n",
       " 42.16853393071707 \n",
       " 76.52530846651749 \n",
       " 37.79601094377676 \n",
       " 37.04831405409473 \n",
       " 22.664967183269184\n",
       " 50.41178457810248 \n",
       " 30.424072507570628\n",
       " 45.482443442316494\n",
       " 37.25337752171355 "
      ]
     },
     "execution_count": 12,
     "metadata": {},
     "output_type": "execute_result"
    }
   ],
   "source": [
    "## model selection/comparison/scoring\n",
    "\n",
    "# laplace approximation to the aggregate log marginal likelihood of the whole dataset\n",
    "# marginalized over the individual params\n",
    "\n",
    "aggll = lml(x,l,h)\n",
    "\n",
    "# to compare this between models you need to correct for the group-level free parameters\n",
    "# either aic or bic\n",
    "\n",
    "aggll_ibic = ibic(x,l,h,betas,sigma,nrow(df))\n",
    "aggll_iaic = iaic(x,l,h,betas,sigma)\n",
    "\n",
    "# or you can compute unbiased per subject marginal likelihoods via subject-level cross validation\n",
    "# you can do paired t tests on these between models\n",
    "# these are also appropriate for SPM_BMS etc\n",
    "\n",
    "# takes ages so comment in when want to run, otherwise just use IAIC above\n",
    "liks = loocv(df, subs, x, X, betas, sigma, model_asymmetry_learn_options; emtol=1e-3, parallel=true, full=true)\n",
    "#aggll_loo = sum(liks)\n",
    "\n",
    "#println(\"\\n\\nraw nll:  $aggll\\nibic nll: $aggll_ibic\\niaic nll: $aggll_iaic\\nloo nll:  $aggll_loo\")\n",
    "#println(\"\\n\\nraw nll:  $aggll\\nibic nll: $aggll_ibic\\niaic nll:\")\n",
    "#print(aggll_iaic)\n"
   ]
  },
  {
   "cell_type": "markdown",
   "metadata": {
    "hidden": true
   },
   "source": [
    "### Write loocv scores to csv file\n",
    "\n",
    "(if you have run loocv above)"
   ]
  },
  {
   "cell_type": "code",
   "execution_count": 13,
   "metadata": {
    "collapsed": true,
    "hidden": true,
    "scrolled": true
   },
   "outputs": [],
   "source": [
    "# put loocv scores into dataframe\n",
    "loocv_scores = DataFrame(sub = subs,\n",
    "liks = vec(liks));\n"
   ]
  },
  {
   "cell_type": "markdown",
   "metadata": {
    "hidden": true
   },
   "source": [
    "#### save LOOCV to csv file\n"
   ]
  },
  {
   "cell_type": "code",
   "execution_count": 14,
   "metadata": {
    "hidden": true
   },
   "outputs": [
    {
     "name": "stderr",
     "output_type": "stream",
     "text": [
      "┌ Warning: In the future DataFrame constructor called with a `DataFrame` argument will return a copy. Use `convert(DataFrame, df)` to avoid copying if `df` is a `DataFrame`.\n",
      "│   caller = top-level scope at In[14]:1\n",
      "└ @ Core In[14]:1\n"
     ]
    },
    {
     "data": {
      "text/plain": [
       "\"loocv_scores.csv\""
      ]
     },
     "execution_count": 14,
     "metadata": {},
     "output_type": "execute_result"
    }
   ],
   "source": [
    "CSV.write(\"loocv_scores.csv\", DataFrame(loocv_scores))\n"
   ]
  },
  {
   "cell_type": "markdown",
   "metadata": {
    "hidden": true
   },
   "source": [
    "#### add to summary stats to LOOCV as well"
   ]
  },
  {
   "cell_type": "code",
   "execution_count": 15,
   "metadata": {
    "collapsed": true,
    "hidden": true
   },
   "outputs": [],
   "source": [
    "summary_stats = [summary_stats loocv_scores];"
   ]
  },
  {
   "cell_type": "markdown",
   "metadata": {
    "hidden": true
   },
   "source": [
    "### Calculate and write p values, std error and covariance"
   ]
  },
  {
   "cell_type": "code",
   "execution_count": 16,
   "metadata": {
    "hidden": true
   },
   "outputs": [
    {
     "name": "stderr",
     "output_type": "stream",
     "text": [
      "WARNING: LinearAlgebra.trace is deprecated, use tr instead.\n",
      "  likely near /Users/neil/.julia/packages/IJulia/DL02A/src/kernel.jl:41\n",
      "WARNING: LinearAlgebra.trace is deprecated, use tr instead.\n",
      "  likely near /Users/neil/.julia/packages/IJulia/DL02A/src/kernel.jl:41\n",
      "WARNING: LinearAlgebra.trace is deprecated, use tr instead.\n",
      "  likely near /Users/neil/.julia/packages/IJulia/DL02A/src/kernel.jl:41\n",
      "in #53 at none\n",
      "WARNING: LinearAlgebra.trace is deprecated, use tr instead.\n",
      "  likely near /Users/neil/.julia/packages/IJulia/DL02A/src/kernel.jl:41\n",
      "WARNING: LinearAlgebra.trace is deprecated, use tr instead.\n",
      "  likely near /Users/neil/.julia/packages/IJulia/DL02A/src/kernel.jl:41\n",
      "WARNING: LinearAlgebra.trace is deprecated, use tr instead.\n",
      "  likely near /Users/neil/.julia/packages/IJulia/DL02A/src/kernel.jl:41\n",
      "in #53 at none\n",
      "┌ Warning: `ccdf(d::UnivariateDistribution, X::AbstractArray)` is deprecated, use `ccdf.(d, X)` instead.\n",
      "│   caller = emerrors(::DataFrame, ::Array{Union{Missing, Int64},1}, ::SharedArray{Float64,2}, ::Array{Float64,3}, ::SharedArray{Float64,3}, ::Array{Float64,1}, ::Array{Float64,2}, ::Function) at em.jl:300\n",
      "└ @ Main /Users/neil/GitHubRepo/Projects/PreySelection/v104/models/supplementary/model_asymmetry_learn_options/em.jl:300\n"
     ]
    }
   ],
   "source": [
    "# standard errors on the subject-level means, based on an asymptotic Gaussian approx \n",
    "# (these may be inflated esp for small n)\n",
    "(standarderrors, pvalues, covmtx) = emerrors(df,subs,x,X,h,betas,sigma,model_asymmetry_learn_options);\n"
   ]
  },
  {
   "cell_type": "code",
   "execution_count": 17,
   "metadata": {
    "hidden": true
   },
   "outputs": [
    {
     "name": "stderr",
     "output_type": "stream",
     "text": [
      "┌ Warning: In the future DataFrame constructor called with a `DataFrame` argument will return a copy. Use `convert(DataFrame, df)` to avoid copying if `df` is a `DataFrame`.\n",
      "│   caller = top-level scope at In[17]:8\n",
      "└ @ Core In[17]:8\n"
     ]
    }
   ],
   "source": [
    "model_stats = DataFrame(stderror = vec(standarderrors),\n",
    "pvalues = vec(pvalues),\n",
    "covmtx_1 = vec(covmtx[:,1]),\n",
    "covmtx_2 = vec(covmtx[:,2]),\n",
    "covmtx_3 = vec(covmtx[:,3]),\n",
    "covmtx_4 = vec(covmtx[:,4]),\n",
    "covmtx_5 = vec(covmtx[:,5]));\n",
    "\n",
    "# save model stats to csv file\n",
    "CSV.write(\"model_stats.csv\", DataFrame(model_stats));"
   ]
  },
  {
   "cell_type": "code",
   "execution_count": 18,
   "metadata": {
    "hidden": true
   },
   "outputs": [
    {
     "name": "stdout",
     "output_type": "stream",
     "text": [
      "[0.335198, 0.0131805, 0.095405, 0.115259, 0.174495]"
     ]
    }
   ],
   "source": [
    "print(standarderrors)\n"
   ]
  },
  {
   "cell_type": "code",
   "execution_count": 19,
   "metadata": {
    "hidden": true
   },
   "outputs": [
    {
     "name": "stdout",
     "output_type": "stream",
     "text": [
      "[1.20869e-5, 4.09126e-19, 2.53475e-163, 2.99879e-144, 0.0205545]"
     ]
    }
   ],
   "source": [
    "print(pvalues)\n"
   ]
  },
  {
   "cell_type": "code",
   "execution_count": 20,
   "metadata": {
    "hidden": true,
    "scrolled": true
   },
   "outputs": [
    {
     "name": "stdout",
     "output_type": "stream",
     "text": [
      "[0.112358 -0.000397977 -0.00245425 0.0103061 -0.0193255; -0.000397977 0.000173727 -0.000120508 -4.48703e-5 -0.00108226; -0.00245425 -0.000120508 0.00910212 0.00929522 0.00320956; 0.0103061 -4.48703e-5 0.00929522 0.0132848 -0.00106777; -0.0193255 -0.00108226 0.00320956 -0.00106777 0.0304486]"
     ]
    }
   ],
   "source": [
    "print(covmtx)\n"
   ]
  },
  {
   "cell_type": "markdown",
   "metadata": {
    "hidden": true
   },
   "source": [
    "### Write per subject model parameters to csv files"
   ]
  },
  {
   "cell_type": "code",
   "execution_count": 21,
   "metadata": {
    "collapsed": true,
    "hidden": true
   },
   "outputs": [],
   "source": [
    "# put parameters into variable d\n",
    "d=x';\n",
    "\n",
    "# now put parameters into dataframe\n",
    "params = DataFrame(sub = subs,\n",
    "intercept = vec(d[:,1]), \n",
    "beta = vec(d[:,2]),\n",
    "learning_rate_environment_reward_raw = vec(d[:,3]),\n",
    "learning_rate_environment_reward_transformed = vec(0.5 .+ 0.5*erf.(d[:,3]/sqrt(2))),\n",
    "learning_rate_environment_delay_raw = vec(d[:,4]),\n",
    "learning_rate_environment_delay_transformed = vec(0.5 .+ 0.5*erf.(d[:,4]/sqrt(2))),\n",
    "learning_rate_options_raw = vec(d[:,5]),\n",
    "learning_rate_options_transformed = vec(0.5 .+ 0.5*erf.(d[:,5]/sqrt(2))));"
   ]
  },
  {
   "cell_type": "code",
   "execution_count": 22,
   "metadata": {
    "hidden": true
   },
   "outputs": [
    {
     "name": "stderr",
     "output_type": "stream",
     "text": [
      "┌ Warning: In the future DataFrame constructor called with a `DataFrame` argument will return a copy. Use `convert(DataFrame, df)` to avoid copying if `df` is a `DataFrame`.\n",
      "│   caller = top-level scope at In[22]:1\n",
      "└ @ Core In[22]:1\n"
     ]
    },
    {
     "data": {
      "text/plain": [
       "\"subject_params.csv\""
      ]
     },
     "execution_count": 22,
     "metadata": {},
     "output_type": "execute_result"
    }
   ],
   "source": [
    "CSV.write(\"subject_params.csv\", DataFrame(params))\n"
   ]
  },
  {
   "cell_type": "markdown",
   "metadata": {
    "hidden": true
   },
   "source": [
    "### Test difference in learning rates"
   ]
  },
  {
   "cell_type": "code",
   "execution_count": 2,
   "metadata": {
    "hidden": true
   },
   "outputs": [
    {
     "data": {
      "text/html": [
       "<table class=\"data-frame\"><thead><tr><th></th><th>sub</th><th>intercept</th><th>beta</th><th>learning_rate_environment_reward_raw</th><th>learning_rate_environment_reward_transformed</th><th>learning_rate_environment_delay_raw</th><th>learning_rate_environment_delay_transformed</th><th>learning_rate_options_raw</th><th>learning_rate_options_transformed</th></tr><tr><th></th><th>Int64⍰</th><th>Float64⍰</th><th>Float64⍰</th><th>Float64⍰</th><th>Float64⍰</th><th>Float64⍰</th><th>Float64⍰</th><th>Float64⍰</th><th>Float64⍰</th></tr></thead><tbody><tr><th>1</th><td>2</td><td>1.29388</td><td>0.145003</td><td>-2.50807</td><td>0.00606956</td><td>-2.69731</td><td>0.00349508</td><td>-0.501074</td><td>0.30816</td></tr><tr><th>2</th><td>3</td><td>-1.72509</td><td>0.0561537</td><td>-2.47049</td><td>0.00674645</td><td>-2.8918</td><td>0.00191522</td><td>0.250667</td><td>0.598964</td></tr><tr><th>3</th><td>4</td><td>-4.69456</td><td>0.157307</td><td>-2.80064</td><td>0.00255008</td><td>-3.51608</td><td>0.000218988</td><td>0.178674</td><td>0.570903</td></tr><tr><th>4</th><td>5</td><td>-2.1058</td><td>0.0688365</td><td>-2.94462</td><td>0.00161674</td><td>-3.38946</td><td>0.000350147</td><td>-0.0531565</td><td>0.478804</td></tr><tr><th>5</th><td>6</td><td>0.64946</td><td>0.182154</td><td>-2.09252</td><td>0.0181961</td><td>-2.09384</td><td>0.0181372</td><td>-1.42772</td><td>0.0766863</td></tr><tr><th>6</th><td>8</td><td>-6.08126</td><td>0.0633013</td><td>-1.32583</td><td>0.0924485</td><td>-2.50357</td><td>0.00614739</td><td>1.97586</td><td>0.975915</td></tr><tr><th>7</th><td>9</td><td>-0.950828</td><td>0.0685318</td><td>-2.68878</td><td>0.00358569</td><td>-2.87133</td><td>0.00204374</td><td>-0.550627</td><td>0.290945</td></tr><tr><th>8</th><td>10</td><td>-0.383903</td><td>0.0985391</td><td>-2.13375</td><td>0.0164318</td><td>-2.2924</td><td>0.0109412</td><td>-0.330906</td><td>0.370358</td></tr><tr><th>9</th><td>11</td><td>-0.34839</td><td>0.113667</td><td>-2.58725</td><td>0.00483731</td><td>-2.78967</td><td>0.00263808</td><td>-1.27451</td><td>0.101242</td></tr><tr><th>10</th><td>12</td><td>-2.52796</td><td>0.162615</td><td>-2.2962</td><td>0.0108321</td><td>-2.68403</td><td>0.00363708</td><td>-1.04251</td><td>0.148588</td></tr><tr><th>11</th><td>13</td><td>0.185863</td><td>0.0768791</td><td>-2.27581</td><td>0.0114288</td><td>-2.42859</td><td>0.00757883</td><td>-0.224855</td><td>0.411046</td></tr><tr><th>12</th><td>14</td><td>-5.2613</td><td>0.176837</td><td>-2.83823</td><td>0.00226819</td><td>-3.59853</td><td>0.00016001</td><td>0.111229</td><td>0.544283</td></tr><tr><th>13</th><td>15</td><td>-1.20293</td><td>0.105226</td><td>-2.9831</td><td>0.00142671</td><td>-3.4868</td><td>0.00024442</td><td>0.611231</td><td>0.729477</td></tr><tr><th>14</th><td>16</td><td>-0.140122</td><td>0.162983</td><td>-2.22889</td><td>0.0129107</td><td>-2.36596</td><td>0.0089916</td><td>-1.09715</td><td>0.136287</td></tr><tr><th>15</th><td>17</td><td>-2.32</td><td>0.10792</td><td>-3.20915</td><td>0.000665643</td><td>-3.7297</td><td>9.5855e-5</td><td>0.590342</td><td>0.722519</td></tr><tr><th>16</th><td>18</td><td>1.54573</td><td>0.0925839</td><td>-2.515</td><td>0.00595164</td><td>-2.69037</td><td>0.0035686</td><td>-0.179022</td><td>0.42896</td></tr><tr><th>17</th><td>20</td><td>-1.57909</td><td>0.206026</td><td>-2.64201</td><td>0.00412083</td><td>-3.17054</td><td>0.00076077</td><td>-1.08303</td><td>0.139398</td></tr><tr><th>18</th><td>21</td><td>1.38109</td><td>0.149352</td><td>-2.78531</td><td>0.00267385</td><td>-2.79722</td><td>0.00257718</td><td>-1.31498</td><td>0.094258</td></tr><tr><th>19</th><td>22</td><td>1.01483</td><td>0.104104</td><td>-2.64054</td><td>0.00413869</td><td>-2.75601</td><td>0.0029256</td><td>-0.829847</td><td>0.203313</td></tr><tr><th>20</th><td>23</td><td>-1.84994</td><td>0.231104</td><td>-1.90089</td><td>0.0286584</td><td>-2.1826</td><td>0.0145326</td><td>-0.622036</td><td>0.266959</td></tr><tr><th>21</th><td>25</td><td>-1.56365</td><td>0.0267803</td><td>-3.3764</td><td>0.000367203</td><td>-3.74904</td><td>8.87563e-5</td><td>0.0680464</td><td>0.527126</td></tr><tr><th>22</th><td>28</td><td>-0.0534674</td><td>0.0637674</td><td>-2.26326</td><td>0.0118098</td><td>-2.43271</td><td>0.00749312</td><td>-1.02515</td><td>0.152646</td></tr><tr><th>23</th><td>29</td><td>-2.76984</td><td>0.189476</td><td>-3.43424</td><td>0.000297105</td><td>-3.71876</td><td>0.000100101</td><td>-1.74175</td><td>0.0407761</td></tr><tr><th>24</th><td>31</td><td>-1.08979</td><td>0.181696</td><td>-3.16338</td><td>0.00077975</td><td>-3.27027</td><td>0.000537217</td><td>-1.4086</td><td>0.0794774</td></tr><tr><th>25</th><td>33</td><td>-2.47113</td><td>0.167065</td><td>-3.16353</td><td>0.000779351</td><td>-3.60062</td><td>0.000158732</td><td>-0.414269</td><td>0.339339</td></tr><tr><th>26</th><td>34</td><td>-1.54921</td><td>0.169576</td><td>-2.71859</td><td>0.00327804</td><td>-2.95788</td><td>0.0015488</td><td>-1.52908</td><td>0.0631222</td></tr><tr><th>27</th><td>35</td><td>0.993175</td><td>0.069407</td><td>-2.83046</td><td>0.00232409</td><td>-2.77446</td><td>0.00276466</td><td>-0.353265</td><td>0.361945</td></tr><tr><th>28</th><td>36</td><td>-0.637654</td><td>0.0508341</td><td>-3.06285</td><td>0.0010962</td><td>-3.47223</td><td>0.000258079</td><td>0.369791</td><td>0.644231</td></tr><tr><th>29</th><td>37</td><td>-0.169694</td><td>0.073012</td><td>-1.72657</td><td>0.0421224</td><td>-2.09624</td><td>0.0180305</td><td>0.402708</td><td>0.656418</td></tr><tr><th>30</th><td>39</td><td>-2.47097</td><td>0.120478</td><td>-2.99786</td><td>0.00135942</td><td>-3.44141</td><td>0.00028935</td><td>-0.623116</td><td>0.266604</td></tr><tr><th>&vellip;</th><td>&vellip;</td><td>&vellip;</td><td>&vellip;</td><td>&vellip;</td><td>&vellip;</td><td>&vellip;</td><td>&vellip;</td><td>&vellip;</td><td>&vellip;</td></tr></tbody></table>"
      ],
      "text/latex": [
       "\\begin{tabular}{r|ccccccccc}\n",
       "\t& sub & intercept & beta & learning\\_rate\\_environment\\_reward\\_raw & learning\\_rate\\_environment\\_reward\\_transformed & learning\\_rate\\_environment\\_delay\\_raw & learning\\_rate\\_environment\\_delay\\_transformed & learning\\_rate\\_options\\_raw & learning\\_rate\\_options\\_transformed\\\\\n",
       "\t\\hline\n",
       "\t1 & 2 & 1.29388 & 0.145003 & -2.50807 & 0.00606956 & -2.69731 & 0.00349508 & -0.501074 & 0.30816 \\\\\n",
       "\t2 & 3 & -1.72509 & 0.0561537 & -2.47049 & 0.00674645 & -2.8918 & 0.00191522 & 0.250667 & 0.598964 \\\\\n",
       "\t3 & 4 & -4.69456 & 0.157307 & -2.80064 & 0.00255008 & -3.51608 & 0.000218988 & 0.178674 & 0.570903 \\\\\n",
       "\t4 & 5 & -2.1058 & 0.0688365 & -2.94462 & 0.00161674 & -3.38946 & 0.000350147 & -0.0531565 & 0.478804 \\\\\n",
       "\t5 & 6 & 0.64946 & 0.182154 & -2.09252 & 0.0181961 & -2.09384 & 0.0181372 & -1.42772 & 0.0766863 \\\\\n",
       "\t6 & 8 & -6.08126 & 0.0633013 & -1.32583 & 0.0924485 & -2.50357 & 0.00614739 & 1.97586 & 0.975915 \\\\\n",
       "\t7 & 9 & -0.950828 & 0.0685318 & -2.68878 & 0.00358569 & -2.87133 & 0.00204374 & -0.550627 & 0.290945 \\\\\n",
       "\t8 & 10 & -0.383903 & 0.0985391 & -2.13375 & 0.0164318 & -2.2924 & 0.0109412 & -0.330906 & 0.370358 \\\\\n",
       "\t9 & 11 & -0.34839 & 0.113667 & -2.58725 & 0.00483731 & -2.78967 & 0.00263808 & -1.27451 & 0.101242 \\\\\n",
       "\t10 & 12 & -2.52796 & 0.162615 & -2.2962 & 0.0108321 & -2.68403 & 0.00363708 & -1.04251 & 0.148588 \\\\\n",
       "\t11 & 13 & 0.185863 & 0.0768791 & -2.27581 & 0.0114288 & -2.42859 & 0.00757883 & -0.224855 & 0.411046 \\\\\n",
       "\t12 & 14 & -5.2613 & 0.176837 & -2.83823 & 0.00226819 & -3.59853 & 0.00016001 & 0.111229 & 0.544283 \\\\\n",
       "\t13 & 15 & -1.20293 & 0.105226 & -2.9831 & 0.00142671 & -3.4868 & 0.00024442 & 0.611231 & 0.729477 \\\\\n",
       "\t14 & 16 & -0.140122 & 0.162983 & -2.22889 & 0.0129107 & -2.36596 & 0.0089916 & -1.09715 & 0.136287 \\\\\n",
       "\t15 & 17 & -2.32 & 0.10792 & -3.20915 & 0.000665643 & -3.7297 & 9.5855e-5 & 0.590342 & 0.722519 \\\\\n",
       "\t16 & 18 & 1.54573 & 0.0925839 & -2.515 & 0.00595164 & -2.69037 & 0.0035686 & -0.179022 & 0.42896 \\\\\n",
       "\t17 & 20 & -1.57909 & 0.206026 & -2.64201 & 0.00412083 & -3.17054 & 0.00076077 & -1.08303 & 0.139398 \\\\\n",
       "\t18 & 21 & 1.38109 & 0.149352 & -2.78531 & 0.00267385 & -2.79722 & 0.00257718 & -1.31498 & 0.094258 \\\\\n",
       "\t19 & 22 & 1.01483 & 0.104104 & -2.64054 & 0.00413869 & -2.75601 & 0.0029256 & -0.829847 & 0.203313 \\\\\n",
       "\t20 & 23 & -1.84994 & 0.231104 & -1.90089 & 0.0286584 & -2.1826 & 0.0145326 & -0.622036 & 0.266959 \\\\\n",
       "\t21 & 25 & -1.56365 & 0.0267803 & -3.3764 & 0.000367203 & -3.74904 & 8.87563e-5 & 0.0680464 & 0.527126 \\\\\n",
       "\t22 & 28 & -0.0534674 & 0.0637674 & -2.26326 & 0.0118098 & -2.43271 & 0.00749312 & -1.02515 & 0.152646 \\\\\n",
       "\t23 & 29 & -2.76984 & 0.189476 & -3.43424 & 0.000297105 & -3.71876 & 0.000100101 & -1.74175 & 0.0407761 \\\\\n",
       "\t24 & 31 & -1.08979 & 0.181696 & -3.16338 & 0.00077975 & -3.27027 & 0.000537217 & -1.4086 & 0.0794774 \\\\\n",
       "\t25 & 33 & -2.47113 & 0.167065 & -3.16353 & 0.000779351 & -3.60062 & 0.000158732 & -0.414269 & 0.339339 \\\\\n",
       "\t26 & 34 & -1.54921 & 0.169576 & -2.71859 & 0.00327804 & -2.95788 & 0.0015488 & -1.52908 & 0.0631222 \\\\\n",
       "\t27 & 35 & 0.993175 & 0.069407 & -2.83046 & 0.00232409 & -2.77446 & 0.00276466 & -0.353265 & 0.361945 \\\\\n",
       "\t28 & 36 & -0.637654 & 0.0508341 & -3.06285 & 0.0010962 & -3.47223 & 0.000258079 & 0.369791 & 0.644231 \\\\\n",
       "\t29 & 37 & -0.169694 & 0.073012 & -1.72657 & 0.0421224 & -2.09624 & 0.0180305 & 0.402708 & 0.656418 \\\\\n",
       "\t30 & 39 & -2.47097 & 0.120478 & -2.99786 & 0.00135942 & -3.44141 & 0.00028935 & -0.623116 & 0.266604 \\\\\n",
       "\t31 & 41 & 0.62774 & 0.0657467 & -3.1261 & 0.000885702 & -3.30122 & 0.00048132 & -0.821277 & 0.205744 \\\\\n",
       "\t32 & 42 & -3.43721 & 0.0482889 & -2.51108 & 0.00601806 & -3.20243 & 0.000681356 & 0.666623 & 0.747493 \\\\\n",
       "\t33 & 43 & -1.67934 & 0.129798 & -2.04108 & 0.0206215 & -2.41209 & 0.00793079 & -0.425909 & 0.335087 \\\\\n",
       "\t34 & 44 & -3.92032 & 0.216012 & -3.07627 & 0.00104803 & -3.52973 & 0.000207992 & -1.39899 & 0.0809086 \\\\\n",
       "\t35 & 45 & -3.91524 & 0.0327712 & -2.29333 & 0.0109146 & -3.00764 & 0.00131641 & 0.838754 & 0.799196 \\\\\n",
       "\t36 & 47 & -4.03536 & 0.0787521 & -1.79962 & 0.0359606 & -2.29945 & 0.0107396 & -0.00277869 & 0.498891 \\\\\n",
       "\t37 & 53 & -1.44092 & 0.0883821 & -2.15556 & 0.015559 & -2.64189 & 0.00412226 & -0.00609392 & 0.497569 \\\\\n",
       "\t38 & 55 & -1.05636 & 0.173959 & -3.12856 & 0.000878313 & -3.16503 & 0.000775339 & -1.13967 & 0.127211 \\\\\n",
       "\\end{tabular}\n"
      ],
      "text/plain": [
       "38×9 DataFrame. Omitted printing of 5 columns\n",
       "│ Row │ sub    │ intercept │ beta      │ learning_rate_environment_reward_raw │\n",
       "│     │ \u001b[90mInt64⍰\u001b[39m │ \u001b[90mFloat64⍰\u001b[39m  │ \u001b[90mFloat64⍰\u001b[39m  │ \u001b[90mUnion{Missing, Float64}\u001b[39m              │\n",
       "├─────┼────────┼───────────┼───────────┼──────────────────────────────────────┤\n",
       "│ 1   │ 2      │ 1.29388   │ 0.145003  │ -2.50807                             │\n",
       "│ 2   │ 3      │ -1.72509  │ 0.0561537 │ -2.47049                             │\n",
       "│ 3   │ 4      │ -4.69456  │ 0.157307  │ -2.80064                             │\n",
       "│ 4   │ 5      │ -2.1058   │ 0.0688365 │ -2.94462                             │\n",
       "│ 5   │ 6      │ 0.64946   │ 0.182154  │ -2.09252                             │\n",
       "│ 6   │ 8      │ -6.08126  │ 0.0633013 │ -1.32583                             │\n",
       "│ 7   │ 9      │ -0.950828 │ 0.0685318 │ -2.68878                             │\n",
       "│ 8   │ 10     │ -0.383903 │ 0.0985391 │ -2.13375                             │\n",
       "│ 9   │ 11     │ -0.34839  │ 0.113667  │ -2.58725                             │\n",
       "│ 10  │ 12     │ -2.52796  │ 0.162615  │ -2.2962                              │\n",
       "⋮\n",
       "│ 28  │ 36     │ -0.637654 │ 0.0508341 │ -3.06285                             │\n",
       "│ 29  │ 37     │ -0.169694 │ 0.073012  │ -1.72657                             │\n",
       "│ 30  │ 39     │ -2.47097  │ 0.120478  │ -2.99786                             │\n",
       "│ 31  │ 41     │ 0.62774   │ 0.0657467 │ -3.1261                              │\n",
       "│ 32  │ 42     │ -3.43721  │ 0.0482889 │ -2.51108                             │\n",
       "│ 33  │ 43     │ -1.67934  │ 0.129798  │ -2.04108                             │\n",
       "│ 34  │ 44     │ -3.92032  │ 0.216012  │ -3.07627                             │\n",
       "│ 35  │ 45     │ -3.91524  │ 0.0327712 │ -2.29333                             │\n",
       "│ 36  │ 47     │ -4.03536  │ 0.0787521 │ -1.79962                             │\n",
       "│ 37  │ 53     │ -1.44092  │ 0.0883821 │ -2.15556                             │\n",
       "│ 38  │ 55     │ -1.05636  │ 0.173959  │ -3.12856                             │"
      ]
     },
     "execution_count": 2,
     "metadata": {},
     "output_type": "execute_result"
    }
   ],
   "source": [
    "# if you already have best fit parameters saved, can read in here (rather than running model to find)\n",
    "params = CSV.read(\"subject_params.csv\")"
   ]
  },
  {
   "cell_type": "code",
   "execution_count": 3,
   "metadata": {
    "hidden": true
   },
   "outputs": [
    {
     "data": {
      "text/html": [
       "<table class=\"data-frame\"><thead><tr><th></th><th>stderror</th><th>pvalues</th><th>covmtx_1</th><th>covmtx_2</th><th>covmtx_3</th><th>covmtx_4</th><th>covmtx_5</th></tr><tr><th></th><th>Float64⍰</th><th>Float64⍰</th><th>Float64⍰</th><th>Float64⍰</th><th>Float64⍰</th><th>Float64⍰</th><th>Float64⍰</th></tr></thead><tbody><tr><th>1</th><td>0.335198</td><td>1.20869e-5</td><td>0.112358</td><td>-0.000397977</td><td>-0.00245425</td><td>0.0103061</td><td>-0.0193255</td></tr><tr><th>2</th><td>0.0131805</td><td>4.09126e-19</td><td>-0.000397977</td><td>0.000173727</td><td>-0.000120508</td><td>-4.48703e-5</td><td>-0.00108226</td></tr><tr><th>3</th><td>0.095405</td><td>2.53475e-163</td><td>-0.00245425</td><td>-0.000120508</td><td>0.00910212</td><td>0.00929522</td><td>0.00320956</td></tr><tr><th>4</th><td>0.115259</td><td>2.99879e-144</td><td>0.0103061</td><td>-4.48703e-5</td><td>0.00929522</td><td>0.0132848</td><td>-0.00106777</td></tr><tr><th>5</th><td>0.174495</td><td>0.0205545</td><td>-0.0193255</td><td>-0.00108226</td><td>0.00320956</td><td>-0.00106777</td><td>0.0304486</td></tr></tbody></table>"
      ],
      "text/latex": [
       "\\begin{tabular}{r|ccccccc}\n",
       "\t& stderror & pvalues & covmtx\\_1 & covmtx\\_2 & covmtx\\_3 & covmtx\\_4 & covmtx\\_5\\\\\n",
       "\t\\hline\n",
       "\t1 & 0.335198 & 1.20869e-5 & 0.112358 & -0.000397977 & -0.00245425 & 0.0103061 & -0.0193255 \\\\\n",
       "\t2 & 0.0131805 & 4.09126e-19 & -0.000397977 & 0.000173727 & -0.000120508 & -4.48703e-5 & -0.00108226 \\\\\n",
       "\t3 & 0.095405 & 2.53475e-163 & -0.00245425 & -0.000120508 & 0.00910212 & 0.00929522 & 0.00320956 \\\\\n",
       "\t4 & 0.115259 & 2.99879e-144 & 0.0103061 & -4.48703e-5 & 0.00929522 & 0.0132848 & -0.00106777 \\\\\n",
       "\t5 & 0.174495 & 0.0205545 & -0.0193255 & -0.00108226 & 0.00320956 & -0.00106777 & 0.0304486 \\\\\n",
       "\\end{tabular}\n"
      ],
      "text/plain": [
       "5×7 DataFrame. Omitted printing of 2 columns\n",
       "│ Row │ stderror  │ pvalues      │ covmtx_1     │ covmtx_2     │ covmtx_3     │\n",
       "│     │ \u001b[90mFloat64⍰\u001b[39m  │ \u001b[90mFloat64⍰\u001b[39m     │ \u001b[90mFloat64⍰\u001b[39m     │ \u001b[90mFloat64⍰\u001b[39m     │ \u001b[90mFloat64⍰\u001b[39m     │\n",
       "├─────┼───────────┼──────────────┼──────────────┼──────────────┼──────────────┤\n",
       "│ 1   │ 0.335198  │ 1.20869e-5   │ 0.112358     │ -0.000397977 │ -0.00245425  │\n",
       "│ 2   │ 0.0131805 │ 4.09126e-19  │ -0.000397977 │ 0.000173727  │ -0.000120508 │\n",
       "│ 3   │ 0.095405  │ 2.53475e-163 │ -0.00245425  │ -0.000120508 │ 0.00910212   │\n",
       "│ 4   │ 0.115259  │ 2.99879e-144 │ 0.0103061    │ -4.48703e-5  │ 0.00929522   │\n",
       "│ 5   │ 0.174495  │ 0.0205545    │ -0.0193255   │ -0.00108226  │ 0.00320956   │"
      ]
     },
     "execution_count": 3,
     "metadata": {},
     "output_type": "execute_result"
    }
   ],
   "source": [
    "# if you already have best fit parameters saved, can read in here (rather than running model to find)\n",
    "model_stats = CSV.read(\"model_stats.csv\")"
   ]
  },
  {
   "cell_type": "code",
   "execution_count": 4,
   "metadata": {
    "hidden": true
   },
   "outputs": [
    {
     "name": "stderr",
     "output_type": "stream",
     "text": [
      "┌ Warning: indexing with colon as row will create a copy in the future use df[col_inds] to get the columns without copying\n",
      "│   caller = top-level scope at In[4]:1\n",
      "└ @ Core In[4]:1\n"
     ]
    },
    {
     "data": {
      "text/plain": [
       "5×5 Array{Union{Missing, Float64},2}:\n",
       "  0.112358     -0.000397977  -0.00245425    0.0103061   -0.0193255 \n",
       " -0.000397977   0.000173727  -0.000120508  -4.48703e-5  -0.00108226\n",
       " -0.00245425   -0.000120508   0.00910212    0.00929522   0.00320956\n",
       "  0.0103061    -4.48703e-5    0.00929522    0.0132848   -0.00106777\n",
       " -0.0193255    -0.00108226    0.00320956   -0.00106777   0.0304486 "
      ]
     },
     "execution_count": 4,
     "metadata": {},
     "output_type": "execute_result"
    }
   ],
   "source": [
    "covmtx = convert(Array, model_stats[:,3:7])"
   ]
  },
  {
   "cell_type": "code",
   "execution_count": 5,
   "metadata": {
    "hidden": true
   },
   "outputs": [
    {
     "name": "stdout",
     "output_type": "stream",
     "text": [
      "learning_parm_diff: 0.34929254731308745\n",
      "std_error: 0.06161524259214381\n",
      "zstat: 5.66893081351957\n"
     ]
    }
   ],
   "source": [
    "# require contrast vector to test the difference in the learning parameters (from the covariance matrix)\n",
    "con_vec = [0, 0, 1, -1, 0]\n",
    "\n",
    "#calculate standard error\n",
    "std_error = sqrt(con_vec'*covmtx*con_vec)\n",
    "\n",
    "#difference in (raw) learning rates\n",
    "learning_parm_diff = mean(params[:learning_rate_environment_reward_raw]) - mean(params[:learning_rate_environment_delay_raw])\n",
    "\n",
    "#now can derive tstatistic\n",
    "z_stat = learning_parm_diff/std_error\n",
    "\n",
    "#print these to output\n",
    "println(\"learning_parm_diff: \", learning_parm_diff);\n",
    "println(\"std_error: \", std_error);\n",
    "println(\"zstat: \", z_stat);"
   ]
  }
 ],
 "metadata": {
  "kernelspec": {
   "display_name": "Julia 0.7.0",
   "language": "julia",
   "name": "julia-0.7"
  },
  "language_info": {
   "file_extension": ".jl",
   "mimetype": "application/julia",
   "name": "julia",
   "version": "0.7.0"
  },
  "toc": {
   "base_numbering": 1,
   "nav_menu": {},
   "number_sections": true,
   "sideBar": true,
   "skip_h1_title": false,
   "title_cell": "Table of Contents",
   "title_sidebar": "Contents",
   "toc_cell": false,
   "toc_position": {},
   "toc_section_display": true,
   "toc_window_display": false
  }
 },
 "nbformat": 4,
 "nbformat_minor": 1
}
