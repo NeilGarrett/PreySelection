{
 "cells": [
  {
   "cell_type": "markdown",
   "metadata": {},
   "source": [
    "** Neil Garrett, June 2018 **\n",
    "uses julia EM model fitting by Nathaniel Daw\n"
   ]
  },
  {
   "cell_type": "markdown",
   "metadata": {},
   "source": [
    "# Start up commands/load relevant functions"
   ]
  },
  {
   "cell_type": "code",
   "execution_count": 1,
   "metadata": {},
   "outputs": [],
   "source": [
    "\n",
    "parallel = true # Run on multiple CPUs. If you are having trouble, set parallel = false: easier to debug\n",
    "full = false    # Maintain full covariance matrix (vs a diagional one) at the group level\n",
    "emtol = 1e-3    # stopping condition (relative change) for EM\n",
    "\n",
    "using Distributed\n",
    "if (parallel)\n",
    "\t# only run this once\n",
    "\taddprocs()\n",
    "end\n",
    "\n",
    "# this loads the packages needed -- the @everywhere makes sure they \n",
    "# available on all CPUs \n",
    "\n",
    "@everywhere using DataFrames\n",
    "@everywhere using SharedArrays\n",
    "@everywhere using ForwardDiff\n",
    "@everywhere using Optim\n",
    "@everywhere using LinearAlgebra       # for tr, diagonal\n",
    "@everywhere using StatsFuns           # logsumexp\n",
    "@everywhere using SpecialFunctions    # for erf\n",
    "@everywhere using Statistics          # for mean\n",
    "@everywhere using Distributions\n",
    "@everywhere using GLM\n",
    "@everywhere using CSV #for reading/writing csv files\n",
    "\n",
    "# change this to where you keep the Daw's latest em code\n",
    "@everywhere directory = \"/Users/neil/GitHubRepo/Projects/PreySelection/em\"\n",
    "\n",
    "#load in functions including em\n",
    "@everywhere include(\"$directory/em.jl\");\n",
    "@everywhere include(\"$directory/common.jl\");\n",
    "@everywhere include(\"$directory/likfuns.jl\")\n"
   ]
  },
  {
   "cell_type": "markdown",
   "metadata": {},
   "source": [
    "# Data read and process"
   ]
  },
  {
   "cell_type": "markdown",
   "metadata": {},
   "source": [
    "### Read in trial by trial data"
   ]
  },
  {
   "cell_type": "code",
   "execution_count": 2,
   "metadata": {},
   "outputs": [],
   "source": [
    "\n",
    "#read in csv file of the data\n",
    "#trial by trial data: note will include force trials and missed responses\n",
    "df = CSV.read(\"/Users/neil/GitHubRepo/Projects/PreySelection/v104/data/trialdata_104_processed.csv\");\n"
   ]
  },
  {
   "cell_type": "markdown",
   "metadata": {},
   "source": [
    "### Get rid of excluded subs"
   ]
  },
  {
   "cell_type": "code",
   "execution_count": 3,
   "metadata": {},
   "outputs": [],
   "source": [
    "\n",
    "df = df[df[:exclude].==0,:];\n"
   ]
  },
  {
   "cell_type": "markdown",
   "metadata": {},
   "source": [
    "### Convert approach avoid to 2s and 1s , missed as 0. Then convert to integers (necessary to use as an index)"
   ]
  },
  {
   "cell_type": "code",
   "execution_count": 4,
   "metadata": {},
   "outputs": [
    {
     "data": {
      "text/html": [
       "<table class=\"data-frame\"><thead><tr><th></th><th>subj</th><th>trial_index_actual</th><th>block</th><th>stimulus</th><th>stim_rank</th><th>reward_percent</th><th>delay_s</th><th>profitability</th><th>stim_left_right</th><th>key_press</th><th>approach_avoid</th><th>rt</th><th>rt_z</th><th>force_trial</th><th>missed</th><th>order_condition</th><th>exclude</th><th>exclude_reason</th></tr><tr><th></th><th>Int64⍰</th><th>Int64⍰</th><th>Int64⍰</th><th>String⍰</th><th>Int64⍰</th><th>Int64⍰</th><th>Int64⍰</th><th>Float64⍰</th><th>String⍰</th><th>Int64⍰</th><th>Integer</th><th>Float64⍰</th><th>Float64⍰</th><th>Int64⍰</th><th>Int64⍰</th><th>Int64⍰</th><th>Int64⍰</th><th>String⍰</th></tr></thead><tbody><p>6 rows × 18 columns</p><tr><th>1</th><td>2</td><td>0</td><td>1</td><td>../static/images/invador1.png</td><td>4</td><td>20</td><td>8</td><td>2.5</td><td>right</td><td>74</td><td>2</td><td>1253.0</td><td>1.13279</td><td>0</td><td>0</td><td>2</td><td>0</td><td>do not exclude</td></tr><tr><th>2</th><td>2</td><td>1</td><td>1</td><td>../static/images/invador1.png</td><td>4</td><td>20</td><td>8</td><td>2.5</td><td>right</td><td>-1</td><td>0</td><td>NaN</td><td>NaN</td><td>0</td><td>1</td><td>2</td><td>0</td><td>do not exclude</td></tr><tr><th>3</th><td>2</td><td>2</td><td>1</td><td>../static/images/invador3.png</td><td>2</td><td>20</td><td>2</td><td>10.0</td><td>right</td><td>74</td><td>2</td><td>1185.0</td><td>0.859417</td><td>0</td><td>0</td><td>2</td><td>0</td><td>do not exclude</td></tr><tr><th>4</th><td>2</td><td>3</td><td>1</td><td>../static/images/invador4.png</td><td>1</td><td>80</td><td>2</td><td>40.0</td><td>left</td><td>70</td><td>2</td><td>1148.0</td><td>0.710668</td><td>0</td><td>0</td><td>2</td><td>0</td><td>do not exclude</td></tr><tr><th>5</th><td>2</td><td>4</td><td>1</td><td>../static/images/invador1.png</td><td>4</td><td>20</td><td>8</td><td>2.5</td><td>right</td><td>70</td><td>1</td><td>1156.0</td><td>0.74283</td><td>2</td><td>0</td><td>2</td><td>0</td><td>do not exclude</td></tr><tr><th>6</th><td>2</td><td>5</td><td>1</td><td>../static/images/invador1.png</td><td>4</td><td>20</td><td>8</td><td>2.5</td><td>left</td><td>70</td><td>0</td><td>NaN</td><td>NaN</td><td>0</td><td>1</td><td>2</td><td>0</td><td>do not exclude</td></tr></tbody></table>"
      ],
      "text/latex": [
       "\\begin{tabular}{r|cccccccccccccccccc}\n",
       "\t& subj & trial\\_index\\_actual & block & stimulus & stim\\_rank & reward\\_percent & delay\\_s & profitability & stim\\_left\\_right & key\\_press & approach\\_avoid & rt & rt\\_z & force\\_trial & missed & order\\_condition & exclude & exclude\\_reason\\\\\n",
       "\t\\hline\n",
       "\t& Int64⍰ & Int64⍰ & Int64⍰ & String⍰ & Int64⍰ & Int64⍰ & Int64⍰ & Float64⍰ & String⍰ & Int64⍰ & Integer & Float64⍰ & Float64⍰ & Int64⍰ & Int64⍰ & Int64⍰ & Int64⍰ & String⍰\\\\\n",
       "\t\\hline\n",
       "\t1 & 2 & 0 & 1 & ../static/images/invador1.png & 4 & 20 & 8 & 2.5 & right & 74 & 2 & 1253.0 & 1.13279 & 0 & 0 & 2 & 0 & do not exclude \\\\\n",
       "\t2 & 2 & 1 & 1 & ../static/images/invador1.png & 4 & 20 & 8 & 2.5 & right & -1 & 0 & NaN & NaN & 0 & 1 & 2 & 0 & do not exclude \\\\\n",
       "\t3 & 2 & 2 & 1 & ../static/images/invador3.png & 2 & 20 & 2 & 10.0 & right & 74 & 2 & 1185.0 & 0.859417 & 0 & 0 & 2 & 0 & do not exclude \\\\\n",
       "\t4 & 2 & 3 & 1 & ../static/images/invador4.png & 1 & 80 & 2 & 40.0 & left & 70 & 2 & 1148.0 & 0.710668 & 0 & 0 & 2 & 0 & do not exclude \\\\\n",
       "\t5 & 2 & 4 & 1 & ../static/images/invador1.png & 4 & 20 & 8 & 2.5 & right & 70 & 1 & 1156.0 & 0.74283 & 2 & 0 & 2 & 0 & do not exclude \\\\\n",
       "\t6 & 2 & 5 & 1 & ../static/images/invador1.png & 4 & 20 & 8 & 2.5 & left & 70 & 0 & NaN & NaN & 0 & 1 & 2 & 0 & do not exclude \\\\\n",
       "\\end{tabular}\n"
      ],
      "text/plain": [
       "6×18 DataFrame. Omitted printing of 14 columns\n",
       "│ Row │ subj   │ trial_index_actual │ block  │ stimulus                      │\n",
       "│     │ \u001b[90mInt64⍰\u001b[39m │ \u001b[90mInt64⍰\u001b[39m             │ \u001b[90mInt64⍰\u001b[39m │ \u001b[90mUnion{Missing, String}\u001b[39m        │\n",
       "├─────┼────────┼────────────────────┼────────┼───────────────────────────────┤\n",
       "│ 1   │ 2      │ 0                  │ 1      │ ../static/images/invador1.png │\n",
       "│ 2   │ 2      │ 1                  │ 1      │ ../static/images/invador1.png │\n",
       "│ 3   │ 2      │ 2                  │ 1      │ ../static/images/invador3.png │\n",
       "│ 4   │ 2      │ 3                  │ 1      │ ../static/images/invador4.png │\n",
       "│ 5   │ 2      │ 4                  │ 1      │ ../static/images/invador1.png │\n",
       "│ 6   │ 2      │ 5                  │ 1      │ ../static/images/invador1.png │"
      ]
     },
     "execution_count": 4,
     "metadata": {},
     "output_type": "execute_result"
    }
   ],
   "source": [
    "\n",
    "# convert approach_avoid to 1s (avoid) and 2s (approach)\n",
    "df[df[:approach_avoid].==1,:approach_avoid] = 2\n",
    "df[df[:approach_avoid].==-1,:approach_avoid] = 1\n",
    "\n",
    "# put 0 for missed responses\n",
    "index_NaN = findall(isnan.(df[:approach_avoid]))\n",
    "df[index_NaN, :approach_avoid] = 0\n",
    "\n",
    "df[:approach_avoid] = convert(Vector{Integer}, df[:approach_avoid])\n",
    "\n",
    "first(df, 6)\n"
   ]
  },
  {
   "cell_type": "markdown",
   "metadata": {},
   "source": [
    "# Symmetric Model\n",
    "\n",
    "This model comprises: \n",
    "\n",
    "1. An intercept which reflects degree of bias to reject.\n",
    "\n",
    "2. A beta (termperature parameter) which controls sensitivity to the difference between the options (0 = pick 50/50. Higher it is, the more sensative subs are tothe different options (more step functionesque). <br>\n",
    "\n",
    "3. One learning rate\n",
    "\n",
    "Uses Q learned average to predict choice\n",
    "\n",
    "Initalise Qaverage in model at the arithmetic average over all subs over both sessions"
   ]
  },
  {
   "cell_type": "code",
   "execution_count": 8,
   "metadata": {},
   "outputs": [],
   "source": [
    "\n",
    "@everywhere function model_symmetric(params, data)\n",
    "     \n",
    "    #model parameters\n",
    "    intercept = params[1]\n",
    "    beta = params[2]\n",
    "    lr = 0.5 .+ 0.5.*erf(params[3]/sqrt(2))\n",
    "    ps = params[4]\n",
    "    \n",
    "    #initalise various variables\n",
    "    opp_cost_estimate = zeros(typeof(beta),1) # stores estimated opp cost\n",
    "\n",
    "    #initalise to average rate over the experiment\n",
    "    Q_estimate = zeros(typeof(beta),1) .+ 7.77 # stores estimated global reward rate\n",
    "    \n",
    "    Qd = zeros(typeof(beta),2) # decision variable; 1st element is the opp cost of accepting (or value of rejecting), 2nd element is just the reward of the option (value of accepting)\n",
    "\n",
    "    lik = 0 #likelihood\n",
    "\n",
    "    #extract various variables from the dataframe\n",
    "    reward = data[:reward_percent]\n",
    "    delay = data[:delay_s]\n",
    "    force = data[:force_trial]  \n",
    "    missed = data[:missed] \n",
    "    c = data[:approach_avoid]\n",
    "    \n",
    "    prevc = 0\n",
    "\n",
    "    for i = 1:length(c)\n",
    "                    \n",
    "            # decrease estimate of global reward rate for encounter time (2seconds)\n",
    "            Q_estimate = (1-lr) * Q_estimate .+ 0\n",
    "            Q_estimate = (1-lr) * Q_estimate .+ 0\n",
    "        \n",
    "            #calculate estimate of opportunity cost given estimate of reward rate and delay incurred by option \n",
    "            opp_cost_estimate = Q_estimate*delay[i]\n",
    "        \n",
    "            # if not a force trial predict choice based on current values\n",
    "            if ((force[i]<1) & (missed[i]<1))\n",
    "                        \n",
    "                # decision variable - the estimate of opportunity cost (\"reward\" of rejecting) versus \n",
    "                # reward of the current option (if accepted)\n",
    "                Qd = [intercept, 0] .+ [beta.*opp_cost_estimate[1], beta.*reward[i]]\n",
    "\n",
    "                #if previously logged choice wasn't a miss or initial trial\n",
    "                if prevc>0\n",
    "                    Qd[prevc] += ps # bonus Qd[prevc] by ps \n",
    "                end\n",
    "            \n",
    "                # increment likelihood\n",
    "                lik += Qd[c[i]] - log(sum(exp.(Qd)))\n",
    "            \n",
    "            end\n",
    "            \n",
    "            #incur 8second time out for missed response\n",
    "            if (missed[i]==1)\n",
    "            \n",
    "                for j = 1:8\n",
    "                \n",
    "                     Q_estimate = (1-lr) * Q_estimate .+ 0\n",
    "\n",
    "                end\n",
    "            \n",
    "            end\n",
    "        \n",
    "            # regardless of whether a force trial or not, \n",
    "            # if accept the option, Q_estimate updates and there is a delay incurred\n",
    "            if ((c[i] == 2) & (missed[i]==0))\n",
    "                \n",
    "                for j = 1:delay[i]\n",
    "                \n",
    "                    Q_estimate = (1-lr) * Q_estimate .+ 0\n",
    "                \n",
    "                end\n",
    "            \n",
    "                Q_estimate = (1-lr) * Q_estimate .+ lr*reward[i]\n",
    "                \n",
    "            end\n",
    "        \n",
    "            # store previous choice to apply perseverance bonus\n",
    "            prevc = c[i]\n",
    "    \n",
    "    end\n",
    "        \n",
    "    # here if running em you can only return the likelihood\n",
    "    return -lik\n",
    "    \n",
    "end\n"
   ]
  },
  {
   "cell_type": "markdown",
   "metadata": {},
   "source": [
    "# Parameter optimisiation"
   ]
  },
  {
   "cell_type": "markdown",
   "metadata": {},
   "source": [
    "### setup variables for em"
   ]
  },
  {
   "cell_type": "code",
   "execution_count": 9,
   "metadata": {},
   "outputs": [],
   "source": [
    "\n",
    "#store list of actual subject numbers (in subj)\n",
    "subs = unique(df[:subj])\n",
    "\n",
    "#put in a new column called \"sub\" which is identical to subj - em looks for this\n",
    "df[:sub] = df[:subj];\n",
    "\n",
    "NS = length(subs)\n",
    "X = ones(NS)\n",
    "betas = [0. 0. 0. 0.]\n",
    "sigma = [1., 1., 1., 1.];\n"
   ]
  },
  {
   "cell_type": "markdown",
   "metadata": {},
   "source": [
    "### Run em to get best fit parameters for each subject"
   ]
  },
  {
   "cell_type": "code",
   "execution_count": 10,
   "metadata": {},
   "outputs": [
    {
     "name": "stdout",
     "output_type": "stream",
     "text": [
      "\n",
      "iter: 13\n",
      "betas: [1.04 0.07 -1.42 0.36]\n",
      "sigma: [1.01, 0.0, 2.07, 0.23]\n",
      "free energy: -2742.133453\n",
      "change: [2.0e-6, 5.4e-5, -2.0e-6, 4.0e-6, 9.5e-5, 0.000976, 1.8e-5, 7.6e-5]\n",
      "max: 0.000976\n"
     ]
    }
   ],
   "source": [
    "\n",
    "# run em\n",
    "# x contains the parameters for each subject (note not the same as variable X)\n",
    "# l and h are per-subject likelihood and hessians\n",
    "(betas, sigma, x, l, h) = em(df, subs, X, betas, sigma, model_symmetric; emtol=emtol, parallel=parallel, full=full);\n"
   ]
  },
  {
   "cell_type": "markdown",
   "metadata": {},
   "source": [
    "### Generate Model Statistics \n",
    "(LOOCV)"
   ]
  },
  {
   "cell_type": "code",
   "execution_count": 11,
   "metadata": {},
   "outputs": [
    {
     "name": "stdout",
     "output_type": "stream",
     "text": [
      "Subject: 1..2..3..4..5..6..7..8..9..10..11..12..13..14..15..16..17..18..19..20..21..22..23..24..25..26..27..28..29..30..31..32..33..34..35..36..37..38..2565.15433911757"
     ]
    }
   ],
   "source": [
    "\n",
    "#compute unbiased per subject marginal likelihoods via cross validation.\n",
    "liks = loocv(df, subs, x, X, betas, sigma, model_symmetric; emtol=emtol, parallel=parallel, full=full)\n",
    "\n",
    "print(sum(liks))\n"
   ]
  },
  {
   "cell_type": "markdown",
   "metadata": {},
   "source": [
    "### Write loocv scores to csv file and save\n",
    "\n",
    "(if you have run loocv above)"
   ]
  },
  {
   "cell_type": "code",
   "execution_count": 12,
   "metadata": {
    "scrolled": true
   },
   "outputs": [
    {
     "data": {
      "text/plain": [
       "\"loocv_scores.csv\""
      ]
     },
     "execution_count": 12,
     "metadata": {},
     "output_type": "execute_result"
    }
   ],
   "source": [
    "\n",
    "#put loocv scores into dataframe\n",
    "loocv_scores = DataFrame(sub = subs,\n",
    "liks = vec(liks));\n",
    "\n",
    "CSV.write(\"loocv_scores.csv\", DataFrame(loocv_scores))\n"
   ]
  },
  {
   "cell_type": "markdown",
   "metadata": {},
   "source": [
    "### Calculate and write p values, std error and covariance"
   ]
  },
  {
   "cell_type": "code",
   "execution_count": 13,
   "metadata": {},
   "outputs": [],
   "source": [
    "\n",
    "# standard errors on the subject-level means, based on an asymptotic Gaussian approx \n",
    "# (these may be inflated esp for small n)\n",
    "(standarderrors, pvalues, covmtx) = emerrors(df, subs, x, X, h, betas, sigma, model_symmetric);\n"
   ]
  },
  {
   "cell_type": "code",
   "execution_count": 14,
   "metadata": {},
   "outputs": [],
   "source": [
    "\n",
    "model_stats = DataFrame(stderror = vec(standarderrors),\n",
    "pvalues = vec(pvalues),\n",
    "covmtx_1 = vec(covmtx[:,1]),\n",
    "covmtx_2 = vec(covmtx[:,2]),\n",
    "covmtx_3 = vec(covmtx[:,3]),\n",
    "covmtx_4 = vec(covmtx[:,4]));\n",
    "\n",
    "# save model stats to csv file\n",
    "CSV.write(\"model_stats.csv\", DataFrame(model_stats));\n"
   ]
  },
  {
   "cell_type": "markdown",
   "metadata": {},
   "source": [
    "### Write per subject model parameters to csv files and save"
   ]
  },
  {
   "cell_type": "code",
   "execution_count": 15,
   "metadata": {},
   "outputs": [
    {
     "data": {
      "text/plain": [
       "\"subject_params.csv\""
      ]
     },
     "execution_count": 15,
     "metadata": {},
     "output_type": "execute_result"
    }
   ],
   "source": [
    "\n",
    "# put parameters into variable d\n",
    "d=x;\n",
    "\n",
    "# now put parameters into dataframe\n",
    "params = DataFrame(sub = subs,\n",
    "intercept = vec(d[:,1]), \n",
    "beta = vec(d[:,2]),\n",
    "learning_rate_raw = vec(d[:,3]),\n",
    "perseverance = vec(d[:, 4]));\n",
    "\n",
    "CSV.write(\"subject_params.csv\", DataFrame(params))\n"
   ]
  }
 ],
 "metadata": {
  "kernelspec": {
   "display_name": "Julia 0.7.0",
   "language": "julia",
   "name": "julia-0.7"
  },
  "language_info": {
   "file_extension": ".jl",
   "mimetype": "application/julia",
   "name": "julia",
   "version": "0.7.0"
  },
  "toc": {
   "base_numbering": 1,
   "nav_menu": {},
   "number_sections": true,
   "sideBar": true,
   "skip_h1_title": false,
   "title_cell": "Table of Contents",
   "title_sidebar": "Contents",
   "toc_cell": false,
   "toc_position": {},
   "toc_section_display": true,
   "toc_window_display": false
  }
 },
 "nbformat": 4,
 "nbformat_minor": 1
}
