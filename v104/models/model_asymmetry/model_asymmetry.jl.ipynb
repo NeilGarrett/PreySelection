{
 "cells": [
  {
   "cell_type": "markdown",
   "metadata": {},
   "source": [
    "** Neil Garrett, June 2018 **"
   ]
  },
  {
   "cell_type": "markdown",
   "metadata": {
    "heading_collapsed": true
   },
   "source": [
    "# Start up commands/load relevant functions"
   ]
  },
  {
   "cell_type": "code",
   "execution_count": 11,
   "metadata": {
    "hidden": true
   },
   "outputs": [
    {
     "name": "stderr",
     "output_type": "stream",
     "text": [
      "┌ Warning: Deprecated syntax `(covvar < 0) ? NaN:` at /Users/neil/GitHubRepo/Projects/PreySelection/v104/models/model_asymmetry/em.jl:288.\n",
      "│ Use `(covvar < 0) ? NaN :` instead.\n",
      "└ @ ~/GitHubRepo/Projects/PreySelection/v104/models/model_asymmetry/em.jl:288\n",
      "┌ Warning: Deprecated syntax `(covvar < 0) ? NaN :sqrt` at /Users/neil/GitHubRepo/Projects/PreySelection/v104/models/model_asymmetry/em.jl:288.\n",
      "│ Use `(covvar < 0) ? NaN : sqrt` instead.\n",
      "└ @ ~/GitHubRepo/Projects/PreySelection/v104/models/model_asymmetry/em.jl:288\n",
      "┌ Warning: Deprecated syntax `(covvar < 0) ? NaN:` at /Users/neil/GitHubRepo/Projects/PreySelection/v104/models/model_asymmetry/em.jl:288.\n",
      "│ Use `(covvar < 0) ? NaN :` instead.\n",
      "└ @ nothing /Users/neil/GitHubRepo/Projects/PreySelection/v104/models/model_asymmetry/em.jl:288\n",
      "┌ Warning: Deprecated syntax `(covvar < 0) ? NaN :sqrt` at /Users/neil/GitHubRepo/Projects/PreySelection/v104/models/model_asymmetry/em.jl:288.\n",
      "│ Use `(covvar < 0) ? NaN : sqrt` instead.\n",
      "└ @ nothing /Users/neil/GitHubRepo/Projects/PreySelection/v104/models/model_asymmetry/em.jl:288\n",
      "┌ Warning: Deprecated syntax `(covvar < 0) ? NaN:` at /Users/neil/GitHubRepo/Projects/PreySelection/v104/models/model_asymmetry/em.jl:288.\n",
      "│ Use `(covvar < 0) ? NaN :` instead.\n",
      "└ @ ~/GitHubRepo/Projects/PreySelection/v104/models/model_asymmetry/em.jl:288\n",
      "┌ Warning: Deprecated syntax `(covvar < 0) ? NaN :sqrt` at /Users/neil/GitHubRepo/Projects/PreySelection/v104/models/model_asymmetry/em.jl:288.\n",
      "│ Use `(covvar < 0) ? NaN : sqrt` instead.\n",
      "└ @ ~/GitHubRepo/Projects/PreySelection/v104/models/model_asymmetry/em.jl:288\n",
      "┌ Warning: Deprecated syntax `(diag(covmtx)[i] .< 0) ? NaN:` at /Users/neil/GitHubRepo/Projects/PreySelection/v104/models/model_asymmetry/em.jl:299.\n",
      "│ Use `(diag(covmtx)[i] .< 0) ? NaN :` instead.\n",
      "└ @ ~/GitHubRepo/Projects/PreySelection/v104/models/model_asymmetry/em.jl:299\n",
      "┌ Warning: Deprecated syntax `(diag(covmtx)[i] .< 0) ? NaN :diag` at /Users/neil/GitHubRepo/Projects/PreySelection/v104/models/model_asymmetry/em.jl:299.\n",
      "│ Use `(diag(covmtx)[i] .< 0) ? NaN : diag` instead.\n",
      "└ @ ~/GitHubRepo/Projects/PreySelection/v104/models/model_asymmetry/em.jl:299\n",
      "┌ Warning: Deprecated syntax `(diag(covmtx)[i] .< 0) ? NaN:` at /Users/neil/GitHubRepo/Projects/PreySelection/v104/models/model_asymmetry/em.jl:299.\n",
      "│ Use `(diag(covmtx)[i] .< 0) ? NaN :` instead.\n",
      "└ @ nothing /Users/neil/GitHubRepo/Projects/PreySelection/v104/models/model_asymmetry/em.jl:299\n",
      "┌ Warning: Deprecated syntax `(diag(covmtx)[i] .< 0) ? NaN :diag` at /Users/neil/GitHubRepo/Projects/PreySelection/v104/models/model_asymmetry/em.jl:299.\n",
      "│ Use `(diag(covmtx)[i] .< 0) ? NaN : diag` instead.\n",
      "└ @ nothing /Users/neil/GitHubRepo/Projects/PreySelection/v104/models/model_asymmetry/em.jl:299\n",
      "┌ Warning: Deprecated syntax `(diag(covmtx)[i] .< 0) ? NaN:` at /Users/neil/GitHubRepo/Projects/PreySelection/v104/models/model_asymmetry/em.jl:299.\n",
      "│ Use `(diag(covmtx)[i] .< 0) ? NaN :` instead.\n",
      "└ @ ~/GitHubRepo/Projects/PreySelection/v104/models/model_asymmetry/em.jl:299\n",
      "┌ Warning: Deprecated syntax `(diag(covmtx)[i] .< 0) ? NaN :diag` at /Users/neil/GitHubRepo/Projects/PreySelection/v104/models/model_asymmetry/em.jl:299.\n",
      "│ Use `(diag(covmtx)[i] .< 0) ? NaN : diag` instead.\n",
      "└ @ ~/GitHubRepo/Projects/PreySelection/v104/models/model_asymmetry/em.jl:299\n",
      "┌ Warning: Deprecated syntax `(covvar < 0) ? NaN:` at /Users/neil/GitHubRepo/Projects/PreySelection/v104/models/model_asymmetry/em.jl:288.\n",
      "│ Use `(covvar < 0) ? NaN :` instead.\n",
      "└ @ ~/GitHubRepo/Projects/PreySelection/v104/models/model_asymmetry/em.jl:288\n",
      "┌ Warning: Deprecated syntax `(covvar < 0) ? NaN :sqrt` at /Users/neil/GitHubRepo/Projects/PreySelection/v104/models/model_asymmetry/em.jl:288.\n",
      "│ Use `(covvar < 0) ? NaN : sqrt` instead.\n",
      "└ @ ~/GitHubRepo/Projects/PreySelection/v104/models/model_asymmetry/em.jl:288\n",
      "┌ Warning: Deprecated syntax `(covvar < 0) ? NaN:` at /Users/neil/GitHubRepo/Projects/PreySelection/v104/models/model_asymmetry/em.jl:288.\n",
      "│ Use `(covvar < 0) ? NaN :` instead.\n",
      "└ @ ~/GitHubRepo/Projects/PreySelection/v104/models/model_asymmetry/em.jl:288\n",
      "┌ Warning: Deprecated syntax `(covvar < 0) ? NaN :sqrt` at /Users/neil/GitHubRepo/Projects/PreySelection/v104/models/model_asymmetry/em.jl:288.\n",
      "│ Use `(covvar < 0) ? NaN : sqrt` instead.\n",
      "└ @ ~/GitHubRepo/Projects/PreySelection/v104/models/model_asymmetry/em.jl:288\n",
      "┌ Warning: Deprecated syntax `(diag(covmtx)[i] .< 0) ? NaN:` at /Users/neil/GitHubRepo/Projects/PreySelection/v104/models/model_asymmetry/em.jl:299.\n",
      "│ Use `(diag(covmtx)[i] .< 0) ? NaN :` instead.\n",
      "└ @ ~/GitHubRepo/Projects/PreySelection/v104/models/model_asymmetry/em.jl:299\n",
      "┌ Warning: Deprecated syntax `(diag(covmtx)[i] .< 0) ? NaN :diag` at /Users/neil/GitHubRepo/Projects/PreySelection/v104/models/model_asymmetry/em.jl:299.\n",
      "│ Use `(diag(covmtx)[i] .< 0) ? NaN : diag` instead.\n",
      "└ @ ~/GitHubRepo/Projects/PreySelection/v104/models/model_asymmetry/em.jl:299\n",
      "┌ Warning: Deprecated syntax `(diag(covmtx)[i] .< 0) ? NaN:` at /Users/neil/GitHubRepo/Projects/PreySelection/v104/models/model_asymmetry/em.jl:299.\n",
      "│ Use `(diag(covmtx)[i] .< 0) ? NaN :` instead.\n",
      "└ @ ~/GitHubRepo/Projects/PreySelection/v104/models/model_asymmetry/em.jl:299\n",
      "┌ Warning: Deprecated syntax `(diag(covmtx)[i] .< 0) ? NaN :diag` at /Users/neil/GitHubRepo/Projects/PreySelection/v104/models/model_asymmetry/em.jl:299.\n",
      "│ Use `(diag(covmtx)[i] .< 0) ? NaN : diag` instead.\n",
      "└ @ ~/GitHubRepo/Projects/PreySelection/v104/models/model_asymmetry/em.jl:299\n",
      "┌ Warning: Deprecated syntax `(covvar < 0) ? NaN:` at /Users/neil/GitHubRepo/Projects/PreySelection/v104/models/model_asymmetry/em.jl:288.\n",
      "│ Use `(covvar < 0) ? NaN :` instead.\n",
      "└ @ ~/GitHubRepo/Projects/PreySelection/v104/models/model_asymmetry/em.jl:288\n",
      "┌ Warning: Deprecated syntax `(covvar < 0) ? NaN :sqrt` at /Users/neil/GitHubRepo/Projects/PreySelection/v104/models/model_asymmetry/em.jl:288.\n",
      "│ Use `(covvar < 0) ? NaN : sqrt` instead.\n",
      "└ @ ~/GitHubRepo/Projects/PreySelection/v104/models/model_asymmetry/em.jl:288\n",
      "┌ Warning: Deprecated syntax `(diag(covmtx)[i] .< 0) ? NaN:` at /Users/neil/GitHubRepo/Projects/PreySelection/v104/models/model_asymmetry/em.jl:299.\n",
      "│ Use `(diag(covmtx)[i] .< 0) ? NaN :` instead.\n",
      "└ @ ~/GitHubRepo/Projects/PreySelection/v104/models/model_asymmetry/em.jl:299\n",
      "┌ Warning: Deprecated syntax `(diag(covmtx)[i] .< 0) ? NaN :diag` at /Users/neil/GitHubRepo/Projects/PreySelection/v104/models/model_asymmetry/em.jl:299.\n",
      "│ Use `(diag(covmtx)[i] .< 0) ? NaN : diag` instead.\n",
      "└ @ ~/GitHubRepo/Projects/PreySelection/v104/models/model_asymmetry/em.jl:299\n",
      "┌ Warning: Deprecated syntax `(covvar < 0) ? NaN:` at /Users/neil/GitHubRepo/Projects/PreySelection/v104/models/model_asymmetry/em.jl:288.\n",
      "│ Use `(covvar < 0) ? NaN :` instead.\n",
      "└ @ ~/GitHubRepo/Projects/PreySelection/v104/models/model_asymmetry/em.jl:288\n",
      "┌ Warning: Deprecated syntax `(covvar < 0) ? NaN :sqrt` at /Users/neil/GitHubRepo/Projects/PreySelection/v104/models/model_asymmetry/em.jl:288.\n",
      "│ Use `(covvar < 0) ? NaN : sqrt` instead.\n",
      "└ @ ~/GitHubRepo/Projects/PreySelection/v104/models/model_asymmetry/em.jl:288\n",
      "┌ Warning: Deprecated syntax `(diag(covmtx)[i] .< 0) ? NaN:` at /Users/neil/GitHubRepo/Projects/PreySelection/v104/models/model_asymmetry/em.jl:299.\n",
      "│ Use `(diag(covmtx)[i] .< 0) ? NaN :` instead.\n",
      "└ @ ~/GitHubRepo/Projects/PreySelection/v104/models/model_asymmetry/em.jl:299\n",
      "┌ Warning: Deprecated syntax `(diag(covmtx)[i] .< 0) ? NaN :diag` at /Users/neil/GitHubRepo/Projects/PreySelection/v104/models/model_asymmetry/em.jl:299.\n",
      "│ Use `(diag(covmtx)[i] .< 0) ? NaN : diag` instead.\n",
      "└ @ ~/GitHubRepo/Projects/PreySelection/v104/models/model_asymmetry/em.jl:299\n",
      "┌ Warning: Deprecated syntax `(covvar < 0) ? NaN:` at /Users/neil/GitHubRepo/Projects/PreySelection/v104/models/model_asymmetry/em.jl:288.\n",
      "│ Use `(covvar < 0) ? NaN :` instead.\n",
      "└ @ ~/GitHubRepo/Projects/PreySelection/v104/models/model_asymmetry/em.jl:288\n",
      "┌ Warning: Deprecated syntax `(covvar < 0) ? NaN :sqrt` at /Users/neil/GitHubRepo/Projects/PreySelection/v104/models/model_asymmetry/em.jl:288.\n",
      "│ Use `(covvar < 0) ? NaN : sqrt` instead.\n",
      "└ @ ~/GitHubRepo/Projects/PreySelection/v104/models/model_asymmetry/em.jl:288\n",
      "┌ Warning: Deprecated syntax `(diag(covmtx)[i] .< 0) ? NaN:` at /Users/neil/GitHubRepo/Projects/PreySelection/v104/models/model_asymmetry/em.jl:299.\n",
      "│ Use `(diag(covmtx)[i] .< 0) ? NaN :` instead.\n",
      "└ @ ~/GitHubRepo/Projects/PreySelection/v104/models/model_asymmetry/em.jl:299\n",
      "┌ Warning: Deprecated syntax `(diag(covmtx)[i] .< 0) ? NaN :diag` at /Users/neil/GitHubRepo/Projects/PreySelection/v104/models/model_asymmetry/em.jl:299.\n",
      "│ Use `(diag(covmtx)[i] .< 0) ? NaN : diag` instead.\n",
      "└ @ ~/GitHubRepo/Projects/PreySelection/v104/models/model_asymmetry/em.jl:299\n",
      "┌ Warning: Deprecated syntax `(covvar < 0) ? NaN:` at /Users/neil/GitHubRepo/Projects/PreySelection/v104/models/model_asymmetry/em.jl:288.\n",
      "│ Use `(covvar < 0) ? NaN :` instead.\n",
      "└ @ ~/GitHubRepo/Projects/PreySelection/v104/models/model_asymmetry/em.jl:288\n",
      "┌ Warning: Deprecated syntax `(covvar < 0) ? NaN :sqrt` at /Users/neil/GitHubRepo/Projects/PreySelection/v104/models/model_asymmetry/em.jl:288.\n",
      "│ Use `(covvar < 0) ? NaN : sqrt` instead.\n",
      "└ @ ~/GitHubRepo/Projects/PreySelection/v104/models/model_asymmetry/em.jl:288\n",
      "┌ Warning: Deprecated syntax `(diag(covmtx)[i] .< 0) ? NaN:` at /Users/neil/GitHubRepo/Projects/PreySelection/v104/models/model_asymmetry/em.jl:299.\n",
      "│ Use `(diag(covmtx)[i] .< 0) ? NaN :` instead.\n",
      "└ @ ~/GitHubRepo/Projects/PreySelection/v104/models/model_asymmetry/em.jl:299\n",
      "┌ Warning: Deprecated syntax `(diag(covmtx)[i] .< 0) ? NaN :diag` at /Users/neil/GitHubRepo/Projects/PreySelection/v104/models/model_asymmetry/em.jl:299.\n",
      "│ Use `(diag(covmtx)[i] .< 0) ? NaN : diag` instead.\n",
      "└ @ ~/GitHubRepo/Projects/PreySelection/v104/models/model_asymmetry/em.jl:299\n"
     ]
    },
    {
     "name": "stderr",
     "output_type": "stream",
     "text": [
      "┌ Warning: `@parallel` is deprecated, use `@distributed` instead.\n",
      "│   caller = include at boot.jl:317 [inlined]\n",
      "└ @ Core ./boot.jl:317\n",
      "┌ Warning: `@parallel` is deprecated, use `@distributed` instead.\n",
      "│   caller = include at boot.jl:317 [inlined]\n",
      "└ @ Core ./boot.jl:317\n",
      "┌ Warning: `@parallel` is deprecated, use `@distributed` instead.\n",
      "│   caller = include at boot.jl:317 [inlined]\n",
      "└ @ Core ./boot.jl:317\n",
      "┌ Warning: `@parallel` is deprecated, use `@distributed` instead.\n",
      "│   caller = include at boot.jl:317 [inlined]\n",
      "└ @ Core ./boot.jl:317\n",
      "┌ Warning: Deprecated syntax `any(x -> begin\n",
      "│     # /Users/neil/GitHubRepo/Projects/PreySelection/v104/models/model_asymmetry/common.jl, line 66\n",
      "│     isa(x, Array)\n",
      "│ end, a)?` at /Users/neil/GitHubRepo/Projects/PreySelection/v104/models/model_asymmetry/common.jl:66.\n",
      "│ Use `any(x -> begin\n",
      "│     # /Users/neil/GitHubRepo/Projects/PreySelection/v104/models/model_asymmetry/common.jl, line 66\n",
      "│     isa(x, Array)\n",
      "│ end, a) ?` instead.\n",
      "└ @ ~/GitHubRepo/Projects/PreySelection/v104/models/model_asymmetry/common.jl:66\n",
      "┌ Warning: Deprecated syntax `any(x -> begin\n",
      "│     # /Users/neil/GitHubRepo/Projects/PreySelection/v104/models/model_asymmetry/common.jl, line 66\n",
      "│     isa(x, Array)\n",
      "│ end, a)?` at /Users/neil/GitHubRepo/Projects/PreySelection/v104/models/model_asymmetry/common.jl:66.\n",
      "│ Use `any(x -> begin\n",
      "│     # /Users/neil/GitHubRepo/Projects/PreySelection/v104/models/model_asymmetry/common.jl, line 66\n",
      "│     isa(x, Array)\n",
      "│ end, a) ?` instead.\n",
      "└ @ ~/GitHubRepo/Projects/PreySelection/v104/models/model_asymmetry/common.jl:66\n",
      "┌ Warning: Deprecated syntax `any(x -> begin\n",
      "│     # /Users/neil/GitHubRepo/Projects/PreySelection/v104/models/model_asymmetry/common.jl, line 66\n",
      "│     isa(x, Array)\n",
      "│ end, a) ? flatten(vcat(map(flatten, a)...)):` at /Users/neil/GitHubRepo/Projects/PreySelection/v104/models/model_asymmetry/common.jl:66.\n",
      "│ Use `any(x -> begin\n",
      "│     # /Users/neil/GitHubRepo/Projects/PreySelection/v104/models/model_asymmetry/common.jl, line 66\n",
      "│     isa(x, Array)\n",
      "│ end, a) ? flatten(vcat(map(flatten, a)...)) :` instead.\n",
      "└ @ ~/GitHubRepo/Projects/PreySelection/v104/models/model_asymmetry/common.jl:66\n",
      "┌ Warning: Deprecated syntax `any(x -> begin\n",
      "│     # /Users/neil/GitHubRepo/Projects/PreySelection/v104/models/model_asymmetry/common.jl, line 66\n",
      "│     isa(x, Array)\n",
      "│ end, a)?` at /Users/neil/GitHubRepo/Projects/PreySelection/v104/models/model_asymmetry/common.jl:66.\n",
      "│ Use `any(x -> begin\n",
      "│     # /Users/neil/GitHubRepo/Projects/PreySelection/v104/models/model_asymmetry/common.jl, line 66\n",
      "│     isa(x, Array)\n",
      "│ end, a) ?` instead.\n",
      "└ @ nothing /Users/neil/GitHubRepo/Projects/PreySelection/v104/models/model_asymmetry/common.jl:66\n",
      "┌ Warning: Deprecated syntax `any(x -> begin\n",
      "│     # /Users/neil/GitHubRepo/Projects/PreySelection/v104/models/model_asymmetry/common.jl, line 66\n",
      "│     isa(x, Array)\n",
      "│ end, a) ? flatten(vcat(map(flatten, a)...)):` at /Users/neil/GitHubRepo/Projects/PreySelection/v104/models/model_asymmetry/common.jl:66.\n",
      "│ Use `any(x -> begin\n",
      "│     # /Users/neil/GitHubRepo/Projects/PreySelection/v104/models/model_asymmetry/common.jl, line 66\n",
      "│     isa(x, Array)\n",
      "│ end, a) ? flatten(vcat(map(flatten, a)...)) :` instead.\n",
      "└ @ ~/GitHubRepo/Projects/PreySelection/v104/models/model_asymmetry/common.jl:66\n",
      "┌ Warning: Deprecated syntax `any(x -> begin\n",
      "│     # /Users/neil/GitHubRepo/Projects/PreySelection/v104/models/model_asymmetry/common.jl, line 66\n",
      "│     isa(x, Array)\n",
      "│ end, a) ? flatten(vcat(map(flatten, a)...)):` at /Users/neil/GitHubRepo/Projects/PreySelection/v104/models/model_asymmetry/common.jl:66.\n",
      "│ Use `any(x -> begin\n",
      "│     # /Users/neil/GitHubRepo/Projects/PreySelection/v104/models/model_asymmetry/common.jl, line 66\n",
      "│     isa(x, Array)\n",
      "│ end, a) ? flatten(vcat(map(flatten, a)...)) :` instead.\n",
      "└ @ nothing /Users/neil/GitHubRepo/Projects/PreySelection/v104/models/model_asymmetry/common.jl:66\n",
      "┌ Warning: Deprecated syntax `any(x -> begin\n",
      "│     # /Users/neil/GitHubRepo/Projects/PreySelection/v104/models/model_asymmetry/common.jl, line 66\n",
      "│     isa(x, Array)\n",
      "│ end, a)?` at /Users/neil/GitHubRepo/Projects/PreySelection/v104/models/model_asymmetry/common.jl:66.\n",
      "│ Use `any(x -> begin\n",
      "│     # /Users/neil/GitHubRepo/Projects/PreySelection/v104/models/model_asymmetry/common.jl, line 66\n",
      "│     isa(x, Array)\n",
      "│ end, a) ?` instead.\n",
      "└ @ ~/GitHubRepo/Projects/PreySelection/v104/models/model_asymmetry/common.jl:66\n",
      "┌ Warning: Deprecated syntax `any(x -> begin\n",
      "│     # /Users/neil/GitHubRepo/Projects/PreySelection/v104/models/model_asymmetry/common.jl, line 66\n",
      "│     isa(x, Array)\n",
      "│ end, a) ? flatten(vcat(map(flatten, a)...)):` at /Users/neil/GitHubRepo/Projects/PreySelection/v104/models/model_asymmetry/common.jl:66.\n",
      "│ Use `any(x -> begin\n",
      "│     # /Users/neil/GitHubRepo/Projects/PreySelection/v104/models/model_asymmetry/common.jl, line 66\n",
      "│     isa(x, Array)\n",
      "│ end, a) ? flatten(vcat(map(flatten, a)...)) :` instead.\n",
      "└ @ ~/GitHubRepo/Projects/PreySelection/v104/models/model_asymmetry/common.jl:66\n",
      "┌ Warning: Deprecated syntax `any(x -> begin\n",
      "│     # /Users/neil/GitHubRepo/Projects/PreySelection/v104/models/model_asymmetry/common.jl, line 66\n",
      "│     isa(x, Array)\n",
      "│ end, a)?` at /Users/neil/GitHubRepo/Projects/PreySelection/v104/models/model_asymmetry/common.jl:66.\n",
      "│ Use `any(x -> begin\n",
      "│     # /Users/neil/GitHubRepo/Projects/PreySelection/v104/models/model_asymmetry/common.jl, line 66\n",
      "│     isa(x, Array)\n",
      "│ end, a) ?` instead.\n",
      "└ @ ~/GitHubRepo/Projects/PreySelection/v104/models/model_asymmetry/common.jl:66\n",
      "┌ Warning: Deprecated syntax `any(x -> begin\n",
      "│     # /Users/neil/GitHubRepo/Projects/PreySelection/v104/models/model_asymmetry/common.jl, line 66\n",
      "│     isa(x, Array)\n",
      "│ end, a) ? flatten(vcat(map(flatten, a)...)):` at /Users/neil/GitHubRepo/Projects/PreySelection/v104/models/model_asymmetry/common.jl:66.\n",
      "│ Use `any(x -> begin\n",
      "│     # /Users/neil/GitHubRepo/Projects/PreySelection/v104/models/model_asymmetry/common.jl, line 66\n",
      "│     isa(x, Array)\n",
      "│ end, a) ? flatten(vcat(map(flatten, a)...)) :` instead.\n",
      "└ @ ~/GitHubRepo/Projects/PreySelection/v104/models/model_asymmetry/common.jl:66\n",
      "┌ Warning: Deprecated syntax `parametric method syntax flatten{T}(a::Array{T, 1})` around /Users/neil/GitHubRepo/Projects/PreySelection/v104/models/model_asymmetry/common.jl:66.\n",
      "│ Use `flatten(a::Array{T, 1}) where T` instead.\n",
      "└ @ ~/GitHubRepo/Projects/PreySelection/v104/models/model_asymmetry/common.jl:66\n",
      "┌ Warning: Deprecated syntax `parametric method syntax flatten{T}(a::Array{T})` around /Users/neil/GitHubRepo/Projects/PreySelection/v104/models/model_asymmetry/common.jl:67.\n",
      "│ Use `flatten(a::Array{T}) where T` instead.\n",
      "└ @ ~/GitHubRepo/Projects/PreySelection/v104/models/model_asymmetry/common.jl:67\n",
      "┌ Warning: Deprecated syntax `parametric method syntax flatten{T}(a::Array{T, 1})` around /Users/neil/GitHubRepo/Projects/PreySelection/v104/models/model_asymmetry/common.jl:66.\n",
      "│ Use `flatten(a::Array{T, 1}) where T` instead.\n",
      "└ @ ~/GitHubRepo/Projects/PreySelection/v104/models/model_asymmetry/common.jl:66\n",
      "┌ Warning: Deprecated syntax `parametric method syntax flatten{T}(a::Array{T})` around /Users/neil/GitHubRepo/Projects/PreySelection/v104/models/model_asymmetry/common.jl:67.\n",
      "│ Use `flatten(a::Array{T}) where T` instead.\n",
      "└ @ ~/GitHubRepo/Projects/PreySelection/v104/models/model_asymmetry/common.jl:67\n",
      "┌ Warning: Deprecated syntax `parametric method syntax flatten{T}(a::Array{T, 1})` around /Users/neil/GitHubRepo/Projects/PreySelection/v104/models/model_asymmetry/common.jl:66.\n",
      "│ Use `flatten(a::Array{T, 1}) where T` instead.\n",
      "└ @ nothing /Users/neil/GitHubRepo/Projects/PreySelection/v104/models/model_asymmetry/common.jl:66\n",
      "┌ Warning: Deprecated syntax `parametric method syntax flatten{T}(a::Array{T})` around /Users/neil/GitHubRepo/Projects/PreySelection/v104/models/model_asymmetry/common.jl:67.\n",
      "│ Use `flatten(a::Array{T}) where T` instead.\n",
      "└ @ nothing /Users/neil/GitHubRepo/Projects/PreySelection/v104/models/model_asymmetry/common.jl:67\n",
      "┌ Warning: Deprecated syntax `parametric method syntax flatten{T}(a::Array{T, 1})` around /Users/neil/GitHubRepo/Projects/PreySelection/v104/models/model_asymmetry/common.jl:66.\n",
      "│ Use `flatten(a::Array{T, 1}) where T` instead.\n",
      "└ @ ~/GitHubRepo/Projects/PreySelection/v104/models/model_asymmetry/common.jl:66\n",
      "┌ Warning: Deprecated syntax `parametric method syntax flatten{T}(a::Array{T})` around /Users/neil/GitHubRepo/Projects/PreySelection/v104/models/model_asymmetry/common.jl:67.\n",
      "│ Use `flatten(a::Array{T}) where T` instead.\n",
      "└ @ ~/GitHubRepo/Projects/PreySelection/v104/models/model_asymmetry/common.jl:67\n",
      "┌ Warning: Deprecated syntax `parametric method syntax flatten{T}(a::Array{T, 1})` around /Users/neil/GitHubRepo/Projects/PreySelection/v104/models/model_asymmetry/common.jl:66.\n",
      "│ Use `flatten(a::Array{T, 1}) where T` instead.\n",
      "└ @ ~/GitHubRepo/Projects/PreySelection/v104/models/model_asymmetry/common.jl:66\n",
      "┌ Warning: Deprecated syntax `parametric method syntax flatten{T}(a::Array{T})` around /Users/neil/GitHubRepo/Projects/PreySelection/v104/models/model_asymmetry/common.jl:67.\n",
      "│ Use `flatten(a::Array{T}) where T` instead.\n",
      "└ @ ~/GitHubRepo/Projects/PreySelection/v104/models/model_asymmetry/common.jl:67\n"
     ]
    },
    {
     "name": "stderr",
     "output_type": "stream",
     "text": [
      "┌ Warning: Deprecated syntax `any(x -> begin\n",
      "│     # /Users/neil/GitHubRepo/Projects/PreySelection/v104/models/model_asymmetry/common.jl, line 66\n",
      "│     isa(x, Array)\n",
      "│ end, a)?` at /Users/neil/GitHubRepo/Projects/PreySelection/v104/models/model_asymmetry/common.jl:66.\n",
      "│ Use `any(x -> begin\n",
      "│     # /Users/neil/GitHubRepo/Projects/PreySelection/v104/models/model_asymmetry/common.jl, line 66\n",
      "│     isa(x, Array)\n",
      "│ end, a) ?` instead.\n",
      "└ @ ~/GitHubRepo/Projects/PreySelection/v104/models/model_asymmetry/common.jl:66\n",
      "┌ Warning: Deprecated syntax `any(x -> begin\n",
      "│     # /Users/neil/GitHubRepo/Projects/PreySelection/v104/models/model_asymmetry/common.jl, line 66\n",
      "│     isa(x, Array)\n",
      "│ end, a) ? flatten(vcat(map(flatten, a)...)):` at /Users/neil/GitHubRepo/Projects/PreySelection/v104/models/model_asymmetry/common.jl:66.\n",
      "│ Use `any(x -> begin\n",
      "│     # /Users/neil/GitHubRepo/Projects/PreySelection/v104/models/model_asymmetry/common.jl, line 66\n",
      "│     isa(x, Array)\n",
      "│ end, a) ? flatten(vcat(map(flatten, a)...)) :` instead.\n",
      "└ @ ~/GitHubRepo/Projects/PreySelection/v104/models/model_asymmetry/common.jl:66\n",
      "┌ Warning: Deprecated syntax `any(x -> begin\n",
      "│     # /Users/neil/GitHubRepo/Projects/PreySelection/v104/models/model_asymmetry/common.jl, line 66\n",
      "│     isa(x, Array)\n",
      "│ end, a)?` at /Users/neil/GitHubRepo/Projects/PreySelection/v104/models/model_asymmetry/common.jl:66.\n",
      "│ Use `any(x -> begin\n",
      "│     # /Users/neil/GitHubRepo/Projects/PreySelection/v104/models/model_asymmetry/common.jl, line 66\n",
      "│     isa(x, Array)\n",
      "│ end, a) ?` instead.\n",
      "└ @ ~/GitHubRepo/Projects/PreySelection/v104/models/model_asymmetry/common.jl:66\n",
      "┌ Warning: Deprecated syntax `any(x -> begin\n",
      "│     # /Users/neil/GitHubRepo/Projects/PreySelection/v104/models/model_asymmetry/common.jl, line 66\n",
      "│     isa(x, Array)\n",
      "│ end, a) ? flatten(vcat(map(flatten, a)...)):` at /Users/neil/GitHubRepo/Projects/PreySelection/v104/models/model_asymmetry/common.jl:66.\n",
      "│ Use `any(x -> begin\n",
      "│     # /Users/neil/GitHubRepo/Projects/PreySelection/v104/models/model_asymmetry/common.jl, line 66\n",
      "│     isa(x, Array)\n",
      "│ end, a) ? flatten(vcat(map(flatten, a)...)) :` instead.\n",
      "└ @ ~/GitHubRepo/Projects/PreySelection/v104/models/model_asymmetry/common.jl:66\n",
      "┌ Warning: Deprecated syntax `any(x -> begin\n",
      "│     # /Users/neil/GitHubRepo/Projects/PreySelection/v104/models/model_asymmetry/common.jl, line 66\n",
      "│     isa(x, Array)\n",
      "│ end, a)?` at /Users/neil/GitHubRepo/Projects/PreySelection/v104/models/model_asymmetry/common.jl:66.\n",
      "│ Use `any(x -> begin\n",
      "│     # /Users/neil/GitHubRepo/Projects/PreySelection/v104/models/model_asymmetry/common.jl, line 66\n",
      "│     isa(x, Array)\n",
      "│ end, a) ?` instead.\n",
      "└ @ ~/GitHubRepo/Projects/PreySelection/v104/models/model_asymmetry/common.jl:66\n",
      "┌ Warning: Deprecated syntax `any(x -> begin\n",
      "│     # /Users/neil/GitHubRepo/Projects/PreySelection/v104/models/model_asymmetry/common.jl, line 66\n",
      "│     isa(x, Array)\n",
      "│ end, a) ? flatten(vcat(map(flatten, a)...)):` at /Users/neil/GitHubRepo/Projects/PreySelection/v104/models/model_asymmetry/common.jl:66.\n",
      "│ Use `any(x -> begin\n",
      "│     # /Users/neil/GitHubRepo/Projects/PreySelection/v104/models/model_asymmetry/common.jl, line 66\n",
      "│     isa(x, Array)\n",
      "│ end, a) ? flatten(vcat(map(flatten, a)...)) :` instead.\n",
      "└ @ ~/GitHubRepo/Projects/PreySelection/v104/models/model_asymmetry/common.jl:66\n",
      "┌ Warning: Deprecated syntax `any(x -> begin\n",
      "│     # /Users/neil/GitHubRepo/Projects/PreySelection/v104/models/model_asymmetry/common.jl, line 66\n",
      "│     isa(x, Array)\n",
      "│ end, a)?` at /Users/neil/GitHubRepo/Projects/PreySelection/v104/models/model_asymmetry/common.jl:66.\n",
      "│ Use `any(x -> begin\n",
      "│     # /Users/neil/GitHubRepo/Projects/PreySelection/v104/models/model_asymmetry/common.jl, line 66\n",
      "│     isa(x, Array)\n",
      "│ end, a) ?` instead.\n",
      "└ @ ~/GitHubRepo/Projects/PreySelection/v104/models/model_asymmetry/common.jl:66\n",
      "┌ Warning: Deprecated syntax `any(x -> begin\n",
      "│     # /Users/neil/GitHubRepo/Projects/PreySelection/v104/models/model_asymmetry/common.jl, line 66\n",
      "│     isa(x, Array)\n",
      "│ end, a) ? flatten(vcat(map(flatten, a)...)):` at /Users/neil/GitHubRepo/Projects/PreySelection/v104/models/model_asymmetry/common.jl:66.\n",
      "│ Use `any(x -> begin\n",
      "│     # /Users/neil/GitHubRepo/Projects/PreySelection/v104/models/model_asymmetry/common.jl, line 66\n",
      "│     isa(x, Array)\n",
      "│ end, a) ? flatten(vcat(map(flatten, a)...)) :` instead.\n",
      "└ @ ~/GitHubRepo/Projects/PreySelection/v104/models/model_asymmetry/common.jl:66\n",
      "┌ Warning: Deprecated syntax `parametric method syntax flatten{T}(a::Array{T, 1})` around /Users/neil/GitHubRepo/Projects/PreySelection/v104/models/model_asymmetry/common.jl:66.\n",
      "│ Use `flatten(a::Array{T, 1}) where T` instead.\n",
      "└ @ ~/GitHubRepo/Projects/PreySelection/v104/models/model_asymmetry/common.jl:66\n",
      "┌ Warning: Deprecated syntax `parametric method syntax flatten{T}(a::Array{T})` around /Users/neil/GitHubRepo/Projects/PreySelection/v104/models/model_asymmetry/common.jl:67.\n",
      "│ Use `flatten(a::Array{T}) where T` instead.\n",
      "└ @ ~/GitHubRepo/Projects/PreySelection/v104/models/model_asymmetry/common.jl:67\n",
      "┌ Warning: Deprecated syntax `parametric method syntax flatten{T}(a::Array{T, 1})` around /Users/neil/GitHubRepo/Projects/PreySelection/v104/models/model_asymmetry/common.jl:66.\n",
      "│ Use `flatten(a::Array{T, 1}) where T` instead.\n",
      "└ @ ~/GitHubRepo/Projects/PreySelection/v104/models/model_asymmetry/common.jl:66\n",
      "┌ Warning: Deprecated syntax `parametric method syntax flatten{T}(a::Array{T})` around /Users/neil/GitHubRepo/Projects/PreySelection/v104/models/model_asymmetry/common.jl:67.\n",
      "│ Use `flatten(a::Array{T}) where T` instead.\n",
      "└ @ ~/GitHubRepo/Projects/PreySelection/v104/models/model_asymmetry/common.jl:67\n",
      "┌ Warning: Deprecated syntax `parametric method syntax flatten{T}(a::Array{T, 1})` around /Users/neil/GitHubRepo/Projects/PreySelection/v104/models/model_asymmetry/common.jl:66.\n",
      "│ Use `flatten(a::Array{T, 1}) where T` instead.\n",
      "└ @ ~/GitHubRepo/Projects/PreySelection/v104/models/model_asymmetry/common.jl:66\n",
      "┌ Warning: Deprecated syntax `parametric method syntax flatten{T}(a::Array{T})` around /Users/neil/GitHubRepo/Projects/PreySelection/v104/models/model_asymmetry/common.jl:67.\n",
      "│ Use `flatten(a::Array{T}) where T` instead.\n",
      "└ @ ~/GitHubRepo/Projects/PreySelection/v104/models/model_asymmetry/common.jl:67\n",
      "┌ Warning: Deprecated syntax `parametric method syntax flatten{T}(a::Array{T, 1})` around /Users/neil/GitHubRepo/Projects/PreySelection/v104/models/model_asymmetry/common.jl:66.\n",
      "│ Use `flatten(a::Array{T, 1}) where T` instead.\n",
      "└ @ ~/GitHubRepo/Projects/PreySelection/v104/models/model_asymmetry/common.jl:66\n",
      "┌ Warning: Deprecated syntax `parametric method syntax flatten{T}(a::Array{T})` around /Users/neil/GitHubRepo/Projects/PreySelection/v104/models/model_asymmetry/common.jl:67.\n",
      "│ Use `flatten(a::Array{T}) where T` instead.\n",
      "└ @ ~/GitHubRepo/Projects/PreySelection/v104/models/model_asymmetry/common.jl:67\n",
      "┌ Warning: Deprecated syntax `try without catch or finally` at /Users/neil/GitHubRepo/Projects/PreySelection/v104/models/model_asymmetry/genVars.jl:17.\n",
      "└ @ ~/GitHubRepo/Projects/PreySelection/v104/models/model_asymmetry/genVars.jl:17\n",
      "┌ Warning: Deprecated syntax `try without catch or finally` at /Users/neil/GitHubRepo/Projects/PreySelection/v104/models/model_asymmetry/genVars.jl:17.\n",
      "└ @ ~/GitHubRepo/Projects/PreySelection/v104/models/model_asymmetry/genVars.jl:17\n",
      "┌ Warning: Deprecated syntax `try without catch or finally` at /Users/neil/GitHubRepo/Projects/PreySelection/v104/models/model_asymmetry/genVars.jl:17.\n",
      "└ @ ~/GitHubRepo/Projects/PreySelection/v104/models/model_asymmetry/genVars.jl:17\n",
      "┌ Warning: Deprecated syntax `try without catch or finally` at /Users/neil/GitHubRepo/Projects/PreySelection/v104/models/model_asymmetry/genVars.jl:17.\n",
      "└ @ nothing /Users/neil/GitHubRepo/Projects/PreySelection/v104/models/model_asymmetry/genVars.jl:17\n",
      "┌ Warning: Deprecated syntax `try without catch or finally` at /Users/neil/GitHubRepo/Projects/PreySelection/v104/models/model_asymmetry/genVars.jl:17.\n",
      "└ @ ~/GitHubRepo/Projects/PreySelection/v104/models/model_asymmetry/genVars.jl:17\n",
      "┌ Warning: Deprecated syntax `try without catch or finally` at /Users/neil/GitHubRepo/Projects/PreySelection/v104/models/model_asymmetry/genVars.jl:17.\n",
      "└ @ ~/GitHubRepo/Projects/PreySelection/v104/models/model_asymmetry/genVars.jl:17\n"
     ]
    },
    {
     "name": "stderr",
     "output_type": "stream",
     "text": [
      "┌ Warning: Deprecated syntax `try without catch or finally` at /Users/neil/GitHubRepo/Projects/PreySelection/v104/models/model_asymmetry/genVars.jl:17.\n",
      "└ @ ~/GitHubRepo/Projects/PreySelection/v104/models/model_asymmetry/genVars.jl:17\n",
      "┌ Warning: Deprecated syntax `try without catch or finally` at /Users/neil/GitHubRepo/Projects/PreySelection/v104/models/model_asymmetry/genVars.jl:17.\n",
      "└ @ ~/GitHubRepo/Projects/PreySelection/v104/models/model_asymmetry/genVars.jl:17\n",
      "┌ Warning: Deprecated syntax `try without catch or finally` at /Users/neil/GitHubRepo/Projects/PreySelection/v104/models/model_asymmetry/genVars.jl:17.\n",
      "└ @ ~/GitHubRepo/Projects/PreySelection/v104/models/model_asymmetry/genVars.jl:17\n"
     ]
    }
   ],
   "source": [
    "# load required libraries\n",
    "using Distributed\n",
    "\n",
    "# # set everything up\n",
    "parallel = true # Run on multiple CPUs. \n",
    "\n",
    "# this activates the multiprocessing threads\n",
    "if (parallel)\n",
    "\t# only run this once\n",
    "    addprocs(4)\n",
    "end\n",
    "\n",
    "# load required libraries\n",
    "\n",
    "@everywhere using DataFrames\n",
    "#using DataArrays\n",
    "@everywhere using ForwardDiff\n",
    "@everywhere using PyCall\n",
    "@everywhere using Distributions\n",
    "@everywhere using PyPlot\n",
    "@everywhere using CSV\n",
    "@everywhere using SpecialFunctions\n",
    "@everywhere using SharedArrays\n",
    "@everywhere using LinearAlgebra\n",
    "\n",
    "@everywhere PyCall.@pyimport scipy.optimize as so\n",
    "\n",
    "# this is the code for the actual fitting routines\n",
    "@everywhere include(\"em.jl\")\n",
    "@everywhere include(\"common.jl\")\n",
    "@everywhere include(\"likfuns.jl\")\n",
    "\n",
    "# this is generates starting matricies for betas, sigmas etc to feed into model\n",
    "@everywhere include(\"genVars.jl\")"
   ]
  },
  {
   "cell_type": "markdown",
   "metadata": {
    "heading_collapsed": true
   },
   "source": [
    "# Data read and process"
   ]
  },
  {
   "cell_type": "markdown",
   "metadata": {
    "heading_collapsed": true,
    "hidden": true
   },
   "source": [
    "### Read in trial by trial data"
   ]
  },
  {
   "cell_type": "code",
   "execution_count": 12,
   "metadata": {
    "hidden": true
   },
   "outputs": [
    {
     "name": "stderr",
     "output_type": "stream",
     "text": [
      "┌ Warning: readtable is deprecated, use CSV.read from the CSV package instead\n",
      "│   caller = top-level scope at In[12]:1\n",
      "└ @ Core In[12]:1\n"
     ]
    },
    {
     "data": {
      "text/html": [
       "<table class=\"data-frame\"><thead><tr><th></th><th>subj</th><th>trial_index_actual</th><th>block</th><th>stimulus</th><th>stim_rank</th><th>reward_percent</th><th>delay_s</th><th>profitability</th><th>stim_left_right</th><th>key_press</th><th>approach_avoid</th><th>rt</th><th>rt_z</th><th>force_trial</th><th>missed</th><th>order_condition</th><th>exclude</th><th>exclude_reason</th></tr><tr><th></th><th>Int64⍰</th><th>Int64⍰</th><th>Int64⍰</th><th>String⍰</th><th>Int64⍰</th><th>Int64⍰</th><th>Int64⍰</th><th>Float64⍰</th><th>String⍰</th><th>Int64⍰</th><th>Float64⍰</th><th>Float64⍰</th><th>Float64⍰</th><th>Int64⍰</th><th>Int64⍰</th><th>Int64⍰</th><th>Int64⍰</th><th>String⍰</th></tr></thead><tbody><tr><th>1</th><td>1</td><td>0</td><td>0</td><td>../static/images/invador3.png</td><td>3</td><td>80</td><td>8</td><td>10.0</td><td>right</td><td>70</td><td>-1.0</td><td>1299.0</td><td>2.41977</td><td>2</td><td>0</td><td>1</td><td>1</td><td>poor behaviour</td></tr><tr><th>2</th><td>1</td><td>1</td><td>0</td><td>../static/images/invador1.png</td><td>1</td><td>80</td><td>2</td><td>40.0</td><td>left</td><td>70</td><td>1.0</td><td>1256.0</td><td>2.13807</td><td>0</td><td>0</td><td>1</td><td>1</td><td>poor behaviour</td></tr><tr><th>3</th><td>1</td><td>2</td><td>0</td><td>../static/images/invador1.png</td><td>1</td><td>80</td><td>2</td><td>40.0</td><td>right</td><td>74</td><td>1.0</td><td>923.0</td><td>-0.0434644</td><td>0</td><td>0</td><td>1</td><td>1</td><td>poor behaviour</td></tr><tr><th>4</th><td>1</td><td>3</td><td>0</td><td>../static/images/invador1.png</td><td>1</td><td>80</td><td>2</td><td>40.0</td><td>right</td><td>74</td><td>1.0</td><td>1005.0</td><td>0.49373</td><td>0</td><td>0</td><td>1</td><td>1</td><td>poor behaviour</td></tr><tr><th>5</th><td>1</td><td>4</td><td>0</td><td>../static/images/invador1.png</td><td>1</td><td>80</td><td>2</td><td>40.0</td><td>right</td><td>74</td><td>1.0</td><td>914.0</td><td>-0.102425</td><td>1</td><td>0</td><td>1</td><td>1</td><td>poor behaviour</td></tr><tr><th>6</th><td>1</td><td>5</td><td>0</td><td>../static/images/invador2.png</td><td>2</td><td>20</td><td>2</td><td>10.0</td><td>left</td><td>74</td><td>-1.0</td><td>969.0</td><td>0.257889</td><td>2</td><td>0</td><td>1</td><td>1</td><td>poor behaviour</td></tr></tbody></table>"
      ],
      "text/latex": [
       "\\begin{tabular}{r|cccccccccccccccccc}\n",
       "\t& subj & trial\\_index\\_actual & block & stimulus & stim\\_rank & reward\\_percent & delay\\_s & profitability & stim\\_left\\_right & key\\_press & approach\\_avoid & rt & rt\\_z & force\\_trial & missed & order\\_condition & exclude & exclude\\_reason\\\\\n",
       "\t\\hline\n",
       "\t1 & 1 & 0 & 0 & ../static/images/invador3.png & 3 & 80 & 8 & 10.0 & right & 70 & -1.0 & 1299.0 & 2.41977 & 2 & 0 & 1 & 1 & poor behaviour \\\\\n",
       "\t2 & 1 & 1 & 0 & ../static/images/invador1.png & 1 & 80 & 2 & 40.0 & left & 70 & 1.0 & 1256.0 & 2.13807 & 0 & 0 & 1 & 1 & poor behaviour \\\\\n",
       "\t3 & 1 & 2 & 0 & ../static/images/invador1.png & 1 & 80 & 2 & 40.0 & right & 74 & 1.0 & 923.0 & -0.0434644 & 0 & 0 & 1 & 1 & poor behaviour \\\\\n",
       "\t4 & 1 & 3 & 0 & ../static/images/invador1.png & 1 & 80 & 2 & 40.0 & right & 74 & 1.0 & 1005.0 & 0.49373 & 0 & 0 & 1 & 1 & poor behaviour \\\\\n",
       "\t5 & 1 & 4 & 0 & ../static/images/invador1.png & 1 & 80 & 2 & 40.0 & right & 74 & 1.0 & 914.0 & -0.102425 & 1 & 0 & 1 & 1 & poor behaviour \\\\\n",
       "\t6 & 1 & 5 & 0 & ../static/images/invador2.png & 2 & 20 & 2 & 10.0 & left & 74 & -1.0 & 969.0 & 0.257889 & 2 & 0 & 1 & 1 & poor behaviour \\\\\n",
       "\\end{tabular}\n"
      ],
      "text/plain": [
       "6×18 DataFrame. Omitted printing of 14 columns\n",
       "│ Row │ subj   │ trial_index_actual │ block  │ stimulus                      │\n",
       "│     │ \u001b[90mInt64⍰\u001b[39m │ \u001b[90mInt64⍰\u001b[39m             │ \u001b[90mInt64⍰\u001b[39m │ \u001b[90mUnion{Missing, String}\u001b[39m        │\n",
       "├─────┼────────┼────────────────────┼────────┼───────────────────────────────┤\n",
       "│ 1   │ 1      │ 0                  │ 0      │ ../static/images/invador3.png │\n",
       "│ 2   │ 1      │ 1                  │ 0      │ ../static/images/invador1.png │\n",
       "│ 3   │ 1      │ 2                  │ 0      │ ../static/images/invador1.png │\n",
       "│ 4   │ 1      │ 3                  │ 0      │ ../static/images/invador1.png │\n",
       "│ 5   │ 1      │ 4                  │ 0      │ ../static/images/invador1.png │\n",
       "│ 6   │ 1      │ 5                  │ 0      │ ../static/images/invador2.png │"
      ]
     },
     "execution_count": 12,
     "metadata": {},
     "output_type": "execute_result"
    }
   ],
   "source": [
    "#read in csv file of the data\n",
    "#trial by trial data: note will include force trials and missed responses\n",
    "df = readtable(\"/Users/neil/GitHubRepo/Projects/PreySelection/v104/data/trialdata_104_processed.csv\")\n",
    "\n",
    "#display header\n",
    "head(df)\n"
   ]
  },
  {
   "cell_type": "markdown",
   "metadata": {
    "hidden": true
   },
   "source": [
    "### Append data with the column \"sub\" \n"
   ]
  },
  {
   "cell_type": "code",
   "execution_count": 13,
   "metadata": {
    "collapsed": true,
    "hidden": true
   },
   "outputs": [],
   "source": [
    "#this is just a replica of the existing column sub_no but think em looks for \"sub\" specifically\n",
    "df[:sub] = df[:subj];\n"
   ]
  },
  {
   "cell_type": "markdown",
   "metadata": {
    "hidden": true
   },
   "source": [
    "### Get rid of excluded subs"
   ]
  },
  {
   "cell_type": "code",
   "execution_count": 14,
   "metadata": {
    "collapsed": true,
    "hidden": true
   },
   "outputs": [],
   "source": [
    "df = df[df[:exclude].==0,:];\n"
   ]
  },
  {
   "cell_type": "markdown",
   "metadata": {
    "hidden": true
   },
   "source": [
    "### Convert approach avoid to 2s and 1s , missed as 0. Then convert to integers (necessary to use as an index)"
   ]
  },
  {
   "cell_type": "code",
   "execution_count": 15,
   "metadata": {
    "hidden": true
   },
   "outputs": [
    {
     "name": "stderr",
     "output_type": "stream",
     "text": [
      "┌ Warning: `find(A::AbstractVector)` is deprecated, use `findall(A)` instead.\n",
      "│   caller = top-level scope at In[15]:4\n",
      "└ @ Core In[15]:4\n"
     ]
    },
    {
     "data": {
      "text/html": [
       "<table class=\"data-frame\"><thead><tr><th></th><th>subj</th><th>trial_index_actual</th><th>block</th><th>stimulus</th><th>stim_rank</th><th>reward_percent</th><th>delay_s</th><th>profitability</th><th>stim_left_right</th><th>key_press</th><th>approach_avoid</th><th>rt</th><th>rt_z</th><th>force_trial</th><th>missed</th><th>order_condition</th><th>exclude</th><th>exclude_reason</th><th>sub</th></tr><tr><th></th><th>Int64⍰</th><th>Int64⍰</th><th>Int64⍰</th><th>String⍰</th><th>Int64⍰</th><th>Int64⍰</th><th>Int64⍰</th><th>Float64⍰</th><th>String⍰</th><th>Int64⍰</th><th>Integer</th><th>Float64⍰</th><th>Float64⍰</th><th>Int64⍰</th><th>Int64⍰</th><th>Int64⍰</th><th>Int64⍰</th><th>String⍰</th><th>Int64⍰</th></tr></thead><tbody><tr><th>1</th><td>2</td><td>0</td><td>1</td><td>../static/images/invador1.png</td><td>4</td><td>20</td><td>8</td><td>2.5</td><td>right</td><td>74</td><td>2</td><td>1253.0</td><td>1.13279</td><td>0</td><td>0</td><td>2</td><td>0</td><td>do not exclude</td><td>2</td></tr><tr><th>2</th><td>2</td><td>1</td><td>1</td><td>../static/images/invador1.png</td><td>4</td><td>20</td><td>8</td><td>2.5</td><td>right</td><td>-1</td><td>0</td><td>NaN</td><td>NaN</td><td>0</td><td>1</td><td>2</td><td>0</td><td>do not exclude</td><td>2</td></tr><tr><th>3</th><td>2</td><td>2</td><td>1</td><td>../static/images/invador3.png</td><td>2</td><td>20</td><td>2</td><td>10.0</td><td>right</td><td>74</td><td>2</td><td>1185.0</td><td>0.859417</td><td>0</td><td>0</td><td>2</td><td>0</td><td>do not exclude</td><td>2</td></tr><tr><th>4</th><td>2</td><td>3</td><td>1</td><td>../static/images/invador4.png</td><td>1</td><td>80</td><td>2</td><td>40.0</td><td>left</td><td>70</td><td>2</td><td>1148.0</td><td>0.710668</td><td>0</td><td>0</td><td>2</td><td>0</td><td>do not exclude</td><td>2</td></tr><tr><th>5</th><td>2</td><td>4</td><td>1</td><td>../static/images/invador1.png</td><td>4</td><td>20</td><td>8</td><td>2.5</td><td>right</td><td>70</td><td>1</td><td>1156.0</td><td>0.74283</td><td>2</td><td>0</td><td>2</td><td>0</td><td>do not exclude</td><td>2</td></tr><tr><th>6</th><td>2</td><td>5</td><td>1</td><td>../static/images/invador1.png</td><td>4</td><td>20</td><td>8</td><td>2.5</td><td>left</td><td>70</td><td>0</td><td>NaN</td><td>NaN</td><td>0</td><td>1</td><td>2</td><td>0</td><td>do not exclude</td><td>2</td></tr></tbody></table>"
      ],
      "text/latex": [
       "\\begin{tabular}{r|ccccccccccccccccccc}\n",
       "\t& subj & trial\\_index\\_actual & block & stimulus & stim\\_rank & reward\\_percent & delay\\_s & profitability & stim\\_left\\_right & key\\_press & approach\\_avoid & rt & rt\\_z & force\\_trial & missed & order\\_condition & exclude & exclude\\_reason & sub\\\\\n",
       "\t\\hline\n",
       "\t1 & 2 & 0 & 1 & ../static/images/invador1.png & 4 & 20 & 8 & 2.5 & right & 74 & 2 & 1253.0 & 1.13279 & 0 & 0 & 2 & 0 & do not exclude & 2 \\\\\n",
       "\t2 & 2 & 1 & 1 & ../static/images/invador1.png & 4 & 20 & 8 & 2.5 & right & -1 & 0 & NaN & NaN & 0 & 1 & 2 & 0 & do not exclude & 2 \\\\\n",
       "\t3 & 2 & 2 & 1 & ../static/images/invador3.png & 2 & 20 & 2 & 10.0 & right & 74 & 2 & 1185.0 & 0.859417 & 0 & 0 & 2 & 0 & do not exclude & 2 \\\\\n",
       "\t4 & 2 & 3 & 1 & ../static/images/invador4.png & 1 & 80 & 2 & 40.0 & left & 70 & 2 & 1148.0 & 0.710668 & 0 & 0 & 2 & 0 & do not exclude & 2 \\\\\n",
       "\t5 & 2 & 4 & 1 & ../static/images/invador1.png & 4 & 20 & 8 & 2.5 & right & 70 & 1 & 1156.0 & 0.74283 & 2 & 0 & 2 & 0 & do not exclude & 2 \\\\\n",
       "\t6 & 2 & 5 & 1 & ../static/images/invador1.png & 4 & 20 & 8 & 2.5 & left & 70 & 0 & NaN & NaN & 0 & 1 & 2 & 0 & do not exclude & 2 \\\\\n",
       "\\end{tabular}\n"
      ],
      "text/plain": [
       "6×19 DataFrame. Omitted printing of 15 columns\n",
       "│ Row │ subj   │ trial_index_actual │ block  │ stimulus                      │\n",
       "│     │ \u001b[90mInt64⍰\u001b[39m │ \u001b[90mInt64⍰\u001b[39m             │ \u001b[90mInt64⍰\u001b[39m │ \u001b[90mUnion{Missing, String}\u001b[39m        │\n",
       "├─────┼────────┼────────────────────┼────────┼───────────────────────────────┤\n",
       "│ 1   │ 2      │ 0                  │ 1      │ ../static/images/invador1.png │\n",
       "│ 2   │ 2      │ 1                  │ 1      │ ../static/images/invador1.png │\n",
       "│ 3   │ 2      │ 2                  │ 1      │ ../static/images/invador3.png │\n",
       "│ 4   │ 2      │ 3                  │ 1      │ ../static/images/invador4.png │\n",
       "│ 5   │ 2      │ 4                  │ 1      │ ../static/images/invador1.png │\n",
       "│ 6   │ 2      │ 5                  │ 1      │ ../static/images/invador1.png │"
      ]
     },
     "execution_count": 15,
     "metadata": {},
     "output_type": "execute_result"
    }
   ],
   "source": [
    "#convert approach_avoid to 1s (avoid) and 2s (approach)\n",
    "df[df[:approach_avoid].==1,:approach_avoid] = 2\n",
    "df[df[:approach_avoid].==-1,:approach_avoid] = 1\n",
    "\n",
    "index_NaN = find(isnan.(df[:approach_avoid]))\n",
    "df[index_NaN, :approach_avoid] = 0\n",
    "\n",
    "df[:approach_avoid] = convert(Vector{Integer}, df[:approach_avoid])\n",
    "\n",
    "head(df)\n"
   ]
  },
  {
   "cell_type": "markdown",
   "metadata": {
    "hidden": true
   },
   "source": [
    "### Read in summary stats"
   ]
  },
  {
   "cell_type": "code",
   "execution_count": 16,
   "metadata": {
    "hidden": true
   },
   "outputs": [
    {
     "name": "stderr",
     "output_type": "stream",
     "text": [
      "┌ Warning: readtable is deprecated, use CSV.read from the CSV package instead\n",
      "│   caller = top-level scope at In[16]:1\n",
      "└ @ Core In[16]:1\n"
     ]
    },
    {
     "data": {
      "text/html": [
       "<table class=\"data-frame\"><thead><tr><th></th><th>MturkID</th><th>AssignID</th><th>sub_no</th><th>age</th><th>gender</th><th>n_trials</th><th>n_force_wrong</th><th>n_missed</th><th>bonus_payment</th><th>percent_accept_A1</th><th>percent_accept_A2</th><th>percent_accept_A3</th><th>percent_accept_A4</th><th>percent_accept_A2_A3</th><th>percent_accept_B1</th><th>percent_accept_B2</th><th>percent_accept_B3</th><th>percent_accept_B4</th><th>percent_accept_B2_B3</th><th>percent_accept_B1_min_A1</th><th>percent_accept_B2_min_A2</th><th>percent_accept_B3_min_A3</th><th>percent_accept_B4_min_A4</th><th>percent_accept_B2_B3_min_A2_A3</th><th>percent_accept_AB1</th><th>percent_accept_AB2</th><th>percent_accept_AB3</th><th>percent_accept_AB4</th><th>percent_accept_AB2_AB3</th><th>exclude</th><th>exclude_reason</th><th>order_condition</th><th>comment</th></tr><tr><th></th><th>String⍰</th><th>String⍰</th><th>Int64⍰</th><th>Int64⍰</th><th>String⍰</th><th>Int64⍰</th><th>Int64⍰</th><th>Int64⍰</th><th>Float64⍰</th><th>Float64⍰</th><th>Float64⍰</th><th>Float64⍰</th><th>Float64⍰</th><th>Float64⍰</th><th>Float64⍰</th><th>Float64⍰</th><th>Float64⍰</th><th>Float64⍰</th><th>Float64⍰</th><th>Float64⍰</th><th>Float64⍰</th><th>Float64⍰</th><th>Float64⍰</th><th>Float64⍰</th><th>Float64⍰</th><th>Float64⍰</th><th>Float64⍰</th><th>Float64⍰</th><th>Float64⍰</th><th>Int64⍰</th><th>String⍰</th><th>Int64⍰</th><th>String⍰</th></tr></thead><tbody><tr><th>1</th><td>AA4KKLIU4C3NY</td><td>3YDGXNSEOZUCKHRBBCHD5KZ8AU0483</td><td>1</td><td>42</td><td>male</td><td>170</td><td>6</td><td>14</td><td>2.4</td><td>0.977273</td><td>1.0</td><td>1.0</td><td>1.0</td><td>1.0</td><td>1.0</td><td>1.0</td><td>1.0</td><td>1.0</td><td>1.0</td><td>0.0227273</td><td>0.0</td><td>0.0</td><td>0.0</td><td>0.0</td><td>0.98</td><td>1.0</td><td>1.0</td><td>1.0</td><td>1.0</td><td>1</td><td>poor behaviour</td><td>1</td><td>It was fun and interesting.  Thank you!</td></tr><tr><th>2</th><td>ASPRULQHB8B1F</td><td>3YW4XOSQKQLTQF15RXZG3EAUV1HU1V</td><td>2</td><td>32</td><td>Male</td><td>318</td><td>3</td><td>5</td><td>2.8</td><td>1.0</td><td>0.0</td><td>0.0833333</td><td>0.0</td><td>0.037037</td><td>1.0</td><td>0.0588235</td><td>0.8</td><td>0.0166667</td><td>0.40625</td><td>0.0</td><td>0.0588235</td><td>0.716667</td><td>0.0166667</td><td>0.369213</td><td>1.0</td><td>0.03125</td><td>0.481481</td><td>0.0126582</td><td>0.237288</td><td>0</td><td>do not exclude</td><td>2</td><td></td></tr><tr><th>3</th><td>A1W8B7P1WVD7TX</td><td>3L6L49WXW0XTXZ89DEAAT0PH84Z451</td><td>3</td><td>20</td><td>p</td><td>308</td><td>4</td><td>11</td><td>2.6</td><td>1.0</td><td>0.533333</td><td>0.214286</td><td>0.142857</td><td>0.37931</td><td>1.0</td><td>1.0</td><td>0.0625</td><td>0.0133333</td><td>0.516129</td><td>0.0</td><td>0.466667</td><td>-0.151786</td><td>-0.129524</td><td>0.136819</td><td>1.0</td><td>0.766667</td><td>0.133333</td><td>0.0337079</td><td>0.45</td><td>0</td><td>do not exclude</td><td>1</td><td></td></tr><tr><th>4</th><td>A1XA3QOXDTGCDL</td><td>3VSOLARPKB9RGQRHGQI8VB2DG0693W</td><td>4</td><td>27</td><td>f</td><td>276</td><td>0</td><td>0</td><td>2.7</td><td>1.0</td><td>1.0</td><td>0.0</td><td>0.0</td><td>0.5</td><td>1.0</td><td>1.0</td><td>0.933333</td><td>0.037037</td><td>0.961538</td><td>0.0</td><td>0.0</td><td>0.933333</td><td>0.037037</td><td>0.461538</td><td>1.0</td><td>1.0</td><td>0.466667</td><td>0.0294118</td><td>0.714286</td><td>0</td><td>do not exclude</td><td>2</td><td>this was a lot of fun!!!!</td></tr><tr><th>5</th><td>A10QZA83T80YA3</td><td>3UXUOQ9OKEXNMS29A8ZY4NPDRK37A7</td><td>5</td><td>29</td><td>f</td><td>266</td><td>1</td><td>2</td><td>2.7</td><td>1.0</td><td>1.0</td><td>0.5</td><td>0.181818</td><td>0.777778</td><td>0.866667</td><td>1.0</td><td>1.0</td><td>0.157895</td><td>1.0</td><td>-0.133333</td><td>0.0</td><td>0.5</td><td>-0.0239234</td><td>0.222222</td><td>0.969697</td><td>1.0</td><td>0.76</td><td>0.161765</td><td>0.896552</td><td>0</td><td>do not exclude</td><td>2</td><td></td></tr><tr><th>6</th><td>A3RQN5RZD1N2KP</td><td>3M23Y66PO278IOAY8YGXJ9JNJLCS6O</td><td>6</td><td>45</td><td>f</td><td>291</td><td>0</td><td>1</td><td>2.8</td><td>1.0</td><td>0.0588235</td><td>0.1</td><td>0.1875</td><td>0.0810811</td><td>1.0</td><td>1.0</td><td>1.0</td><td>0.0181818</td><td>1.0</td><td>0.0</td><td>0.941176</td><td>0.9</td><td>-0.169318</td><td>0.918919</td><td>1.0</td><td>0.466667</td><td>0.485714</td><td>0.056338</td><td>0.476923</td><td>0</td><td>do not exclude</td><td>1</td><td>It was a lot of fun and I'd love to do more like this.</td></tr></tbody></table>"
      ],
      "text/latex": [
       "\\begin{tabular}{r|ccccccccccccccccccccccccccccccccc}\n",
       "\t& MturkID & AssignID & sub\\_no & age & gender & n\\_trials & n\\_force\\_wrong & n\\_missed & bonus\\_payment & percent\\_accept\\_A1 & percent\\_accept\\_A2 & percent\\_accept\\_A3 & percent\\_accept\\_A4 & percent\\_accept\\_A2\\_A3 & percent\\_accept\\_B1 & percent\\_accept\\_B2 & percent\\_accept\\_B3 & percent\\_accept\\_B4 & percent\\_accept\\_B2\\_B3 & percent\\_accept\\_B1\\_min\\_A1 & percent\\_accept\\_B2\\_min\\_A2 & percent\\_accept\\_B3\\_min\\_A3 & percent\\_accept\\_B4\\_min\\_A4 & percent\\_accept\\_B2\\_B3\\_min\\_A2\\_A3 & percent\\_accept\\_AB1 & percent\\_accept\\_AB2 & percent\\_accept\\_AB3 & percent\\_accept\\_AB4 & percent\\_accept\\_AB2\\_AB3 & exclude & exclude\\_reason & order\\_condition & comment\\\\\n",
       "\t\\hline\n",
       "\t1 & AA4KKLIU4C3NY & 3YDGXNSEOZUCKHRBBCHD5KZ8AU0483 & 1 & 42 & male & 170 & 6 & 14 & 2.4 & 0.977273 & 1.0 & 1.0 & 1.0 & 1.0 & 1.0 & 1.0 & 1.0 & 1.0 & 1.0 & 0.0227273 & 0.0 & 0.0 & 0.0 & 0.0 & 0.98 & 1.0 & 1.0 & 1.0 & 1.0 & 1 & poor behaviour & 1 & It was fun and interesting.  Thank you! \\\\\n",
       "\t2 & ASPRULQHB8B1F & 3YW4XOSQKQLTQF15RXZG3EAUV1HU1V & 2 & 32 & Male & 318 & 3 & 5 & 2.8 & 1.0 & 0.0 & 0.0833333 & 0.0 & 0.037037 & 1.0 & 0.0588235 & 0.8 & 0.0166667 & 0.40625 & 0.0 & 0.0588235 & 0.716667 & 0.0166667 & 0.369213 & 1.0 & 0.03125 & 0.481481 & 0.0126582 & 0.237288 & 0 & do not exclude & 2 &  \\\\\n",
       "\t3 & A1W8B7P1WVD7TX & 3L6L49WXW0XTXZ89DEAAT0PH84Z451 & 3 & 20 & p & 308 & 4 & 11 & 2.6 & 1.0 & 0.533333 & 0.214286 & 0.142857 & 0.37931 & 1.0 & 1.0 & 0.0625 & 0.0133333 & 0.516129 & 0.0 & 0.466667 & -0.151786 & -0.129524 & 0.136819 & 1.0 & 0.766667 & 0.133333 & 0.0337079 & 0.45 & 0 & do not exclude & 1 &  \\\\\n",
       "\t4 & A1XA3QOXDTGCDL & 3VSOLARPKB9RGQRHGQI8VB2DG0693W & 4 & 27 & f & 276 & 0 & 0 & 2.7 & 1.0 & 1.0 & 0.0 & 0.0 & 0.5 & 1.0 & 1.0 & 0.933333 & 0.037037 & 0.961538 & 0.0 & 0.0 & 0.933333 & 0.037037 & 0.461538 & 1.0 & 1.0 & 0.466667 & 0.0294118 & 0.714286 & 0 & do not exclude & 2 & this was a lot of fun!!!! \\\\\n",
       "\t5 & A10QZA83T80YA3 & 3UXUOQ9OKEXNMS29A8ZY4NPDRK37A7 & 5 & 29 & f & 266 & 1 & 2 & 2.7 & 1.0 & 1.0 & 0.5 & 0.181818 & 0.777778 & 0.866667 & 1.0 & 1.0 & 0.157895 & 1.0 & -0.133333 & 0.0 & 0.5 & -0.0239234 & 0.222222 & 0.969697 & 1.0 & 0.76 & 0.161765 & 0.896552 & 0 & do not exclude & 2 &  \\\\\n",
       "\t6 & A3RQN5RZD1N2KP & 3M23Y66PO278IOAY8YGXJ9JNJLCS6O & 6 & 45 & f & 291 & 0 & 1 & 2.8 & 1.0 & 0.0588235 & 0.1 & 0.1875 & 0.0810811 & 1.0 & 1.0 & 1.0 & 0.0181818 & 1.0 & 0.0 & 0.941176 & 0.9 & -0.169318 & 0.918919 & 1.0 & 0.466667 & 0.485714 & 0.056338 & 0.476923 & 0 & do not exclude & 1 & It was a lot of fun and I'd love to do more like this. \\\\\n",
       "\\end{tabular}\n"
      ],
      "text/plain": [
       "6×33 DataFrame. Omitted printing of 29 columns\n",
       "│ Row │ MturkID        │ AssignID                       │ sub_no │ age    │\n",
       "│     │ \u001b[90mString⍰\u001b[39m        │ \u001b[90mUnion{Missing, String}\u001b[39m         │ \u001b[90mInt64⍰\u001b[39m │ \u001b[90mInt64⍰\u001b[39m │\n",
       "├─────┼────────────────┼────────────────────────────────┼────────┼────────┤\n",
       "│ 1   │ AA4KKLIU4C3NY  │ 3YDGXNSEOZUCKHRBBCHD5KZ8AU0483 │ 1      │ 42     │\n",
       "│ 2   │ ASPRULQHB8B1F  │ 3YW4XOSQKQLTQF15RXZG3EAUV1HU1V │ 2      │ 32     │\n",
       "│ 3   │ A1W8B7P1WVD7TX │ 3L6L49WXW0XTXZ89DEAAT0PH84Z451 │ 3      │ 20     │\n",
       "│ 4   │ A1XA3QOXDTGCDL │ 3VSOLARPKB9RGQRHGQI8VB2DG0693W │ 4      │ 27     │\n",
       "│ 5   │ A10QZA83T80YA3 │ 3UXUOQ9OKEXNMS29A8ZY4NPDRK37A7 │ 5      │ 29     │\n",
       "│ 6   │ A3RQN5RZD1N2KP │ 3M23Y66PO278IOAY8YGXJ9JNJLCS6O │ 6      │ 45     │"
      ]
     },
     "execution_count": 16,
     "metadata": {},
     "output_type": "execute_result"
    }
   ],
   "source": [
    "summary_stats = readtable(\"/Users/neil/GitHubRepo/Projects/PreySelection/v104/data/subdata_104.csv\")\n",
    "head(summary_stats)"
   ]
  },
  {
   "cell_type": "markdown",
   "metadata": {
    "hidden": true
   },
   "source": [
    "### Get rid of excluded subs"
   ]
  },
  {
   "cell_type": "code",
   "execution_count": 17,
   "metadata": {
    "collapsed": true,
    "hidden": true
   },
   "outputs": [],
   "source": [
    "summary_stats = summary_stats[summary_stats[:exclude].==0,:];\n"
   ]
  },
  {
   "cell_type": "markdown",
   "metadata": {
    "hidden": true
   },
   "source": [
    "### Get rid of Mturk ID etc (first 3 columns)"
   ]
  },
  {
   "cell_type": "code",
   "execution_count": 18,
   "metadata": {
    "hidden": true
   },
   "outputs": [
    {
     "name": "stderr",
     "output_type": "stream",
     "text": [
      "┌ Warning: indexing with colon as row will create a copy in the future use df[col_inds] to get the columns without copying\n",
      "│   caller = top-level scope at In[18]:1\n",
      "└ @ Core In[18]:1\n"
     ]
    }
   ],
   "source": [
    "summary_stats = summary_stats[:,4:end];"
   ]
  },
  {
   "cell_type": "markdown",
   "metadata": {},
   "source": [
    "# Asymmetry Model\n",
    "\n",
    "This model comprises: \n",
    "\n",
    "1. An intercept which reflects degree of bias to reject.\n",
    "\n",
    "2. A beta (termperature parameter) which controls sensitivity to the difference between the options (0 = pick 50/50. Higher it is, the more sensative subs are tothe different options (more step functionesque). <br>\n",
    "\n",
    "3. Two learning rates: one for appetative component (reward), one for aversive (delay)\n",
    "\n",
    "Uses Q learned average to predict choice\n",
    "\n",
    "Initalise Qaverage in model at the arithmetic average over all subs over both sessions"
   ]
  },
  {
   "cell_type": "code",
   "execution_count": 36,
   "metadata": {
    "collapsed": true
   },
   "outputs": [],
   "source": [
    "@everywhere function model_asymmetry(params, data)\n",
    "     \n",
    "    #model parameters\n",
    "    intercept = params[1]\n",
    "    beta = params[2]\n",
    "    lr_reward = 0.5 .+ 0.5.*erf(params[3]/sqrt(2))\n",
    "    lr_delay = 0.5 .+ 0.5.*erf(params[4]/sqrt(2))\n",
    "    \n",
    "    #initalise various variables\n",
    "    delay_sum = zeros(typeof(beta),1)\n",
    "    reward_sum = zeros(typeof(beta),1)\n",
    "    Q_arithmetic = zeros(typeof(beta),1) # stores actual (arithmetic) average reward rate\n",
    "    opp_cost_arithmetic = zeros(typeof(beta),1) # stores actual (arithmetic) opp cost\n",
    "    Q_estimate = zeros(typeof(beta),1) .+ 7.77 # stores estimated global reward rate\n",
    "    opp_cost_estimate = zeros(typeof(beta),1) # stores estimated opp cost\n",
    "    \n",
    "    Qd = zeros(typeof(beta),2) # decision variable; 1st element is the opp cost of accepting (or value of rejecting), 2nd element is just the reward of the option (value of accepting)\n",
    "\n",
    "    lik = 0 #likelihood\n",
    "\n",
    "    #these store new trial by trial values (e.g. Q estimate on each trial etc.)\n",
    "    reward_sum_store = [];\n",
    "    delay_sum_store = [];\n",
    "    Q_arithmetic_store = [];\n",
    "    opp_cost_arithmetic_store  = []; \n",
    "    Q_estimate_store = [];\n",
    "    opp_cost_estimate_store = [];\n",
    "\n",
    "    #extract various variables from the dataframe\n",
    "    reward = data[:reward_percent]\n",
    "    delay = data[:delay_s]\n",
    "    force = data[:force_trial]  \n",
    "    missed = data[:missed] #missed responses \n",
    "    c = data[:approach_avoid] #choice\n",
    "        \n",
    "    for i = 1:length(c)\n",
    "        \n",
    "            # 2 seconds without reward on each trial regadless of accept/reject\n",
    "            delay_sum .+= 2;\n",
    "         \n",
    "            # calculate current (arithmetic) reward per second from number of seconds elapsed and reward accured\n",
    "            Q_arithmetic = reward_sum./delay_sum\n",
    "            opp_cost_arithmetic = Q_arithmetic*delay[i]\n",
    "           \n",
    "            # decrease estimate of global reward rate for encounter time (2seconds)\n",
    "            Q_estimate = (1-lr_delay) * Q_estimate .+ 0\n",
    "            Q_estimate = (1-lr_delay) * Q_estimate .+ 0\n",
    "        \n",
    "            #calculate estimate of opportunity cost given estimate of reward rate and delay incurred by option \n",
    "            opp_cost_estimate = Q_estimate*delay[i]\n",
    "        \n",
    "            #add trial by trial values \n",
    "            append!(reward_sum_store, reward_sum)\n",
    "            append!(delay_sum_store, delay_sum)\n",
    "            append!(Q_arithmetic_store, Q_arithmetic)\n",
    "            append!(opp_cost_arithmetic_store, opp_cost_arithmetic)\n",
    "            append!(Q_estimate_store, Q_estimate)\n",
    "            append!(opp_cost_estimate_store, opp_cost_estimate)\n",
    "        \n",
    "            # if not a force trial predict choice based on current values\n",
    "            if ((force[i]<1) & (missed[i]<1))\n",
    "                        \n",
    "                # decision variable - the estimate of opportunity cost (\"reward\" of rejecting) versus \n",
    "                # reward of the current option (if accepted)\n",
    "                Qd = [intercept, 0] .+ [beta.*opp_cost_estimate[1], beta.*reward[i]]\n",
    "\n",
    "                # increment likelihood\n",
    "                lik += Qd[c[i]] - log(sum(exp.(Qd)))\n",
    "            \n",
    "            end\n",
    "            \n",
    "            #incur 8second time out for missed response\n",
    "            if (missed[i]==1)\n",
    "                \n",
    "                delay_sum .+= 8\n",
    "            \n",
    "                for j = 1:8\n",
    "                \n",
    "                     Q_estimate = (1-lr_delay) * Q_estimate .+ 0\n",
    "\n",
    "                end\n",
    "            \n",
    "            end\n",
    "        \n",
    "            # regardless of whether a force trial or not, \n",
    "            # if accept the option, Q_estimate updates and there is a delay incurred\n",
    "            if ((c[i] == 2) & (missed[i]==0))\n",
    "                \n",
    "                delay_sum .+= delay[i]\n",
    "                reward_sum .+= reward[i]\n",
    "            \n",
    "                for j = 1:delay[i]\n",
    "                \n",
    "                    Q_estimate = (1-lr_delay) * Q_estimate .+ 0\n",
    "                \n",
    "                end\n",
    "            \n",
    "                    Q_estimate = (1-lr_reward) * Q_estimate .+ lr_reward*reward[i]\n",
    "                \n",
    "            end\n",
    "    \n",
    "    end\n",
    "    \n",
    "    # compile trial by trial values here\n",
    "    trial_data = DataFrame(reward_sum = reward_sum_store,\n",
    "            delay_sum = delay_sum_store,\n",
    "            Q_arithmetic = Q_arithmetic_store,\n",
    "            opp_cost_arithmetic = opp_cost_arithmetic_store,\n",
    "            Q_estimate = Q_estimate_store,\n",
    "            opp_cost_estimate = opp_cost_estimate_store)\n",
    "    \n",
    "    # here if running em you can only return the likelihood\n",
    "    #return -lik\n",
    "    \n",
    "    # but if you run in order to extract trials, subs etc then want to return this\n",
    "    return (-lik, trial_data)\n",
    "    \n",
    "end\n"
   ]
  },
  {
   "cell_type": "markdown",
   "metadata": {},
   "source": [
    "# Parameter optimisiation"
   ]
  },
  {
   "cell_type": "markdown",
   "metadata": {},
   "source": [
    "### Run model for one subject\n",
    "\n",
    "aids debugging"
   ]
  },
  {
   "cell_type": "code",
   "execution_count": 20,
   "metadata": {},
   "outputs": [
    {
     "data": {
      "text/plain": [
       "155.26496844542802"
      ]
     },
     "execution_count": 20,
     "metadata": {},
     "output_type": "execute_result"
    }
   ],
   "source": [
    "# initialize parameter structures\n",
    "(df, subs, X, betas, sigma) = genVars(df, 4);\n",
    "\n",
    "# run model for sub 1\n",
    "model_asymmetry(betas,df[df[:sub].==subs[1],:])\n"
   ]
  },
  {
   "cell_type": "markdown",
   "metadata": {},
   "source": [
    "### Run em to get best fit parameters for each subject"
   ]
  },
  {
   "cell_type": "code",
   "execution_count": 21,
   "metadata": {},
   "outputs": [
    {
     "name": "stdout",
     "output_type": "stream",
     "text": [
      "\n",
      "iter: 25\n",
      "betas: [-1.21, 0.07, -2.37, -2.7]\n",
      "sigma: [4.43 -0.0 0.05 0.73; -0.0 0.0 -0.0 -0.01; 0.05 -0.0 0.55 0.76; 0.73 -0.01 0.76 1.18]\n",
      "change: [-6.1e-5, 2.6e-5, -3.2e-5, -3.3e-5, 4.0e-5, -0.001136, 0.000534, 8.7e-5, 0.000697, -0.000346, -0.000885, 0.000492, 0.000414, 0.000234]\n",
      "max: 0.000697\n",
      "234.649571 seconds (42.91 M allocations: 1.636 GiB, 0.82% gc time)\n"
     ]
    }
   ],
   "source": [
    "# initialized parameter structures (again)\n",
    "# note that some of the variables (e.g. betas, sigma) are entered and returned by em function \n",
    "(df, subs, X, betas, sigma) = genVars(df, 4);\n",
    "\n",
    "# run for full learner\n",
    "# x contains the parameters for each subject (note not the same as variable X)\n",
    "# l and h are per-subject likelihood and hessians\n",
    "@time (betas, sigma, x, l, h) = em(df, subs, X, betas, sigma, model_asymmetry; emtol=1e-3, parallel=true, full=true, quiet=false);\n"
   ]
  },
  {
   "cell_type": "markdown",
   "metadata": {},
   "source": [
    "### Generate Model Statistics \n",
    "(IAIC, IBIC, LOOCV)"
   ]
  },
  {
   "cell_type": "code",
   "execution_count": 22,
   "metadata": {},
   "outputs": [
    {
     "name": "stdout",
     "output_type": "stream",
     "text": [
      "Subject: 1..2..3..4..5..6..7..8..9..10..11..12..13..14..15..16..17..18..19..20..21..22..23..24..25..26..27..28..29..30..31..32..33..34..35..36..37..38..1971.886879954543"
     ]
    }
   ],
   "source": [
    "## model selection/comparison/scoring\n",
    "\n",
    "# laplace approximation to the aggregate log marginal likelihood of the whole dataset\n",
    "# marginalized over the individual params\n",
    "\n",
    "aggll = lml(x,l,h)\n",
    "\n",
    "# to compare this between models you need to correct for the group-level free parameters\n",
    "# either aic or bic\n",
    "\n",
    "aggll_ibic = ibic(x,l,h,betas,sigma,nrow(df))\n",
    "aggll_iaic = iaic(x,l,h,betas,sigma)\n",
    "\n",
    "# or you can compute unbiased per subject marginal likelihoods via subject-level cross validation\n",
    "# you can do paired t tests on these between models\n",
    "# these are also appropriate for SPM_BMS etc\n",
    "\n",
    "# takes ages so comment in when want to run, otherwise just use IAIC above\n",
    "liks = loocv(df, subs, x, X, betas, sigma, model_asymmetry; emtol=1e-3, parallel=true, full=true)\n",
    "#aggll_loo = sum(liks)\n",
    "\n",
    "#println(\"\\n\\nraw nll:  $aggll\\nibic nll: $aggll_ibic\\niaic nll: $aggll_iaic\\nloo nll:  $aggll_loo\")\n",
    "#println(\"\\n\\nraw nll:  $aggll\\nibic nll: $aggll_ibic\\niaic nll:\")\n",
    "print(aggll_iaic)\n"
   ]
  },
  {
   "cell_type": "markdown",
   "metadata": {},
   "source": [
    "### Write loocv scores to csv file\n",
    "\n",
    "(if you have run loocv above)"
   ]
  },
  {
   "cell_type": "code",
   "execution_count": 23,
   "metadata": {
    "collapsed": true,
    "scrolled": true
   },
   "outputs": [],
   "source": [
    "# put loocv scores into dataframe\n",
    "loocv_scores = DataFrame(sub = subs,\n",
    "liks = vec(liks));\n"
   ]
  },
  {
   "cell_type": "markdown",
   "metadata": {},
   "source": [
    "#### save LOOCV to csv file\n"
   ]
  },
  {
   "cell_type": "code",
   "execution_count": 24,
   "metadata": {},
   "outputs": [
    {
     "name": "stderr",
     "output_type": "stream",
     "text": [
      "┌ Warning: In the future DataFrame constructor called with a `DataFrame` argument will return a copy. Use `convert(DataFrame, df)` to avoid copying if `df` is a `DataFrame`.\n",
      "│   caller = top-level scope at In[24]:1\n",
      "└ @ Core In[24]:1\n"
     ]
    },
    {
     "data": {
      "text/plain": [
       "\"loocv_scores.csv\""
      ]
     },
     "execution_count": 24,
     "metadata": {},
     "output_type": "execute_result"
    }
   ],
   "source": [
    "CSV.write(\"loocv_scores.csv\", DataFrame(loocv_scores))\n"
   ]
  },
  {
   "cell_type": "markdown",
   "metadata": {},
   "source": [
    "#### add to summary stats to LOOCV as well"
   ]
  },
  {
   "cell_type": "code",
   "execution_count": 25,
   "metadata": {
    "collapsed": true
   },
   "outputs": [],
   "source": [
    "summary_stats = [summary_stats loocv_scores];"
   ]
  },
  {
   "cell_type": "markdown",
   "metadata": {},
   "source": [
    "### Calculate and write p values, std error and covariance"
   ]
  },
  {
   "cell_type": "code",
   "execution_count": 26,
   "metadata": {},
   "outputs": [
    {
     "name": "stderr",
     "output_type": "stream",
     "text": [
      "WARNING: LinearAlgebra.trace is deprecated, use tr instead.\n",
      "  likely near /Users/neil/.julia/packages/IJulia/DL02A/src/kernel.jl:41\n",
      "WARNING: LinearAlgebra.trace is deprecated, use tr instead.\n",
      "  likely near /Users/neil/.julia/packages/IJulia/DL02A/src/kernel.jl:41\n",
      "WARNING: LinearAlgebra.trace is deprecated, use tr instead.\n",
      "  likely near /Users/neil/.julia/packages/IJulia/DL02A/src/kernel.jl:41\n",
      "in #128 at none\n",
      "WARNING: LinearAlgebra.trace is deprecated, use tr instead.\n",
      "  likely near /Users/neil/.julia/packages/IJulia/DL02A/src/kernel.jl:41\n",
      "WARNING: LinearAlgebra.trace is deprecated, use tr instead.\n",
      "  likely near /Users/neil/.julia/packages/IJulia/DL02A/src/kernel.jl:41\n",
      "WARNING: LinearAlgebra.trace is deprecated, use tr instead.\n",
      "  likely near /Users/neil/.julia/packages/IJulia/DL02A/src/kernel.jl:41\n",
      "in #128 at none\n",
      "┌ Warning: `ccdf(d::UnivariateDistribution, X::AbstractArray)` is deprecated, use `ccdf.(d, X)` instead.\n",
      "│   caller = emerrors(::DataFrame, ::Array{Union{Missing, Int64},1}, ::SharedArray{Float64,2}, ::Array{Float64,3}, ::SharedArray{Float64,3}, ::Array{Float64,1}, ::Array{Float64,2}, ::Function) at em.jl:300\n",
      "└ @ Main /Users/neil/GitHubRepo/Projects/PreySelection/v104/models/model_asymmetry/em.jl:300\n"
     ]
    }
   ],
   "source": [
    "# standard errors on the subject-level means, based on an asymptotic Gaussian approx \n",
    "# (these may be inflated esp for small n)\n",
    "(standarderrors, pvalues, covmtx) = emerrors(df,subs,x,X,h,betas,sigma,model_asymmetry);\n"
   ]
  },
  {
   "cell_type": "code",
   "execution_count": 27,
   "metadata": {},
   "outputs": [
    {
     "name": "stderr",
     "output_type": "stream",
     "text": [
      "┌ Warning: In the future DataFrame constructor called with a `DataFrame` argument will return a copy. Use `convert(DataFrame, df)` to avoid copying if `df` is a `DataFrame`.\n",
      "│   caller = top-level scope at In[27]:7\n",
      "└ @ Core In[27]:7\n"
     ]
    }
   ],
   "source": [
    "model_stats = DataFrame(stderror = vec(standarderrors),\n",
    "pvalues = vec(pvalues),\n",
    "covmtx_1 = vec(covmtx[:,1]),\n",
    "covmtx_2 = vec(covmtx[:,2]),\n",
    "covmtx_3 = vec(covmtx[:,3]),\n",
    "covmtx_4 = vec(covmtx[:,4]));\n",
    "\n",
    "# save model stats to csv file\n",
    "CSV.write(\"model_stats.csv\", DataFrame(model_stats));"
   ]
  },
  {
   "cell_type": "code",
   "execution_count": 28,
   "metadata": {},
   "outputs": [
    {
     "name": "stdout",
     "output_type": "stream",
     "text": [
      "[0.356324, 0.00384589, 0.129843, 0.189227]"
     ]
    }
   ],
   "source": [
    "print(standarderrors)\n"
   ]
  },
  {
   "cell_type": "code",
   "execution_count": 29,
   "metadata": {},
   "outputs": [
    {
     "name": "stdout",
     "output_type": "stream",
     "text": [
      "[0.000672766, 4.55397e-83, 1.496e-74, 4.12959e-46]"
     ]
    }
   ],
   "source": [
    "print(pvalues)\n"
   ]
  },
  {
   "cell_type": "code",
   "execution_count": 30,
   "metadata": {
    "scrolled": true
   },
   "outputs": [
    {
     "name": "stdout",
     "output_type": "stream",
     "text": [
      "[0.126967 -4.58803e-5 0.00149084 0.0204845; -4.58803e-5 1.47909e-5 -9.5694e-5 -0.000141082; 0.00149084 -9.5694e-5 0.0168593 0.0230068; 0.0204845 -0.000141082 0.0230068 0.035807]"
     ]
    }
   ],
   "source": [
    "print(covmtx)\n"
   ]
  },
  {
   "cell_type": "markdown",
   "metadata": {},
   "source": [
    "### Write per subject model parameters to csv files"
   ]
  },
  {
   "cell_type": "code",
   "execution_count": 31,
   "metadata": {
    "collapsed": true
   },
   "outputs": [],
   "source": [
    "# put parameters into variable d\n",
    "d=x';\n",
    "\n",
    "# now put parameters into dataframe\n",
    "params = DataFrame(sub = subs,\n",
    "intercept = vec(d[:,1]), \n",
    "beta = vec(d[:,2]),\n",
    "learning_rate_reward_raw = vec(d[:,3]),\n",
    "learning_rate_reward_transformed = vec(0.5 .+ 0.5*erf.(d[:,3] / sqrt(2))),\n",
    "learning_rate_delay_raw = vec(d[:,4]),\n",
    "learning_rate_delay_transformed = vec(0.5 .+ 0.5*erf.(d[:,4] / sqrt(2))));\n"
   ]
  },
  {
   "cell_type": "markdown",
   "metadata": {},
   "source": [
    "#### save parameters to csv file\n"
   ]
  },
  {
   "cell_type": "code",
   "execution_count": 32,
   "metadata": {},
   "outputs": [
    {
     "name": "stderr",
     "output_type": "stream",
     "text": [
      "┌ Warning: In the future DataFrame constructor called with a `DataFrame` argument will return a copy. Use `convert(DataFrame, df)` to avoid copying if `df` is a `DataFrame`.\n",
      "│   caller = top-level scope at In[32]:1\n",
      "└ @ Core In[32]:1\n"
     ]
    },
    {
     "data": {
      "text/plain": [
       "\"subject_params.csv\""
      ]
     },
     "execution_count": 32,
     "metadata": {},
     "output_type": "execute_result"
    }
   ],
   "source": [
    "CSV.write(\"subject_params.csv\", DataFrame(params))\n"
   ]
  },
  {
   "cell_type": "markdown",
   "metadata": {},
   "source": [
    "#### save a copy with summary stats as well"
   ]
  },
  {
   "cell_type": "markdown",
   "metadata": {},
   "source": [
    "##### Delete non needed columns: exclude, exclude reason and duplicate sub column"
   ]
  },
  {
   "cell_type": "code",
   "execution_count": 33,
   "metadata": {
    "collapsed": true
   },
   "outputs": [],
   "source": [
    "delete!(summary_stats, :sub);\n",
    "delete!(summary_stats, :exclude_reason);\n",
    "delete!(summary_stats, :exclude);\n",
    "delete!(summary_stats, :comment);"
   ]
  },
  {
   "cell_type": "markdown",
   "metadata": {},
   "source": [
    "##### Save summary stats"
   ]
  },
  {
   "cell_type": "code",
   "execution_count": 34,
   "metadata": {},
   "outputs": [
    {
     "name": "stderr",
     "output_type": "stream",
     "text": [
      "┌ Warning: indexing with colon as row will create a copy in the future use df[col_inds] to get the columns without copying\n",
      "│   caller = top-level scope at In[34]:1\n",
      "└ @ Core In[34]:1\n",
      "┌ Warning: In the future DataFrame constructor called with a `DataFrame` argument will return a copy. Use `convert(DataFrame, df)` to avoid copying if `df` is a `DataFrame`.\n",
      "│   caller = top-level scope at In[34]:3\n",
      "└ @ Core In[34]:3\n"
     ]
    },
    {
     "data": {
      "text/plain": [
       "\"summary_stats.csv\""
      ]
     },
     "execution_count": 34,
     "metadata": {},
     "output_type": "execute_result"
    }
   ],
   "source": [
    "params = params[:,2:end]\n",
    "summary_stats = [summary_stats params]\n",
    "CSV.write(\"summary_stats.csv\", DataFrame(summary_stats))\n"
   ]
  },
  {
   "cell_type": "markdown",
   "metadata": {},
   "source": [
    "### Test difference in learning rates"
   ]
  },
  {
   "cell_type": "code",
   "execution_count": 35,
   "metadata": {},
   "outputs": [
    {
     "name": "stdout",
     "output_type": "stream",
     "text": [
      "learning_parm_diff: 0.3256358442418219\n",
      "std_error: 0.08156348016685289\n",
      "zstat: 3.9924221425529507\n"
     ]
    }
   ],
   "source": [
    "# require contrast vector to test the difference in the learning parameters (from the covariance matrix)\n",
    "con_vec = [0, 0, 1, -1]\n",
    "\n",
    "#calculate standard error\n",
    "std_error = sqrt(con_vec'*covmtx*con_vec)\n",
    "\n",
    "#difference in (raw) learning rates\n",
    "learning_parm_diff = mean(params[:learning_rate_reward_raw]) - mean(params[:learning_rate_delay_raw])\n",
    "\n",
    "#now can derive tstatistic\n",
    "z_stat = learning_parm_diff/std_error\n",
    "\n",
    "#print these to output\n",
    "println(\"learning_parm_diff: \", learning_parm_diff);\n",
    "println(\"std_error: \", std_error);\n",
    "println(\"zstat: \", z_stat);"
   ]
  },
  {
   "cell_type": "markdown",
   "metadata": {},
   "source": [
    "# Generate by trial by trial values"
   ]
  },
  {
   "cell_type": "markdown",
   "metadata": {},
   "source": [
    "### Get best fit parameters"
   ]
  },
  {
   "cell_type": "code",
   "execution_count": null,
   "metadata": {
    "collapsed": true
   },
   "outputs": [],
   "source": [
    "# if you already have best fit parameters saved, can read in here (rather than running model to find)\n",
    "params = CSV.read(\"subject_params.csv\")"
   ]
  },
  {
   "cell_type": "markdown",
   "metadata": {},
   "source": [
    "### Run model for each sub using best fit parameters\n",
    "Note: must rerun model with it set to return trial data (uncomment this)\n"
   ]
  },
  {
   "cell_type": "code",
   "execution_count": 37,
   "metadata": {},
   "outputs": [
    {
     "name": "stderr",
     "output_type": "stream",
     "text": [
      "┌ Warning: Deprecated syntax `implicit assignment to global variable `x``.\n",
      "│ Use `global x` instead.\n",
      "└ @ nothing none:0\n",
      "┌ Warning: Loop variable `x` around In[37]:6 overwrites a variable in an enclosing scope. In the future the variable will be local to the loop instead.\n",
      "└ @ nothing In[37]:6\n"
     ]
    },
    {
     "name": "stdout",
     "output_type": "stream",
     "text": [
      "(11139, 19)(11139, 6)"
     ]
    },
    {
     "data": {
      "text/html": [
       "<table class=\"data-frame\"><thead><tr><th></th><th>reward_sum</th><th>delay_sum</th><th>Q_arithmetic</th><th>opp_cost_arithmetic</th><th>Q_estimate</th><th>opp_cost_estimate</th></tr><tr><th></th><th>Any</th><th>Any</th><th>Any</th><th>Any</th><th>Any</th><th>Any</th></tr></thead><tbody><tr><th>1</th><td>0.0</td><td>2.0</td><td>0.0</td><td>0.0</td><td>7.70434</td><td>61.6347</td></tr><tr><th>2</th><td>20.0</td><td>12.0</td><td>1.66667</td><td>13.3333</td><td>7.45829</td><td>59.6663</td></tr><tr><th>3</th><td>20.0</td><td>22.0</td><td>0.909091</td><td>1.81818</td><td>7.14843</td><td>14.2969</td></tr><tr><th>4</th><td>40.0</td><td>26.0</td><td>1.53846</td><td>3.07692</td><td>7.10427</td><td>14.2085</td></tr><tr><th>5</th><td>120.0</td><td>30.0</td><td>4.0</td><td>32.0</td><td>7.41491</td><td>59.3193</td></tr><tr><th>6</th><td>120.0</td><td>32.0</td><td>3.75</td><td>30.0</td><td>7.35225</td><td>58.818</td></tr></tbody></table>"
      ],
      "text/latex": [
       "\\begin{tabular}{r|cccccc}\n",
       "\t& reward\\_sum & delay\\_sum & Q\\_arithmetic & opp\\_cost\\_arithmetic & Q\\_estimate & opp\\_cost\\_estimate\\\\\n",
       "\t\\hline\n",
       "\t1 & 0.0 & 2.0 & 0.0 & 0.0 & 7.70434 & 61.6347 \\\\\n",
       "\t2 & 20.0 & 12.0 & 1.66667 & 13.3333 & 7.45829 & 59.6663 \\\\\n",
       "\t3 & 20.0 & 22.0 & 0.909091 & 1.81818 & 7.14843 & 14.2969 \\\\\n",
       "\t4 & 40.0 & 26.0 & 1.53846 & 3.07692 & 7.10427 & 14.2085 \\\\\n",
       "\t5 & 120.0 & 30.0 & 4.0 & 32.0 & 7.41491 & 59.3193 \\\\\n",
       "\t6 & 120.0 & 32.0 & 3.75 & 30.0 & 7.35225 & 58.818 \\\\\n",
       "\\end{tabular}\n"
      ],
      "text/plain": [
       "6×6 DataFrame. Omitted printing of 2 columns\n",
       "│ Row │ reward_sum │ delay_sum │ Q_arithmetic │ opp_cost_arithmetic │\n",
       "│     │ \u001b[90mAny\u001b[39m        │ \u001b[90mAny\u001b[39m       │ \u001b[90mAny\u001b[39m          │ \u001b[90mAny\u001b[39m                 │\n",
       "├─────┼────────────┼───────────┼──────────────┼─────────────────────┤\n",
       "│ 1   │ 0.0        │ 2.0       │ 0.0          │ 0.0                 │\n",
       "│ 2   │ 20.0       │ 12.0      │ 1.66667      │ 13.3333             │\n",
       "│ 3   │ 20.0       │ 22.0      │ 0.909091     │ 1.81818             │\n",
       "│ 4   │ 40.0       │ 26.0      │ 1.53846      │ 3.07692             │\n",
       "│ 5   │ 120.0      │ 30.0      │ 4.0          │ 32.0                │\n",
       "│ 6   │ 120.0      │ 32.0      │ 3.75         │ 30.0                │"
      ]
     },
     "execution_count": 37,
     "metadata": {},
     "output_type": "execute_result"
    }
   ],
   "source": [
    "# initialize parameter structures once again\n",
    "(df, subs, X, betas, sigma) = genVars(df, 4);\n",
    "\n",
    "# initalise this - will store all trial to trial parameters\n",
    "trial_data_compile = []\n",
    "\n",
    "# run model for each subject using best fit parameters\n",
    "for x = 1:length(subs)\n",
    "\n",
    "    # pull out optimal betas for subject - these are used in the model\n",
    "    # note: you want the unconverted learning score to be fed in\n",
    "    betas_sub = convert(Array, params[x, [:intercept, :beta, :learning_rate_reward_raw, :learning_rate_delay_raw]])\n",
    "    data_sub = df[df[:sub].==subs[x], :]\n",
    "    \n",
    "    # run model using these parameters - note must have commented in the model to return all of these variables (and not only -lik)\n",
    "    (minus_li, trial_data) = model_asymmetry(betas_sub, data_sub)\n",
    "    \n",
    "    if x==1\n",
    "        \n",
    "        trial_data_compile = trial_data\n",
    "        \n",
    "    else\n",
    "        \n",
    "        append!(trial_data_compile, trial_data)\n",
    "        \n",
    "    end\n",
    " \n",
    "end\n",
    "\n",
    "# check these are all the same sizes\n",
    "print(size(df))\n",
    "print(size(trial_data_compile))\n",
    "\n",
    "# print header of data compile\n",
    "head(trial_data_compile)"
   ]
  },
  {
   "cell_type": "markdown",
   "metadata": {},
   "source": [
    "### Merge dataframes"
   ]
  },
  {
   "cell_type": "code",
   "execution_count": 38,
   "metadata": {
    "collapsed": true
   },
   "outputs": [],
   "source": [
    "trial_data_compile = [df trial_data_compile];\n"
   ]
  },
  {
   "cell_type": "markdown",
   "metadata": {},
   "source": [
    "### Delete sub column (this is a duplicate) and exclude columns"
   ]
  },
  {
   "cell_type": "code",
   "execution_count": 39,
   "metadata": {
    "collapsed": true
   },
   "outputs": [],
   "source": [
    "delete!(trial_data_compile, :sub);\n",
    "delete!(trial_data_compile, :exclude_reason);\n",
    "delete!(trial_data_compile, :exclude);\n"
   ]
  },
  {
   "cell_type": "markdown",
   "metadata": {},
   "source": [
    "### Save data to csv (in model folder)"
   ]
  },
  {
   "cell_type": "code",
   "execution_count": 40,
   "metadata": {
    "scrolled": true
   },
   "outputs": [
    {
     "name": "stderr",
     "output_type": "stream",
     "text": [
      "┌ Warning: In the future DataFrame constructor called with a `DataFrame` argument will return a copy. Use `convert(DataFrame, df)` to avoid copying if `df` is a `DataFrame`.\n",
      "│   caller = top-level scope at In[40]:1\n",
      "└ @ Core In[40]:1\n"
     ]
    },
    {
     "data": {
      "text/plain": [
       "\"trial_by_trial_values.csv\""
      ]
     },
     "execution_count": 40,
     "metadata": {},
     "output_type": "execute_result"
    }
   ],
   "source": [
    "CSV.write(\"trial_by_trial_values.csv\", DataFrame(trial_data_compile))\n"
   ]
  }
 ],
 "metadata": {
  "kernelspec": {
   "display_name": "Julia 0.7.0",
   "language": "julia",
   "name": "julia-0.7"
  },
  "language_info": {
   "file_extension": ".jl",
   "mimetype": "application/julia",
   "name": "julia",
   "version": "0.7.0"
  },
  "toc": {
   "base_numbering": 1,
   "nav_menu": {},
   "number_sections": true,
   "sideBar": true,
   "skip_h1_title": false,
   "title_cell": "Table of Contents",
   "title_sidebar": "Contents",
   "toc_cell": false,
   "toc_position": {},
   "toc_section_display": true,
   "toc_window_display": false
  }
 },
 "nbformat": 4,
 "nbformat_minor": 1
}
