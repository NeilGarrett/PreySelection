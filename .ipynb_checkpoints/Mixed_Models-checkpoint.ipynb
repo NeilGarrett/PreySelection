{
 "cells": [
  {
   "cell_type": "code",
   "execution_count": null,
   "metadata": {},
   "outputs": [],
   "source": [
    "# Clear workspace\n",
    "rm(list = ls())\n",
    "\n",
    "#load in lme4 library\n",
    "library(lme4)\n",
    "#and lmerTest\n",
    "#library(lmerTest)\n",
    "library(data.table)\n",
    "library(ggplot2)\n"
   ]
  },
  {
   "cell_type": "code",
   "execution_count": null,
   "metadata": {},
   "outputs": [],
   "source": [
    "model_folder = c(\"v103\")\n",
    "\n",
    "setwd(paste(\"~/GitHubRepo/Projects/PreySelection/\", model_folder, \"/models/model_subjective1beta2lr_delayreward/\", sep =\"\"))\n",
    "\n",
    "#load in data\n",
    "dat = fread(paste(\"data_for_lme4.csv\", sep =\"\"))\n",
    "\n",
    "dat_summary_stats = fread(paste(\"summary_stats2.csv\", sep =\"\"))\n",
    "\n",
    "#path and filename for saving\n",
    "output_models = paste(\"mixedmodels_\", model_folder, \".txt\", sep=\"\")\n",
    "\n",
    " dat$block = as.factor(dat$block)\n",
    " dat$order_condition = as.factor(dat$order_condition)\n",
    " dat$stim_rank_factor = as.factor(dat$stim_rank_factor)\n",
    " dat[, stim_rank_factor_z := scale(as.numeric(stim_rank_factor))]\n",
    " dat[, stim_rank_factor_1back_z := scale(as.numeric(stim_rank_factor_1back))]\n",
    " \n",
    " #scale this so that in same units as delays - easier for interpreation of betas\n",
    " dat$change_reward = dat$change_reward/10 \n",
    " \n",
    " mean(dat[choice_log_reg==1 & block==-1, .N, by=.(subj)][,N]/dat[block==-1, .N, by=.(subj)][,N])\n",
    " sd(dat[choice_log_reg==1 & block==-1, .N, by=.(subj)][,N]/dat[block==-1, .N, by=.(subj)][,N])\n",
    " mean(dat[choice_log_reg==1 & block==1, .N, by=.(subj)][,N]/dat[block==1, .N, by=.(subj)][,N])\n",
    " sd(dat[choice_log_reg==1 & block==1, .N, by=.(subj)][,N]/dat[block==1, .N, by=.(subj)][,N])"
   ]
  },
  {
   "cell_type": "code",
   "execution_count": null,
   "metadata": {
    "collapsed": true
   },
   "outputs": [],
   "source": [
    "## these do not control for effect of "
   ]
  },
  {
   "cell_type": "code",
   "execution_count": null,
   "metadata": {},
   "outputs": [],
   "source": [
    "m1 = glmer('choice_log_reg ~ change_reward + change_delay + block + \n",
    "(1 + change_reward + change_delay + block | subj)', data = dat, family = binomial)\n",
    "summary(m1)"
   ]
  },
  {
   "cell_type": "code",
   "execution_count": null,
   "metadata": {},
   "outputs": [],
   "source": [
    "#as above but interact block with change variables\n",
    "m2 = glmer('choice_log_reg ~ change_reward*block + change_delay*block + \n",
    "(1 + change_reward*block + change_delay + block | subj)', data = dat, family = binomial)\n",
    "summary(m2)"
   ]
  },
  {
   "cell_type": "code",
   "execution_count": null,
   "metadata": {},
   "outputs": [],
   "source": [
    "#as above but interact block with change variables\n",
    "m2b = glmer('choice_log_reg ~ change_reward*block*change_delay + \n",
    "(1 + change_reward*block*change_delay | subj)', data = dat, family = binomial)\n",
    "summary(m2b)"
   ]
  },
  {
   "cell_type": "code",
   "execution_count": null,
   "metadata": {},
   "outputs": [],
   "source": [
    "#control for current option\n",
    "m3 = glmer('choice_log_reg ~ reward_percent + delay_s + change_reward + change_delay + block + \n",
    "(1 + reward_percent + delay_s + change_reward + change_delay + block | subj)', data = dat, family = binomial)\n",
    "summary(m3)"
   ]
  },
  {
   "cell_type": "code",
   "execution_count": null,
   "metadata": {},
   "outputs": [],
   "source": [
    "#control for current option using profitability\n",
    "m4 = glmer('choice_log_reg ~ profitability + change_reward + change_delay + block + \n",
    "(1 + profitability + change_reward + change_delay + block | subj)', data = dat, family = binomial)\n",
    "summary(m4)"
   ]
  },
  {
   "cell_type": "code",
   "execution_count": null,
   "metadata": {
    "collapsed": true
   },
   "outputs": [],
   "source": [
    "#in these models are the same as the first 4 models but I control for effect of choice on previous trial"
   ]
  },
  {
   "cell_type": "code",
   "execution_count": null,
   "metadata": {
    "collapsed": true
   },
   "outputs": [],
   "source": [
    "m5 = glmer('choice_log_reg ~ change_reward + change_delay + block + choice_log_reg_1back + \n",
    "(1 + change_reward + change_delay + block + choice_log_reg_1back | subj)', data = dat, family = binomial)\n",
    "summary(m5)"
   ]
  },
  {
   "cell_type": "code",
   "execution_count": null,
   "metadata": {
    "collapsed": true
   },
   "outputs": [],
   "source": [
    "m6 = glmer('choice_log_reg ~ change_reward*block + change_delay*block + choice_log_reg_1back + \n",
    "(1 + change_reward*block + change_delay*block + choice_log_reg_1back | subj)', data = dat, family = binomial)\n",
    "summary(m6)"
   ]
  },
  {
   "cell_type": "code",
   "execution_count": null,
   "metadata": {
    "collapsed": true
   },
   "outputs": [],
   "source": [
    "m7 = glmer('choice_log_reg ~ reward_percent + delay_s + change_reward + change_delay + block + choice_log_reg_1back + \n",
    "(1 + reward_percent + delay_s + change_reward + change_delay + block + choice_log_reg_1back | subj)', data = dat, family = binomial)\n",
    "summary(m7)"
   ]
  },
  {
   "cell_type": "code",
   "execution_count": null,
   "metadata": {
    "collapsed": true
   },
   "outputs": [],
   "source": [
    "#control for current option using profitability\n",
    "m8 = glmer('choice_log_reg ~ profitability + change_reward + change_delay + block + choice_log_reg_1back + \n",
    "(1 + profitability + change_reward + change_delay + block + choice_log_reg_1back | subj)', data = dat, family = binomial)\n",
    "summary(m8)"
   ]
  }
 ],
 "metadata": {
  "kernelspec": {
   "display_name": "R",
   "language": "R",
   "name": "ir"
  },
  "language_info": {
   "codemirror_mode": "r",
   "file_extension": ".r",
   "mimetype": "text/x-r-source",
   "name": "R",
   "pygments_lexer": "r",
   "version": "3.5.1"
  },
  "toc": {
   "base_numbering": 1,
   "nav_menu": {},
   "number_sections": true,
   "sideBar": true,
   "skip_h1_title": false,
   "title_cell": "Table of Contents",
   "title_sidebar": "Contents",
   "toc_cell": false,
   "toc_position": {},
   "toc_section_display": true,
   "toc_window_display": false
  }
 },
 "nbformat": 4,
 "nbformat_minor": 2
}
